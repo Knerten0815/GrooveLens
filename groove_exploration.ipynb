{
 "cells": [
  {
   "cell_type": "markdown",
   "metadata": {},
   "source": [
    "# Load Data"
   ]
  },
  {
   "cell_type": "code",
   "execution_count": 24,
   "metadata": {},
   "outputs": [
    {
     "name": "stdout",
     "output_type": "stream",
     "text": [
      "\n",
      "Current working directory: c:\\Users\\kevin\\Documents\\MMI\\Audio Data Science\\StyleExtraction\n",
      "\n"
     ]
    },
    {
     "data": {
      "text/html": [
       "<div>\n",
       "<style scoped>\n",
       "    .dataframe tbody tr th:only-of-type {\n",
       "        vertical-align: middle;\n",
       "    }\n",
       "\n",
       "    .dataframe tbody tr th {\n",
       "        vertical-align: top;\n",
       "    }\n",
       "\n",
       "    .dataframe thead th {\n",
       "        text-align: right;\n",
       "    }\n",
       "</style>\n",
       "<table border=\"1\" class=\"dataframe\">\n",
       "  <thead>\n",
       "    <tr style=\"text-align: right;\">\n",
       "      <th></th>\n",
       "      <th>drummer</th>\n",
       "      <th>session</th>\n",
       "      <th>id</th>\n",
       "      <th>style</th>\n",
       "      <th>bpm</th>\n",
       "      <th>beat_type</th>\n",
       "      <th>time_signature</th>\n",
       "      <th>midi_filename</th>\n",
       "      <th>audio_filename</th>\n",
       "      <th>duration</th>\n",
       "      <th>split</th>\n",
       "    </tr>\n",
       "  </thead>\n",
       "  <tbody>\n",
       "    <tr>\n",
       "      <th>0</th>\n",
       "      <td>drummer1</td>\n",
       "      <td>drummer1/eval_session</td>\n",
       "      <td>drummer1/eval_session/1</td>\n",
       "      <td>funk/groove1</td>\n",
       "      <td>138</td>\n",
       "      <td>beat</td>\n",
       "      <td>4-4</td>\n",
       "      <td>drummer1/eval_session/1_funk-groove1_138_beat_...</td>\n",
       "      <td>drummer1/eval_session/1_funk-groove1_138_beat_...</td>\n",
       "      <td>27.872308</td>\n",
       "      <td>test</td>\n",
       "    </tr>\n",
       "    <tr>\n",
       "      <th>1</th>\n",
       "      <td>drummer1</td>\n",
       "      <td>drummer1/eval_session</td>\n",
       "      <td>drummer1/eval_session/10</td>\n",
       "      <td>soul/groove10</td>\n",
       "      <td>102</td>\n",
       "      <td>beat</td>\n",
       "      <td>4-4</td>\n",
       "      <td>drummer1/eval_session/10_soul-groove10_102_bea...</td>\n",
       "      <td>drummer1/eval_session/10_soul-groove10_102_bea...</td>\n",
       "      <td>37.691158</td>\n",
       "      <td>test</td>\n",
       "    </tr>\n",
       "    <tr>\n",
       "      <th>2</th>\n",
       "      <td>drummer1</td>\n",
       "      <td>drummer1/eval_session</td>\n",
       "      <td>drummer1/eval_session/2</td>\n",
       "      <td>funk/groove2</td>\n",
       "      <td>105</td>\n",
       "      <td>beat</td>\n",
       "      <td>4-4</td>\n",
       "      <td>drummer1/eval_session/2_funk-groove2_105_beat_...</td>\n",
       "      <td>drummer1/eval_session/2_funk-groove2_105_beat_...</td>\n",
       "      <td>36.351218</td>\n",
       "      <td>test</td>\n",
       "    </tr>\n",
       "    <tr>\n",
       "      <th>3</th>\n",
       "      <td>drummer1</td>\n",
       "      <td>drummer1/eval_session</td>\n",
       "      <td>drummer1/eval_session/3</td>\n",
       "      <td>soul/groove3</td>\n",
       "      <td>86</td>\n",
       "      <td>beat</td>\n",
       "      <td>4-4</td>\n",
       "      <td>drummer1/eval_session/3_soul-groove3_86_beat_4...</td>\n",
       "      <td>drummer1/eval_session/3_soul-groove3_86_beat_4...</td>\n",
       "      <td>44.716543</td>\n",
       "      <td>test</td>\n",
       "    </tr>\n",
       "    <tr>\n",
       "      <th>4</th>\n",
       "      <td>drummer1</td>\n",
       "      <td>drummer1/eval_session</td>\n",
       "      <td>drummer1/eval_session/4</td>\n",
       "      <td>soul/groove4</td>\n",
       "      <td>80</td>\n",
       "      <td>beat</td>\n",
       "      <td>4-4</td>\n",
       "      <td>drummer1/eval_session/4_soul-groove4_80_beat_4...</td>\n",
       "      <td>drummer1/eval_session/4_soul-groove4_80_beat_4...</td>\n",
       "      <td>47.987500</td>\n",
       "      <td>test</td>\n",
       "    </tr>\n",
       "  </tbody>\n",
       "</table>\n",
       "</div>"
      ],
      "text/plain": [
       "    drummer                session                        id          style  \\\n",
       "0  drummer1  drummer1/eval_session   drummer1/eval_session/1   funk/groove1   \n",
       "1  drummer1  drummer1/eval_session  drummer1/eval_session/10  soul/groove10   \n",
       "2  drummer1  drummer1/eval_session   drummer1/eval_session/2   funk/groove2   \n",
       "3  drummer1  drummer1/eval_session   drummer1/eval_session/3   soul/groove3   \n",
       "4  drummer1  drummer1/eval_session   drummer1/eval_session/4   soul/groove4   \n",
       "\n",
       "   bpm beat_type time_signature  \\\n",
       "0  138      beat            4-4   \n",
       "1  102      beat            4-4   \n",
       "2  105      beat            4-4   \n",
       "3   86      beat            4-4   \n",
       "4   80      beat            4-4   \n",
       "\n",
       "                                       midi_filename  \\\n",
       "0  drummer1/eval_session/1_funk-groove1_138_beat_...   \n",
       "1  drummer1/eval_session/10_soul-groove10_102_bea...   \n",
       "2  drummer1/eval_session/2_funk-groove2_105_beat_...   \n",
       "3  drummer1/eval_session/3_soul-groove3_86_beat_4...   \n",
       "4  drummer1/eval_session/4_soul-groove4_80_beat_4...   \n",
       "\n",
       "                                      audio_filename   duration split  \n",
       "0  drummer1/eval_session/1_funk-groove1_138_beat_...  27.872308  test  \n",
       "1  drummer1/eval_session/10_soul-groove10_102_bea...  37.691158  test  \n",
       "2  drummer1/eval_session/2_funk-groove2_105_beat_...  36.351218  test  \n",
       "3  drummer1/eval_session/3_soul-groove3_86_beat_4...  44.716543  test  \n",
       "4  drummer1/eval_session/4_soul-groove4_80_beat_4...  47.987500  test  "
      ]
     },
     "execution_count": 24,
     "metadata": {},
     "output_type": "execute_result"
    }
   ],
   "source": [
    "import pandas as pd\n",
    "import os\n",
    "\n",
    "current_directory = os.getcwd()\n",
    "print(f\"\\nCurrent working directory: {current_directory}\\n\")\n",
    "\n",
    "filename = os.path.join(\"Datasets\", \"groove\", \"info.csv\")\n",
    "\n",
    "data = pd.read_csv(filename, encoding=\"latin-1\")\n",
    "data.head()"
   ]
  },
  {
   "cell_type": "code",
   "execution_count": 25,
   "metadata": {},
   "outputs": [
    {
     "data": {
      "text/plain": [
       "style\n",
       "rock                       281\n",
       "hiphop                      91\n",
       "funk                        77\n",
       "punk                        58\n",
       "neworleans/funk             48\n",
       "                          ... \n",
       "middleeastern                1\n",
       "latin/bomba                  1\n",
       "latin/merengue               1\n",
       "rock/rockabilly              1\n",
       "latin/venezuelan-joropo      1\n",
       "Name: count, Length: 76, dtype: int64"
      ]
     },
     "execution_count": 25,
     "metadata": {},
     "output_type": "execute_result"
    }
   ],
   "source": [
    "data[\"style\"].value_counts()"
   ]
  },
  {
   "cell_type": "code",
   "execution_count": 26,
   "metadata": {},
   "outputs": [
    {
     "name": "stdout",
     "output_type": "stream",
     "text": [
      "<class 'pandas.core.frame.DataFrame'>\n",
      "RangeIndex: 1150 entries, 0 to 1149\n",
      "Data columns (total 11 columns):\n",
      " #   Column          Non-Null Count  Dtype  \n",
      "---  ------          --------------  -----  \n",
      " 0   drummer         1150 non-null   object \n",
      " 1   session         1150 non-null   object \n",
      " 2   id              1150 non-null   object \n",
      " 3   style           1150 non-null   object \n",
      " 4   bpm             1150 non-null   int64  \n",
      " 5   beat_type       1150 non-null   object \n",
      " 6   time_signature  1150 non-null   object \n",
      " 7   midi_filename   1150 non-null   object \n",
      " 8   audio_filename  1090 non-null   object \n",
      " 9   duration        1150 non-null   float64\n",
      " 10  split           1150 non-null   object \n",
      "dtypes: float64(1), int64(1), object(9)\n",
      "memory usage: 99.0+ KB\n"
     ]
    }
   ],
   "source": [
    "data.info()"
   ]
  },
  {
   "cell_type": "code",
   "execution_count": 27,
   "metadata": {},
   "outputs": [
    {
     "name": "stdout",
     "output_type": "stream",
     "text": [
      "<class 'pandas.core.frame.DataFrame'>\n",
      "Index: 1090 entries, 0 to 1133\n",
      "Data columns (total 11 columns):\n",
      " #   Column          Non-Null Count  Dtype  \n",
      "---  ------          --------------  -----  \n",
      " 0   drummer         1090 non-null   object \n",
      " 1   session         1090 non-null   object \n",
      " 2   id              1090 non-null   object \n",
      " 3   style           1090 non-null   object \n",
      " 4   bpm             1090 non-null   int64  \n",
      " 5   beat_type       1090 non-null   object \n",
      " 6   time_signature  1090 non-null   object \n",
      " 7   midi_filename   1090 non-null   object \n",
      " 8   audio_filename  1090 non-null   object \n",
      " 9   duration        1090 non-null   float64\n",
      " 10  split           1090 non-null   object \n",
      "dtypes: float64(1), int64(1), object(9)\n",
      "memory usage: 102.2+ KB\n"
     ]
    }
   ],
   "source": [
    "# drop all data where there is no audio file\n",
    "data = data.dropna(subset=['audio_filename'])\n",
    "data.info()"
   ]
  },
  {
   "cell_type": "code",
   "execution_count": 28,
   "metadata": {},
   "outputs": [
    {
     "data": {
      "text/html": [
       "<div>\n",
       "<style scoped>\n",
       "    .dataframe tbody tr th:only-of-type {\n",
       "        vertical-align: middle;\n",
       "    }\n",
       "\n",
       "    .dataframe tbody tr th {\n",
       "        vertical-align: top;\n",
       "    }\n",
       "\n",
       "    .dataframe thead th {\n",
       "        text-align: right;\n",
       "    }\n",
       "</style>\n",
       "<table border=\"1\" class=\"dataframe\">\n",
       "  <thead>\n",
       "    <tr style=\"text-align: right;\">\n",
       "      <th></th>\n",
       "      <th>drummer</th>\n",
       "      <th>session</th>\n",
       "      <th>id</th>\n",
       "      <th>style</th>\n",
       "      <th>bpm</th>\n",
       "      <th>beat_type</th>\n",
       "      <th>time_signature</th>\n",
       "      <th>midi_filename</th>\n",
       "      <th>audio_filename</th>\n",
       "      <th>duration</th>\n",
       "      <th>split</th>\n",
       "    </tr>\n",
       "  </thead>\n",
       "  <tbody>\n",
       "    <tr>\n",
       "      <th>612</th>\n",
       "      <td>drummer4</td>\n",
       "      <td>drummer4/session1</td>\n",
       "      <td>drummer4/session1/9</td>\n",
       "      <td>latin/merengue</td>\n",
       "      <td>158</td>\n",
       "      <td>beat</td>\n",
       "      <td>4-4</td>\n",
       "      <td>drummer4/session1/9_latin-merengue_158_beat_4-...</td>\n",
       "      <td>drummer4/session1/9_latin-merengue_158_beat_4-...</td>\n",
       "      <td>18.304597</td>\n",
       "      <td>train</td>\n",
       "    </tr>\n",
       "    <tr>\n",
       "      <th>641</th>\n",
       "      <td>drummer5</td>\n",
       "      <td>drummer5/session1</td>\n",
       "      <td>drummer5/session1/8</td>\n",
       "      <td>latin/venezuelan-merengue</td>\n",
       "      <td>162</td>\n",
       "      <td>beat</td>\n",
       "      <td>5-8</td>\n",
       "      <td>drummer5/session1/8_latin-venezuelan-merengue_...</td>\n",
       "      <td>drummer5/session1/8_latin-venezuelan-merengue_...</td>\n",
       "      <td>166.912642</td>\n",
       "      <td>train</td>\n",
       "    </tr>\n",
       "    <tr>\n",
       "      <th>642</th>\n",
       "      <td>drummer5</td>\n",
       "      <td>drummer5/session1</td>\n",
       "      <td>drummer5/session1/9</td>\n",
       "      <td>latin/dominican-merengue</td>\n",
       "      <td>130</td>\n",
       "      <td>beat</td>\n",
       "      <td>4-4</td>\n",
       "      <td>drummer5/session1/9_latin-dominican-merengue_1...</td>\n",
       "      <td>drummer5/session1/9_latin-dominican-merengue_1...</td>\n",
       "      <td>307.425654</td>\n",
       "      <td>train</td>\n",
       "    </tr>\n",
       "  </tbody>\n",
       "</table>\n",
       "</div>"
      ],
      "text/plain": [
       "      drummer            session                   id  \\\n",
       "612  drummer4  drummer4/session1  drummer4/session1/9   \n",
       "641  drummer5  drummer5/session1  drummer5/session1/8   \n",
       "642  drummer5  drummer5/session1  drummer5/session1/9   \n",
       "\n",
       "                         style  bpm beat_type time_signature  \\\n",
       "612             latin/merengue  158      beat            4-4   \n",
       "641  latin/venezuelan-merengue  162      beat            5-8   \n",
       "642   latin/dominican-merengue  130      beat            4-4   \n",
       "\n",
       "                                         midi_filename  \\\n",
       "612  drummer4/session1/9_latin-merengue_158_beat_4-...   \n",
       "641  drummer5/session1/8_latin-venezuelan-merengue_...   \n",
       "642  drummer5/session1/9_latin-dominican-merengue_1...   \n",
       "\n",
       "                                        audio_filename    duration  split  \n",
       "612  drummer4/session1/9_latin-merengue_158_beat_4-...   18.304597  train  \n",
       "641  drummer5/session1/8_latin-venezuelan-merengue_...  166.912642  train  \n",
       "642  drummer5/session1/9_latin-dominican-merengue_1...  307.425654  train  "
      ]
     },
     "execution_count": 28,
     "metadata": {},
     "output_type": "execute_result"
    }
   ],
   "source": [
    "data[data[\"style\"].str.contains(\"merengue\")]"
   ]
  },
  {
   "cell_type": "code",
   "execution_count": 29,
   "metadata": {},
   "outputs": [
    {
     "data": {
      "text/html": [
       "<div>\n",
       "<style scoped>\n",
       "    .dataframe tbody tr th:only-of-type {\n",
       "        vertical-align: middle;\n",
       "    }\n",
       "\n",
       "    .dataframe tbody tr th {\n",
       "        vertical-align: top;\n",
       "    }\n",
       "\n",
       "    .dataframe thead th {\n",
       "        text-align: right;\n",
       "    }\n",
       "</style>\n",
       "<table border=\"1\" class=\"dataframe\">\n",
       "  <thead>\n",
       "    <tr style=\"text-align: right;\">\n",
       "      <th></th>\n",
       "      <th>drummer</th>\n",
       "      <th>session</th>\n",
       "      <th>id</th>\n",
       "      <th>style</th>\n",
       "      <th>bpm</th>\n",
       "      <th>beat_type</th>\n",
       "      <th>time_signature</th>\n",
       "      <th>midi_filename</th>\n",
       "      <th>audio_filename</th>\n",
       "      <th>duration</th>\n",
       "      <th>split</th>\n",
       "    </tr>\n",
       "  </thead>\n",
       "  <tbody>\n",
       "    <tr>\n",
       "      <th>641</th>\n",
       "      <td>drummer5</td>\n",
       "      <td>drummer5/session1</td>\n",
       "      <td>drummer5/session1/8</td>\n",
       "      <td>latin/venezuelan-merengue</td>\n",
       "      <td>162</td>\n",
       "      <td>beat</td>\n",
       "      <td>5-8</td>\n",
       "      <td>drummer5/session1/8_latin-venezuelan-merengue_...</td>\n",
       "      <td>drummer5/session1/8_latin-venezuelan-merengue_...</td>\n",
       "      <td>166.912642</td>\n",
       "      <td>train</td>\n",
       "    </tr>\n",
       "    <tr>\n",
       "      <th>643</th>\n",
       "      <td>drummer5</td>\n",
       "      <td>drummer5/session2</td>\n",
       "      <td>drummer5/session2/1</td>\n",
       "      <td>latin/venezuelan-sangueo</td>\n",
       "      <td>101</td>\n",
       "      <td>beat</td>\n",
       "      <td>4-4</td>\n",
       "      <td>drummer5/session2/1_latin-venezuelan-sangueo_1...</td>\n",
       "      <td>drummer5/session2/1_latin-venezuelan-sangueo_1...</td>\n",
       "      <td>80.779648</td>\n",
       "      <td>train</td>\n",
       "    </tr>\n",
       "    <tr>\n",
       "      <th>649</th>\n",
       "      <td>drummer5</td>\n",
       "      <td>drummer5/session2</td>\n",
       "      <td>drummer5/session2/15</td>\n",
       "      <td>latin/venezuelan-joropo</td>\n",
       "      <td>80</td>\n",
       "      <td>beat</td>\n",
       "      <td>4-4</td>\n",
       "      <td>drummer5/session2/15_latin-venezuelan-joropo_8...</td>\n",
       "      <td>drummer5/session2/15_latin-venezuelan-joropo_8...</td>\n",
       "      <td>125.984375</td>\n",
       "      <td>validation</td>\n",
       "    </tr>\n",
       "  </tbody>\n",
       "</table>\n",
       "</div>"
      ],
      "text/plain": [
       "      drummer            session                    id  \\\n",
       "641  drummer5  drummer5/session1   drummer5/session1/8   \n",
       "643  drummer5  drummer5/session2   drummer5/session2/1   \n",
       "649  drummer5  drummer5/session2  drummer5/session2/15   \n",
       "\n",
       "                         style  bpm beat_type time_signature  \\\n",
       "641  latin/venezuelan-merengue  162      beat            5-8   \n",
       "643   latin/venezuelan-sangueo  101      beat            4-4   \n",
       "649    latin/venezuelan-joropo   80      beat            4-4   \n",
       "\n",
       "                                         midi_filename  \\\n",
       "641  drummer5/session1/8_latin-venezuelan-merengue_...   \n",
       "643  drummer5/session2/1_latin-venezuelan-sangueo_1...   \n",
       "649  drummer5/session2/15_latin-venezuelan-joropo_8...   \n",
       "\n",
       "                                        audio_filename    duration       split  \n",
       "641  drummer5/session1/8_latin-venezuelan-merengue_...  166.912642       train  \n",
       "643  drummer5/session2/1_latin-venezuelan-sangueo_1...   80.779648       train  \n",
       "649  drummer5/session2/15_latin-venezuelan-joropo_8...  125.984375  validation  "
      ]
     },
     "execution_count": 29,
     "metadata": {},
     "output_type": "execute_result"
    }
   ],
   "source": [
    "data[data[\"style\"].str.contains(\"venezuelan\")]"
   ]
  },
  {
   "cell_type": "markdown",
   "metadata": {},
   "source": [
    "# Encode Genres"
   ]
  },
  {
   "cell_type": "code",
   "execution_count": 30,
   "metadata": {},
   "outputs": [
    {
     "name": "stdout",
     "output_type": "stream",
     "text": [
      "<class 'pandas.core.frame.DataFrame'>\n",
      "Index: 1090 entries, 0 to 1133\n",
      "Data columns (total 80 columns):\n",
      " #   Column          Non-Null Count  Dtype  \n",
      "---  ------          --------------  -----  \n",
      " 0   drummer         1090 non-null   object \n",
      " 1   session         1090 non-null   object \n",
      " 2   id              1090 non-null   object \n",
      " 3   style           1090 non-null   object \n",
      " 4   bpm             1090 non-null   int64  \n",
      " 5   beat_type       1090 non-null   object \n",
      " 6   time_signature  1090 non-null   object \n",
      " 7   midi_filename   1090 non-null   object \n",
      " 8   audio_filename  1090 non-null   object \n",
      " 9   duration        1090 non-null   float64\n",
      " 10  split           1090 non-null   object \n",
      " 11  afrobeat        1090 non-null   int64  \n",
      " 12  afrocuban       1090 non-null   int64  \n",
      " 13  ando            1090 non-null   int64  \n",
      " 14  baiao           1090 non-null   int64  \n",
      " 15  bembe           1090 non-null   int64  \n",
      " 16  blues           1090 non-null   int64  \n",
      " 17  bomba           1090 non-null   int64  \n",
      " 18  bossa           1090 non-null   int64  \n",
      " 19  brazilian       1090 non-null   int64  \n",
      " 20  breakbeat       1090 non-null   int64  \n",
      " 21  calypso         1090 non-null   int64  \n",
      " 22  chacarera       1090 non-null   int64  \n",
      " 23  chacha          1090 non-null   int64  \n",
      " 24  country         1090 non-null   int64  \n",
      " 25  dance           1090 non-null   int64  \n",
      " 26  disco           1090 non-null   int64  \n",
      " 27  dominican       1090 non-null   int64  \n",
      " 28  fast            1090 non-null   int64  \n",
      " 29  folk            1090 non-null   int64  \n",
      " 30  frevo           1090 non-null   int64  \n",
      " 31  funk            1090 non-null   int64  \n",
      " 32  fusion          1090 non-null   int64  \n",
      " 33  gospel          1090 non-null   int64  \n",
      " 34  groove1         1090 non-null   int64  \n",
      " 35  groove10        1090 non-null   int64  \n",
      " 36  groove2         1090 non-null   int64  \n",
      " 37  groove3         1090 non-null   int64  \n",
      " 38  groove4         1090 non-null   int64  \n",
      " 39  groove5         1090 non-null   int64  \n",
      " 40  groove6         1090 non-null   int64  \n",
      " 41  groove7         1090 non-null   int64  \n",
      " 42  groove8         1090 non-null   int64  \n",
      " 43  groove9         1090 non-null   int64  \n",
      " 44  halftime        1090 non-null   int64  \n",
      " 45  hiphop          1090 non-null   int64  \n",
      " 46  ijexa           1090 non-null   int64  \n",
      " 47  indie           1090 non-null   int64  \n",
      " 48  jazz            1090 non-null   int64  \n",
      " 49  joropo          1090 non-null   int64  \n",
      " 50  klezmer         1090 non-null   int64  \n",
      " 51  latin           1090 non-null   int64  \n",
      " 52  linear          1090 non-null   int64  \n",
      " 53  maracatu        1090 non-null   int64  \n",
      " 54  march           1090 non-null   int64  \n",
      " 55  mediumfast      1090 non-null   int64  \n",
      " 56  merengue        1090 non-null   int64  \n",
      " 57  middleeastern   1090 non-null   int64  \n",
      " 58  motown          1090 non-null   int64  \n",
      " 59  neworleans      1090 non-null   int64  \n",
      " 60  pop             1090 non-null   int64  \n",
      " 61  prog            1090 non-null   int64  \n",
      " 62  punk            1090 non-null   int64  \n",
      " 63  purdieshuffle   1090 non-null   int64  \n",
      " 64  reggae          1090 non-null   int64  \n",
      " 65  reggaeton       1090 non-null   int64  \n",
      " 66  rhumba          1090 non-null   int64  \n",
      " 67  rock            1090 non-null   int64  \n",
      " 68  rockabilly      1090 non-null   int64  \n",
      " 69  samba           1090 non-null   int64  \n",
      " 70  sambareggae     1090 non-null   int64  \n",
      " 71  sangueo         1090 non-null   int64  \n",
      " 72  secondline      1090 non-null   int64  \n",
      " 73  shuffle         1090 non-null   int64  \n",
      " 74  slow            1090 non-null   int64  \n",
      " 75  soft            1090 non-null   int64  \n",
      " 76  songo           1090 non-null   int64  \n",
      " 77  soul            1090 non-null   int64  \n",
      " 78  swing           1090 non-null   int64  \n",
      " 79  venezuelan      1090 non-null   int64  \n",
      "dtypes: float64(1), int64(70), object(9)\n",
      "memory usage: 689.8+ KB\n"
     ]
    }
   ],
   "source": [
    "data2 = data.copy()\n",
    "\n",
    "# Step 1: Split the 'style' column into separate styles\n",
    "data2['style'] = data2['style'].str.replace('-', '/')\n",
    "styles = data2['style'].str.get_dummies('/')\n",
    "\n",
    "# Step 2: Concatenate the original dataframe with the new 'styles' dataframe\n",
    "data_encoded = pd.concat([data2, styles], axis=1)\n",
    "data_encoded.info()"
   ]
  },
  {
   "cell_type": "code",
   "execution_count": 31,
   "metadata": {},
   "outputs": [
    {
     "data": {
      "text/html": [
       "<div>\n",
       "<style scoped>\n",
       "    .dataframe tbody tr th:only-of-type {\n",
       "        vertical-align: middle;\n",
       "    }\n",
       "\n",
       "    .dataframe tbody tr th {\n",
       "        vertical-align: top;\n",
       "    }\n",
       "\n",
       "    .dataframe thead th {\n",
       "        text-align: right;\n",
       "    }\n",
       "</style>\n",
       "<table border=\"1\" class=\"dataframe\">\n",
       "  <thead>\n",
       "    <tr style=\"text-align: right;\">\n",
       "      <th></th>\n",
       "      <th>drummer</th>\n",
       "      <th>session</th>\n",
       "      <th>id</th>\n",
       "      <th>style</th>\n",
       "      <th>bpm</th>\n",
       "      <th>beat_type</th>\n",
       "      <th>time_signature</th>\n",
       "      <th>midi_filename</th>\n",
       "      <th>audio_filename</th>\n",
       "      <th>duration</th>\n",
       "      <th>...</th>\n",
       "      <th>sambareggae</th>\n",
       "      <th>sangueo</th>\n",
       "      <th>secondline</th>\n",
       "      <th>shuffle</th>\n",
       "      <th>slow</th>\n",
       "      <th>soft</th>\n",
       "      <th>songo</th>\n",
       "      <th>soul</th>\n",
       "      <th>swing</th>\n",
       "      <th>venezuelan</th>\n",
       "    </tr>\n",
       "  </thead>\n",
       "  <tbody>\n",
       "    <tr>\n",
       "      <th>0</th>\n",
       "      <td>drummer1</td>\n",
       "      <td>drummer1/eval_session</td>\n",
       "      <td>drummer1/eval_session/1</td>\n",
       "      <td>funk/groove1</td>\n",
       "      <td>138</td>\n",
       "      <td>beat</td>\n",
       "      <td>4-4</td>\n",
       "      <td>drummer1/eval_session/1_funk-groove1_138_beat_...</td>\n",
       "      <td>drummer1/eval_session/1_funk-groove1_138_beat_...</td>\n",
       "      <td>27.872308</td>\n",
       "      <td>...</td>\n",
       "      <td>0</td>\n",
       "      <td>0</td>\n",
       "      <td>0</td>\n",
       "      <td>0</td>\n",
       "      <td>0</td>\n",
       "      <td>0</td>\n",
       "      <td>0</td>\n",
       "      <td>0</td>\n",
       "      <td>0</td>\n",
       "      <td>0</td>\n",
       "    </tr>\n",
       "    <tr>\n",
       "      <th>1</th>\n",
       "      <td>drummer1</td>\n",
       "      <td>drummer1/eval_session</td>\n",
       "      <td>drummer1/eval_session/10</td>\n",
       "      <td>soul/groove10</td>\n",
       "      <td>102</td>\n",
       "      <td>beat</td>\n",
       "      <td>4-4</td>\n",
       "      <td>drummer1/eval_session/10_soul-groove10_102_bea...</td>\n",
       "      <td>drummer1/eval_session/10_soul-groove10_102_bea...</td>\n",
       "      <td>37.691158</td>\n",
       "      <td>...</td>\n",
       "      <td>0</td>\n",
       "      <td>0</td>\n",
       "      <td>0</td>\n",
       "      <td>0</td>\n",
       "      <td>0</td>\n",
       "      <td>0</td>\n",
       "      <td>0</td>\n",
       "      <td>1</td>\n",
       "      <td>0</td>\n",
       "      <td>0</td>\n",
       "    </tr>\n",
       "    <tr>\n",
       "      <th>2</th>\n",
       "      <td>drummer1</td>\n",
       "      <td>drummer1/eval_session</td>\n",
       "      <td>drummer1/eval_session/2</td>\n",
       "      <td>funk/groove2</td>\n",
       "      <td>105</td>\n",
       "      <td>beat</td>\n",
       "      <td>4-4</td>\n",
       "      <td>drummer1/eval_session/2_funk-groove2_105_beat_...</td>\n",
       "      <td>drummer1/eval_session/2_funk-groove2_105_beat_...</td>\n",
       "      <td>36.351218</td>\n",
       "      <td>...</td>\n",
       "      <td>0</td>\n",
       "      <td>0</td>\n",
       "      <td>0</td>\n",
       "      <td>0</td>\n",
       "      <td>0</td>\n",
       "      <td>0</td>\n",
       "      <td>0</td>\n",
       "      <td>0</td>\n",
       "      <td>0</td>\n",
       "      <td>0</td>\n",
       "    </tr>\n",
       "    <tr>\n",
       "      <th>3</th>\n",
       "      <td>drummer1</td>\n",
       "      <td>drummer1/eval_session</td>\n",
       "      <td>drummer1/eval_session/3</td>\n",
       "      <td>soul/groove3</td>\n",
       "      <td>86</td>\n",
       "      <td>beat</td>\n",
       "      <td>4-4</td>\n",
       "      <td>drummer1/eval_session/3_soul-groove3_86_beat_4...</td>\n",
       "      <td>drummer1/eval_session/3_soul-groove3_86_beat_4...</td>\n",
       "      <td>44.716543</td>\n",
       "      <td>...</td>\n",
       "      <td>0</td>\n",
       "      <td>0</td>\n",
       "      <td>0</td>\n",
       "      <td>0</td>\n",
       "      <td>0</td>\n",
       "      <td>0</td>\n",
       "      <td>0</td>\n",
       "      <td>1</td>\n",
       "      <td>0</td>\n",
       "      <td>0</td>\n",
       "    </tr>\n",
       "    <tr>\n",
       "      <th>4</th>\n",
       "      <td>drummer1</td>\n",
       "      <td>drummer1/eval_session</td>\n",
       "      <td>drummer1/eval_session/4</td>\n",
       "      <td>soul/groove4</td>\n",
       "      <td>80</td>\n",
       "      <td>beat</td>\n",
       "      <td>4-4</td>\n",
       "      <td>drummer1/eval_session/4_soul-groove4_80_beat_4...</td>\n",
       "      <td>drummer1/eval_session/4_soul-groove4_80_beat_4...</td>\n",
       "      <td>47.987500</td>\n",
       "      <td>...</td>\n",
       "      <td>0</td>\n",
       "      <td>0</td>\n",
       "      <td>0</td>\n",
       "      <td>0</td>\n",
       "      <td>0</td>\n",
       "      <td>0</td>\n",
       "      <td>0</td>\n",
       "      <td>1</td>\n",
       "      <td>0</td>\n",
       "      <td>0</td>\n",
       "    </tr>\n",
       "  </tbody>\n",
       "</table>\n",
       "<p>5 rows × 80 columns</p>\n",
       "</div>"
      ],
      "text/plain": [
       "    drummer                session                        id          style  \\\n",
       "0  drummer1  drummer1/eval_session   drummer1/eval_session/1   funk/groove1   \n",
       "1  drummer1  drummer1/eval_session  drummer1/eval_session/10  soul/groove10   \n",
       "2  drummer1  drummer1/eval_session   drummer1/eval_session/2   funk/groove2   \n",
       "3  drummer1  drummer1/eval_session   drummer1/eval_session/3   soul/groove3   \n",
       "4  drummer1  drummer1/eval_session   drummer1/eval_session/4   soul/groove4   \n",
       "\n",
       "   bpm beat_type time_signature  \\\n",
       "0  138      beat            4-4   \n",
       "1  102      beat            4-4   \n",
       "2  105      beat            4-4   \n",
       "3   86      beat            4-4   \n",
       "4   80      beat            4-4   \n",
       "\n",
       "                                       midi_filename  \\\n",
       "0  drummer1/eval_session/1_funk-groove1_138_beat_...   \n",
       "1  drummer1/eval_session/10_soul-groove10_102_bea...   \n",
       "2  drummer1/eval_session/2_funk-groove2_105_beat_...   \n",
       "3  drummer1/eval_session/3_soul-groove3_86_beat_4...   \n",
       "4  drummer1/eval_session/4_soul-groove4_80_beat_4...   \n",
       "\n",
       "                                      audio_filename   duration  ...  \\\n",
       "0  drummer1/eval_session/1_funk-groove1_138_beat_...  27.872308  ...   \n",
       "1  drummer1/eval_session/10_soul-groove10_102_bea...  37.691158  ...   \n",
       "2  drummer1/eval_session/2_funk-groove2_105_beat_...  36.351218  ...   \n",
       "3  drummer1/eval_session/3_soul-groove3_86_beat_4...  44.716543  ...   \n",
       "4  drummer1/eval_session/4_soul-groove4_80_beat_4...  47.987500  ...   \n",
       "\n",
       "  sambareggae  sangueo  secondline  shuffle  slow  soft  songo  soul  swing  \\\n",
       "0           0        0           0        0     0     0      0     0      0   \n",
       "1           0        0           0        0     0     0      0     1      0   \n",
       "2           0        0           0        0     0     0      0     0      0   \n",
       "3           0        0           0        0     0     0      0     1      0   \n",
       "4           0        0           0        0     0     0      0     1      0   \n",
       "\n",
       "   venezuelan  \n",
       "0           0  \n",
       "1           0  \n",
       "2           0  \n",
       "3           0  \n",
       "4           0  \n",
       "\n",
       "[5 rows x 80 columns]"
      ]
     },
     "execution_count": 31,
     "metadata": {},
     "output_type": "execute_result"
    }
   ],
   "source": [
    "data_encoded.head()"
   ]
  },
  {
   "cell_type": "code",
   "execution_count": 32,
   "metadata": {},
   "outputs": [
    {
     "data": {
      "text/plain": [
       "style\n",
       "rock               258\n",
       "hiphop              89\n",
       "funk                69\n",
       "punk                58\n",
       "neworleans/funk     46\n",
       "                  ... \n",
       "middleeastern        1\n",
       "reggae/slow          1\n",
       "rock/rockabilly      1\n",
       "latin/merengue       1\n",
       "latin/bomba          1\n",
       "Name: count, Length: 74, dtype: int64"
      ]
     },
     "execution_count": 32,
     "metadata": {},
     "output_type": "execute_result"
    }
   ],
   "source": [
    "data_encoded[\"style\"].value_counts()"
   ]
  },
  {
   "cell_type": "code",
   "execution_count": 33,
   "metadata": {},
   "outputs": [
    {
     "data": {
      "text/plain": [
       "612    0\n",
       "641    1\n",
       "642    0\n",
       "Name: venezuelan, dtype: int64"
      ]
     },
     "execution_count": 33,
     "metadata": {},
     "output_type": "execute_result"
    }
   ],
   "source": [
    "data_encoded[data_encoded.merengue == 1][\"venezuelan\"]"
   ]
  },
  {
   "cell_type": "code",
   "execution_count": 34,
   "metadata": {},
   "outputs": [
    {
     "data": {
      "text/html": [
       "<div>\n",
       "<style scoped>\n",
       "    .dataframe tbody tr th:only-of-type {\n",
       "        vertical-align: middle;\n",
       "    }\n",
       "\n",
       "    .dataframe tbody tr th {\n",
       "        vertical-align: top;\n",
       "    }\n",
       "\n",
       "    .dataframe thead th {\n",
       "        text-align: right;\n",
       "    }\n",
       "</style>\n",
       "<table border=\"1\" class=\"dataframe\">\n",
       "  <thead>\n",
       "    <tr style=\"text-align: right;\">\n",
       "      <th></th>\n",
       "      <th>drummer</th>\n",
       "      <th>session</th>\n",
       "      <th>id</th>\n",
       "      <th>style</th>\n",
       "      <th>bpm</th>\n",
       "      <th>beat_type</th>\n",
       "      <th>time_signature</th>\n",
       "      <th>midi_filename</th>\n",
       "      <th>audio_filename</th>\n",
       "      <th>duration</th>\n",
       "      <th>...</th>\n",
       "      <th>sambareggae</th>\n",
       "      <th>sangueo</th>\n",
       "      <th>secondline</th>\n",
       "      <th>shuffle</th>\n",
       "      <th>slow</th>\n",
       "      <th>soft</th>\n",
       "      <th>songo</th>\n",
       "      <th>soul</th>\n",
       "      <th>swing</th>\n",
       "      <th>venezuelan</th>\n",
       "    </tr>\n",
       "  </thead>\n",
       "  <tbody>\n",
       "    <tr>\n",
       "      <th>641</th>\n",
       "      <td>drummer5</td>\n",
       "      <td>drummer5/session1</td>\n",
       "      <td>drummer5/session1/8</td>\n",
       "      <td>latin/venezuelan/merengue</td>\n",
       "      <td>162</td>\n",
       "      <td>beat</td>\n",
       "      <td>5-8</td>\n",
       "      <td>drummer5/session1/8_latin-venezuelan-merengue_...</td>\n",
       "      <td>drummer5/session1/8_latin-venezuelan-merengue_...</td>\n",
       "      <td>166.912642</td>\n",
       "      <td>...</td>\n",
       "      <td>0</td>\n",
       "      <td>0</td>\n",
       "      <td>0</td>\n",
       "      <td>0</td>\n",
       "      <td>0</td>\n",
       "      <td>0</td>\n",
       "      <td>0</td>\n",
       "      <td>0</td>\n",
       "      <td>0</td>\n",
       "      <td>1</td>\n",
       "    </tr>\n",
       "    <tr>\n",
       "      <th>643</th>\n",
       "      <td>drummer5</td>\n",
       "      <td>drummer5/session2</td>\n",
       "      <td>drummer5/session2/1</td>\n",
       "      <td>latin/venezuelan/sangueo</td>\n",
       "      <td>101</td>\n",
       "      <td>beat</td>\n",
       "      <td>4-4</td>\n",
       "      <td>drummer5/session2/1_latin-venezuelan-sangueo_1...</td>\n",
       "      <td>drummer5/session2/1_latin-venezuelan-sangueo_1...</td>\n",
       "      <td>80.779648</td>\n",
       "      <td>...</td>\n",
       "      <td>0</td>\n",
       "      <td>1</td>\n",
       "      <td>0</td>\n",
       "      <td>0</td>\n",
       "      <td>0</td>\n",
       "      <td>0</td>\n",
       "      <td>0</td>\n",
       "      <td>0</td>\n",
       "      <td>0</td>\n",
       "      <td>1</td>\n",
       "    </tr>\n",
       "    <tr>\n",
       "      <th>649</th>\n",
       "      <td>drummer5</td>\n",
       "      <td>drummer5/session2</td>\n",
       "      <td>drummer5/session2/15</td>\n",
       "      <td>latin/venezuelan/joropo</td>\n",
       "      <td>80</td>\n",
       "      <td>beat</td>\n",
       "      <td>4-4</td>\n",
       "      <td>drummer5/session2/15_latin-venezuelan-joropo_8...</td>\n",
       "      <td>drummer5/session2/15_latin-venezuelan-joropo_8...</td>\n",
       "      <td>125.984375</td>\n",
       "      <td>...</td>\n",
       "      <td>0</td>\n",
       "      <td>0</td>\n",
       "      <td>0</td>\n",
       "      <td>0</td>\n",
       "      <td>0</td>\n",
       "      <td>0</td>\n",
       "      <td>0</td>\n",
       "      <td>0</td>\n",
       "      <td>0</td>\n",
       "      <td>1</td>\n",
       "    </tr>\n",
       "  </tbody>\n",
       "</table>\n",
       "<p>3 rows × 80 columns</p>\n",
       "</div>"
      ],
      "text/plain": [
       "      drummer            session                    id  \\\n",
       "641  drummer5  drummer5/session1   drummer5/session1/8   \n",
       "643  drummer5  drummer5/session2   drummer5/session2/1   \n",
       "649  drummer5  drummer5/session2  drummer5/session2/15   \n",
       "\n",
       "                         style  bpm beat_type time_signature  \\\n",
       "641  latin/venezuelan/merengue  162      beat            5-8   \n",
       "643   latin/venezuelan/sangueo  101      beat            4-4   \n",
       "649    latin/venezuelan/joropo   80      beat            4-4   \n",
       "\n",
       "                                         midi_filename  \\\n",
       "641  drummer5/session1/8_latin-venezuelan-merengue_...   \n",
       "643  drummer5/session2/1_latin-venezuelan-sangueo_1...   \n",
       "649  drummer5/session2/15_latin-venezuelan-joropo_8...   \n",
       "\n",
       "                                        audio_filename    duration  ...  \\\n",
       "641  drummer5/session1/8_latin-venezuelan-merengue_...  166.912642  ...   \n",
       "643  drummer5/session2/1_latin-venezuelan-sangueo_1...   80.779648  ...   \n",
       "649  drummer5/session2/15_latin-venezuelan-joropo_8...  125.984375  ...   \n",
       "\n",
       "    sambareggae  sangueo  secondline  shuffle  slow  soft  songo  soul  swing  \\\n",
       "641           0        0           0        0     0     0      0     0      0   \n",
       "643           0        1           0        0     0     0      0     0      0   \n",
       "649           0        0           0        0     0     0      0     0      0   \n",
       "\n",
       "     venezuelan  \n",
       "641           1  \n",
       "643           1  \n",
       "649           1  \n",
       "\n",
       "[3 rows x 80 columns]"
      ]
     },
     "execution_count": 34,
     "metadata": {},
     "output_type": "execute_result"
    }
   ],
   "source": [
    "data_encoded[data_encoded.venezuelan == 1]"
   ]
  },
  {
   "cell_type": "code",
   "execution_count": 35,
   "metadata": {},
   "outputs": [
    {
     "name": "stderr",
     "output_type": "stream",
     "text": [
      "C:\\Users\\kevin\\AppData\\Local\\Temp\\ipykernel_16344\\503996563.py:1: FutureWarning: ChainedAssignmentError: behaviour will change in pandas 3.0!\n",
      "You are setting values through chained assignment. Currently this works in certain cases, but when using Copy-on-Write (which will become the default behaviour in pandas 3.0) this will never work to update the original DataFrame or Series, because the intermediate object on which we are setting values will behave as a copy.\n",
      "A typical example is when you are setting values in a column of a DataFrame, like:\n",
      "\n",
      "df[\"col\"][row_indexer] = value\n",
      "\n",
      "Use `df.loc[row_indexer, \"col\"] = values` instead, to perform the assignment in a single step and ensure this keeps updating the original `df`.\n",
      "\n",
      "See the caveats in the documentation: https://pandas.pydata.org/pandas-docs/stable/user_guide/indexing.html#returning-a-view-versus-a-copy\n",
      "\n",
      "  data_encoded.samba[data_encoded.sambareggae == 1] = 1\n",
      "C:\\Users\\kevin\\AppData\\Local\\Temp\\ipykernel_16344\\503996563.py:1: SettingWithCopyWarning: \n",
      "A value is trying to be set on a copy of a slice from a DataFrame\n",
      "\n",
      "See the caveats in the documentation: https://pandas.pydata.org/pandas-docs/stable/user_guide/indexing.html#returning-a-view-versus-a-copy\n",
      "  data_encoded.samba[data_encoded.sambareggae == 1] = 1\n"
     ]
    }
   ],
   "source": [
    "data_encoded.samba[data_encoded.sambareggae == 1] = 1"
   ]
  },
  {
   "cell_type": "code",
   "execution_count": 36,
   "metadata": {},
   "outputs": [
    {
     "name": "stderr",
     "output_type": "stream",
     "text": [
      "C:\\Users\\kevin\\AppData\\Local\\Temp\\ipykernel_16344\\2063280923.py:1: FutureWarning: ChainedAssignmentError: behaviour will change in pandas 3.0!\n",
      "You are setting values through chained assignment. Currently this works in certain cases, but when using Copy-on-Write (which will become the default behaviour in pandas 3.0) this will never work to update the original DataFrame or Series, because the intermediate object on which we are setting values will behave as a copy.\n",
      "A typical example is when you are setting values in a column of a DataFrame, like:\n",
      "\n",
      "df[\"col\"][row_indexer] = value\n",
      "\n",
      "Use `df.loc[row_indexer, \"col\"] = values` instead, to perform the assignment in a single step and ensure this keeps updating the original `df`.\n",
      "\n",
      "See the caveats in the documentation: https://pandas.pydata.org/pandas-docs/stable/user_guide/indexing.html#returning-a-view-versus-a-copy\n",
      "\n",
      "  data_encoded.reggae[data_encoded.sambareggae == 1] = 1\n",
      "C:\\Users\\kevin\\AppData\\Local\\Temp\\ipykernel_16344\\2063280923.py:1: SettingWithCopyWarning: \n",
      "A value is trying to be set on a copy of a slice from a DataFrame\n",
      "\n",
      "See the caveats in the documentation: https://pandas.pydata.org/pandas-docs/stable/user_guide/indexing.html#returning-a-view-versus-a-copy\n",
      "  data_encoded.reggae[data_encoded.sambareggae == 1] = 1\n"
     ]
    }
   ],
   "source": [
    "data_encoded.reggae[data_encoded.sambareggae == 1] = 1"
   ]
  },
  {
   "cell_type": "code",
   "execution_count": 37,
   "metadata": {},
   "outputs": [
    {
     "name": "stdout",
     "output_type": "stream",
     "text": [
      "624    1\n",
      "625    1\n",
      "626    1\n",
      "Name: samba, dtype: int64\n"
     ]
    },
    {
     "data": {
      "text/plain": [
       "624    1\n",
       "625    1\n",
       "626    1\n",
       "Name: reggae, dtype: int64"
      ]
     },
     "execution_count": 37,
     "metadata": {},
     "output_type": "execute_result"
    }
   ],
   "source": [
    "print(data_encoded.samba[data_encoded.sambareggae == 1])\n",
    "data_encoded.reggae[data_encoded.sambareggae == 1]"
   ]
  },
  {
   "cell_type": "code",
   "execution_count": 38,
   "metadata": {},
   "outputs": [
    {
     "data": {
      "text/plain": [
       "Index(['drummer', 'session', 'id', 'style', 'bpm', 'beat_type',\n",
       "       'time_signature', 'midi_filename', 'audio_filename', 'duration',\n",
       "       'split', 'afrobeat', 'afrocuban', 'ando', 'baiao', 'bembe', 'blues',\n",
       "       'bomba', 'bossa', 'brazilian', 'breakbeat', 'calypso', 'chacarera',\n",
       "       'chacha', 'country', 'dance', 'disco', 'dominican', 'fast', 'folk',\n",
       "       'frevo', 'funk', 'fusion', 'gospel', 'groove1', 'groove10', 'groove2',\n",
       "       'groove3', 'groove4', 'groove5', 'groove6', 'groove7', 'groove8',\n",
       "       'groove9', 'halftime', 'hiphop', 'ijexa', 'indie', 'jazz', 'joropo',\n",
       "       'klezmer', 'latin', 'linear', 'maracatu', 'march', 'mediumfast',\n",
       "       'merengue', 'middleeastern', 'motown', 'neworleans', 'pop', 'prog',\n",
       "       'punk', 'purdieshuffle', 'reggae', 'reggaeton', 'rhumba', 'rock',\n",
       "       'rockabilly', 'samba', 'sambareggae', 'sangueo', 'secondline',\n",
       "       'shuffle', 'slow', 'soft', 'songo', 'soul', 'swing', 'venezuelan'],\n",
       "      dtype='object')"
      ]
     },
     "execution_count": 38,
     "metadata": {},
     "output_type": "execute_result"
    }
   ],
   "source": [
    "data_encoded.columns"
   ]
  },
  {
   "cell_type": "code",
   "execution_count": 39,
   "metadata": {},
   "outputs": [
    {
     "data": {
      "text/html": [
       "<div>\n",
       "<style scoped>\n",
       "    .dataframe tbody tr th:only-of-type {\n",
       "        vertical-align: middle;\n",
       "    }\n",
       "\n",
       "    .dataframe tbody tr th {\n",
       "        vertical-align: top;\n",
       "    }\n",
       "\n",
       "    .dataframe thead th {\n",
       "        text-align: right;\n",
       "    }\n",
       "</style>\n",
       "<table border=\"1\" class=\"dataframe\">\n",
       "  <thead>\n",
       "    <tr style=\"text-align: right;\">\n",
       "      <th></th>\n",
       "      <th>afrobeat</th>\n",
       "      <th>afrocuban</th>\n",
       "      <th>ando</th>\n",
       "      <th>baiao</th>\n",
       "      <th>bembe</th>\n",
       "      <th>blues</th>\n",
       "      <th>bomba</th>\n",
       "      <th>bossa</th>\n",
       "      <th>brazilian</th>\n",
       "      <th>breakbeat</th>\n",
       "      <th>...</th>\n",
       "      <th>sambareggae</th>\n",
       "      <th>sangueo</th>\n",
       "      <th>secondline</th>\n",
       "      <th>shuffle</th>\n",
       "      <th>slow</th>\n",
       "      <th>soft</th>\n",
       "      <th>songo</th>\n",
       "      <th>soul</th>\n",
       "      <th>swing</th>\n",
       "      <th>venezuelan</th>\n",
       "    </tr>\n",
       "  </thead>\n",
       "  <tbody>\n",
       "    <tr>\n",
       "      <th>0</th>\n",
       "      <td>0</td>\n",
       "      <td>0</td>\n",
       "      <td>0</td>\n",
       "      <td>0</td>\n",
       "      <td>0</td>\n",
       "      <td>0</td>\n",
       "      <td>0</td>\n",
       "      <td>0</td>\n",
       "      <td>0</td>\n",
       "      <td>0</td>\n",
       "      <td>...</td>\n",
       "      <td>0</td>\n",
       "      <td>0</td>\n",
       "      <td>0</td>\n",
       "      <td>0</td>\n",
       "      <td>0</td>\n",
       "      <td>0</td>\n",
       "      <td>0</td>\n",
       "      <td>0</td>\n",
       "      <td>0</td>\n",
       "      <td>0</td>\n",
       "    </tr>\n",
       "    <tr>\n",
       "      <th>1</th>\n",
       "      <td>0</td>\n",
       "      <td>0</td>\n",
       "      <td>0</td>\n",
       "      <td>0</td>\n",
       "      <td>0</td>\n",
       "      <td>0</td>\n",
       "      <td>0</td>\n",
       "      <td>0</td>\n",
       "      <td>0</td>\n",
       "      <td>0</td>\n",
       "      <td>...</td>\n",
       "      <td>0</td>\n",
       "      <td>0</td>\n",
       "      <td>0</td>\n",
       "      <td>0</td>\n",
       "      <td>0</td>\n",
       "      <td>0</td>\n",
       "      <td>0</td>\n",
       "      <td>1</td>\n",
       "      <td>0</td>\n",
       "      <td>0</td>\n",
       "    </tr>\n",
       "    <tr>\n",
       "      <th>2</th>\n",
       "      <td>0</td>\n",
       "      <td>0</td>\n",
       "      <td>0</td>\n",
       "      <td>0</td>\n",
       "      <td>0</td>\n",
       "      <td>0</td>\n",
       "      <td>0</td>\n",
       "      <td>0</td>\n",
       "      <td>0</td>\n",
       "      <td>0</td>\n",
       "      <td>...</td>\n",
       "      <td>0</td>\n",
       "      <td>0</td>\n",
       "      <td>0</td>\n",
       "      <td>0</td>\n",
       "      <td>0</td>\n",
       "      <td>0</td>\n",
       "      <td>0</td>\n",
       "      <td>0</td>\n",
       "      <td>0</td>\n",
       "      <td>0</td>\n",
       "    </tr>\n",
       "    <tr>\n",
       "      <th>3</th>\n",
       "      <td>0</td>\n",
       "      <td>0</td>\n",
       "      <td>0</td>\n",
       "      <td>0</td>\n",
       "      <td>0</td>\n",
       "      <td>0</td>\n",
       "      <td>0</td>\n",
       "      <td>0</td>\n",
       "      <td>0</td>\n",
       "      <td>0</td>\n",
       "      <td>...</td>\n",
       "      <td>0</td>\n",
       "      <td>0</td>\n",
       "      <td>0</td>\n",
       "      <td>0</td>\n",
       "      <td>0</td>\n",
       "      <td>0</td>\n",
       "      <td>0</td>\n",
       "      <td>1</td>\n",
       "      <td>0</td>\n",
       "      <td>0</td>\n",
       "    </tr>\n",
       "    <tr>\n",
       "      <th>4</th>\n",
       "      <td>0</td>\n",
       "      <td>0</td>\n",
       "      <td>0</td>\n",
       "      <td>0</td>\n",
       "      <td>0</td>\n",
       "      <td>0</td>\n",
       "      <td>0</td>\n",
       "      <td>0</td>\n",
       "      <td>0</td>\n",
       "      <td>0</td>\n",
       "      <td>...</td>\n",
       "      <td>0</td>\n",
       "      <td>0</td>\n",
       "      <td>0</td>\n",
       "      <td>0</td>\n",
       "      <td>0</td>\n",
       "      <td>0</td>\n",
       "      <td>0</td>\n",
       "      <td>1</td>\n",
       "      <td>0</td>\n",
       "      <td>0</td>\n",
       "    </tr>\n",
       "    <tr>\n",
       "      <th>...</th>\n",
       "      <td>...</td>\n",
       "      <td>...</td>\n",
       "      <td>...</td>\n",
       "      <td>...</td>\n",
       "      <td>...</td>\n",
       "      <td>...</td>\n",
       "      <td>...</td>\n",
       "      <td>...</td>\n",
       "      <td>...</td>\n",
       "      <td>...</td>\n",
       "      <td>...</td>\n",
       "      <td>...</td>\n",
       "      <td>...</td>\n",
       "      <td>...</td>\n",
       "      <td>...</td>\n",
       "      <td>...</td>\n",
       "      <td>...</td>\n",
       "      <td>...</td>\n",
       "      <td>...</td>\n",
       "      <td>...</td>\n",
       "      <td>...</td>\n",
       "    </tr>\n",
       "    <tr>\n",
       "      <th>1129</th>\n",
       "      <td>0</td>\n",
       "      <td>0</td>\n",
       "      <td>0</td>\n",
       "      <td>0</td>\n",
       "      <td>0</td>\n",
       "      <td>0</td>\n",
       "      <td>0</td>\n",
       "      <td>0</td>\n",
       "      <td>0</td>\n",
       "      <td>0</td>\n",
       "      <td>...</td>\n",
       "      <td>0</td>\n",
       "      <td>0</td>\n",
       "      <td>0</td>\n",
       "      <td>0</td>\n",
       "      <td>0</td>\n",
       "      <td>0</td>\n",
       "      <td>0</td>\n",
       "      <td>0</td>\n",
       "      <td>0</td>\n",
       "      <td>0</td>\n",
       "    </tr>\n",
       "    <tr>\n",
       "      <th>1130</th>\n",
       "      <td>0</td>\n",
       "      <td>0</td>\n",
       "      <td>0</td>\n",
       "      <td>0</td>\n",
       "      <td>0</td>\n",
       "      <td>0</td>\n",
       "      <td>0</td>\n",
       "      <td>0</td>\n",
       "      <td>0</td>\n",
       "      <td>0</td>\n",
       "      <td>...</td>\n",
       "      <td>0</td>\n",
       "      <td>0</td>\n",
       "      <td>0</td>\n",
       "      <td>0</td>\n",
       "      <td>0</td>\n",
       "      <td>0</td>\n",
       "      <td>0</td>\n",
       "      <td>0</td>\n",
       "      <td>0</td>\n",
       "      <td>0</td>\n",
       "    </tr>\n",
       "    <tr>\n",
       "      <th>1131</th>\n",
       "      <td>0</td>\n",
       "      <td>0</td>\n",
       "      <td>0</td>\n",
       "      <td>0</td>\n",
       "      <td>0</td>\n",
       "      <td>0</td>\n",
       "      <td>0</td>\n",
       "      <td>0</td>\n",
       "      <td>0</td>\n",
       "      <td>0</td>\n",
       "      <td>...</td>\n",
       "      <td>0</td>\n",
       "      <td>0</td>\n",
       "      <td>0</td>\n",
       "      <td>0</td>\n",
       "      <td>0</td>\n",
       "      <td>0</td>\n",
       "      <td>0</td>\n",
       "      <td>0</td>\n",
       "      <td>0</td>\n",
       "      <td>0</td>\n",
       "    </tr>\n",
       "    <tr>\n",
       "      <th>1132</th>\n",
       "      <td>0</td>\n",
       "      <td>0</td>\n",
       "      <td>0</td>\n",
       "      <td>0</td>\n",
       "      <td>0</td>\n",
       "      <td>0</td>\n",
       "      <td>0</td>\n",
       "      <td>0</td>\n",
       "      <td>0</td>\n",
       "      <td>0</td>\n",
       "      <td>...</td>\n",
       "      <td>0</td>\n",
       "      <td>0</td>\n",
       "      <td>0</td>\n",
       "      <td>0</td>\n",
       "      <td>0</td>\n",
       "      <td>0</td>\n",
       "      <td>0</td>\n",
       "      <td>0</td>\n",
       "      <td>0</td>\n",
       "      <td>0</td>\n",
       "    </tr>\n",
       "    <tr>\n",
       "      <th>1133</th>\n",
       "      <td>0</td>\n",
       "      <td>0</td>\n",
       "      <td>0</td>\n",
       "      <td>0</td>\n",
       "      <td>0</td>\n",
       "      <td>0</td>\n",
       "      <td>0</td>\n",
       "      <td>0</td>\n",
       "      <td>0</td>\n",
       "      <td>0</td>\n",
       "      <td>...</td>\n",
       "      <td>0</td>\n",
       "      <td>0</td>\n",
       "      <td>0</td>\n",
       "      <td>0</td>\n",
       "      <td>0</td>\n",
       "      <td>0</td>\n",
       "      <td>0</td>\n",
       "      <td>0</td>\n",
       "      <td>0</td>\n",
       "      <td>0</td>\n",
       "    </tr>\n",
       "  </tbody>\n",
       "</table>\n",
       "<p>1090 rows × 69 columns</p>\n",
       "</div>"
      ],
      "text/plain": [
       "      afrobeat  afrocuban  ando  baiao  bembe  blues  bomba  bossa  brazilian  \\\n",
       "0            0          0     0      0      0      0      0      0          0   \n",
       "1            0          0     0      0      0      0      0      0          0   \n",
       "2            0          0     0      0      0      0      0      0          0   \n",
       "3            0          0     0      0      0      0      0      0          0   \n",
       "4            0          0     0      0      0      0      0      0          0   \n",
       "...        ...        ...   ...    ...    ...    ...    ...    ...        ...   \n",
       "1129         0          0     0      0      0      0      0      0          0   \n",
       "1130         0          0     0      0      0      0      0      0          0   \n",
       "1131         0          0     0      0      0      0      0      0          0   \n",
       "1132         0          0     0      0      0      0      0      0          0   \n",
       "1133         0          0     0      0      0      0      0      0          0   \n",
       "\n",
       "      breakbeat  ...  sambareggae  sangueo  secondline  shuffle  slow  soft  \\\n",
       "0             0  ...            0        0           0        0     0     0   \n",
       "1             0  ...            0        0           0        0     0     0   \n",
       "2             0  ...            0        0           0        0     0     0   \n",
       "3             0  ...            0        0           0        0     0     0   \n",
       "4             0  ...            0        0           0        0     0     0   \n",
       "...         ...  ...          ...      ...         ...      ...   ...   ...   \n",
       "1129          0  ...            0        0           0        0     0     0   \n",
       "1130          0  ...            0        0           0        0     0     0   \n",
       "1131          0  ...            0        0           0        0     0     0   \n",
       "1132          0  ...            0        0           0        0     0     0   \n",
       "1133          0  ...            0        0           0        0     0     0   \n",
       "\n",
       "      songo  soul  swing  venezuelan  \n",
       "0         0     0      0           0  \n",
       "1         0     1      0           0  \n",
       "2         0     0      0           0  \n",
       "3         0     1      0           0  \n",
       "4         0     1      0           0  \n",
       "...     ...   ...    ...         ...  \n",
       "1129      0     0      0           0  \n",
       "1130      0     0      0           0  \n",
       "1131      0     0      0           0  \n",
       "1132      0     0      0           0  \n",
       "1133      0     0      0           0  \n",
       "\n",
       "[1090 rows x 69 columns]"
      ]
     },
     "execution_count": 39,
     "metadata": {},
     "output_type": "execute_result"
    }
   ],
   "source": [
    "data_encoded.iloc[:, 11:]"
   ]
  },
  {
   "cell_type": "code",
   "execution_count": 40,
   "metadata": {},
   "outputs": [
    {
     "name": "stdout",
     "output_type": "stream",
     "text": [
      "rock          335\n",
      "funk          222\n",
      "jazz          101\n",
      "hiphop         93\n",
      "latin          90\n",
      "             ... \n",
      "chacha          1\n",
      "dominican       1\n",
      "folk            1\n",
      "frevo           1\n",
      "rockabilly      1\n",
      "Length: 69, dtype: int64\n"
     ]
    },
    {
     "data": {
      "text/plain": [
       "<Axes: >"
      ]
     },
     "execution_count": 40,
     "metadata": {},
     "output_type": "execute_result"
    },
    {
     "data": {
      "image/png": "[encoded data removed]",
      "text/plain": [
       "<Figure size 1000x1000 with 1 Axes>"
      ]
     },
     "metadata": {},
     "output_type": "display_data"
    }
   ],
   "source": [
    "# Step 1: Count the values for each genre\n",
    "genre_counts = data_encoded.iloc[:, 11:].sum().sort_values(ascending=False)\n",
    "print(genre_counts)\n",
    "\n",
    "# Step 2: Plot the counts in a pie chart\n",
    "genre_counts.plot(kind='pie', figsize=(10, 10))"
   ]
  },
  {
   "cell_type": "code",
   "execution_count": 41,
   "metadata": {},
   "outputs": [
    {
     "data": {
      "text/plain": [
       "1596"
      ]
     },
     "execution_count": 41,
     "metadata": {},
     "output_type": "execute_result"
    }
   ],
   "source": [
    "genre_counts.sum()"
   ]
  },
  {
   "cell_type": "code",
   "execution_count": 42,
   "metadata": {},
   "outputs": [
    {
     "data": {
      "text/plain": [
       "0.09962406015037593"
      ]
     },
     "execution_count": 42,
     "metadata": {},
     "output_type": "execute_result"
    }
   ],
   "source": [
    "genre_counts[genre_counts < 15].sum() / genre_counts.sum()"
   ]
  },
  {
   "cell_type": "code",
   "execution_count": 43,
   "metadata": {},
   "outputs": [
    {
     "data": {
      "text/plain": [
       "0.02506265664160401"
      ]
     },
     "execution_count": 43,
     "metadata": {},
     "output_type": "execute_result"
    }
   ],
   "source": [
    "genre_counts[[\"groove1\", \"groove2\", \"groove3\", \"groove4\", \"groove5\", \"groove6\", \"groove7\", \"groove8\", \"groove9\", \"groove10\"]].sum() / genre_counts.sum()"
   ]
  },
  {
   "cell_type": "markdown",
   "metadata": {},
   "source": [
    "# Encode everyting else"
   ]
  },
  {
   "cell_type": "code",
   "execution_count": 44,
   "metadata": {},
   "outputs": [
    {
     "name": "stdout",
     "output_type": "stream",
     "text": [
      "<class 'pandas.core.frame.DataFrame'>\n",
      "Index: 1090 entries, 0 to 1133\n",
      "Data columns (total 80 columns):\n",
      " #   Column          Non-Null Count  Dtype  \n",
      "---  ------          --------------  -----  \n",
      " 0   drummer         1090 non-null   object \n",
      " 1   session         1090 non-null   object \n",
      " 2   id              1090 non-null   object \n",
      " 3   style           1090 non-null   object \n",
      " 4   bpm             1090 non-null   int64  \n",
      " 5   beat_type       1090 non-null   int32  \n",
      " 6   time_signature  1090 non-null   object \n",
      " 7   midi_filename   1090 non-null   object \n",
      " 8   audio_filename  1090 non-null   object \n",
      " 9   duration        1090 non-null   float64\n",
      " 10  split           1090 non-null   object \n",
      " 11  afrobeat        1090 non-null   int64  \n",
      " 12  afrocuban       1090 non-null   int64  \n",
      " 13  ando            1090 non-null   int64  \n",
      " 14  baiao           1090 non-null   int64  \n",
      " 15  bembe           1090 non-null   int64  \n",
      " 16  blues           1090 non-null   int64  \n",
      " 17  bomba           1090 non-null   int64  \n",
      " 18  bossa           1090 non-null   int64  \n",
      " 19  brazilian       1090 non-null   int64  \n",
      " 20  breakbeat       1090 non-null   int64  \n",
      " 21  calypso         1090 non-null   int64  \n",
      " 22  chacarera       1090 non-null   int64  \n",
      " 23  chacha          1090 non-null   int64  \n",
      " 24  country         1090 non-null   int64  \n",
      " 25  dance           1090 non-null   int64  \n",
      " 26  disco           1090 non-null   int64  \n",
      " 27  dominican       1090 non-null   int64  \n",
      " 28  fast            1090 non-null   int64  \n",
      " 29  folk            1090 non-null   int64  \n",
      " 30  frevo           1090 non-null   int64  \n",
      " 31  funk            1090 non-null   int64  \n",
      " 32  fusion          1090 non-null   int64  \n",
      " 33  gospel          1090 non-null   int64  \n",
      " 34  groove1         1090 non-null   int64  \n",
      " 35  groove10        1090 non-null   int64  \n",
      " 36  groove2         1090 non-null   int64  \n",
      " 37  groove3         1090 non-null   int64  \n",
      " 38  groove4         1090 non-null   int64  \n",
      " 39  groove5         1090 non-null   int64  \n",
      " 40  groove6         1090 non-null   int64  \n",
      " 41  groove7         1090 non-null   int64  \n",
      " 42  groove8         1090 non-null   int64  \n",
      " 43  groove9         1090 non-null   int64  \n",
      " 44  halftime        1090 non-null   int64  \n",
      " 45  hiphop          1090 non-null   int64  \n",
      " 46  ijexa           1090 non-null   int64  \n",
      " 47  indie           1090 non-null   int64  \n",
      " 48  jazz            1090 non-null   int64  \n",
      " 49  joropo          1090 non-null   int64  \n",
      " 50  klezmer         1090 non-null   int64  \n",
      " 51  latin           1090 non-null   int64  \n",
      " 52  linear          1090 non-null   int64  \n",
      " 53  maracatu        1090 non-null   int64  \n",
      " 54  march           1090 non-null   int64  \n",
      " 55  mediumfast      1090 non-null   int64  \n",
      " 56  merengue        1090 non-null   int64  \n",
      " 57  middleeastern   1090 non-null   int64  \n",
      " 58  motown          1090 non-null   int64  \n",
      " 59  neworleans      1090 non-null   int64  \n",
      " 60  pop             1090 non-null   int64  \n",
      " 61  prog            1090 non-null   int64  \n",
      " 62  punk            1090 non-null   int64  \n",
      " 63  purdieshuffle   1090 non-null   int64  \n",
      " 64  reggae          1090 non-null   int64  \n",
      " 65  reggaeton       1090 non-null   int64  \n",
      " 66  rhumba          1090 non-null   int64  \n",
      " 67  rock            1090 non-null   int64  \n",
      " 68  rockabilly      1090 non-null   int64  \n",
      " 69  samba           1090 non-null   int64  \n",
      " 70  sambareggae     1090 non-null   int64  \n",
      " 71  sangueo         1090 non-null   int64  \n",
      " 72  secondline      1090 non-null   int64  \n",
      " 73  shuffle         1090 non-null   int64  \n",
      " 74  slow            1090 non-null   int64  \n",
      " 75  soft            1090 non-null   int64  \n",
      " 76  songo           1090 non-null   int64  \n",
      " 77  soul            1090 non-null   int64  \n",
      " 78  swing           1090 non-null   int64  \n",
      " 79  venezuelan      1090 non-null   int64  \n",
      "dtypes: float64(1), int32(1), int64(70), object(8)\n",
      "memory usage: 685.5+ KB\n"
     ]
    },
    {
     "name": "stderr",
     "output_type": "stream",
     "text": [
      "C:\\Users\\kevin\\AppData\\Local\\Temp\\ipykernel_16344\\1561981593.py:1: FutureWarning: ChainedAssignmentError: behaviour will change in pandas 3.0!\n",
      "You are setting values through chained assignment. Currently this works in certain cases, but when using Copy-on-Write (which will become the default behaviour in pandas 3.0) this will never work to update the original DataFrame or Series, because the intermediate object on which we are setting values will behave as a copy.\n",
      "A typical example is when you are setting values in a column of a DataFrame, like:\n",
      "\n",
      "df[\"col\"][row_indexer] = value\n",
      "\n",
      "Use `df.loc[row_indexer, \"col\"] = values` instead, to perform the assignment in a single step and ensure this keeps updating the original `df`.\n",
      "\n",
      "See the caveats in the documentation: https://pandas.pydata.org/pandas-docs/stable/user_guide/indexing.html#returning-a-view-versus-a-copy\n",
      "\n",
      "  data_encoded[\"beat_type\"][data_encoded.beat_type == \"beat\"] = 1\n",
      "C:\\Users\\kevin\\AppData\\Local\\Temp\\ipykernel_16344\\1561981593.py:1: SettingWithCopyWarning: \n",
      "A value is trying to be set on a copy of a slice from a DataFrame\n",
      "\n",
      "See the caveats in the documentation: https://pandas.pydata.org/pandas-docs/stable/user_guide/indexing.html#returning-a-view-versus-a-copy\n",
      "  data_encoded[\"beat_type\"][data_encoded.beat_type == \"beat\"] = 1\n",
      "C:\\Users\\kevin\\AppData\\Local\\Temp\\ipykernel_16344\\1561981593.py:2: FutureWarning: ChainedAssignmentError: behaviour will change in pandas 3.0!\n",
      "You are setting values through chained assignment. Currently this works in certain cases, but when using Copy-on-Write (which will become the default behaviour in pandas 3.0) this will never work to update the original DataFrame or Series, because the intermediate object on which we are setting values will behave as a copy.\n",
      "A typical example is when you are setting values in a column of a DataFrame, like:\n",
      "\n",
      "df[\"col\"][row_indexer] = value\n",
      "\n",
      "Use `df.loc[row_indexer, \"col\"] = values` instead, to perform the assignment in a single step and ensure this keeps updating the original `df`.\n",
      "\n",
      "See the caveats in the documentation: https://pandas.pydata.org/pandas-docs/stable/user_guide/indexing.html#returning-a-view-versus-a-copy\n",
      "\n",
      "  data_encoded[\"beat_type\"][data_encoded.beat_type == \"fill\"] = 0\n",
      "C:\\Users\\kevin\\AppData\\Local\\Temp\\ipykernel_16344\\1561981593.py:2: SettingWithCopyWarning: \n",
      "A value is trying to be set on a copy of a slice from a DataFrame\n",
      "\n",
      "See the caveats in the documentation: https://pandas.pydata.org/pandas-docs/stable/user_guide/indexing.html#returning-a-view-versus-a-copy\n",
      "  data_encoded[\"beat_type\"][data_encoded.beat_type == \"fill\"] = 0\n"
     ]
    }
   ],
   "source": [
    "data_encoded[\"beat_type\"][data_encoded.beat_type == \"beat\"] = 1\n",
    "data_encoded[\"beat_type\"][data_encoded.beat_type == \"fill\"] = 0\n",
    "data_encoded.beat_type = data_encoded.beat_type.astype(int)\n",
    "data_encoded.info()"
   ]
  },
  {
   "cell_type": "markdown",
   "metadata": {},
   "source": [
    "# Extract features"
   ]
  },
  {
   "cell_type": "code",
   "execution_count": 45,
   "metadata": {},
   "outputs": [],
   "source": [
    "import librosa\n",
    "import numpy as np"
   ]
  },
  {
   "cell_type": "code",
   "execution_count": 46,
   "metadata": {},
   "outputs": [
    {
     "name": "stdout",
     "output_type": "stream",
     "text": [
      "0.00% done. Processing file: drummer1/eval_session/1_funk-groove1_138_beat_4-4.wav\n",
      "0.09% done. Processing file: drummer1/eval_session/10_soul-groove10_102_beat_4-4.wav\n",
      "0.18% done. Processing file: drummer1/eval_session/2_funk-groove2_105_beat_4-4.wav\n",
      "0.28% done. Processing file: drummer1/eval_session/3_soul-groove3_86_beat_4-4.wav\n",
      "0.37% done. Processing file: drummer1/eval_session/4_soul-groove4_80_beat_4-4.wav\n",
      "0.46% done. Processing file: drummer1/eval_session/5_funk-groove5_84_beat_4-4.wav\n",
      "0.55% done. Processing file: drummer1/eval_session/6_hiphop-groove6_87_beat_4-4.wav\n",
      "0.64% done. Processing file: drummer1/eval_session/7_pop-groove7_138_beat_4-4.wav\n",
      "0.73% done. Processing file: drummer1/eval_session/8_rock-groove8_65_beat_4-4.wav\n",
      "0.83% done. Processing file: drummer1/eval_session/9_soul-groove9_105_beat_4-4.wav\n",
      "0.92% done. Processing file: drummer1/session1/1_funk_80_beat_4-4.wav\n",
      "1.01% done. Processing file: drummer1/session1/10_jazz-funk_116_fill_4-4.wav\n"
     ]
    },
    {
     "name": "stderr",
     "output_type": "stream",
     "text": [
      "c:\\Users\\kevin\\miniconda3\\envs\\audio_data_science\\lib\\site-packages\\librosa\\core\\spectrum.py:266: UserWarning: n_fft=1024 is too large for input signal of length=713\n",
      "  warnings.warn(\n"
     ]
    },
    {
     "name": "stdout",
     "output_type": "stream",
     "text": [
      "1.10% done. Processing file: drummer1/session1/100_neworleans-secondline_94_beat_4-4.wav\n",
      "1.19% done. Processing file: drummer1/session1/101_dance-disco_120_beat_4-4.wav\n",
      "1.28% done. Processing file: drummer1/session1/102_funk_95_beat_4-4.wav\n",
      "1.38% done. Processing file: drummer1/session1/103_funk_95_fill_4-4.wav\n"
     ]
    },
    {
     "name": "stderr",
     "output_type": "stream",
     "text": [
      "c:\\Users\\kevin\\miniconda3\\envs\\audio_data_science\\lib\\site-packages\\librosa\\core\\spectrum.py:266: UserWarning: n_fft=1024 is too large for input signal of length=871\n",
      "  warnings.warn(\n"
     ]
    },
    {
     "name": "stdout",
     "output_type": "stream",
     "text": [
      "1.47% done. Processing file: drummer1/session1/104_funk_95_fill_4-4.wav\n"
     ]
    },
    {
     "name": "stderr",
     "output_type": "stream",
     "text": [
      "c:\\Users\\kevin\\miniconda3\\envs\\audio_data_science\\lib\\site-packages\\librosa\\core\\spectrum.py:266: UserWarning: n_fft=1024 is too large for input signal of length=871\n",
      "  warnings.warn(\n"
     ]
    },
    {
     "name": "stdout",
     "output_type": "stream",
     "text": [
      "1.56% done. Processing file: drummer1/session1/105_funk_95_fill_4-4.wav\n",
      "1.65% done. Processing file: drummer1/session1/106_funk_95_fill_4-4.wav\n",
      "1.74% done. Processing file: drummer1/session1/107_funk_95_fill_4-4.wav\n"
     ]
    },
    {
     "name": "stderr",
     "output_type": "stream",
     "text": [
      "c:\\Users\\kevin\\miniconda3\\envs\\audio_data_science\\lib\\site-packages\\librosa\\core\\spectrum.py:266: UserWarning: n_fft=1024 is too large for input signal of length=871\n",
      "  warnings.warn(\n"
     ]
    },
    {
     "name": "stdout",
     "output_type": "stream",
     "text": [
      "1.83% done. Processing file: drummer1/session1/108_funk_95_fill_4-4.wav\n"
     ]
    },
    {
     "name": "stderr",
     "output_type": "stream",
     "text": [
      "c:\\Users\\kevin\\miniconda3\\envs\\audio_data_science\\lib\\site-packages\\librosa\\core\\spectrum.py:266: UserWarning: n_fft=1024 is too large for input signal of length=871\n",
      "  warnings.warn(\n"
     ]
    },
    {
     "name": "stdout",
     "output_type": "stream",
     "text": [
      "1.93% done. Processing file: drummer1/session1/109_funk_95_fill_4-4.wav\n",
      "2.02% done. Processing file: drummer1/session1/11_jazz-funk_116_fill_4-4.wav\n"
     ]
    },
    {
     "name": "stderr",
     "output_type": "stream",
     "text": [
      "c:\\Users\\kevin\\miniconda3\\envs\\audio_data_science\\lib\\site-packages\\librosa\\core\\spectrum.py:266: UserWarning: n_fft=1024 is too large for input signal of length=713\n",
      "  warnings.warn(\n"
     ]
    },
    {
     "name": "stdout",
     "output_type": "stream",
     "text": [
      "2.11% done. Processing file: drummer1/session1/110_funk_95_fill_4-4.wav\n",
      "2.20% done. Processing file: drummer1/session1/111_funk_95_fill_4-4.wav\n"
     ]
    },
    {
     "name": "stderr",
     "output_type": "stream",
     "text": [
      "c:\\Users\\kevin\\miniconda3\\envs\\audio_data_science\\lib\\site-packages\\librosa\\core\\spectrum.py:266: UserWarning: n_fft=1024 is too large for input signal of length=871\n",
      "  warnings.warn(\n"
     ]
    },
    {
     "name": "stdout",
     "output_type": "stream",
     "text": [
      "2.29% done. Processing file: drummer1/session1/112_funk_95_fill_4-4.wav\n",
      "2.39% done. Processing file: drummer1/session1/113_funk_95_fill_4-4.wav\n",
      "2.48% done. Processing file: drummer1/session1/114_funk_95_fill_4-4.wav\n"
     ]
    },
    {
     "name": "stderr",
     "output_type": "stream",
     "text": [
      "c:\\Users\\kevin\\miniconda3\\envs\\audio_data_science\\lib\\site-packages\\librosa\\core\\spectrum.py:266: UserWarning: n_fft=1024 is too large for input signal of length=871\n",
      "  warnings.warn(\n"
     ]
    },
    {
     "name": "stdout",
     "output_type": "stream",
     "text": [
      "2.57% done. Processing file: drummer1/session1/115_funk_95_fill_4-4.wav\n"
     ]
    },
    {
     "name": "stderr",
     "output_type": "stream",
     "text": [
      "c:\\Users\\kevin\\miniconda3\\envs\\audio_data_science\\lib\\site-packages\\librosa\\core\\spectrum.py:266: UserWarning: n_fft=1024 is too large for input signal of length=871\n",
      "  warnings.warn(\n"
     ]
    },
    {
     "name": "stdout",
     "output_type": "stream",
     "text": [
      "2.66% done. Processing file: drummer1/session1/116_funk_95_fill_4-4.wav\n"
     ]
    },
    {
     "name": "stderr",
     "output_type": "stream",
     "text": [
      "c:\\Users\\kevin\\miniconda3\\envs\\audio_data_science\\lib\\site-packages\\librosa\\core\\spectrum.py:266: UserWarning: n_fft=1024 is too large for input signal of length=871\n",
      "  warnings.warn(\n"
     ]
    },
    {
     "name": "stdout",
     "output_type": "stream",
     "text": [
      "2.75% done. Processing file: drummer1/session1/117_funk_95_fill_4-4.wav\n"
     ]
    },
    {
     "name": "stderr",
     "output_type": "stream",
     "text": [
      "c:\\Users\\kevin\\miniconda3\\envs\\audio_data_science\\lib\\site-packages\\librosa\\core\\spectrum.py:266: UserWarning: n_fft=1024 is too large for input signal of length=871\n",
      "  warnings.warn(\n"
     ]
    },
    {
     "name": "stdout",
     "output_type": "stream",
     "text": [
      "2.84% done. Processing file: drummer1/session1/118_funk_95_fill_4-4.wav\n"
     ]
    },
    {
     "name": "stderr",
     "output_type": "stream",
     "text": [
      "c:\\Users\\kevin\\miniconda3\\envs\\audio_data_science\\lib\\site-packages\\librosa\\core\\spectrum.py:266: UserWarning: n_fft=1024 is too large for input signal of length=871\n",
      "  warnings.warn(\n"
     ]
    },
    {
     "name": "stdout",
     "output_type": "stream",
     "text": [
      "2.94% done. Processing file: drummer1/session1/119_funk_95_fill_4-4.wav\n"
     ]
    },
    {
     "name": "stderr",
     "output_type": "stream",
     "text": [
      "c:\\Users\\kevin\\miniconda3\\envs\\audio_data_science\\lib\\site-packages\\librosa\\core\\spectrum.py:266: UserWarning: n_fft=1024 is too large for input signal of length=871\n",
      "  warnings.warn(\n"
     ]
    },
    {
     "name": "stdout",
     "output_type": "stream",
     "text": [
      "3.03% done. Processing file: drummer1/session1/12_jazz-funk_116_fill_4-4.wav\n"
     ]
    },
    {
     "name": "stderr",
     "output_type": "stream",
     "text": [
      "c:\\Users\\kevin\\miniconda3\\envs\\audio_data_science\\lib\\site-packages\\librosa\\core\\spectrum.py:266: UserWarning: n_fft=1024 is too large for input signal of length=713\n",
      "  warnings.warn(\n"
     ]
    },
    {
     "name": "stdout",
     "output_type": "stream",
     "text": [
      "3.12% done. Processing file: drummer1/session1/120_funk_95_fill_4-4.wav\n"
     ]
    },
    {
     "name": "stderr",
     "output_type": "stream",
     "text": [
      "c:\\Users\\kevin\\miniconda3\\envs\\audio_data_science\\lib\\site-packages\\librosa\\core\\spectrum.py:266: UserWarning: n_fft=1024 is too large for input signal of length=871\n",
      "  warnings.warn(\n"
     ]
    },
    {
     "name": "stdout",
     "output_type": "stream",
     "text": [
      "3.21% done. Processing file: drummer1/session1/121_funk_95_fill_4-4.wav\n"
     ]
    },
    {
     "name": "stderr",
     "output_type": "stream",
     "text": [
      "c:\\Users\\kevin\\miniconda3\\envs\\audio_data_science\\lib\\site-packages\\librosa\\core\\spectrum.py:266: UserWarning: n_fft=1024 is too large for input signal of length=871\n",
      "  warnings.warn(\n"
     ]
    },
    {
     "name": "stdout",
     "output_type": "stream",
     "text": [
      "3.30% done. Processing file: drummer1/session1/122_funk_95_fill_4-4.wav\n"
     ]
    },
    {
     "name": "stderr",
     "output_type": "stream",
     "text": [
      "c:\\Users\\kevin\\miniconda3\\envs\\audio_data_science\\lib\\site-packages\\librosa\\core\\spectrum.py:266: UserWarning: n_fft=1024 is too large for input signal of length=871\n",
      "  warnings.warn(\n"
     ]
    },
    {
     "name": "stdout",
     "output_type": "stream",
     "text": [
      "3.39% done. Processing file: drummer1/session1/123_funk_95_fill_4-4.wav\n"
     ]
    },
    {
     "name": "stderr",
     "output_type": "stream",
     "text": [
      "c:\\Users\\kevin\\miniconda3\\envs\\audio_data_science\\lib\\site-packages\\librosa\\core\\spectrum.py:266: UserWarning: n_fft=1024 is too large for input signal of length=871\n",
      "  warnings.warn(\n"
     ]
    },
    {
     "name": "stdout",
     "output_type": "stream",
     "text": [
      "3.49% done. Processing file: drummer1/session1/124_funk_95_fill_4-4.wav\n"
     ]
    },
    {
     "name": "stderr",
     "output_type": "stream",
     "text": [
      "c:\\Users\\kevin\\miniconda3\\envs\\audio_data_science\\lib\\site-packages\\librosa\\core\\spectrum.py:266: UserWarning: n_fft=1024 is too large for input signal of length=871\n",
      "  warnings.warn(\n"
     ]
    },
    {
     "name": "stdout",
     "output_type": "stream",
     "text": [
      "3.58% done. Processing file: drummer1/session1/125_funk_95_fill_4-4.wav\n"
     ]
    },
    {
     "name": "stderr",
     "output_type": "stream",
     "text": [
      "c:\\Users\\kevin\\miniconda3\\envs\\audio_data_science\\lib\\site-packages\\librosa\\core\\spectrum.py:266: UserWarning: n_fft=1024 is too large for input signal of length=871\n",
      "  warnings.warn(\n"
     ]
    },
    {
     "name": "stdout",
     "output_type": "stream",
     "text": [
      "3.67% done. Processing file: drummer1/session1/126_funk-fast_125_beat_4-4.wav\n",
      "3.76% done. Processing file: drummer1/session1/127_funk-fast_125_fill_4-4.wav\n"
     ]
    },
    {
     "name": "stderr",
     "output_type": "stream",
     "text": [
      "c:\\Users\\kevin\\miniconda3\\envs\\audio_data_science\\lib\\site-packages\\librosa\\core\\spectrum.py:266: UserWarning: n_fft=1024 is too large for input signal of length=658\n",
      "  warnings.warn(\n"
     ]
    },
    {
     "name": "stdout",
     "output_type": "stream",
     "text": [
      "3.85% done. Processing file: drummer1/session1/128_funk-fast_125_fill_4-4.wav\n"
     ]
    },
    {
     "name": "stderr",
     "output_type": "stream",
     "text": [
      "c:\\Users\\kevin\\miniconda3\\envs\\audio_data_science\\lib\\site-packages\\librosa\\core\\spectrum.py:266: UserWarning: n_fft=1024 is too large for input signal of length=662\n",
      "  warnings.warn(\n"
     ]
    },
    {
     "name": "stdout",
     "output_type": "stream",
     "text": [
      "3.94% done. Processing file: drummer1/session1/129_funk-fast_125_fill_4-4.wav\n"
     ]
    },
    {
     "name": "stderr",
     "output_type": "stream",
     "text": [
      "c:\\Users\\kevin\\miniconda3\\envs\\audio_data_science\\lib\\site-packages\\librosa\\core\\spectrum.py:266: UserWarning: n_fft=1024 is too large for input signal of length=662\n",
      "  warnings.warn(\n"
     ]
    },
    {
     "name": "stdout",
     "output_type": "stream",
     "text": [
      "4.04% done. Processing file: drummer1/session1/13_jazz-funk_116_fill_4-4.wav\n"
     ]
    },
    {
     "name": "stderr",
     "output_type": "stream",
     "text": [
      "c:\\Users\\kevin\\miniconda3\\envs\\audio_data_science\\lib\\site-packages\\librosa\\core\\spectrum.py:266: UserWarning: n_fft=1024 is too large for input signal of length=713\n",
      "  warnings.warn(\n"
     ]
    },
    {
     "name": "stdout",
     "output_type": "stream",
     "text": [
      "4.13% done. Processing file: drummer1/session1/130_funk-fast_125_fill_4-4.wav\n"
     ]
    },
    {
     "name": "stderr",
     "output_type": "stream",
     "text": [
      "c:\\Users\\kevin\\miniconda3\\envs\\audio_data_science\\lib\\site-packages\\librosa\\core\\spectrum.py:266: UserWarning: n_fft=1024 is too large for input signal of length=662\n",
      "  warnings.warn(\n"
     ]
    },
    {
     "name": "stdout",
     "output_type": "stream",
     "text": [
      "4.22% done. Processing file: drummer1/session1/131_funk-fast_125_fill_4-4.wav\n"
     ]
    },
    {
     "name": "stderr",
     "output_type": "stream",
     "text": [
      "c:\\Users\\kevin\\miniconda3\\envs\\audio_data_science\\lib\\site-packages\\librosa\\core\\spectrum.py:266: UserWarning: n_fft=1024 is too large for input signal of length=662\n",
      "  warnings.warn(\n"
     ]
    },
    {
     "name": "stdout",
     "output_type": "stream",
     "text": [
      "4.31% done. Processing file: drummer1/session1/132_funk-fast_125_fill_4-4.wav\n",
      "4.40% done. Processing file: drummer1/session1/133_funk-fast_125_fill_4-4.wav\n"
     ]
    },
    {
     "name": "stderr",
     "output_type": "stream",
     "text": [
      "c:\\Users\\kevin\\miniconda3\\envs\\audio_data_science\\lib\\site-packages\\librosa\\core\\spectrum.py:266: UserWarning: n_fft=1024 is too large for input signal of length=662\n",
      "  warnings.warn(\n"
     ]
    },
    {
     "name": "stdout",
     "output_type": "stream",
     "text": [
      "4.50% done. Processing file: drummer1/session1/134_funk-fast_125_fill_4-4.wav\n"
     ]
    },
    {
     "name": "stderr",
     "output_type": "stream",
     "text": [
      "c:\\Users\\kevin\\miniconda3\\envs\\audio_data_science\\lib\\site-packages\\librosa\\core\\spectrum.py:266: UserWarning: n_fft=1024 is too large for input signal of length=657\n",
      "  warnings.warn(\n"
     ]
    },
    {
     "name": "stdout",
     "output_type": "stream",
     "text": [
      "4.59% done. Processing file: drummer1/session1/135_funk-fast_125_fill_4-4.wav\n"
     ]
    },
    {
     "name": "stderr",
     "output_type": "stream",
     "text": [
      "c:\\Users\\kevin\\miniconda3\\envs\\audio_data_science\\lib\\site-packages\\librosa\\core\\spectrum.py:266: UserWarning: n_fft=1024 is too large for input signal of length=662\n",
      "  warnings.warn(\n"
     ]
    },
    {
     "name": "stdout",
     "output_type": "stream",
     "text": [
      "4.68% done. Processing file: drummer1/session1/136_funk-fast_125_fill_4-4.wav\n"
     ]
    },
    {
     "name": "stderr",
     "output_type": "stream",
     "text": [
      "c:\\Users\\kevin\\miniconda3\\envs\\audio_data_science\\lib\\site-packages\\librosa\\core\\spectrum.py:266: UserWarning: n_fft=1024 is too large for input signal of length=662\n",
      "  warnings.warn(\n"
     ]
    },
    {
     "name": "stdout",
     "output_type": "stream",
     "text": [
      "4.77% done. Processing file: drummer1/session1/137_funk-fast_125_fill_4-4.wav\n"
     ]
    },
    {
     "name": "stderr",
     "output_type": "stream",
     "text": [
      "c:\\Users\\kevin\\miniconda3\\envs\\audio_data_science\\lib\\site-packages\\librosa\\core\\spectrum.py:266: UserWarning: n_fft=1024 is too large for input signal of length=662\n",
      "  warnings.warn(\n"
     ]
    },
    {
     "name": "stdout",
     "output_type": "stream",
     "text": [
      "4.86% done. Processing file: drummer1/session1/138_funk-fast_125_fill_4-4.wav\n"
     ]
    },
    {
     "name": "stderr",
     "output_type": "stream",
     "text": [
      "c:\\Users\\kevin\\miniconda3\\envs\\audio_data_science\\lib\\site-packages\\librosa\\core\\spectrum.py:266: UserWarning: n_fft=1024 is too large for input signal of length=579\n",
      "  warnings.warn(\n"
     ]
    },
    {
     "name": "stdout",
     "output_type": "stream",
     "text": [
      "4.95% done. Processing file: drummer1/session1/139_funk-fast_125_fill_4-4.wav\n"
     ]
    },
    {
     "name": "stderr",
     "output_type": "stream",
     "text": [
      "c:\\Users\\kevin\\miniconda3\\envs\\audio_data_science\\lib\\site-packages\\librosa\\core\\spectrum.py:266: UserWarning: n_fft=1024 is too large for input signal of length=662\n",
      "  warnings.warn(\n"
     ]
    },
    {
     "name": "stdout",
     "output_type": "stream",
     "text": [
      "5.05% done. Processing file: drummer1/session1/14_jazz-funk_116_fill_4-4.wav\n",
      "5.14% done. Processing file: drummer1/session1/140_funk-fast_125_fill_4-4.wav\n"
     ]
    },
    {
     "name": "stderr",
     "output_type": "stream",
     "text": [
      "c:\\Users\\kevin\\miniconda3\\envs\\audio_data_science\\lib\\site-packages\\librosa\\core\\spectrum.py:266: UserWarning: n_fft=1024 is too large for input signal of length=662\n",
      "  warnings.warn(\n"
     ]
    },
    {
     "name": "stdout",
     "output_type": "stream",
     "text": [
      "5.23% done. Processing file: drummer1/session1/141_funk-fast_125_fill_4-4.wav\n"
     ]
    },
    {
     "name": "stderr",
     "output_type": "stream",
     "text": [
      "c:\\Users\\kevin\\miniconda3\\envs\\audio_data_science\\lib\\site-packages\\librosa\\core\\spectrum.py:266: UserWarning: n_fft=1024 is too large for input signal of length=662\n",
      "  warnings.warn(\n"
     ]
    },
    {
     "name": "stdout",
     "output_type": "stream",
     "text": [
      "5.32% done. Processing file: drummer1/session1/142_funk-fast_125_fill_4-4.wav\n"
     ]
    },
    {
     "name": "stderr",
     "output_type": "stream",
     "text": [
      "c:\\Users\\kevin\\miniconda3\\envs\\audio_data_science\\lib\\site-packages\\librosa\\core\\spectrum.py:266: UserWarning: n_fft=1024 is too large for input signal of length=662\n",
      "  warnings.warn(\n"
     ]
    },
    {
     "name": "stdout",
     "output_type": "stream",
     "text": [
      "5.41% done. Processing file: drummer1/session1/143_funk-fast_125_fill_4-4.wav\n"
     ]
    },
    {
     "name": "stderr",
     "output_type": "stream",
     "text": [
      "c:\\Users\\kevin\\miniconda3\\envs\\audio_data_science\\lib\\site-packages\\librosa\\core\\spectrum.py:266: UserWarning: n_fft=1024 is too large for input signal of length=662\n",
      "  warnings.warn(\n"
     ]
    },
    {
     "name": "stdout",
     "output_type": "stream",
     "text": [
      "5.50% done. Processing file: drummer1/session1/144_funk-fast_125_fill_4-4.wav\n"
     ]
    },
    {
     "name": "stderr",
     "output_type": "stream",
     "text": [
      "c:\\Users\\kevin\\miniconda3\\envs\\audio_data_science\\lib\\site-packages\\librosa\\core\\spectrum.py:266: UserWarning: n_fft=1024 is too large for input signal of length=662\n",
      "  warnings.warn(\n"
     ]
    },
    {
     "name": "stdout",
     "output_type": "stream",
     "text": [
      "5.60% done. Processing file: drummer1/session1/145_latin-brazilian-baiao_95_beat_4-4.wav\n",
      "5.69% done. Processing file: drummer1/session1/146_latin-brazilian-baiao_95_beat_4-4.wav\n",
      "5.78% done. Processing file: drummer1/session1/147_latin-brazilian-baiao_95_fill_4-4.wav\n"
     ]
    },
    {
     "name": "stderr",
     "output_type": "stream",
     "text": [
      "c:\\Users\\kevin\\miniconda3\\envs\\audio_data_science\\lib\\site-packages\\librosa\\core\\spectrum.py:266: UserWarning: n_fft=1024 is too large for input signal of length=871\n",
      "  warnings.warn(\n"
     ]
    },
    {
     "name": "stdout",
     "output_type": "stream",
     "text": [
      "5.87% done. Processing file: drummer1/session1/148_latin-brazilian-baiao_95_fill_4-4.wav\n"
     ]
    },
    {
     "name": "stderr",
     "output_type": "stream",
     "text": [
      "c:\\Users\\kevin\\miniconda3\\envs\\audio_data_science\\lib\\site-packages\\librosa\\core\\spectrum.py:266: UserWarning: n_fft=1024 is too large for input signal of length=853\n",
      "  warnings.warn(\n"
     ]
    },
    {
     "name": "stdout",
     "output_type": "stream",
     "text": [
      "5.96% done. Processing file: drummer1/session1/149_latin-brazilian-baiao_95_fill_4-4.wav\n"
     ]
    },
    {
     "name": "stderr",
     "output_type": "stream",
     "text": [
      "c:\\Users\\kevin\\miniconda3\\envs\\audio_data_science\\lib\\site-packages\\librosa\\core\\spectrum.py:266: UserWarning: n_fft=1024 is too large for input signal of length=871\n",
      "  warnings.warn(\n"
     ]
    },
    {
     "name": "stdout",
     "output_type": "stream",
     "text": [
      "6.06% done. Processing file: drummer1/session1/15_jazz-funk_116_fill_4-4.wav\n",
      "6.15% done. Processing file: drummer1/session1/150_latin-brazilian-baiao_95_fill_4-4.wav\n"
     ]
    },
    {
     "name": "stderr",
     "output_type": "stream",
     "text": [
      "c:\\Users\\kevin\\miniconda3\\envs\\audio_data_science\\lib\\site-packages\\librosa\\core\\spectrum.py:266: UserWarning: n_fft=1024 is too large for input signal of length=871\n",
      "  warnings.warn(\n"
     ]
    },
    {
     "name": "stdout",
     "output_type": "stream",
     "text": [
      "6.24% done. Processing file: drummer1/session1/151_latin-brazilian-baiao_95_fill_4-4.wav\n"
     ]
    },
    {
     "name": "stderr",
     "output_type": "stream",
     "text": [
      "c:\\Users\\kevin\\miniconda3\\envs\\audio_data_science\\lib\\site-packages\\librosa\\core\\spectrum.py:266: UserWarning: n_fft=1024 is too large for input signal of length=871\n",
      "  warnings.warn(\n"
     ]
    },
    {
     "name": "stdout",
     "output_type": "stream",
     "text": [
      "6.33% done. Processing file: drummer1/session1/152_latin-brazilian-baiao_95_fill_4-4.wav\n"
     ]
    },
    {
     "name": "stderr",
     "output_type": "stream",
     "text": [
      "c:\\Users\\kevin\\miniconda3\\envs\\audio_data_science\\lib\\site-packages\\librosa\\core\\spectrum.py:266: UserWarning: n_fft=1024 is too large for input signal of length=871\n",
      "  warnings.warn(\n"
     ]
    },
    {
     "name": "stdout",
     "output_type": "stream",
     "text": [
      "6.42% done. Processing file: drummer1/session1/153_latin-brazilian-baiao_95_fill_4-4.wav\n"
     ]
    },
    {
     "name": "stderr",
     "output_type": "stream",
     "text": [
      "c:\\Users\\kevin\\miniconda3\\envs\\audio_data_science\\lib\\site-packages\\librosa\\core\\spectrum.py:266: UserWarning: n_fft=1024 is too large for input signal of length=871\n",
      "  warnings.warn(\n"
     ]
    },
    {
     "name": "stdout",
     "output_type": "stream",
     "text": [
      "6.51% done. Processing file: drummer1/session1/154_latin-brazilian-baiao_95_fill_4-4.wav\n"
     ]
    },
    {
     "name": "stderr",
     "output_type": "stream",
     "text": [
      "c:\\Users\\kevin\\miniconda3\\envs\\audio_data_science\\lib\\site-packages\\librosa\\core\\spectrum.py:266: UserWarning: n_fft=1024 is too large for input signal of length=871\n",
      "  warnings.warn(\n"
     ]
    },
    {
     "name": "stdout",
     "output_type": "stream",
     "text": [
      "6.61% done. Processing file: drummer1/session1/155_latin-brazilian-baiao_95_fill_4-4.wav\n"
     ]
    },
    {
     "name": "stderr",
     "output_type": "stream",
     "text": [
      "c:\\Users\\kevin\\miniconda3\\envs\\audio_data_science\\lib\\site-packages\\librosa\\core\\spectrum.py:266: UserWarning: n_fft=1024 is too large for input signal of length=871\n",
      "  warnings.warn(\n"
     ]
    },
    {
     "name": "stdout",
     "output_type": "stream",
     "text": [
      "6.70% done. Processing file: drummer1/session1/156_latin-brazilian-baiao_95_fill_4-4.wav\n"
     ]
    },
    {
     "name": "stderr",
     "output_type": "stream",
     "text": [
      "c:\\Users\\kevin\\miniconda3\\envs\\audio_data_science\\lib\\site-packages\\librosa\\core\\spectrum.py:266: UserWarning: n_fft=1024 is too large for input signal of length=871\n",
      "  warnings.warn(\n"
     ]
    },
    {
     "name": "stdout",
     "output_type": "stream",
     "text": [
      "6.79% done. Processing file: drummer1/session1/157_latin-brazilian-baiao_95_fill_4-4.wav\n"
     ]
    },
    {
     "name": "stderr",
     "output_type": "stream",
     "text": [
      "c:\\Users\\kevin\\miniconda3\\envs\\audio_data_science\\lib\\site-packages\\librosa\\core\\spectrum.py:266: UserWarning: n_fft=1024 is too large for input signal of length=871\n",
      "  warnings.warn(\n"
     ]
    },
    {
     "name": "stdout",
     "output_type": "stream",
     "text": [
      "6.88% done. Processing file: drummer1/session1/158_latin-brazilian-baiao_95_fill_4-4.wav\n"
     ]
    },
    {
     "name": "stderr",
     "output_type": "stream",
     "text": [
      "c:\\Users\\kevin\\miniconda3\\envs\\audio_data_science\\lib\\site-packages\\librosa\\core\\spectrum.py:266: UserWarning: n_fft=1024 is too large for input signal of length=871\n",
      "  warnings.warn(\n"
     ]
    },
    {
     "name": "stdout",
     "output_type": "stream",
     "text": [
      "6.97% done. Processing file: drummer1/session1/159_latin-brazilian-baiao_95_fill_4-4.wav\n"
     ]
    },
    {
     "name": "stderr",
     "output_type": "stream",
     "text": [
      "c:\\Users\\kevin\\miniconda3\\envs\\audio_data_science\\lib\\site-packages\\librosa\\core\\spectrum.py:266: UserWarning: n_fft=1024 is too large for input signal of length=862\n",
      "  warnings.warn(\n"
     ]
    },
    {
     "name": "stdout",
     "output_type": "stream",
     "text": [
      "7.06% done. Processing file: drummer1/session1/16_jazz-funk_116_fill_4-4.wav\n",
      "7.16% done. Processing file: drummer1/session1/160_latin-brazilian-baiao_95_fill_4-4.wav\n"
     ]
    },
    {
     "name": "stderr",
     "output_type": "stream",
     "text": [
      "c:\\Users\\kevin\\miniconda3\\envs\\audio_data_science\\lib\\site-packages\\librosa\\core\\spectrum.py:266: UserWarning: n_fft=1024 is too large for input signal of length=871\n",
      "  warnings.warn(\n"
     ]
    },
    {
     "name": "stdout",
     "output_type": "stream",
     "text": [
      "7.25% done. Processing file: drummer1/session1/161_latin-brazilian-baiao_95_fill_4-4.wav\n"
     ]
    },
    {
     "name": "stderr",
     "output_type": "stream",
     "text": [
      "c:\\Users\\kevin\\miniconda3\\envs\\audio_data_science\\lib\\site-packages\\librosa\\core\\spectrum.py:266: UserWarning: n_fft=1024 is too large for input signal of length=871\n",
      "  warnings.warn(\n"
     ]
    },
    {
     "name": "stdout",
     "output_type": "stream",
     "text": [
      "7.34% done. Processing file: drummer1/session1/162_latin-brazilian-baiao_95_fill_4-4.wav\n"
     ]
    },
    {
     "name": "stderr",
     "output_type": "stream",
     "text": [
      "c:\\Users\\kevin\\miniconda3\\envs\\audio_data_science\\lib\\site-packages\\librosa\\core\\spectrum.py:266: UserWarning: n_fft=1024 is too large for input signal of length=871\n",
      "  warnings.warn(\n"
     ]
    },
    {
     "name": "stdout",
     "output_type": "stream",
     "text": [
      "7.43% done. Processing file: drummer1/session1/163_latin-brazilian-baiao_95_fill_4-4.wav\n"
     ]
    },
    {
     "name": "stderr",
     "output_type": "stream",
     "text": [
      "c:\\Users\\kevin\\miniconda3\\envs\\audio_data_science\\lib\\site-packages\\librosa\\core\\spectrum.py:266: UserWarning: n_fft=1024 is too large for input signal of length=871\n",
      "  warnings.warn(\n"
     ]
    },
    {
     "name": "stdout",
     "output_type": "stream",
     "text": [
      "7.52% done. Processing file: drummer1/session1/164_latin-brazilian-baiao_95_fill_4-4.wav\n"
     ]
    },
    {
     "name": "stderr",
     "output_type": "stream",
     "text": [
      "c:\\Users\\kevin\\miniconda3\\envs\\audio_data_science\\lib\\site-packages\\librosa\\core\\spectrum.py:266: UserWarning: n_fft=1024 is too large for input signal of length=871\n",
      "  warnings.warn(\n"
     ]
    },
    {
     "name": "stdout",
     "output_type": "stream",
     "text": [
      "7.61% done. Processing file: drummer1/session1/165_latin-brazilian-baiao_95_fill_4-4.wav\n"
     ]
    },
    {
     "name": "stderr",
     "output_type": "stream",
     "text": [
      "c:\\Users\\kevin\\miniconda3\\envs\\audio_data_science\\lib\\site-packages\\librosa\\core\\spectrum.py:266: UserWarning: n_fft=1024 is too large for input signal of length=871\n",
      "  warnings.warn(\n"
     ]
    },
    {
     "name": "stdout",
     "output_type": "stream",
     "text": [
      "7.71% done. Processing file: drummer1/session1/166_latin-brazilian-baiao_95_fill_4-4.wav\n"
     ]
    },
    {
     "name": "stderr",
     "output_type": "stream",
     "text": [
      "c:\\Users\\kevin\\miniconda3\\envs\\audio_data_science\\lib\\site-packages\\librosa\\core\\spectrum.py:266: UserWarning: n_fft=1024 is too large for input signal of length=853\n",
      "  warnings.warn(\n"
     ]
    },
    {
     "name": "stdout",
     "output_type": "stream",
     "text": [
      "7.80% done. Processing file: drummer1/session1/167_latin-brazilian-baiao_95_fill_4-4.wav\n"
     ]
    },
    {
     "name": "stderr",
     "output_type": "stream",
     "text": [
      "c:\\Users\\kevin\\miniconda3\\envs\\audio_data_science\\lib\\site-packages\\librosa\\core\\spectrum.py:266: UserWarning: n_fft=1024 is too large for input signal of length=871\n",
      "  warnings.warn(\n"
     ]
    },
    {
     "name": "stdout",
     "output_type": "stream",
     "text": [
      "7.89% done. Processing file: drummer1/session1/168_latin-brazilian-baiao_95_fill_4-4.wav\n"
     ]
    },
    {
     "name": "stderr",
     "output_type": "stream",
     "text": [
      "c:\\Users\\kevin\\miniconda3\\envs\\audio_data_science\\lib\\site-packages\\librosa\\core\\spectrum.py:266: UserWarning: n_fft=1024 is too large for input signal of length=871\n",
      "  warnings.warn(\n"
     ]
    },
    {
     "name": "stdout",
     "output_type": "stream",
     "text": [
      "7.98% done. Processing file: drummer1/session1/169_latin-brazilian-baiao_95_fill_4-4.wav\n"
     ]
    },
    {
     "name": "stderr",
     "output_type": "stream",
     "text": [
      "c:\\Users\\kevin\\miniconda3\\envs\\audio_data_science\\lib\\site-packages\\librosa\\core\\spectrum.py:266: UserWarning: n_fft=1024 is too large for input signal of length=871\n",
      "  warnings.warn(\n"
     ]
    },
    {
     "name": "stdout",
     "output_type": "stream",
     "text": [
      "8.07% done. Processing file: drummer1/session1/17_jazz-funk_116_fill_4-4.wav\n",
      "8.17% done. Processing file: drummer1/session1/170_latin-brazilian-baiao_95_fill_4-4.wav\n"
     ]
    },
    {
     "name": "stderr",
     "output_type": "stream",
     "text": [
      "c:\\Users\\kevin\\miniconda3\\envs\\audio_data_science\\lib\\site-packages\\librosa\\core\\spectrum.py:266: UserWarning: n_fft=1024 is too large for input signal of length=871\n",
      "  warnings.warn(\n"
     ]
    },
    {
     "name": "stdout",
     "output_type": "stream",
     "text": [
      "8.26% done. Processing file: drummer1/session1/171_latin-brazilian-baiao_95_fill_4-4.wav\n"
     ]
    },
    {
     "name": "stderr",
     "output_type": "stream",
     "text": [
      "c:\\Users\\kevin\\miniconda3\\envs\\audio_data_science\\lib\\site-packages\\librosa\\core\\spectrum.py:266: UserWarning: n_fft=1024 is too large for input signal of length=845\n",
      "  warnings.warn(\n"
     ]
    },
    {
     "name": "stdout",
     "output_type": "stream",
     "text": [
      "8.35% done. Processing file: drummer1/session1/172_latin-brazilian-baiao_95_fill_4-4.wav\n"
     ]
    },
    {
     "name": "stderr",
     "output_type": "stream",
     "text": [
      "c:\\Users\\kevin\\miniconda3\\envs\\audio_data_science\\lib\\site-packages\\librosa\\core\\spectrum.py:266: UserWarning: n_fft=1024 is too large for input signal of length=871\n",
      "  warnings.warn(\n"
     ]
    },
    {
     "name": "stdout",
     "output_type": "stream",
     "text": [
      "8.44% done. Processing file: drummer1/session1/173_latin-brazilian-baiao_95_fill_4-4.wav\n"
     ]
    },
    {
     "name": "stderr",
     "output_type": "stream",
     "text": [
      "c:\\Users\\kevin\\miniconda3\\envs\\audio_data_science\\lib\\site-packages\\librosa\\core\\spectrum.py:266: UserWarning: n_fft=1024 is too large for input signal of length=871\n",
      "  warnings.warn(\n"
     ]
    },
    {
     "name": "stdout",
     "output_type": "stream",
     "text": [
      "8.53% done. Processing file: drummer1/session1/174_latin-brazilian-baiao_95_fill_4-4.wav\n"
     ]
    },
    {
     "name": "stderr",
     "output_type": "stream",
     "text": [
      "c:\\Users\\kevin\\miniconda3\\envs\\audio_data_science\\lib\\site-packages\\librosa\\core\\spectrum.py:266: UserWarning: n_fft=1024 is too large for input signal of length=871\n",
      "  warnings.warn(\n"
     ]
    },
    {
     "name": "stdout",
     "output_type": "stream",
     "text": [
      "8.62% done. Processing file: drummer1/session1/175_latin-brazilian-baiao_95_fill_4-4.wav\n"
     ]
    },
    {
     "name": "stderr",
     "output_type": "stream",
     "text": [
      "c:\\Users\\kevin\\miniconda3\\envs\\audio_data_science\\lib\\site-packages\\librosa\\core\\spectrum.py:266: UserWarning: n_fft=1024 is too large for input signal of length=871\n",
      "  warnings.warn(\n"
     ]
    },
    {
     "name": "stdout",
     "output_type": "stream",
     "text": [
      "8.72% done. Processing file: drummer1/session1/176_afrocuban_105_beat_4-4.wav\n",
      "8.81% done. Processing file: drummer1/session1/177_afrocuban_105_fill_4-4.wav\n"
     ]
    },
    {
     "name": "stderr",
     "output_type": "stream",
     "text": [
      "c:\\Users\\kevin\\miniconda3\\envs\\audio_data_science\\lib\\site-packages\\librosa\\core\\spectrum.py:266: UserWarning: n_fft=1024 is too large for input signal of length=755\n",
      "  warnings.warn(\n"
     ]
    },
    {
     "name": "stdout",
     "output_type": "stream",
     "text": [
      "8.90% done. Processing file: drummer1/session1/178_afrocuban_105_fill_4-4.wav\n"
     ]
    },
    {
     "name": "stderr",
     "output_type": "stream",
     "text": [
      "c:\\Users\\kevin\\miniconda3\\envs\\audio_data_science\\lib\\site-packages\\librosa\\core\\spectrum.py:266: UserWarning: n_fft=1024 is too large for input signal of length=788\n",
      "  warnings.warn(\n"
     ]
    },
    {
     "name": "stdout",
     "output_type": "stream",
     "text": [
      "8.99% done. Processing file: drummer1/session1/179_afrocuban_105_fill_4-4.wav\n"
     ]
    },
    {
     "name": "stderr",
     "output_type": "stream",
     "text": [
      "c:\\Users\\kevin\\miniconda3\\envs\\audio_data_science\\lib\\site-packages\\librosa\\core\\spectrum.py:266: UserWarning: n_fft=1024 is too large for input signal of length=788\n",
      "  warnings.warn(\n"
     ]
    },
    {
     "name": "stdout",
     "output_type": "stream",
     "text": [
      "9.08% done. Processing file: drummer1/session1/18_jazz-funk_116_fill_4-4.wav\n",
      "9.17% done. Processing file: drummer1/session1/180_afrocuban_105_fill_4-4.wav\n"
     ]
    },
    {
     "name": "stderr",
     "output_type": "stream",
     "text": [
      "c:\\Users\\kevin\\miniconda3\\envs\\audio_data_science\\lib\\site-packages\\librosa\\core\\spectrum.py:266: UserWarning: n_fft=1024 is too large for input signal of length=788\n",
      "  warnings.warn(\n"
     ]
    },
    {
     "name": "stdout",
     "output_type": "stream",
     "text": [
      "9.27% done. Processing file: drummer1/session1/181_afrocuban_105_fill_4-4.wav\n"
     ]
    },
    {
     "name": "stderr",
     "output_type": "stream",
     "text": [
      "c:\\Users\\kevin\\miniconda3\\envs\\audio_data_science\\lib\\site-packages\\librosa\\core\\spectrum.py:266: UserWarning: n_fft=1024 is too large for input signal of length=788\n",
      "  warnings.warn(\n"
     ]
    },
    {
     "name": "stdout",
     "output_type": "stream",
     "text": [
      "9.36% done. Processing file: drummer1/session1/182_afrocuban_105_fill_4-4.wav\n",
      "9.45% done. Processing file: drummer1/session1/183_afrocuban_105_beat_4-4.wav\n",
      "9.54% done. Processing file: drummer1/session1/184_reggae_78_beat_4-4.wav\n",
      "9.63% done. Processing file: drummer1/session1/185_reggae_78_fill_4-4.wav\n",
      "9.72% done. Processing file: drummer1/session1/186_reggae_78_fill_4-4.wav\n",
      "9.82% done. Processing file: drummer1/session1/187_reggae_78_fill_4-4.wav\n"
     ]
    },
    {
     "name": "stderr",
     "output_type": "stream",
     "text": [
      "c:\\Users\\kevin\\miniconda3\\envs\\audio_data_science\\lib\\site-packages\\librosa\\core\\spectrum.py:266: UserWarning: n_fft=1024 is too large for input signal of length=1022\n",
      "  warnings.warn(\n"
     ]
    },
    {
     "name": "stdout",
     "output_type": "stream",
     "text": [
      "9.91% done. Processing file: drummer1/session1/188_reggae_78_fill_4-4.wav\n",
      "10.00% done. Processing file: drummer1/session1/189_reggae_78_fill_4-4.wav\n",
      "10.09% done. Processing file: drummer1/session1/19_jazz-funk_116_fill_4-4.wav\n"
     ]
    },
    {
     "name": "stderr",
     "output_type": "stream",
     "text": [
      "c:\\Users\\kevin\\miniconda3\\envs\\audio_data_science\\lib\\site-packages\\librosa\\core\\spectrum.py:266: UserWarning: n_fft=1024 is too large for input signal of length=713\n",
      "  warnings.warn(\n"
     ]
    },
    {
     "name": "stdout",
     "output_type": "stream",
     "text": [
      "10.18% done. Processing file: drummer1/session1/190_reggae_78_fill_4-4.wav\n",
      "10.28% done. Processing file: drummer1/session1/191_reggae_78_fill_4-4.wav\n",
      "10.37% done. Processing file: drummer1/session1/192_reggae_78_fill_4-4.wav\n",
      "10.46% done. Processing file: drummer1/session1/193_reggae_78_fill_4-4.wav\n",
      "10.55% done. Processing file: drummer1/session1/194_reggae_78_fill_4-4.wav\n",
      "10.64% done. Processing file: drummer1/session1/195_reggae_78_fill_4-4.wav\n",
      "10.73% done. Processing file: drummer1/session1/196_reggae_78_fill_4-4.wav\n",
      "10.83% done. Processing file: drummer1/session1/197_reggae_78_fill_4-4.wav\n",
      "10.92% done. Processing file: drummer1/session1/198_reggae_78_fill_4-4.wav\n",
      "11.01% done. Processing file: drummer1/session1/199_reggae_78_fill_4-4.wav\n",
      "11.10% done. Processing file: drummer1/session1/2_funk_80_beat_4-4.wav\n",
      "11.19% done. Processing file: drummer1/session1/20_jazz-funk_116_fill_4-4.wav\n"
     ]
    },
    {
     "name": "stderr",
     "output_type": "stream",
     "text": [
      "c:\\Users\\kevin\\miniconda3\\envs\\audio_data_science\\lib\\site-packages\\librosa\\core\\spectrum.py:266: UserWarning: n_fft=1024 is too large for input signal of length=713\n",
      "  warnings.warn(\n"
     ]
    },
    {
     "name": "stdout",
     "output_type": "stream",
     "text": [
      "11.28% done. Processing file: drummer1/session1/200_reggae_78_fill_4-4.wav\n"
     ]
    },
    {
     "name": "stderr",
     "output_type": "stream",
     "text": [
      "c:\\Users\\kevin\\miniconda3\\envs\\audio_data_science\\lib\\site-packages\\librosa\\core\\spectrum.py:266: UserWarning: n_fft=1024 is too large for input signal of length=994\n",
      "  warnings.warn(\n"
     ]
    },
    {
     "name": "stdout",
     "output_type": "stream",
     "text": [
      "11.38% done. Processing file: drummer1/session1/201_reggae-slow_64_beat_4-4.wav\n",
      "11.47% done. Processing file: drummer1/session1/202_rock-halftime_140_beat_4-4.wav\n",
      "11.56% done. Processing file: drummer1/session1/203_rock-halftime_140_fill_4-4.wav\n",
      "11.65% done. Processing file: drummer1/session1/204_rock-halftime_140_fill_4-4.wav\n",
      "11.74% done. Processing file: drummer1/session1/205_rock-halftime_140_fill_4-4.wav\n",
      "11.83% done. Processing file: drummer1/session1/206_rock-halftime_140_fill_4-4.wav\n",
      "11.93% done. Processing file: drummer1/session1/207_rock-halftime_140_fill_4-4.wav\n",
      "12.02% done. Processing file: drummer1/session1/208_rock-halftime_140_fill_4-4.wav\n"
     ]
    },
    {
     "name": "stderr",
     "output_type": "stream",
     "text": [
      "c:\\Users\\kevin\\miniconda3\\envs\\audio_data_science\\lib\\site-packages\\librosa\\core\\spectrum.py:266: UserWarning: n_fft=1024 is too large for input signal of length=591\n",
      "  warnings.warn(\n"
     ]
    },
    {
     "name": "stdout",
     "output_type": "stream",
     "text": [
      "12.11% done. Processing file: drummer1/session1/209_rock-halftime_140_fill_4-4.wav\n"
     ]
    },
    {
     "name": "stderr",
     "output_type": "stream",
     "text": [
      "c:\\Users\\kevin\\miniconda3\\envs\\audio_data_science\\lib\\site-packages\\librosa\\core\\spectrum.py:266: UserWarning: n_fft=1024 is too large for input signal of length=591\n",
      "  warnings.warn(\n"
     ]
    },
    {
     "name": "stdout",
     "output_type": "stream",
     "text": [
      "12.20% done. Processing file: drummer1/session1/21_jazz-funk_116_fill_4-4.wav\n"
     ]
    },
    {
     "name": "stderr",
     "output_type": "stream",
     "text": [
      "c:\\Users\\kevin\\miniconda3\\envs\\audio_data_science\\lib\\site-packages\\librosa\\core\\spectrum.py:266: UserWarning: n_fft=1024 is too large for input signal of length=713\n",
      "  warnings.warn(\n"
     ]
    },
    {
     "name": "stdout",
     "output_type": "stream",
     "text": [
      "12.29% done. Processing file: drummer1/session1/210_rock-halftime_140_fill_4-4.wav\n"
     ]
    },
    {
     "name": "stderr",
     "output_type": "stream",
     "text": [
      "c:\\Users\\kevin\\miniconda3\\envs\\audio_data_science\\lib\\site-packages\\librosa\\core\\spectrum.py:266: UserWarning: n_fft=1024 is too large for input signal of length=591\n",
      "  warnings.warn(\n"
     ]
    },
    {
     "name": "stdout",
     "output_type": "stream",
     "text": [
      "12.39% done. Processing file: drummer1/session1/211_rock-halftime_140_fill_4-4.wav\n"
     ]
    },
    {
     "name": "stderr",
     "output_type": "stream",
     "text": [
      "c:\\Users\\kevin\\miniconda3\\envs\\audio_data_science\\lib\\site-packages\\librosa\\core\\spectrum.py:266: UserWarning: n_fft=1024 is too large for input signal of length=591\n",
      "  warnings.warn(\n"
     ]
    },
    {
     "name": "stdout",
     "output_type": "stream",
     "text": [
      "12.48% done. Processing file: drummer1/session1/212_rock-halftime_140_fill_4-4.wav\n"
     ]
    },
    {
     "name": "stderr",
     "output_type": "stream",
     "text": [
      "c:\\Users\\kevin\\miniconda3\\envs\\audio_data_science\\lib\\site-packages\\librosa\\core\\spectrum.py:266: UserWarning: n_fft=1024 is too large for input signal of length=591\n",
      "  warnings.warn(\n"
     ]
    },
    {
     "name": "stdout",
     "output_type": "stream",
     "text": [
      "12.57% done. Processing file: drummer1/session1/213_rock-halftime_140_fill_4-4.wav\n"
     ]
    },
    {
     "name": "stderr",
     "output_type": "stream",
     "text": [
      "c:\\Users\\kevin\\miniconda3\\envs\\audio_data_science\\lib\\site-packages\\librosa\\core\\spectrum.py:266: UserWarning: n_fft=1024 is too large for input signal of length=591\n",
      "  warnings.warn(\n"
     ]
    },
    {
     "name": "stdout",
     "output_type": "stream",
     "text": [
      "12.66% done. Processing file: drummer1/session1/214_rock-halftime_140_fill_4-4.wav\n"
     ]
    },
    {
     "name": "stderr",
     "output_type": "stream",
     "text": [
      "c:\\Users\\kevin\\miniconda3\\envs\\audio_data_science\\lib\\site-packages\\librosa\\core\\spectrum.py:266: UserWarning: n_fft=1024 is too large for input signal of length=560\n",
      "  warnings.warn(\n"
     ]
    },
    {
     "name": "stdout",
     "output_type": "stream",
     "text": [
      "12.75% done. Processing file: drummer1/session1/215_rock-halftime_140_fill_4-4.wav\n"
     ]
    },
    {
     "name": "stderr",
     "output_type": "stream",
     "text": [
      "c:\\Users\\kevin\\miniconda3\\envs\\audio_data_science\\lib\\site-packages\\librosa\\core\\spectrum.py:266: UserWarning: n_fft=1024 is too large for input signal of length=591\n",
      "  warnings.warn(\n"
     ]
    },
    {
     "name": "stdout",
     "output_type": "stream",
     "text": [
      "12.84% done. Processing file: drummer1/session1/216_rock-halftime_140_fill_4-4.wav\n"
     ]
    },
    {
     "name": "stderr",
     "output_type": "stream",
     "text": [
      "c:\\Users\\kevin\\miniconda3\\envs\\audio_data_science\\lib\\site-packages\\librosa\\core\\spectrum.py:266: UserWarning: n_fft=1024 is too large for input signal of length=591\n",
      "  warnings.warn(\n"
     ]
    },
    {
     "name": "stdout",
     "output_type": "stream",
     "text": [
      "12.94% done. Processing file: drummer1/session1/217_rock-halftime_140_fill_4-4.wav\n"
     ]
    },
    {
     "name": "stderr",
     "output_type": "stream",
     "text": [
      "c:\\Users\\kevin\\miniconda3\\envs\\audio_data_science\\lib\\site-packages\\librosa\\core\\spectrum.py:266: UserWarning: n_fft=1024 is too large for input signal of length=591\n",
      "  warnings.warn(\n"
     ]
    },
    {
     "name": "stdout",
     "output_type": "stream",
     "text": [
      "13.03% done. Processing file: drummer1/session1/218_rock-halftime_140_fill_4-4.wav\n"
     ]
    },
    {
     "name": "stderr",
     "output_type": "stream",
     "text": [
      "c:\\Users\\kevin\\miniconda3\\envs\\audio_data_science\\lib\\site-packages\\librosa\\core\\spectrum.py:266: UserWarning: n_fft=1024 is too large for input signal of length=591\n",
      "  warnings.warn(\n"
     ]
    },
    {
     "name": "stdout",
     "output_type": "stream",
     "text": [
      "13.12% done. Processing file: drummer1/session1/219_rock-halftime_140_fill_4-4.wav\n",
      "13.21% done. Processing file: drummer1/session1/22_jazz-funk_116_fill_4-4.wav\n"
     ]
    },
    {
     "name": "stderr",
     "output_type": "stream",
     "text": [
      "c:\\Users\\kevin\\miniconda3\\envs\\audio_data_science\\lib\\site-packages\\librosa\\core\\spectrum.py:266: UserWarning: n_fft=1024 is too large for input signal of length=713\n",
      "  warnings.warn(\n"
     ]
    },
    {
     "name": "stdout",
     "output_type": "stream",
     "text": [
      "13.30% done. Processing file: drummer1/session1/220_rock-halftime_140_fill_4-4.wav\n",
      "13.39% done. Processing file: drummer1/session1/221_rock-halftime_140_fill_4-4.wav\n"
     ]
    },
    {
     "name": "stderr",
     "output_type": "stream",
     "text": [
      "c:\\Users\\kevin\\miniconda3\\envs\\audio_data_science\\lib\\site-packages\\librosa\\core\\spectrum.py:266: UserWarning: n_fft=1024 is too large for input signal of length=591\n",
      "  warnings.warn(\n"
     ]
    },
    {
     "name": "stdout",
     "output_type": "stream",
     "text": [
      "13.49% done. Processing file: drummer1/session1/222_rock-halftime_140_fill_4-4.wav\n"
     ]
    },
    {
     "name": "stderr",
     "output_type": "stream",
     "text": [
      "c:\\Users\\kevin\\miniconda3\\envs\\audio_data_science\\lib\\site-packages\\librosa\\core\\spectrum.py:266: UserWarning: n_fft=1024 is too large for input signal of length=591\n",
      "  warnings.warn(\n"
     ]
    },
    {
     "name": "stdout",
     "output_type": "stream",
     "text": [
      "13.58% done. Processing file: drummer1/session1/223_rock-halftime_140_fill_4-4.wav\n"
     ]
    },
    {
     "name": "stderr",
     "output_type": "stream",
     "text": [
      "c:\\Users\\kevin\\miniconda3\\envs\\audio_data_science\\lib\\site-packages\\librosa\\core\\spectrum.py:266: UserWarning: n_fft=1024 is too large for input signal of length=591\n",
      "  warnings.warn(\n"
     ]
    },
    {
     "name": "stdout",
     "output_type": "stream",
     "text": [
      "13.67% done. Processing file: drummer1/session1/224_rock-halftime_140_fill_4-4.wav\n"
     ]
    },
    {
     "name": "stderr",
     "output_type": "stream",
     "text": [
      "c:\\Users\\kevin\\miniconda3\\envs\\audio_data_science\\lib\\site-packages\\librosa\\core\\spectrum.py:266: UserWarning: n_fft=1024 is too large for input signal of length=591\n",
      "  warnings.warn(\n"
     ]
    },
    {
     "name": "stdout",
     "output_type": "stream",
     "text": [
      "13.76% done. Processing file: drummer1/session1/225_rock-halftime_140_fill_4-4.wav\n"
     ]
    },
    {
     "name": "stderr",
     "output_type": "stream",
     "text": [
      "c:\\Users\\kevin\\miniconda3\\envs\\audio_data_science\\lib\\site-packages\\librosa\\core\\spectrum.py:266: UserWarning: n_fft=1024 is too large for input signal of length=591\n",
      "  warnings.warn(\n"
     ]
    },
    {
     "name": "stdout",
     "output_type": "stream",
     "text": [
      "13.85% done. Processing file: drummer1/session1/226_rock-halftime_140_fill_4-4.wav\n",
      "13.94% done. Processing file: drummer1/session1/227_rock-halftime_140_fill_4-4.wav\n",
      "14.04% done. Processing file: drummer1/session1/228_rock-halftime_140_fill_4-4.wav\n",
      "14.13% done. Processing file: drummer1/session1/229_rock-halftime_140_fill_4-4.wav\n",
      "14.22% done. Processing file: drummer1/session1/23_jazz-funk_116_fill_4-4.wav\n"
     ]
    },
    {
     "name": "stderr",
     "output_type": "stream",
     "text": [
      "c:\\Users\\kevin\\miniconda3\\envs\\audio_data_science\\lib\\site-packages\\librosa\\core\\spectrum.py:266: UserWarning: n_fft=1024 is too large for input signal of length=713\n",
      "  warnings.warn(\n"
     ]
    },
    {
     "name": "stdout",
     "output_type": "stream",
     "text": [
      "14.31% done. Processing file: drummer1/session1/230_rock-halftime_140_fill_4-4.wav\n",
      "14.40% done. Processing file: drummer1/session1/231_rock-halftime_140_fill_4-4.wav\n",
      "14.50% done. Processing file: drummer1/session1/232_rock-halftime_140_fill_4-4.wav\n",
      "14.59% done. Processing file: drummer1/session1/233_rock-halftime_140_fill_4-4.wav\n"
     ]
    },
    {
     "name": "stderr",
     "output_type": "stream",
     "text": [
      "c:\\Users\\kevin\\miniconda3\\envs\\audio_data_science\\lib\\site-packages\\librosa\\core\\spectrum.py:266: UserWarning: n_fft=1024 is too large for input signal of length=591\n",
      "  warnings.warn(\n"
     ]
    },
    {
     "name": "stdout",
     "output_type": "stream",
     "text": [
      "14.68% done. Processing file: drummer1/session1/234_rock-halftime_140_fill_4-4.wav\n"
     ]
    },
    {
     "name": "stderr",
     "output_type": "stream",
     "text": [
      "c:\\Users\\kevin\\miniconda3\\envs\\audio_data_science\\lib\\site-packages\\librosa\\core\\spectrum.py:266: UserWarning: n_fft=1024 is too large for input signal of length=591\n",
      "  warnings.warn(\n"
     ]
    },
    {
     "name": "stdout",
     "output_type": "stream",
     "text": [
      "14.77% done. Processing file: drummer1/session1/235_rock-halftime_140_fill_4-4.wav\n"
     ]
    },
    {
     "name": "stderr",
     "output_type": "stream",
     "text": [
      "c:\\Users\\kevin\\miniconda3\\envs\\audio_data_science\\lib\\site-packages\\librosa\\core\\spectrum.py:266: UserWarning: n_fft=1024 is too large for input signal of length=591\n",
      "  warnings.warn(\n"
     ]
    },
    {
     "name": "stdout",
     "output_type": "stream",
     "text": [
      "14.86% done. Processing file: drummer1/session1/236_rock-halftime_140_fill_4-4.wav\n"
     ]
    },
    {
     "name": "stderr",
     "output_type": "stream",
     "text": [
      "c:\\Users\\kevin\\miniconda3\\envs\\audio_data_science\\lib\\site-packages\\librosa\\core\\spectrum.py:266: UserWarning: n_fft=1024 is too large for input signal of length=591\n",
      "  warnings.warn(\n"
     ]
    },
    {
     "name": "stdout",
     "output_type": "stream",
     "text": [
      "14.95% done. Processing file: drummer1/session1/237_rock-halftime_140_fill_4-4.wav\n"
     ]
    },
    {
     "name": "stderr",
     "output_type": "stream",
     "text": [
      "c:\\Users\\kevin\\miniconda3\\envs\\audio_data_science\\lib\\site-packages\\librosa\\core\\spectrum.py:266: UserWarning: n_fft=1024 is too large for input signal of length=591\n",
      "  warnings.warn(\n"
     ]
    },
    {
     "name": "stdout",
     "output_type": "stream",
     "text": [
      "15.05% done. Processing file: drummer1/session1/238_rock-halftime_140_fill_4-4.wav\n",
      "15.14% done. Processing file: drummer1/session1/239_funk-purdieshuffle_130_beat_4-4.wav\n",
      "15.23% done. Processing file: drummer1/session1/24_jazz-funk_116_fill_4-4.wav\n"
     ]
    },
    {
     "name": "stderr",
     "output_type": "stream",
     "text": [
      "c:\\Users\\kevin\\miniconda3\\envs\\audio_data_science\\lib\\site-packages\\librosa\\core\\spectrum.py:266: UserWarning: n_fft=1024 is too large for input signal of length=713\n",
      "  warnings.warn(\n"
     ]
    },
    {
     "name": "stdout",
     "output_type": "stream",
     "text": [
      "15.32% done. Processing file: drummer1/session1/240_funk-purdieshuffle_130_fill_4-4.wav\n",
      "15.41% done. Processing file: drummer1/session1/241_funk-purdieshuffle_130_fill_4-4.wav\n",
      "15.50% done. Processing file: drummer1/session1/242_funk-purdieshuffle_130_fill_4-4.wav\n",
      "15.60% done. Processing file: drummer1/session1/243_funk-purdieshuffle_130_fill_4-4.wav\n"
     ]
    },
    {
     "name": "stderr",
     "output_type": "stream",
     "text": [
      "c:\\Users\\kevin\\miniconda3\\envs\\audio_data_science\\lib\\site-packages\\librosa\\core\\spectrum.py:266: UserWarning: n_fft=1024 is too large for input signal of length=590\n",
      "  warnings.warn(\n"
     ]
    },
    {
     "name": "stdout",
     "output_type": "stream",
     "text": [
      "15.69% done. Processing file: drummer1/session1/244_funk-purdieshuffle_130_fill_4-4.wav\n"
     ]
    },
    {
     "name": "stderr",
     "output_type": "stream",
     "text": [
      "c:\\Users\\kevin\\miniconda3\\envs\\audio_data_science\\lib\\site-packages\\librosa\\core\\spectrum.py:266: UserWarning: n_fft=1024 is too large for input signal of length=637\n",
      "  warnings.warn(\n"
     ]
    },
    {
     "name": "stdout",
     "output_type": "stream",
     "text": [
      "15.78% done. Processing file: drummer1/session1/245_funk-purdieshuffle_130_fill_4-4.wav\n"
     ]
    },
    {
     "name": "stderr",
     "output_type": "stream",
     "text": [
      "c:\\Users\\kevin\\miniconda3\\envs\\audio_data_science\\lib\\site-packages\\librosa\\core\\spectrum.py:266: UserWarning: n_fft=1024 is too large for input signal of length=609\n",
      "  warnings.warn(\n"
     ]
    },
    {
     "name": "stdout",
     "output_type": "stream",
     "text": [
      "15.87% done. Processing file: drummer1/session1/246_funk-purdieshuffle_130_fill_4-4.wav\n",
      "15.96% done. Processing file: drummer1/session1/247_funk-purdieshuffle_130_fill_4-4.wav\n",
      "16.06% done. Processing file: drummer1/session1/248_funk-purdieshuffle_130_fill_4-4.wav\n"
     ]
    },
    {
     "name": "stderr",
     "output_type": "stream",
     "text": [
      "c:\\Users\\kevin\\miniconda3\\envs\\audio_data_science\\lib\\site-packages\\librosa\\core\\spectrum.py:266: UserWarning: n_fft=1024 is too large for input signal of length=637\n",
      "  warnings.warn(\n"
     ]
    },
    {
     "name": "stdout",
     "output_type": "stream",
     "text": [
      "16.15% done. Processing file: drummer1/session1/249_funk-purdieshuffle_130_fill_4-4.wav\n"
     ]
    },
    {
     "name": "stderr",
     "output_type": "stream",
     "text": [
      "c:\\Users\\kevin\\miniconda3\\envs\\audio_data_science\\lib\\site-packages\\librosa\\core\\spectrum.py:266: UserWarning: n_fft=1024 is too large for input signal of length=637\n",
      "  warnings.warn(\n"
     ]
    },
    {
     "name": "stdout",
     "output_type": "stream",
     "text": [
      "16.24% done. Processing file: drummer1/session1/25_jazz-funk_116_fill_4-4.wav\n"
     ]
    },
    {
     "name": "stderr",
     "output_type": "stream",
     "text": [
      "c:\\Users\\kevin\\miniconda3\\envs\\audio_data_science\\lib\\site-packages\\librosa\\core\\spectrum.py:266: UserWarning: n_fft=1024 is too large for input signal of length=713\n",
      "  warnings.warn(\n"
     ]
    },
    {
     "name": "stdout",
     "output_type": "stream",
     "text": [
      "16.33% done. Processing file: drummer1/session1/250_funk-purdieshuffle_130_fill_4-4.wav\n"
     ]
    },
    {
     "name": "stderr",
     "output_type": "stream",
     "text": [
      "c:\\Users\\kevin\\miniconda3\\envs\\audio_data_science\\lib\\site-packages\\librosa\\core\\spectrum.py:266: UserWarning: n_fft=1024 is too large for input signal of length=637\n",
      "  warnings.warn(\n"
     ]
    },
    {
     "name": "stdout",
     "output_type": "stream",
     "text": [
      "16.42% done. Processing file: drummer1/session1/251_funk-purdieshuffle_130_fill_4-4.wav\n"
     ]
    },
    {
     "name": "stderr",
     "output_type": "stream",
     "text": [
      "c:\\Users\\kevin\\miniconda3\\envs\\audio_data_science\\lib\\site-packages\\librosa\\core\\spectrum.py:266: UserWarning: n_fft=1024 is too large for input signal of length=637\n",
      "  warnings.warn(\n"
     ]
    },
    {
     "name": "stdout",
     "output_type": "stream",
     "text": [
      "16.51% done. Processing file: drummer1/session1/252_funk-purdieshuffle_130_fill_4-4.wav\n"
     ]
    },
    {
     "name": "stderr",
     "output_type": "stream",
     "text": [
      "c:\\Users\\kevin\\miniconda3\\envs\\audio_data_science\\lib\\site-packages\\librosa\\core\\spectrum.py:266: UserWarning: n_fft=1024 is too large for input signal of length=637\n",
      "  warnings.warn(\n"
     ]
    },
    {
     "name": "stdout",
     "output_type": "stream",
     "text": [
      "16.61% done. Processing file: drummer1/session1/253_funk-purdieshuffle_130_fill_4-4.wav\n"
     ]
    },
    {
     "name": "stderr",
     "output_type": "stream",
     "text": [
      "c:\\Users\\kevin\\miniconda3\\envs\\audio_data_science\\lib\\site-packages\\librosa\\core\\spectrum.py:266: UserWarning: n_fft=1024 is too large for input signal of length=637\n",
      "  warnings.warn(\n"
     ]
    },
    {
     "name": "stdout",
     "output_type": "stream",
     "text": [
      "16.70% done. Processing file: drummer1/session1/254_funk-purdieshuffle_130_fill_4-4.wav\n"
     ]
    },
    {
     "name": "stderr",
     "output_type": "stream",
     "text": [
      "c:\\Users\\kevin\\miniconda3\\envs\\audio_data_science\\lib\\site-packages\\librosa\\core\\spectrum.py:266: UserWarning: n_fft=1024 is too large for input signal of length=637\n",
      "  warnings.warn(\n"
     ]
    },
    {
     "name": "stdout",
     "output_type": "stream",
     "text": [
      "16.79% done. Processing file: drummer1/session1/255_funk-purdieshuffle_130_fill_4-4.wav\n"
     ]
    },
    {
     "name": "stderr",
     "output_type": "stream",
     "text": [
      "c:\\Users\\kevin\\miniconda3\\envs\\audio_data_science\\lib\\site-packages\\librosa\\core\\spectrum.py:266: UserWarning: n_fft=1024 is too large for input signal of length=614\n",
      "  warnings.warn(\n"
     ]
    },
    {
     "name": "stdout",
     "output_type": "stream",
     "text": [
      "16.88% done. Processing file: drummer1/session1/256_funk-purdieshuffle_130_fill_4-4.wav\n"
     ]
    },
    {
     "name": "stderr",
     "output_type": "stream",
     "text": [
      "c:\\Users\\kevin\\miniconda3\\envs\\audio_data_science\\lib\\site-packages\\librosa\\core\\spectrum.py:266: UserWarning: n_fft=1024 is too large for input signal of length=621\n",
      "  warnings.warn(\n"
     ]
    },
    {
     "name": "stdout",
     "output_type": "stream",
     "text": [
      "16.97% done. Processing file: drummer1/session1/257_funk-purdieshuffle_130_fill_4-4.wav\n"
     ]
    },
    {
     "name": "stderr",
     "output_type": "stream",
     "text": [
      "c:\\Users\\kevin\\miniconda3\\envs\\audio_data_science\\lib\\site-packages\\librosa\\core\\spectrum.py:266: UserWarning: n_fft=1024 is too large for input signal of length=637\n",
      "  warnings.warn(\n"
     ]
    },
    {
     "name": "stdout",
     "output_type": "stream",
     "text": [
      "17.06% done. Processing file: drummer1/session1/258_funk-purdieshuffle_130_fill_4-4.wav\n"
     ]
    },
    {
     "name": "stderr",
     "output_type": "stream",
     "text": [
      "c:\\Users\\kevin\\miniconda3\\envs\\audio_data_science\\lib\\site-packages\\librosa\\core\\spectrum.py:266: UserWarning: n_fft=1024 is too large for input signal of length=637\n",
      "  warnings.warn(\n"
     ]
    },
    {
     "name": "stdout",
     "output_type": "stream",
     "text": [
      "17.16% done. Processing file: drummer1/session1/259_funk-purdieshuffle_130_fill_4-4.wav\n"
     ]
    },
    {
     "name": "stderr",
     "output_type": "stream",
     "text": [
      "c:\\Users\\kevin\\miniconda3\\envs\\audio_data_science\\lib\\site-packages\\librosa\\core\\spectrum.py:266: UserWarning: n_fft=1024 is too large for input signal of length=637\n",
      "  warnings.warn(\n"
     ]
    },
    {
     "name": "stdout",
     "output_type": "stream",
     "text": [
      "17.25% done. Processing file: drummer1/session1/26_jazz-funk_116_fill_4-4.wav\n"
     ]
    },
    {
     "name": "stderr",
     "output_type": "stream",
     "text": [
      "c:\\Users\\kevin\\miniconda3\\envs\\audio_data_science\\lib\\site-packages\\librosa\\core\\spectrum.py:266: UserWarning: n_fft=1024 is too large for input signal of length=713\n",
      "  warnings.warn(\n"
     ]
    },
    {
     "name": "stdout",
     "output_type": "stream",
     "text": [
      "17.34% done. Processing file: drummer1/session1/260_funk-purdieshuffle_130_fill_4-4.wav\n"
     ]
    },
    {
     "name": "stderr",
     "output_type": "stream",
     "text": [
      "c:\\Users\\kevin\\miniconda3\\envs\\audio_data_science\\lib\\site-packages\\librosa\\core\\spectrum.py:266: UserWarning: n_fft=1024 is too large for input signal of length=637\n",
      "  warnings.warn(\n"
     ]
    },
    {
     "name": "stdout",
     "output_type": "stream",
     "text": [
      "17.43% done. Processing file: drummer1/session1/261_funk-purdieshuffle_130_fill_4-4.wav\n"
     ]
    },
    {
     "name": "stderr",
     "output_type": "stream",
     "text": [
      "c:\\Users\\kevin\\miniconda3\\envs\\audio_data_science\\lib\\site-packages\\librosa\\core\\spectrum.py:266: UserWarning: n_fft=1024 is too large for input signal of length=637\n",
      "  warnings.warn(\n"
     ]
    },
    {
     "name": "stdout",
     "output_type": "stream",
     "text": [
      "17.52% done. Processing file: drummer1/session1/262_funk-purdieshuffle_130_fill_4-4.wav\n"
     ]
    },
    {
     "name": "stderr",
     "output_type": "stream",
     "text": [
      "c:\\Users\\kevin\\miniconda3\\envs\\audio_data_science\\lib\\site-packages\\librosa\\core\\spectrum.py:266: UserWarning: n_fft=1024 is too large for input signal of length=637\n",
      "  warnings.warn(\n"
     ]
    },
    {
     "name": "stdout",
     "output_type": "stream",
     "text": [
      "17.61% done. Processing file: drummer1/session1/263_funk-purdieshuffle_130_fill_4-4.wav\n"
     ]
    },
    {
     "name": "stderr",
     "output_type": "stream",
     "text": [
      "c:\\Users\\kevin\\miniconda3\\envs\\audio_data_science\\lib\\site-packages\\librosa\\core\\spectrum.py:266: UserWarning: n_fft=1024 is too large for input signal of length=637\n",
      "  warnings.warn(\n"
     ]
    },
    {
     "name": "stdout",
     "output_type": "stream",
     "text": [
      "17.71% done. Processing file: drummer1/session1/264_funk-purdieshuffle_130_fill_4-4.wav\n"
     ]
    },
    {
     "name": "stderr",
     "output_type": "stream",
     "text": [
      "c:\\Users\\kevin\\miniconda3\\envs\\audio_data_science\\lib\\site-packages\\librosa\\core\\spectrum.py:266: UserWarning: n_fft=1024 is too large for input signal of length=637\n",
      "  warnings.warn(\n"
     ]
    },
    {
     "name": "stdout",
     "output_type": "stream",
     "text": [
      "17.80% done. Processing file: drummer1/session1/265_funk-purdieshuffle_130_fill_4-4.wav\n"
     ]
    },
    {
     "name": "stderr",
     "output_type": "stream",
     "text": [
      "c:\\Users\\kevin\\miniconda3\\envs\\audio_data_science\\lib\\site-packages\\librosa\\core\\spectrum.py:266: UserWarning: n_fft=1024 is too large for input signal of length=637\n",
      "  warnings.warn(\n"
     ]
    },
    {
     "name": "stdout",
     "output_type": "stream",
     "text": [
      "17.89% done. Processing file: drummer1/session1/266_funk-purdieshuffle_130_fill_4-4.wav\n",
      "17.98% done. Processing file: drummer1/session1/267_funk-purdieshuffle_130_fill_4-4.wav\n"
     ]
    },
    {
     "name": "stderr",
     "output_type": "stream",
     "text": [
      "c:\\Users\\kevin\\miniconda3\\envs\\audio_data_science\\lib\\site-packages\\librosa\\core\\spectrum.py:266: UserWarning: n_fft=1024 is too large for input signal of length=617\n",
      "  warnings.warn(\n"
     ]
    },
    {
     "name": "stdout",
     "output_type": "stream",
     "text": [
      "18.07% done. Processing file: drummer1/session1/268_funk-purdieshuffle_130_fill_4-4.wav\n"
     ]
    },
    {
     "name": "stderr",
     "output_type": "stream",
     "text": [
      "c:\\Users\\kevin\\miniconda3\\envs\\audio_data_science\\lib\\site-packages\\librosa\\core\\spectrum.py:266: UserWarning: n_fft=1024 is too large for input signal of length=620\n",
      "  warnings.warn(\n"
     ]
    },
    {
     "name": "stdout",
     "output_type": "stream",
     "text": [
      "18.17% done. Processing file: drummer1/session1/27_jazz-funk_116_fill_4-4.wav\n"
     ]
    },
    {
     "name": "stderr",
     "output_type": "stream",
     "text": [
      "c:\\Users\\kevin\\miniconda3\\envs\\audio_data_science\\lib\\site-packages\\librosa\\core\\spectrum.py:266: UserWarning: n_fft=1024 is too large for input signal of length=713\n",
      "  warnings.warn(\n"
     ]
    },
    {
     "name": "stdout",
     "output_type": "stream",
     "text": [
      "18.26% done. Processing file: drummer1/session1/28_latin-samba_116_beat_4-4.wav\n",
      "18.35% done. Processing file: drummer1/session1/29_latin-samba_116_fill_4-4.wav\n"
     ]
    },
    {
     "name": "stderr",
     "output_type": "stream",
     "text": [
      "c:\\Users\\kevin\\miniconda3\\envs\\audio_data_science\\lib\\site-packages\\librosa\\core\\spectrum.py:266: UserWarning: n_fft=1024 is too large for input signal of length=713\n",
      "  warnings.warn(\n"
     ]
    },
    {
     "name": "stdout",
     "output_type": "stream",
     "text": [
      "18.44% done. Processing file: drummer1/session1/3_funk_80_beat_4-4.wav\n",
      "18.53% done. Processing file: drummer1/session1/30_latin-samba_116_fill_4-4.wav\n"
     ]
    },
    {
     "name": "stderr",
     "output_type": "stream",
     "text": [
      "c:\\Users\\kevin\\miniconda3\\envs\\audio_data_science\\lib\\site-packages\\librosa\\core\\spectrum.py:266: UserWarning: n_fft=1024 is too large for input signal of length=713\n",
      "  warnings.warn(\n"
     ]
    },
    {
     "name": "stdout",
     "output_type": "stream",
     "text": [
      "18.62% done. Processing file: drummer1/session1/31_latin-samba_116_fill_4-4.wav\n"
     ]
    },
    {
     "name": "stderr",
     "output_type": "stream",
     "text": [
      "c:\\Users\\kevin\\miniconda3\\envs\\audio_data_science\\lib\\site-packages\\librosa\\core\\spectrum.py:266: UserWarning: n_fft=1024 is too large for input signal of length=713\n",
      "  warnings.warn(\n"
     ]
    },
    {
     "name": "stdout",
     "output_type": "stream",
     "text": [
      "18.72% done. Processing file: drummer1/session1/32_latin-samba_116_fill_4-4.wav\n"
     ]
    },
    {
     "name": "stderr",
     "output_type": "stream",
     "text": [
      "c:\\Users\\kevin\\miniconda3\\envs\\audio_data_science\\lib\\site-packages\\librosa\\core\\spectrum.py:266: UserWarning: n_fft=1024 is too large for input signal of length=713\n",
      "  warnings.warn(\n"
     ]
    },
    {
     "name": "stdout",
     "output_type": "stream",
     "text": [
      "18.81% done. Processing file: drummer1/session1/33_latin-samba_116_fill_4-4.wav\n"
     ]
    },
    {
     "name": "stderr",
     "output_type": "stream",
     "text": [
      "c:\\Users\\kevin\\miniconda3\\envs\\audio_data_science\\lib\\site-packages\\librosa\\core\\spectrum.py:266: UserWarning: n_fft=1024 is too large for input signal of length=713\n",
      "  warnings.warn(\n"
     ]
    },
    {
     "name": "stdout",
     "output_type": "stream",
     "text": [
      "18.90% done. Processing file: drummer1/session1/34_latin-samba_116_fill_4-4.wav\n"
     ]
    },
    {
     "name": "stderr",
     "output_type": "stream",
     "text": [
      "c:\\Users\\kevin\\miniconda3\\envs\\audio_data_science\\lib\\site-packages\\librosa\\core\\spectrum.py:266: UserWarning: n_fft=1024 is too large for input signal of length=713\n",
      "  warnings.warn(\n"
     ]
    },
    {
     "name": "stdout",
     "output_type": "stream",
     "text": [
      "18.99% done. Processing file: drummer1/session1/35_latin-samba_116_fill_4-4.wav\n"
     ]
    },
    {
     "name": "stderr",
     "output_type": "stream",
     "text": [
      "c:\\Users\\kevin\\miniconda3\\envs\\audio_data_science\\lib\\site-packages\\librosa\\core\\spectrum.py:266: UserWarning: n_fft=1024 is too large for input signal of length=708\n",
      "  warnings.warn(\n"
     ]
    },
    {
     "name": "stdout",
     "output_type": "stream",
     "text": [
      "19.08% done. Processing file: drummer1/session1/36_latin-samba_116_fill_4-4.wav\n"
     ]
    },
    {
     "name": "stderr",
     "output_type": "stream",
     "text": [
      "c:\\Users\\kevin\\miniconda3\\envs\\audio_data_science\\lib\\site-packages\\librosa\\core\\spectrum.py:266: UserWarning: n_fft=1024 is too large for input signal of length=703\n",
      "  warnings.warn(\n"
     ]
    },
    {
     "name": "stdout",
     "output_type": "stream",
     "text": [
      "19.17% done. Processing file: drummer1/session1/37_latin-samba_116_fill_4-4.wav\n"
     ]
    },
    {
     "name": "stderr",
     "output_type": "stream",
     "text": [
      "c:\\Users\\kevin\\miniconda3\\envs\\audio_data_science\\lib\\site-packages\\librosa\\core\\spectrum.py:266: UserWarning: n_fft=1024 is too large for input signal of length=713\n",
      "  warnings.warn(\n"
     ]
    },
    {
     "name": "stdout",
     "output_type": "stream",
     "text": [
      "19.27% done. Processing file: drummer1/session1/38_latin-samba_116_beat_4-4.wav\n",
      "19.36% done. Processing file: drummer1/session1/39_latin-samba_116_fill_4-4.wav\n"
     ]
    },
    {
     "name": "stderr",
     "output_type": "stream",
     "text": [
      "c:\\Users\\kevin\\miniconda3\\envs\\audio_data_science\\lib\\site-packages\\librosa\\core\\spectrum.py:266: UserWarning: n_fft=1024 is too large for input signal of length=713\n",
      "  warnings.warn(\n"
     ]
    },
    {
     "name": "stdout",
     "output_type": "stream",
     "text": [
      "19.45% done. Processing file: drummer1/session1/4_jazz-funk_116_beat_4-4.wav\n",
      "19.54% done. Processing file: drummer1/session1/40_latin-samba_116_fill_4-4.wav\n"
     ]
    },
    {
     "name": "stderr",
     "output_type": "stream",
     "text": [
      "c:\\Users\\kevin\\miniconda3\\envs\\audio_data_science\\lib\\site-packages\\librosa\\core\\spectrum.py:266: UserWarning: n_fft=1024 is too large for input signal of length=713\n",
      "  warnings.warn(\n"
     ]
    },
    {
     "name": "stdout",
     "output_type": "stream",
     "text": [
      "19.63% done. Processing file: drummer1/session1/41_latin-samba_116_fill_4-4.wav\n"
     ]
    },
    {
     "name": "stderr",
     "output_type": "stream",
     "text": [
      "c:\\Users\\kevin\\miniconda3\\envs\\audio_data_science\\lib\\site-packages\\librosa\\core\\spectrum.py:266: UserWarning: n_fft=1024 is too large for input signal of length=713\n",
      "  warnings.warn(\n"
     ]
    },
    {
     "name": "stdout",
     "output_type": "stream",
     "text": [
      "19.72% done. Processing file: drummer1/session1/42_latin-samba_116_fill_4-4.wav\n"
     ]
    },
    {
     "name": "stderr",
     "output_type": "stream",
     "text": [
      "c:\\Users\\kevin\\miniconda3\\envs\\audio_data_science\\lib\\site-packages\\librosa\\core\\spectrum.py:266: UserWarning: n_fft=1024 is too large for input signal of length=713\n",
      "  warnings.warn(\n"
     ]
    },
    {
     "name": "stdout",
     "output_type": "stream",
     "text": [
      "19.82% done. Processing file: drummer1/session1/43_latin-samba_116_fill_4-4.wav\n"
     ]
    },
    {
     "name": "stderr",
     "output_type": "stream",
     "text": [
      "c:\\Users\\kevin\\miniconda3\\envs\\audio_data_science\\lib\\site-packages\\librosa\\core\\spectrum.py:266: UserWarning: n_fft=1024 is too large for input signal of length=713\n",
      "  warnings.warn(\n"
     ]
    },
    {
     "name": "stdout",
     "output_type": "stream",
     "text": [
      "19.91% done. Processing file: drummer1/session1/44_latin-samba_116_fill_4-4.wav\n"
     ]
    },
    {
     "name": "stderr",
     "output_type": "stream",
     "text": [
      "c:\\Users\\kevin\\miniconda3\\envs\\audio_data_science\\lib\\site-packages\\librosa\\core\\spectrum.py:266: UserWarning: n_fft=1024 is too large for input signal of length=713\n",
      "  warnings.warn(\n"
     ]
    },
    {
     "name": "stdout",
     "output_type": "stream",
     "text": [
      "20.00% done. Processing file: drummer1/session1/45_latin-samba_116_fill_4-4.wav\n"
     ]
    },
    {
     "name": "stderr",
     "output_type": "stream",
     "text": [
      "c:\\Users\\kevin\\miniconda3\\envs\\audio_data_science\\lib\\site-packages\\librosa\\core\\spectrum.py:266: UserWarning: n_fft=1024 is too large for input signal of length=713\n",
      "  warnings.warn(\n"
     ]
    },
    {
     "name": "stdout",
     "output_type": "stream",
     "text": [
      "20.09% done. Processing file: drummer1/session1/46_latin-samba_116_fill_4-4.wav\n"
     ]
    },
    {
     "name": "stderr",
     "output_type": "stream",
     "text": [
      "c:\\Users\\kevin\\miniconda3\\envs\\audio_data_science\\lib\\site-packages\\librosa\\core\\spectrum.py:266: UserWarning: n_fft=1024 is too large for input signal of length=712\n",
      "  warnings.warn(\n"
     ]
    },
    {
     "name": "stdout",
     "output_type": "stream",
     "text": [
      "20.18% done. Processing file: drummer1/session1/47_jazz_102_beat_4-4.wav\n",
      "20.28% done. Processing file: drummer1/session1/48_jazz_93_beat_4-4.wav\n",
      "20.37% done. Processing file: drummer1/session1/49_jazz_125_beat_4-4.wav\n",
      "20.46% done. Processing file: drummer1/session1/5_jazz-funk_116_beat_4-4.wav\n",
      "20.55% done. Processing file: drummer1/session1/50_jazz_125_beat_4-4.wav\n",
      "20.64% done. Processing file: drummer1/session1/51_rock-shuffle_125_beat_4-4.wav\n",
      "20.73% done. Processing file: drummer1/session1/52_jazz_125_beat_4-4.wav\n",
      "20.83% done. Processing file: drummer1/session1/53_jazz_125_fill_4-4.wav\n"
     ]
    },
    {
     "name": "stderr",
     "output_type": "stream",
     "text": [
      "c:\\Users\\kevin\\miniconda3\\envs\\audio_data_science\\lib\\site-packages\\librosa\\core\\spectrum.py:266: UserWarning: n_fft=1024 is too large for input signal of length=662\n",
      "  warnings.warn(\n"
     ]
    },
    {
     "name": "stdout",
     "output_type": "stream",
     "text": [
      "20.92% done. Processing file: drummer1/session1/54_jazz_125_fill_4-4.wav\n"
     ]
    },
    {
     "name": "stderr",
     "output_type": "stream",
     "text": [
      "c:\\Users\\kevin\\miniconda3\\envs\\audio_data_science\\lib\\site-packages\\librosa\\core\\spectrum.py:266: UserWarning: n_fft=1024 is too large for input signal of length=745\n",
      "  warnings.warn(\n"
     ]
    },
    {
     "name": "stdout",
     "output_type": "stream",
     "text": [
      "21.01% done. Processing file: drummer1/session1/55_jazz_125_fill_4-4.wav\n"
     ]
    },
    {
     "name": "stderr",
     "output_type": "stream",
     "text": [
      "c:\\Users\\kevin\\miniconda3\\envs\\audio_data_science\\lib\\site-packages\\librosa\\core\\spectrum.py:266: UserWarning: n_fft=1024 is too large for input signal of length=662\n",
      "  warnings.warn(\n"
     ]
    },
    {
     "name": "stdout",
     "output_type": "stream",
     "text": [
      "21.10% done. Processing file: drummer1/session1/56_jazz_125_fill_4-4.wav\n"
     ]
    },
    {
     "name": "stderr",
     "output_type": "stream",
     "text": [
      "c:\\Users\\kevin\\miniconda3\\envs\\audio_data_science\\lib\\site-packages\\librosa\\core\\spectrum.py:266: UserWarning: n_fft=1024 is too large for input signal of length=662\n",
      "  warnings.warn(\n"
     ]
    },
    {
     "name": "stdout",
     "output_type": "stream",
     "text": [
      "21.19% done. Processing file: drummer1/session1/57_jazz_125_fill_4-4.wav\n"
     ]
    },
    {
     "name": "stderr",
     "output_type": "stream",
     "text": [
      "c:\\Users\\kevin\\miniconda3\\envs\\audio_data_science\\lib\\site-packages\\librosa\\core\\spectrum.py:266: UserWarning: n_fft=1024 is too large for input signal of length=662\n",
      "  warnings.warn(\n"
     ]
    },
    {
     "name": "stdout",
     "output_type": "stream",
     "text": [
      "21.28% done. Processing file: drummer1/session1/58_jazz_125_fill_4-4.wav\n"
     ]
    },
    {
     "name": "stderr",
     "output_type": "stream",
     "text": [
      "c:\\Users\\kevin\\miniconda3\\envs\\audio_data_science\\lib\\site-packages\\librosa\\core\\spectrum.py:266: UserWarning: n_fft=1024 is too large for input signal of length=662\n",
      "  warnings.warn(\n"
     ]
    },
    {
     "name": "stdout",
     "output_type": "stream",
     "text": [
      "21.38% done. Processing file: drummer1/session1/59_jazz_125_fill_4-4.wav\n"
     ]
    },
    {
     "name": "stderr",
     "output_type": "stream",
     "text": [
      "c:\\Users\\kevin\\miniconda3\\envs\\audio_data_science\\lib\\site-packages\\librosa\\core\\spectrum.py:266: UserWarning: n_fft=1024 is too large for input signal of length=662\n",
      "  warnings.warn(\n"
     ]
    },
    {
     "name": "stdout",
     "output_type": "stream",
     "text": [
      "21.47% done. Processing file: drummer1/session1/6_jazz-funk_116_fill_4-4.wav\n",
      "21.56% done. Processing file: drummer1/session1/60_jazz_125_fill_4-4.wav\n"
     ]
    },
    {
     "name": "stderr",
     "output_type": "stream",
     "text": [
      "c:\\Users\\kevin\\miniconda3\\envs\\audio_data_science\\lib\\site-packages\\librosa\\core\\spectrum.py:266: UserWarning: n_fft=1024 is too large for input signal of length=655\n",
      "  warnings.warn(\n"
     ]
    },
    {
     "name": "stdout",
     "output_type": "stream",
     "text": [
      "21.65% done. Processing file: drummer1/session1/61_jazz_125_fill_4-4.wav\n"
     ]
    },
    {
     "name": "stderr",
     "output_type": "stream",
     "text": [
      "c:\\Users\\kevin\\miniconda3\\envs\\audio_data_science\\lib\\site-packages\\librosa\\core\\spectrum.py:266: UserWarning: n_fft=1024 is too large for input signal of length=662\n",
      "  warnings.warn(\n"
     ]
    },
    {
     "name": "stdout",
     "output_type": "stream",
     "text": [
      "21.74% done. Processing file: drummer1/session1/62_jazz_125_fill_4-4.wav\n"
     ]
    },
    {
     "name": "stderr",
     "output_type": "stream",
     "text": [
      "c:\\Users\\kevin\\miniconda3\\envs\\audio_data_science\\lib\\site-packages\\librosa\\core\\spectrum.py:266: UserWarning: n_fft=1024 is too large for input signal of length=662\n",
      "  warnings.warn(\n"
     ]
    },
    {
     "name": "stdout",
     "output_type": "stream",
     "text": [
      "21.83% done. Processing file: drummer1/session1/63_jazz_125_fill_4-4.wav\n"
     ]
    },
    {
     "name": "stderr",
     "output_type": "stream",
     "text": [
      "c:\\Users\\kevin\\miniconda3\\envs\\audio_data_science\\lib\\site-packages\\librosa\\core\\spectrum.py:266: UserWarning: n_fft=1024 is too large for input signal of length=662\n",
      "  warnings.warn(\n"
     ]
    },
    {
     "name": "stdout",
     "output_type": "stream",
     "text": [
      "21.93% done. Processing file: drummer1/session1/64_jazz_125_fill_4-4.wav\n"
     ]
    },
    {
     "name": "stderr",
     "output_type": "stream",
     "text": [
      "c:\\Users\\kevin\\miniconda3\\envs\\audio_data_science\\lib\\site-packages\\librosa\\core\\spectrum.py:266: UserWarning: n_fft=1024 is too large for input signal of length=662\n",
      "  warnings.warn(\n"
     ]
    },
    {
     "name": "stdout",
     "output_type": "stream",
     "text": [
      "22.02% done. Processing file: drummer1/session1/65_jazz_125_fill_4-4.wav\n"
     ]
    },
    {
     "name": "stderr",
     "output_type": "stream",
     "text": [
      "c:\\Users\\kevin\\miniconda3\\envs\\audio_data_science\\lib\\site-packages\\librosa\\core\\spectrum.py:266: UserWarning: n_fft=1024 is too large for input signal of length=827\n",
      "  warnings.warn(\n"
     ]
    },
    {
     "name": "stdout",
     "output_type": "stream",
     "text": [
      "22.11% done. Processing file: drummer1/session1/66_jazz_125_fill_4-4.wav\n"
     ]
    },
    {
     "name": "stderr",
     "output_type": "stream",
     "text": [
      "c:\\Users\\kevin\\miniconda3\\envs\\audio_data_science\\lib\\site-packages\\librosa\\core\\spectrum.py:266: UserWarning: n_fft=1024 is too large for input signal of length=662\n",
      "  warnings.warn(\n"
     ]
    },
    {
     "name": "stdout",
     "output_type": "stream",
     "text": [
      "22.20% done. Processing file: drummer1/session1/67_jazz_125_fill_4-4.wav\n"
     ]
    },
    {
     "name": "stderr",
     "output_type": "stream",
     "text": [
      "c:\\Users\\kevin\\miniconda3\\envs\\audio_data_science\\lib\\site-packages\\librosa\\core\\spectrum.py:266: UserWarning: n_fft=1024 is too large for input signal of length=662\n",
      "  warnings.warn(\n"
     ]
    },
    {
     "name": "stdout",
     "output_type": "stream",
     "text": [
      "22.29% done. Processing file: drummer1/session1/68_jazz_125_fill_4-4.wav\n"
     ]
    },
    {
     "name": "stderr",
     "output_type": "stream",
     "text": [
      "c:\\Users\\kevin\\miniconda3\\envs\\audio_data_science\\lib\\site-packages\\librosa\\core\\spectrum.py:266: UserWarning: n_fft=1024 is too large for input signal of length=648\n",
      "  warnings.warn(\n"
     ]
    },
    {
     "name": "stdout",
     "output_type": "stream",
     "text": [
      "22.39% done. Processing file: drummer1/session1/69_jazz_125_fill_4-4.wav\n"
     ]
    },
    {
     "name": "stderr",
     "output_type": "stream",
     "text": [
      "c:\\Users\\kevin\\miniconda3\\envs\\audio_data_science\\lib\\site-packages\\librosa\\core\\spectrum.py:266: UserWarning: n_fft=1024 is too large for input signal of length=662\n",
      "  warnings.warn(\n"
     ]
    },
    {
     "name": "stdout",
     "output_type": "stream",
     "text": [
      "22.48% done. Processing file: drummer1/session1/7_jazz-funk_116_fill_4-4.wav\n"
     ]
    },
    {
     "name": "stderr",
     "output_type": "stream",
     "text": [
      "c:\\Users\\kevin\\miniconda3\\envs\\audio_data_science\\lib\\site-packages\\librosa\\core\\spectrum.py:266: UserWarning: n_fft=1024 is too large for input signal of length=713\n",
      "  warnings.warn(\n"
     ]
    },
    {
     "name": "stdout",
     "output_type": "stream",
     "text": [
      "22.57% done. Processing file: drummer1/session1/70_jazz_125_fill_4-4.wav\n"
     ]
    },
    {
     "name": "stderr",
     "output_type": "stream",
     "text": [
      "c:\\Users\\kevin\\miniconda3\\envs\\audio_data_science\\lib\\site-packages\\librosa\\core\\spectrum.py:266: UserWarning: n_fft=1024 is too large for input signal of length=662\n",
      "  warnings.warn(\n"
     ]
    },
    {
     "name": "stdout",
     "output_type": "stream",
     "text": [
      "22.66% done. Processing file: drummer1/session1/71_jazz_125_fill_4-4.wav\n"
     ]
    },
    {
     "name": "stderr",
     "output_type": "stream",
     "text": [
      "c:\\Users\\kevin\\miniconda3\\envs\\audio_data_science\\lib\\site-packages\\librosa\\core\\spectrum.py:266: UserWarning: n_fft=1024 is too large for input signal of length=662\n",
      "  warnings.warn(\n"
     ]
    },
    {
     "name": "stdout",
     "output_type": "stream",
     "text": [
      "22.75% done. Processing file: drummer1/session1/72_jazz_125_fill_4-4.wav\n"
     ]
    },
    {
     "name": "stderr",
     "output_type": "stream",
     "text": [
      "c:\\Users\\kevin\\miniconda3\\envs\\audio_data_science\\lib\\site-packages\\librosa\\core\\spectrum.py:266: UserWarning: n_fft=1024 is too large for input signal of length=662\n",
      "  warnings.warn(\n"
     ]
    },
    {
     "name": "stdout",
     "output_type": "stream",
     "text": [
      "22.84% done. Processing file: drummer1/session1/73_jazz_125_fill_4-4.wav\n"
     ]
    },
    {
     "name": "stderr",
     "output_type": "stream",
     "text": [
      "c:\\Users\\kevin\\miniconda3\\envs\\audio_data_science\\lib\\site-packages\\librosa\\core\\spectrum.py:266: UserWarning: n_fft=1024 is too large for input signal of length=662\n",
      "  warnings.warn(\n"
     ]
    },
    {
     "name": "stdout",
     "output_type": "stream",
     "text": [
      "22.94% done. Processing file: drummer1/session1/74_jazz_125_fill_4-4.wav\n"
     ]
    },
    {
     "name": "stderr",
     "output_type": "stream",
     "text": [
      "c:\\Users\\kevin\\miniconda3\\envs\\audio_data_science\\lib\\site-packages\\librosa\\core\\spectrum.py:266: UserWarning: n_fft=1024 is too large for input signal of length=662\n",
      "  warnings.warn(\n"
     ]
    },
    {
     "name": "stdout",
     "output_type": "stream",
     "text": [
      "23.03% done. Processing file: drummer1/session1/75_jazz_125_beat_4-4.wav\n",
      "23.12% done. Processing file: drummer1/session1/76_jazz-mediumfast_180_beat_4-4.wav\n",
      "23.21% done. Processing file: drummer1/session1/77_jazz-mediumfast_180_beat_4-4.wav\n",
      "23.30% done. Processing file: drummer1/session1/78_jazz-fast_290_beat_4-4.wav\n",
      "23.39% done. Processing file: drummer1/session1/79_latin-reggaeton_90_beat_4-4.wav\n",
      "23.49% done. Processing file: drummer1/session1/8_jazz-funk_116_fill_4-4.wav\n"
     ]
    },
    {
     "name": "stderr",
     "output_type": "stream",
     "text": [
      "c:\\Users\\kevin\\miniconda3\\envs\\audio_data_science\\lib\\site-packages\\librosa\\core\\spectrum.py:266: UserWarning: n_fft=1024 is too large for input signal of length=713\n",
      "  warnings.warn(\n"
     ]
    },
    {
     "name": "stdout",
     "output_type": "stream",
     "text": [
      "23.58% done. Processing file: drummer1/session1/80_dance-breakbeat_170_beat_4-4.wav\n",
      "23.67% done. Processing file: drummer1/session1/81_dance-breakbeat_170_beat_4-4.wav\n",
      "23.76% done. Processing file: drummer1/session1/82_neworleans-funk_84_beat_4-4.wav\n",
      "23.85% done. Processing file: drummer1/session1/83_neworleans-funk_84_fill_4-4.wav\n"
     ]
    },
    {
     "name": "stderr",
     "output_type": "stream",
     "text": [
      "c:\\Users\\kevin\\miniconda3\\envs\\audio_data_science\\lib\\site-packages\\librosa\\core\\spectrum.py:266: UserWarning: n_fft=1024 is too large for input signal of length=980\n",
      "  warnings.warn(\n"
     ]
    },
    {
     "name": "stdout",
     "output_type": "stream",
     "text": [
      "23.94% done. Processing file: drummer1/session1/84_neworleans-funk_84_fill_4-4.wav\n"
     ]
    },
    {
     "name": "stderr",
     "output_type": "stream",
     "text": [
      "c:\\Users\\kevin\\miniconda3\\envs\\audio_data_science\\lib\\site-packages\\librosa\\core\\spectrum.py:266: UserWarning: n_fft=1024 is too large for input signal of length=985\n",
      "  warnings.warn(\n"
     ]
    },
    {
     "name": "stdout",
     "output_type": "stream",
     "text": [
      "24.04% done. Processing file: drummer1/session1/85_neworleans-funk_84_fill_4-4.wav\n"
     ]
    },
    {
     "name": "stderr",
     "output_type": "stream",
     "text": [
      "c:\\Users\\kevin\\miniconda3\\envs\\audio_data_science\\lib\\site-packages\\librosa\\core\\spectrum.py:266: UserWarning: n_fft=1024 is too large for input signal of length=985\n",
      "  warnings.warn(\n"
     ]
    },
    {
     "name": "stdout",
     "output_type": "stream",
     "text": [
      "24.13% done. Processing file: drummer1/session1/86_neworleans-funk_84_fill_4-4.wav\n"
     ]
    },
    {
     "name": "stderr",
     "output_type": "stream",
     "text": [
      "c:\\Users\\kevin\\miniconda3\\envs\\audio_data_science\\lib\\site-packages\\librosa\\core\\spectrum.py:266: UserWarning: n_fft=1024 is too large for input signal of length=985\n",
      "  warnings.warn(\n"
     ]
    },
    {
     "name": "stdout",
     "output_type": "stream",
     "text": [
      "24.22% done. Processing file: drummer1/session1/87_neworleans-funk_84_fill_4-4.wav\n"
     ]
    },
    {
     "name": "stderr",
     "output_type": "stream",
     "text": [
      "c:\\Users\\kevin\\miniconda3\\envs\\audio_data_science\\lib\\site-packages\\librosa\\core\\spectrum.py:266: UserWarning: n_fft=1024 is too large for input signal of length=985\n",
      "  warnings.warn(\n"
     ]
    },
    {
     "name": "stdout",
     "output_type": "stream",
     "text": [
      "24.31% done. Processing file: drummer1/session1/88_neworleans-funk_84_fill_4-4.wav\n",
      "24.40% done. Processing file: drummer1/session1/89_neworleans-funk_84_fill_4-4.wav\n",
      "24.50% done. Processing file: drummer1/session1/9_jazz-funk_116_fill_4-4.wav\n"
     ]
    },
    {
     "name": "stderr",
     "output_type": "stream",
     "text": [
      "c:\\Users\\kevin\\miniconda3\\envs\\audio_data_science\\lib\\site-packages\\librosa\\core\\spectrum.py:266: UserWarning: n_fft=1024 is too large for input signal of length=713\n",
      "  warnings.warn(\n"
     ]
    },
    {
     "name": "stdout",
     "output_type": "stream",
     "text": [
      "24.59% done. Processing file: drummer1/session1/90_neworleans-funk_84_fill_4-4.wav\n"
     ]
    },
    {
     "name": "stderr",
     "output_type": "stream",
     "text": [
      "c:\\Users\\kevin\\miniconda3\\envs\\audio_data_science\\lib\\site-packages\\librosa\\core\\spectrum.py:266: UserWarning: n_fft=1024 is too large for input signal of length=985\n",
      "  warnings.warn(\n"
     ]
    },
    {
     "name": "stdout",
     "output_type": "stream",
     "text": [
      "24.68% done. Processing file: drummer1/session1/91_neworleans-funk_84_fill_4-4.wav\n"
     ]
    },
    {
     "name": "stderr",
     "output_type": "stream",
     "text": [
      "c:\\Users\\kevin\\miniconda3\\envs\\audio_data_science\\lib\\site-packages\\librosa\\core\\spectrum.py:266: UserWarning: n_fft=1024 is too large for input signal of length=985\n",
      "  warnings.warn(\n"
     ]
    },
    {
     "name": "stdout",
     "output_type": "stream",
     "text": [
      "24.77% done. Processing file: drummer1/session1/92_neworleans-funk_84_fill_4-4.wav\n"
     ]
    },
    {
     "name": "stderr",
     "output_type": "stream",
     "text": [
      "c:\\Users\\kevin\\miniconda3\\envs\\audio_data_science\\lib\\site-packages\\librosa\\core\\spectrum.py:266: UserWarning: n_fft=1024 is too large for input signal of length=985\n",
      "  warnings.warn(\n"
     ]
    },
    {
     "name": "stdout",
     "output_type": "stream",
     "text": [
      "24.86% done. Processing file: drummer1/session1/93_neworleans-funk_84_fill_4-4.wav\n"
     ]
    },
    {
     "name": "stderr",
     "output_type": "stream",
     "text": [
      "c:\\Users\\kevin\\miniconda3\\envs\\audio_data_science\\lib\\site-packages\\librosa\\core\\spectrum.py:266: UserWarning: n_fft=1024 is too large for input signal of length=985\n",
      "  warnings.warn(\n"
     ]
    },
    {
     "name": "stdout",
     "output_type": "stream",
     "text": [
      "24.95% done. Processing file: drummer1/session1/94_neworleans-funk_84_fill_4-4.wav\n"
     ]
    },
    {
     "name": "stderr",
     "output_type": "stream",
     "text": [
      "c:\\Users\\kevin\\miniconda3\\envs\\audio_data_science\\lib\\site-packages\\librosa\\core\\spectrum.py:266: UserWarning: n_fft=1024 is too large for input signal of length=985\n",
      "  warnings.warn(\n"
     ]
    },
    {
     "name": "stdout",
     "output_type": "stream",
     "text": [
      "25.05% done. Processing file: drummer1/session1/95_neworleans-funk_84_fill_4-4.wav\n"
     ]
    },
    {
     "name": "stderr",
     "output_type": "stream",
     "text": [
      "c:\\Users\\kevin\\miniconda3\\envs\\audio_data_science\\lib\\site-packages\\librosa\\core\\spectrum.py:266: UserWarning: n_fft=1024 is too large for input signal of length=985\n",
      "  warnings.warn(\n"
     ]
    },
    {
     "name": "stdout",
     "output_type": "stream",
     "text": [
      "25.14% done. Processing file: drummer1/session1/96_neworleans-funk_84_fill_4-4.wav\n"
     ]
    },
    {
     "name": "stderr",
     "output_type": "stream",
     "text": [
      "c:\\Users\\kevin\\miniconda3\\envs\\audio_data_science\\lib\\site-packages\\librosa\\core\\spectrum.py:266: UserWarning: n_fft=1024 is too large for input signal of length=985\n",
      "  warnings.warn(\n"
     ]
    },
    {
     "name": "stdout",
     "output_type": "stream",
     "text": [
      "25.23% done. Processing file: drummer1/session1/97_neworleans-funk_84_fill_4-4.wav\n"
     ]
    },
    {
     "name": "stderr",
     "output_type": "stream",
     "text": [
      "c:\\Users\\kevin\\miniconda3\\envs\\audio_data_science\\lib\\site-packages\\librosa\\core\\spectrum.py:266: UserWarning: n_fft=1024 is too large for input signal of length=985\n",
      "  warnings.warn(\n"
     ]
    },
    {
     "name": "stdout",
     "output_type": "stream",
     "text": [
      "25.32% done. Processing file: drummer1/session1/98_neworleans-funk_84_fill_4-4.wav\n"
     ]
    },
    {
     "name": "stderr",
     "output_type": "stream",
     "text": [
      "c:\\Users\\kevin\\miniconda3\\envs\\audio_data_science\\lib\\site-packages\\librosa\\core\\spectrum.py:266: UserWarning: n_fft=1024 is too large for input signal of length=985\n",
      "  warnings.warn(\n"
     ]
    },
    {
     "name": "stdout",
     "output_type": "stream",
     "text": [
      "25.41% done. Processing file: drummer1/session1/99_neworleans-funk_84_fill_4-4.wav\n"
     ]
    },
    {
     "name": "stderr",
     "output_type": "stream",
     "text": [
      "c:\\Users\\kevin\\miniconda3\\envs\\audio_data_science\\lib\\site-packages\\librosa\\core\\spectrum.py:266: UserWarning: n_fft=1024 is too large for input signal of length=985\n",
      "  warnings.warn(\n"
     ]
    },
    {
     "name": "stdout",
     "output_type": "stream",
     "text": [
      "25.50% done. Processing file: drummer1/session2/1_latin-chacarera_157_beat_3-4.wav\n",
      "25.60% done. Processing file: drummer1/session2/10_country_114_beat_4-4.wav\n",
      "25.69% done. Processing file: drummer1/session2/100_funk-rock_92_fill_4-4.wav\n"
     ]
    },
    {
     "name": "stderr",
     "output_type": "stream",
     "text": [
      "c:\\Users\\kevin\\miniconda3\\envs\\audio_data_science\\lib\\site-packages\\librosa\\core\\spectrum.py:266: UserWarning: n_fft=1024 is too large for input signal of length=899\n",
      "  warnings.warn(\n"
     ]
    },
    {
     "name": "stdout",
     "output_type": "stream",
     "text": [
      "25.78% done. Processing file: drummer1/session2/101_funk-rock_92_fill_4-4.wav\n"
     ]
    },
    {
     "name": "stderr",
     "output_type": "stream",
     "text": [
      "c:\\Users\\kevin\\miniconda3\\envs\\audio_data_science\\lib\\site-packages\\librosa\\core\\spectrum.py:266: UserWarning: n_fft=1024 is too large for input signal of length=899\n",
      "  warnings.warn(\n"
     ]
    },
    {
     "name": "stdout",
     "output_type": "stream",
     "text": [
      "25.87% done. Processing file: drummer1/session2/102_funk-rock_92_fill_4-4.wav\n"
     ]
    },
    {
     "name": "stderr",
     "output_type": "stream",
     "text": [
      "c:\\Users\\kevin\\miniconda3\\envs\\audio_data_science\\lib\\site-packages\\librosa\\core\\spectrum.py:266: UserWarning: n_fft=1024 is too large for input signal of length=899\n",
      "  warnings.warn(\n"
     ]
    },
    {
     "name": "stdout",
     "output_type": "stream",
     "text": [
      "25.96% done. Processing file: drummer1/session2/103_funk-rock_92_fill_4-4.wav\n"
     ]
    },
    {
     "name": "stderr",
     "output_type": "stream",
     "text": [
      "c:\\Users\\kevin\\miniconda3\\envs\\audio_data_science\\lib\\site-packages\\librosa\\core\\spectrum.py:266: UserWarning: n_fft=1024 is too large for input signal of length=899\n",
      "  warnings.warn(\n"
     ]
    },
    {
     "name": "stdout",
     "output_type": "stream",
     "text": [
      "26.06% done. Processing file: drummer1/session2/104_funk-rock_92_fill_4-4.wav\n"
     ]
    },
    {
     "name": "stderr",
     "output_type": "stream",
     "text": [
      "c:\\Users\\kevin\\miniconda3\\envs\\audio_data_science\\lib\\site-packages\\librosa\\core\\spectrum.py:266: UserWarning: n_fft=1024 is too large for input signal of length=899\n",
      "  warnings.warn(\n"
     ]
    },
    {
     "name": "stdout",
     "output_type": "stream",
     "text": [
      "26.15% done. Processing file: drummer1/session2/105_funk-rock_92_fill_4-4.wav\n"
     ]
    },
    {
     "name": "stderr",
     "output_type": "stream",
     "text": [
      "c:\\Users\\kevin\\miniconda3\\envs\\audio_data_science\\lib\\site-packages\\librosa\\core\\spectrum.py:266: UserWarning: n_fft=1024 is too large for input signal of length=899\n",
      "  warnings.warn(\n"
     ]
    },
    {
     "name": "stdout",
     "output_type": "stream",
     "text": [
      "26.24% done. Processing file: drummer1/session2/106_funk-rock_92_fill_4-4.wav\n"
     ]
    },
    {
     "name": "stderr",
     "output_type": "stream",
     "text": [
      "c:\\Users\\kevin\\miniconda3\\envs\\audio_data_science\\lib\\site-packages\\librosa\\core\\spectrum.py:266: UserWarning: n_fft=1024 is too large for input signal of length=899\n",
      "  warnings.warn(\n"
     ]
    },
    {
     "name": "stdout",
     "output_type": "stream",
     "text": [
      "26.33% done. Processing file: drummer1/session2/107_funk-rock_92_fill_4-4.wav\n"
     ]
    },
    {
     "name": "stderr",
     "output_type": "stream",
     "text": [
      "c:\\Users\\kevin\\miniconda3\\envs\\audio_data_science\\lib\\site-packages\\librosa\\core\\spectrum.py:266: UserWarning: n_fft=1024 is too large for input signal of length=899\n",
      "  warnings.warn(\n"
     ]
    },
    {
     "name": "stdout",
     "output_type": "stream",
     "text": [
      "26.42% done. Processing file: drummer1/session2/108_funk-rock_92_fill_4-4.wav\n"
     ]
    },
    {
     "name": "stderr",
     "output_type": "stream",
     "text": [
      "c:\\Users\\kevin\\miniconda3\\envs\\audio_data_science\\lib\\site-packages\\librosa\\core\\spectrum.py:266: UserWarning: n_fft=1024 is too large for input signal of length=899\n",
      "  warnings.warn(\n"
     ]
    },
    {
     "name": "stdout",
     "output_type": "stream",
     "text": [
      "26.51% done. Processing file: drummer1/session2/109_funk-rock_92_fill_4-4.wav\n"
     ]
    },
    {
     "name": "stderr",
     "output_type": "stream",
     "text": [
      "c:\\Users\\kevin\\miniconda3\\envs\\audio_data_science\\lib\\site-packages\\librosa\\core\\spectrum.py:266: UserWarning: n_fft=1024 is too large for input signal of length=899\n",
      "  warnings.warn(\n"
     ]
    },
    {
     "name": "stdout",
     "output_type": "stream",
     "text": [
      "26.61% done. Processing file: drummer1/session2/11_country_114_fill_4-4.wav\n"
     ]
    },
    {
     "name": "stderr",
     "output_type": "stream",
     "text": [
      "c:\\Users\\kevin\\miniconda3\\envs\\audio_data_science\\lib\\site-packages\\librosa\\core\\spectrum.py:266: UserWarning: n_fft=1024 is too large for input signal of length=723\n",
      "  warnings.warn(\n"
     ]
    },
    {
     "name": "stdout",
     "output_type": "stream",
     "text": [
      "26.70% done. Processing file: drummer1/session2/110_rock-prog_190_beat_4-4.wav\n",
      "26.79% done. Processing file: drummer1/session2/111_rock-prog_110_beat_5-4.wav\n",
      "26.88% done. Processing file: drummer1/session2/112_afrocuban-bembe_122_beat_4-4.wav\n",
      "26.97% done. Processing file: drummer1/session2/113_afrocuban-bembe_122_fill_4-4.wav\n"
     ]
    },
    {
     "name": "stderr",
     "output_type": "stream",
     "text": [
      "c:\\Users\\kevin\\miniconda3\\envs\\audio_data_science\\lib\\site-packages\\librosa\\core\\spectrum.py:266: UserWarning: n_fft=1024 is too large for input signal of length=661\n",
      "  warnings.warn(\n"
     ]
    },
    {
     "name": "stdout",
     "output_type": "stream",
     "text": [
      "27.06% done. Processing file: drummer1/session2/114_afrocuban-bembe_122_fill_4-4.wav\n"
     ]
    },
    {
     "name": "stderr",
     "output_type": "stream",
     "text": [
      "c:\\Users\\kevin\\miniconda3\\envs\\audio_data_science\\lib\\site-packages\\librosa\\core\\spectrum.py:266: UserWarning: n_fft=1024 is too large for input signal of length=678\n",
      "  warnings.warn(\n"
     ]
    },
    {
     "name": "stdout",
     "output_type": "stream",
     "text": [
      "27.16% done. Processing file: drummer1/session2/115_afrocuban-bembe_122_fill_4-4.wav\n"
     ]
    },
    {
     "name": "stderr",
     "output_type": "stream",
     "text": [
      "c:\\Users\\kevin\\miniconda3\\envs\\audio_data_science\\lib\\site-packages\\librosa\\core\\spectrum.py:266: UserWarning: n_fft=1024 is too large for input signal of length=657\n",
      "  warnings.warn(\n"
     ]
    },
    {
     "name": "stdout",
     "output_type": "stream",
     "text": [
      "27.25% done. Processing file: drummer1/session2/116_afrocuban-bembe_122_fill_4-4.wav\n"
     ]
    },
    {
     "name": "stderr",
     "output_type": "stream",
     "text": [
      "c:\\Users\\kevin\\miniconda3\\envs\\audio_data_science\\lib\\site-packages\\librosa\\core\\spectrum.py:266: UserWarning: n_fft=1024 is too large for input signal of length=678\n",
      "  warnings.warn(\n"
     ]
    },
    {
     "name": "stdout",
     "output_type": "stream",
     "text": [
      "27.34% done. Processing file: drummer1/session2/117_afrocuban-bembe_122_fill_4-4.wav\n"
     ]
    },
    {
     "name": "stderr",
     "output_type": "stream",
     "text": [
      "c:\\Users\\kevin\\miniconda3\\envs\\audio_data_science\\lib\\site-packages\\librosa\\core\\spectrum.py:266: UserWarning: n_fft=1024 is too large for input signal of length=678\n",
      "  warnings.warn(\n"
     ]
    },
    {
     "name": "stdout",
     "output_type": "stream",
     "text": [
      "27.43% done. Processing file: drummer1/session2/118_afrocuban-bembe_122_fill_4-4.wav\n"
     ]
    },
    {
     "name": "stderr",
     "output_type": "stream",
     "text": [
      "c:\\Users\\kevin\\miniconda3\\envs\\audio_data_science\\lib\\site-packages\\librosa\\core\\spectrum.py:266: UserWarning: n_fft=1024 is too large for input signal of length=678\n",
      "  warnings.warn(\n"
     ]
    },
    {
     "name": "stdout",
     "output_type": "stream",
     "text": [
      "27.52% done. Processing file: drummer1/session2/119_afrocuban-bembe_122_fill_4-4.wav\n"
     ]
    },
    {
     "name": "stderr",
     "output_type": "stream",
     "text": [
      "c:\\Users\\kevin\\miniconda3\\envs\\audio_data_science\\lib\\site-packages\\librosa\\core\\spectrum.py:266: UserWarning: n_fft=1024 is too large for input signal of length=678\n",
      "  warnings.warn(\n"
     ]
    },
    {
     "name": "stdout",
     "output_type": "stream",
     "text": [
      "27.61% done. Processing file: drummer1/session2/12_country_114_fill_4-4.wav\n"
     ]
    },
    {
     "name": "stderr",
     "output_type": "stream",
     "text": [
      "c:\\Users\\kevin\\miniconda3\\envs\\audio_data_science\\lib\\site-packages\\librosa\\core\\spectrum.py:266: UserWarning: n_fft=1024 is too large for input signal of length=726\n",
      "  warnings.warn(\n"
     ]
    },
    {
     "name": "stdout",
     "output_type": "stream",
     "text": [
      "27.71% done. Processing file: drummer1/session2/120_afrocuban-bembe_122_fill_4-4.wav\n"
     ]
    },
    {
     "name": "stderr",
     "output_type": "stream",
     "text": [
      "c:\\Users\\kevin\\miniconda3\\envs\\audio_data_science\\lib\\site-packages\\librosa\\core\\spectrum.py:266: UserWarning: n_fft=1024 is too large for input signal of length=678\n",
      "  warnings.warn(\n"
     ]
    },
    {
     "name": "stdout",
     "output_type": "stream",
     "text": [
      "27.80% done. Processing file: drummer1/session2/121_afrocuban-bembe_122_fill_4-4.wav\n"
     ]
    },
    {
     "name": "stderr",
     "output_type": "stream",
     "text": [
      "c:\\Users\\kevin\\miniconda3\\envs\\audio_data_science\\lib\\site-packages\\librosa\\core\\spectrum.py:266: UserWarning: n_fft=1024 is too large for input signal of length=668\n",
      "  warnings.warn(\n"
     ]
    },
    {
     "name": "stdout",
     "output_type": "stream",
     "text": [
      "27.89% done. Processing file: drummer1/session2/122_afrocuban-bembe_122_fill_4-4.wav\n"
     ]
    },
    {
     "name": "stderr",
     "output_type": "stream",
     "text": [
      "c:\\Users\\kevin\\miniconda3\\envs\\audio_data_science\\lib\\site-packages\\librosa\\core\\spectrum.py:266: UserWarning: n_fft=1024 is too large for input signal of length=678\n",
      "  warnings.warn(\n"
     ]
    },
    {
     "name": "stdout",
     "output_type": "stream",
     "text": [
      "27.98% done. Processing file: drummer1/session2/123_afrocuban-bembe_122_fill_4-4.wav\n"
     ]
    },
    {
     "name": "stderr",
     "output_type": "stream",
     "text": [
      "c:\\Users\\kevin\\miniconda3\\envs\\audio_data_science\\lib\\site-packages\\librosa\\core\\spectrum.py:266: UserWarning: n_fft=1024 is too large for input signal of length=678\n",
      "  warnings.warn(\n"
     ]
    },
    {
     "name": "stdout",
     "output_type": "stream",
     "text": [
      "28.07% done. Processing file: drummer1/session2/124_afrocuban-bembe_122_fill_4-4.wav\n"
     ]
    },
    {
     "name": "stderr",
     "output_type": "stream",
     "text": [
      "c:\\Users\\kevin\\miniconda3\\envs\\audio_data_science\\lib\\site-packages\\librosa\\core\\spectrum.py:266: UserWarning: n_fft=1024 is too large for input signal of length=678\n",
      "  warnings.warn(\n"
     ]
    },
    {
     "name": "stdout",
     "output_type": "stream",
     "text": [
      "28.17% done. Processing file: drummer1/session2/125_afrocuban-bembe_122_fill_4-4.wav\n"
     ]
    },
    {
     "name": "stderr",
     "output_type": "stream",
     "text": [
      "c:\\Users\\kevin\\miniconda3\\envs\\audio_data_science\\lib\\site-packages\\librosa\\core\\spectrum.py:266: UserWarning: n_fft=1024 is too large for input signal of length=678\n",
      "  warnings.warn(\n"
     ]
    },
    {
     "name": "stdout",
     "output_type": "stream",
     "text": [
      "28.26% done. Processing file: drummer1/session2/126_afrocuban-bembe_122_fill_4-4.wav\n"
     ]
    },
    {
     "name": "stderr",
     "output_type": "stream",
     "text": [
      "c:\\Users\\kevin\\miniconda3\\envs\\audio_data_science\\lib\\site-packages\\librosa\\core\\spectrum.py:266: UserWarning: n_fft=1024 is too large for input signal of length=678\n",
      "  warnings.warn(\n"
     ]
    },
    {
     "name": "stdout",
     "output_type": "stream",
     "text": [
      "28.35% done. Processing file: drummer1/session2/127_afrocuban-bembe_122_fill_4-4.wav\n"
     ]
    },
    {
     "name": "stderr",
     "output_type": "stream",
     "text": [
      "c:\\Users\\kevin\\miniconda3\\envs\\audio_data_science\\lib\\site-packages\\librosa\\core\\spectrum.py:266: UserWarning: n_fft=1024 is too large for input signal of length=678\n",
      "  warnings.warn(\n"
     ]
    },
    {
     "name": "stdout",
     "output_type": "stream",
     "text": [
      "28.44% done. Processing file: drummer1/session2/128_afrocuban-bembe_122_fill_4-4.wav\n"
     ]
    },
    {
     "name": "stderr",
     "output_type": "stream",
     "text": [
      "c:\\Users\\kevin\\miniconda3\\envs\\audio_data_science\\lib\\site-packages\\librosa\\core\\spectrum.py:266: UserWarning: n_fft=1024 is too large for input signal of length=678\n",
      "  warnings.warn(\n"
     ]
    },
    {
     "name": "stdout",
     "output_type": "stream",
     "text": [
      "28.53% done. Processing file: drummer1/session2/129_afrocuban-bembe_122_fill_4-4.wav\n"
     ]
    },
    {
     "name": "stderr",
     "output_type": "stream",
     "text": [
      "c:\\Users\\kevin\\miniconda3\\envs\\audio_data_science\\lib\\site-packages\\librosa\\core\\spectrum.py:266: UserWarning: n_fft=1024 is too large for input signal of length=678\n",
      "  warnings.warn(\n"
     ]
    },
    {
     "name": "stdout",
     "output_type": "stream",
     "text": [
      "28.62% done. Processing file: drummer1/session2/13_country_114_fill_4-4.wav\n"
     ]
    },
    {
     "name": "stderr",
     "output_type": "stream",
     "text": [
      "c:\\Users\\kevin\\miniconda3\\envs\\audio_data_science\\lib\\site-packages\\librosa\\core\\spectrum.py:266: UserWarning: n_fft=1024 is too large for input signal of length=726\n",
      "  warnings.warn(\n"
     ]
    },
    {
     "name": "stdout",
     "output_type": "stream",
     "text": [
      "28.72% done. Processing file: drummer1/session2/130_afrocuban-bembe_122_fill_4-4.wav\n"
     ]
    },
    {
     "name": "stderr",
     "output_type": "stream",
     "text": [
      "c:\\Users\\kevin\\miniconda3\\envs\\audio_data_science\\lib\\site-packages\\librosa\\core\\spectrum.py:266: UserWarning: n_fft=1024 is too large for input signal of length=678\n",
      "  warnings.warn(\n"
     ]
    },
    {
     "name": "stdout",
     "output_type": "stream",
     "text": [
      "28.81% done. Processing file: drummer1/session2/131_afrocuban-bembe_122_fill_4-4.wav\n"
     ]
    },
    {
     "name": "stderr",
     "output_type": "stream",
     "text": [
      "c:\\Users\\kevin\\miniconda3\\envs\\audio_data_science\\lib\\site-packages\\librosa\\core\\spectrum.py:266: UserWarning: n_fft=1024 is too large for input signal of length=678\n",
      "  warnings.warn(\n"
     ]
    },
    {
     "name": "stdout",
     "output_type": "stream",
     "text": [
      "28.90% done. Processing file: drummer1/session2/132_afrocuban-bembe_122_fill_4-4.wav\n"
     ]
    },
    {
     "name": "stderr",
     "output_type": "stream",
     "text": [
      "c:\\Users\\kevin\\miniconda3\\envs\\audio_data_science\\lib\\site-packages\\librosa\\core\\spectrum.py:266: UserWarning: n_fft=1024 is too large for input signal of length=678\n",
      "  warnings.warn(\n"
     ]
    },
    {
     "name": "stdout",
     "output_type": "stream",
     "text": [
      "28.99% done. Processing file: drummer1/session2/133_afrocuban-bembe_122_fill_4-4.wav\n"
     ]
    },
    {
     "name": "stderr",
     "output_type": "stream",
     "text": [
      "c:\\Users\\kevin\\miniconda3\\envs\\audio_data_science\\lib\\site-packages\\librosa\\core\\spectrum.py:266: UserWarning: n_fft=1024 is too large for input signal of length=678\n",
      "  warnings.warn(\n"
     ]
    },
    {
     "name": "stdout",
     "output_type": "stream",
     "text": [
      "29.08% done. Processing file: drummer1/session2/134_afrocuban-bembe_122_fill_4-4.wav\n"
     ]
    },
    {
     "name": "stderr",
     "output_type": "stream",
     "text": [
      "c:\\Users\\kevin\\miniconda3\\envs\\audio_data_science\\lib\\site-packages\\librosa\\core\\spectrum.py:266: UserWarning: n_fft=1024 is too large for input signal of length=678\n",
      "  warnings.warn(\n"
     ]
    },
    {
     "name": "stdout",
     "output_type": "stream",
     "text": [
      "29.17% done. Processing file: drummer1/session2/135_afrocuban-bembe_122_fill_4-4.wav\n"
     ]
    },
    {
     "name": "stderr",
     "output_type": "stream",
     "text": [
      "c:\\Users\\kevin\\miniconda3\\envs\\audio_data_science\\lib\\site-packages\\librosa\\core\\spectrum.py:266: UserWarning: n_fft=1024 is too large for input signal of length=678\n",
      "  warnings.warn(\n"
     ]
    },
    {
     "name": "stdout",
     "output_type": "stream",
     "text": [
      "29.27% done. Processing file: drummer1/session2/136_afrocuban-bembe_122_fill_4-4.wav\n"
     ]
    },
    {
     "name": "stderr",
     "output_type": "stream",
     "text": [
      "c:\\Users\\kevin\\miniconda3\\envs\\audio_data_science\\lib\\site-packages\\librosa\\core\\spectrum.py:266: UserWarning: n_fft=1024 is too large for input signal of length=678\n",
      "  warnings.warn(\n"
     ]
    },
    {
     "name": "stdout",
     "output_type": "stream",
     "text": [
      "29.36% done. Processing file: drummer1/session2/137_afrocuban-bembe_122_fill_4-4.wav\n"
     ]
    },
    {
     "name": "stderr",
     "output_type": "stream",
     "text": [
      "c:\\Users\\kevin\\miniconda3\\envs\\audio_data_science\\lib\\site-packages\\librosa\\core\\spectrum.py:266: UserWarning: n_fft=1024 is too large for input signal of length=678\n",
      "  warnings.warn(\n"
     ]
    },
    {
     "name": "stdout",
     "output_type": "stream",
     "text": [
      "29.45% done. Processing file: drummer1/session2/138_afrocuban-bembe_122_fill_4-4.wav\n"
     ]
    },
    {
     "name": "stderr",
     "output_type": "stream",
     "text": [
      "c:\\Users\\kevin\\miniconda3\\envs\\audio_data_science\\lib\\site-packages\\librosa\\core\\spectrum.py:266: UserWarning: n_fft=1024 is too large for input signal of length=678\n",
      "  warnings.warn(\n"
     ]
    },
    {
     "name": "stdout",
     "output_type": "stream",
     "text": [
      "29.54% done. Processing file: drummer1/session2/139_afrocuban-bembe_122_fill_4-4.wav\n"
     ]
    },
    {
     "name": "stderr",
     "output_type": "stream",
     "text": [
      "c:\\Users\\kevin\\miniconda3\\envs\\audio_data_science\\lib\\site-packages\\librosa\\core\\spectrum.py:266: UserWarning: n_fft=1024 is too large for input signal of length=678\n",
      "  warnings.warn(\n"
     ]
    },
    {
     "name": "stdout",
     "output_type": "stream",
     "text": [
      "29.63% done. Processing file: drummer1/session2/14_country_114_fill_4-4.wav\n"
     ]
    },
    {
     "name": "stderr",
     "output_type": "stream",
     "text": [
      "c:\\Users\\kevin\\miniconda3\\envs\\audio_data_science\\lib\\site-packages\\librosa\\core\\spectrum.py:266: UserWarning: n_fft=1024 is too large for input signal of length=726\n",
      "  warnings.warn(\n"
     ]
    },
    {
     "name": "stdout",
     "output_type": "stream",
     "text": [
      "29.72% done. Processing file: drummer1/session2/140_afrocuban-bembe_122_fill_4-4.wav\n"
     ]
    },
    {
     "name": "stderr",
     "output_type": "stream",
     "text": [
      "c:\\Users\\kevin\\miniconda3\\envs\\audio_data_science\\lib\\site-packages\\librosa\\core\\spectrum.py:266: UserWarning: n_fft=1024 is too large for input signal of length=678\n",
      "  warnings.warn(\n"
     ]
    },
    {
     "name": "stdout",
     "output_type": "stream",
     "text": [
      "29.82% done. Processing file: drummer1/session2/141_afrocuban-bembe_122_fill_4-4.wav\n"
     ]
    },
    {
     "name": "stderr",
     "output_type": "stream",
     "text": [
      "c:\\Users\\kevin\\miniconda3\\envs\\audio_data_science\\lib\\site-packages\\librosa\\core\\spectrum.py:266: UserWarning: n_fft=1024 is too large for input signal of length=678\n",
      "  warnings.warn(\n"
     ]
    },
    {
     "name": "stdout",
     "output_type": "stream",
     "text": [
      "29.91% done. Processing file: drummer1/session2/142_gospel_120_beat_4-4.wav\n",
      "30.00% done. Processing file: drummer1/session2/143_gospel_120_fill_4-4.wav\n"
     ]
    },
    {
     "name": "stderr",
     "output_type": "stream",
     "text": [
      "c:\\Users\\kevin\\miniconda3\\envs\\audio_data_science\\lib\\site-packages\\librosa\\core\\spectrum.py:266: UserWarning: n_fft=1024 is too large for input signal of length=690\n",
      "  warnings.warn(\n"
     ]
    },
    {
     "name": "stdout",
     "output_type": "stream",
     "text": [
      "30.09% done. Processing file: drummer1/session2/144_gospel_120_fill_4-4.wav\n"
     ]
    },
    {
     "name": "stderr",
     "output_type": "stream",
     "text": [
      "c:\\Users\\kevin\\miniconda3\\envs\\audio_data_science\\lib\\site-packages\\librosa\\core\\spectrum.py:266: UserWarning: n_fft=1024 is too large for input signal of length=690\n",
      "  warnings.warn(\n"
     ]
    },
    {
     "name": "stdout",
     "output_type": "stream",
     "text": [
      "30.18% done. Processing file: drummer1/session2/145_gospel_120_fill_4-4.wav\n"
     ]
    },
    {
     "name": "stderr",
     "output_type": "stream",
     "text": [
      "c:\\Users\\kevin\\miniconda3\\envs\\audio_data_science\\lib\\site-packages\\librosa\\core\\spectrum.py:266: UserWarning: n_fft=1024 is too large for input signal of length=690\n",
      "  warnings.warn(\n"
     ]
    },
    {
     "name": "stdout",
     "output_type": "stream",
     "text": [
      "30.28% done. Processing file: drummer1/session2/146_gospel_120_fill_4-4.wav\n"
     ]
    },
    {
     "name": "stderr",
     "output_type": "stream",
     "text": [
      "c:\\Users\\kevin\\miniconda3\\envs\\audio_data_science\\lib\\site-packages\\librosa\\core\\spectrum.py:266: UserWarning: n_fft=1024 is too large for input signal of length=690\n",
      "  warnings.warn(\n"
     ]
    },
    {
     "name": "stdout",
     "output_type": "stream",
     "text": [
      "30.37% done. Processing file: drummer1/session2/147_gospel_120_fill_4-4.wav\n"
     ]
    },
    {
     "name": "stderr",
     "output_type": "stream",
     "text": [
      "c:\\Users\\kevin\\miniconda3\\envs\\audio_data_science\\lib\\site-packages\\librosa\\core\\spectrum.py:266: UserWarning: n_fft=1024 is too large for input signal of length=690\n",
      "  warnings.warn(\n"
     ]
    },
    {
     "name": "stdout",
     "output_type": "stream",
     "text": [
      "30.46% done. Processing file: drummer1/session2/148_gospel_120_fill_4-4.wav\n"
     ]
    },
    {
     "name": "stderr",
     "output_type": "stream",
     "text": [
      "c:\\Users\\kevin\\miniconda3\\envs\\audio_data_science\\lib\\site-packages\\librosa\\core\\spectrum.py:266: UserWarning: n_fft=1024 is too large for input signal of length=690\n",
      "  warnings.warn(\n"
     ]
    },
    {
     "name": "stdout",
     "output_type": "stream",
     "text": [
      "30.55% done. Processing file: drummer1/session2/149_gospel_120_fill_4-4.wav\n"
     ]
    },
    {
     "name": "stderr",
     "output_type": "stream",
     "text": [
      "c:\\Users\\kevin\\miniconda3\\envs\\audio_data_science\\lib\\site-packages\\librosa\\core\\spectrum.py:266: UserWarning: n_fft=1024 is too large for input signal of length=690\n",
      "  warnings.warn(\n"
     ]
    },
    {
     "name": "stdout",
     "output_type": "stream",
     "text": [
      "30.64% done. Processing file: drummer1/session2/15_country_114_fill_4-4.wav\n"
     ]
    },
    {
     "name": "stderr",
     "output_type": "stream",
     "text": [
      "c:\\Users\\kevin\\miniconda3\\envs\\audio_data_science\\lib\\site-packages\\librosa\\core\\spectrum.py:266: UserWarning: n_fft=1024 is too large for input signal of length=726\n",
      "  warnings.warn(\n"
     ]
    },
    {
     "name": "stdout",
     "output_type": "stream",
     "text": [
      "30.73% done. Processing file: drummer1/session2/150_gospel_120_fill_4-4.wav\n"
     ]
    },
    {
     "name": "stderr",
     "output_type": "stream",
     "text": [
      "c:\\Users\\kevin\\miniconda3\\envs\\audio_data_science\\lib\\site-packages\\librosa\\core\\spectrum.py:266: UserWarning: n_fft=1024 is too large for input signal of length=690\n",
      "  warnings.warn(\n"
     ]
    },
    {
     "name": "stdout",
     "output_type": "stream",
     "text": [
      "30.83% done. Processing file: drummer1/session2/151_gospel_120_fill_4-4.wav\n"
     ]
    },
    {
     "name": "stderr",
     "output_type": "stream",
     "text": [
      "c:\\Users\\kevin\\miniconda3\\envs\\audio_data_science\\lib\\site-packages\\librosa\\core\\spectrum.py:266: UserWarning: n_fft=1024 is too large for input signal of length=690\n",
      "  warnings.warn(\n"
     ]
    },
    {
     "name": "stdout",
     "output_type": "stream",
     "text": [
      "30.92% done. Processing file: drummer1/session2/152_gospel_120_fill_4-4.wav\n"
     ]
    },
    {
     "name": "stderr",
     "output_type": "stream",
     "text": [
      "c:\\Users\\kevin\\miniconda3\\envs\\audio_data_science\\lib\\site-packages\\librosa\\core\\spectrum.py:266: UserWarning: n_fft=1024 is too large for input signal of length=690\n",
      "  warnings.warn(\n"
     ]
    },
    {
     "name": "stdout",
     "output_type": "stream",
     "text": [
      "31.01% done. Processing file: drummer1/session2/153_gospel_120_fill_4-4.wav\n"
     ]
    },
    {
     "name": "stderr",
     "output_type": "stream",
     "text": [
      "c:\\Users\\kevin\\miniconda3\\envs\\audio_data_science\\lib\\site-packages\\librosa\\core\\spectrum.py:266: UserWarning: n_fft=1024 is too large for input signal of length=674\n",
      "  warnings.warn(\n"
     ]
    },
    {
     "name": "stdout",
     "output_type": "stream",
     "text": [
      "31.10% done. Processing file: drummer1/session2/154_gospel_120_fill_4-4.wav\n"
     ]
    },
    {
     "name": "stderr",
     "output_type": "stream",
     "text": [
      "c:\\Users\\kevin\\miniconda3\\envs\\audio_data_science\\lib\\site-packages\\librosa\\core\\spectrum.py:266: UserWarning: n_fft=1024 is too large for input signal of length=690\n",
      "  warnings.warn(\n"
     ]
    },
    {
     "name": "stdout",
     "output_type": "stream",
     "text": [
      "31.19% done. Processing file: drummer1/session2/155_gospel_120_fill_4-4.wav\n"
     ]
    },
    {
     "name": "stderr",
     "output_type": "stream",
     "text": [
      "c:\\Users\\kevin\\miniconda3\\envs\\audio_data_science\\lib\\site-packages\\librosa\\core\\spectrum.py:266: UserWarning: n_fft=1024 is too large for input signal of length=690\n",
      "  warnings.warn(\n"
     ]
    },
    {
     "name": "stdout",
     "output_type": "stream",
     "text": [
      "31.28% done. Processing file: drummer1/session2/156_gospel_120_fill_4-4.wav\n"
     ]
    },
    {
     "name": "stderr",
     "output_type": "stream",
     "text": [
      "c:\\Users\\kevin\\miniconda3\\envs\\audio_data_science\\lib\\site-packages\\librosa\\core\\spectrum.py:266: UserWarning: n_fft=1024 is too large for input signal of length=690\n",
      "  warnings.warn(\n"
     ]
    },
    {
     "name": "stdout",
     "output_type": "stream",
     "text": [
      "31.38% done. Processing file: drummer1/session2/157_gospel_120_fill_4-4.wav\n"
     ]
    },
    {
     "name": "stderr",
     "output_type": "stream",
     "text": [
      "c:\\Users\\kevin\\miniconda3\\envs\\audio_data_science\\lib\\site-packages\\librosa\\core\\spectrum.py:266: UserWarning: n_fft=1024 is too large for input signal of length=690\n",
      "  warnings.warn(\n"
     ]
    },
    {
     "name": "stdout",
     "output_type": "stream",
     "text": [
      "31.47% done. Processing file: drummer1/session2/158_gospel_120_fill_4-4.wav\n"
     ]
    },
    {
     "name": "stderr",
     "output_type": "stream",
     "text": [
      "c:\\Users\\kevin\\miniconda3\\envs\\audio_data_science\\lib\\site-packages\\librosa\\core\\spectrum.py:266: UserWarning: n_fft=1024 is too large for input signal of length=690\n",
      "  warnings.warn(\n"
     ]
    },
    {
     "name": "stdout",
     "output_type": "stream",
     "text": [
      "31.56% done. Processing file: drummer1/session2/159_gospel_120_fill_4-4.wav\n"
     ]
    },
    {
     "name": "stderr",
     "output_type": "stream",
     "text": [
      "c:\\Users\\kevin\\miniconda3\\envs\\audio_data_science\\lib\\site-packages\\librosa\\core\\spectrum.py:266: UserWarning: n_fft=1024 is too large for input signal of length=690\n",
      "  warnings.warn(\n"
     ]
    },
    {
     "name": "stdout",
     "output_type": "stream",
     "text": [
      "31.65% done. Processing file: drummer1/session2/16_country_114_fill_4-4.wav\n"
     ]
    },
    {
     "name": "stderr",
     "output_type": "stream",
     "text": [
      "c:\\Users\\kevin\\miniconda3\\envs\\audio_data_science\\lib\\site-packages\\librosa\\core\\spectrum.py:266: UserWarning: n_fft=1024 is too large for input signal of length=726\n",
      "  warnings.warn(\n"
     ]
    },
    {
     "name": "stdout",
     "output_type": "stream",
     "text": [
      "31.74% done. Processing file: drummer1/session2/160_gospel_120_fill_4-4.wav\n"
     ]
    },
    {
     "name": "stderr",
     "output_type": "stream",
     "text": [
      "c:\\Users\\kevin\\miniconda3\\envs\\audio_data_science\\lib\\site-packages\\librosa\\core\\spectrum.py:266: UserWarning: n_fft=1024 is too large for input signal of length=690\n",
      "  warnings.warn(\n"
     ]
    },
    {
     "name": "stdout",
     "output_type": "stream",
     "text": [
      "31.83% done. Processing file: drummer1/session2/161_afrocuban-rhumba_110_beat_4-4.wav\n",
      "31.93% done. Processing file: drummer1/session2/162_afrocuban-rhumba_110_fill_4-4.wav\n"
     ]
    },
    {
     "name": "stderr",
     "output_type": "stream",
     "text": [
      "c:\\Users\\kevin\\miniconda3\\envs\\audio_data_science\\lib\\site-packages\\librosa\\core\\spectrum.py:266: UserWarning: n_fft=1024 is too large for input signal of length=752\n",
      "  warnings.warn(\n"
     ]
    },
    {
     "name": "stdout",
     "output_type": "stream",
     "text": [
      "32.02% done. Processing file: drummer1/session2/163_afrocuban-rhumba_110_fill_4-4.wav\n"
     ]
    },
    {
     "name": "stderr",
     "output_type": "stream",
     "text": [
      "c:\\Users\\kevin\\miniconda3\\envs\\audio_data_science\\lib\\site-packages\\librosa\\core\\spectrum.py:266: UserWarning: n_fft=1024 is too large for input signal of length=752\n",
      "  warnings.warn(\n"
     ]
    },
    {
     "name": "stdout",
     "output_type": "stream",
     "text": [
      "32.11% done. Processing file: drummer1/session2/164_afrocuban-rhumba_110_fill_4-4.wav\n"
     ]
    },
    {
     "name": "stderr",
     "output_type": "stream",
     "text": [
      "c:\\Users\\kevin\\miniconda3\\envs\\audio_data_science\\lib\\site-packages\\librosa\\core\\spectrum.py:266: UserWarning: n_fft=1024 is too large for input signal of length=752\n",
      "  warnings.warn(\n"
     ]
    },
    {
     "name": "stdout",
     "output_type": "stream",
     "text": [
      "32.20% done. Processing file: drummer1/session2/165_afrocuban-rhumba_110_fill_4-4.wav\n"
     ]
    },
    {
     "name": "stderr",
     "output_type": "stream",
     "text": [
      "c:\\Users\\kevin\\miniconda3\\envs\\audio_data_science\\lib\\site-packages\\librosa\\core\\spectrum.py:266: UserWarning: n_fft=1024 is too large for input signal of length=752\n",
      "  warnings.warn(\n"
     ]
    },
    {
     "name": "stdout",
     "output_type": "stream",
     "text": [
      "32.29% done. Processing file: drummer1/session2/166_afrocuban-rhumba_110_fill_4-4.wav\n"
     ]
    },
    {
     "name": "stderr",
     "output_type": "stream",
     "text": [
      "c:\\Users\\kevin\\miniconda3\\envs\\audio_data_science\\lib\\site-packages\\librosa\\core\\spectrum.py:266: UserWarning: n_fft=1024 is too large for input signal of length=752\n",
      "  warnings.warn(\n"
     ]
    },
    {
     "name": "stdout",
     "output_type": "stream",
     "text": [
      "32.39% done. Processing file: drummer1/session2/167_afrocuban-rhumba_110_fill_4-4.wav\n"
     ]
    },
    {
     "name": "stderr",
     "output_type": "stream",
     "text": [
      "c:\\Users\\kevin\\miniconda3\\envs\\audio_data_science\\lib\\site-packages\\librosa\\core\\spectrum.py:266: UserWarning: n_fft=1024 is too large for input signal of length=752\n",
      "  warnings.warn(\n"
     ]
    },
    {
     "name": "stdout",
     "output_type": "stream",
     "text": [
      "32.48% done. Processing file: drummer1/session2/168_afrocuban-rhumba_110_fill_4-4.wav\n"
     ]
    },
    {
     "name": "stderr",
     "output_type": "stream",
     "text": [
      "c:\\Users\\kevin\\miniconda3\\envs\\audio_data_science\\lib\\site-packages\\librosa\\core\\spectrum.py:266: UserWarning: n_fft=1024 is too large for input signal of length=752\n",
      "  warnings.warn(\n"
     ]
    },
    {
     "name": "stdout",
     "output_type": "stream",
     "text": [
      "32.57% done. Processing file: drummer1/session2/169_afrocuban-rhumba_110_fill_4-4.wav\n"
     ]
    },
    {
     "name": "stderr",
     "output_type": "stream",
     "text": [
      "c:\\Users\\kevin\\miniconda3\\envs\\audio_data_science\\lib\\site-packages\\librosa\\core\\spectrum.py:266: UserWarning: n_fft=1024 is too large for input signal of length=752\n",
      "  warnings.warn(\n"
     ]
    },
    {
     "name": "stdout",
     "output_type": "stream",
     "text": [
      "32.66% done. Processing file: drummer1/session2/17_country_114_fill_4-4.wav\n"
     ]
    },
    {
     "name": "stderr",
     "output_type": "stream",
     "text": [
      "c:\\Users\\kevin\\miniconda3\\envs\\audio_data_science\\lib\\site-packages\\librosa\\core\\spectrum.py:266: UserWarning: n_fft=1024 is too large for input signal of length=726\n",
      "  warnings.warn(\n"
     ]
    },
    {
     "name": "stdout",
     "output_type": "stream",
     "text": [
      "32.75% done. Processing file: drummer1/session2/170_afrocuban-rhumba_110_fill_4-4.wav\n"
     ]
    },
    {
     "name": "stderr",
     "output_type": "stream",
     "text": [
      "c:\\Users\\kevin\\miniconda3\\envs\\audio_data_science\\lib\\site-packages\\librosa\\core\\spectrum.py:266: UserWarning: n_fft=1024 is too large for input signal of length=752\n",
      "  warnings.warn(\n"
     ]
    },
    {
     "name": "stdout",
     "output_type": "stream",
     "text": [
      "32.84% done. Processing file: drummer1/session2/171_afrocuban-rhumba_110_fill_4-4.wav\n"
     ]
    },
    {
     "name": "stderr",
     "output_type": "stream",
     "text": [
      "c:\\Users\\kevin\\miniconda3\\envs\\audio_data_science\\lib\\site-packages\\librosa\\core\\spectrum.py:266: UserWarning: n_fft=1024 is too large for input signal of length=752\n",
      "  warnings.warn(\n"
     ]
    },
    {
     "name": "stdout",
     "output_type": "stream",
     "text": [
      "32.94% done. Processing file: drummer1/session2/172_afrocuban-rhumba_110_fill_4-4.wav\n"
     ]
    },
    {
     "name": "stderr",
     "output_type": "stream",
     "text": [
      "c:\\Users\\kevin\\miniconda3\\envs\\audio_data_science\\lib\\site-packages\\librosa\\core\\spectrum.py:266: UserWarning: n_fft=1024 is too large for input signal of length=752\n",
      "  warnings.warn(\n"
     ]
    },
    {
     "name": "stdout",
     "output_type": "stream",
     "text": [
      "33.03% done. Processing file: drummer1/session2/173_afrocuban-rhumba_110_fill_4-4.wav\n"
     ]
    },
    {
     "name": "stderr",
     "output_type": "stream",
     "text": [
      "c:\\Users\\kevin\\miniconda3\\envs\\audio_data_science\\lib\\site-packages\\librosa\\core\\spectrum.py:266: UserWarning: n_fft=1024 is too large for input signal of length=752\n",
      "  warnings.warn(\n"
     ]
    },
    {
     "name": "stdout",
     "output_type": "stream",
     "text": [
      "33.12% done. Processing file: drummer1/session2/174_afrocuban-rhumba_110_fill_4-4.wav\n"
     ]
    },
    {
     "name": "stderr",
     "output_type": "stream",
     "text": [
      "c:\\Users\\kevin\\miniconda3\\envs\\audio_data_science\\lib\\site-packages\\librosa\\core\\spectrum.py:266: UserWarning: n_fft=1024 is too large for input signal of length=752\n",
      "  warnings.warn(\n"
     ]
    },
    {
     "name": "stdout",
     "output_type": "stream",
     "text": [
      "33.21% done. Processing file: drummer1/session2/175_afrocuban-rhumba_110_fill_4-4.wav\n"
     ]
    },
    {
     "name": "stderr",
     "output_type": "stream",
     "text": [
      "c:\\Users\\kevin\\miniconda3\\envs\\audio_data_science\\lib\\site-packages\\librosa\\core\\spectrum.py:266: UserWarning: n_fft=1024 is too large for input signal of length=752\n",
      "  warnings.warn(\n"
     ]
    },
    {
     "name": "stdout",
     "output_type": "stream",
     "text": [
      "33.30% done. Processing file: drummer1/session2/176_afrocuban-rhumba_110_fill_4-4.wav\n"
     ]
    },
    {
     "name": "stderr",
     "output_type": "stream",
     "text": [
      "c:\\Users\\kevin\\miniconda3\\envs\\audio_data_science\\lib\\site-packages\\librosa\\core\\spectrum.py:266: UserWarning: n_fft=1024 is too large for input signal of length=752\n",
      "  warnings.warn(\n"
     ]
    },
    {
     "name": "stdout",
     "output_type": "stream",
     "text": [
      "33.39% done. Processing file: drummer1/session2/177_afrocuban-rhumba_110_fill_4-4.wav\n"
     ]
    },
    {
     "name": "stderr",
     "output_type": "stream",
     "text": [
      "c:\\Users\\kevin\\miniconda3\\envs\\audio_data_science\\lib\\site-packages\\librosa\\core\\spectrum.py:266: UserWarning: n_fft=1024 is too large for input signal of length=752\n",
      "  warnings.warn(\n"
     ]
    },
    {
     "name": "stdout",
     "output_type": "stream",
     "text": [
      "33.49% done. Processing file: drummer1/session2/178_afrocuban-rhumba_110_fill_4-4.wav\n"
     ]
    },
    {
     "name": "stderr",
     "output_type": "stream",
     "text": [
      "c:\\Users\\kevin\\miniconda3\\envs\\audio_data_science\\lib\\site-packages\\librosa\\core\\spectrum.py:266: UserWarning: n_fft=1024 is too large for input signal of length=752\n",
      "  warnings.warn(\n"
     ]
    },
    {
     "name": "stdout",
     "output_type": "stream",
     "text": [
      "33.58% done. Processing file: drummer1/session2/179_afrocuban-rhumba_110_fill_4-4.wav\n"
     ]
    },
    {
     "name": "stderr",
     "output_type": "stream",
     "text": [
      "c:\\Users\\kevin\\miniconda3\\envs\\audio_data_science\\lib\\site-packages\\librosa\\core\\spectrum.py:266: UserWarning: n_fft=1024 is too large for input signal of length=752\n",
      "  warnings.warn(\n"
     ]
    },
    {
     "name": "stdout",
     "output_type": "stream",
     "text": [
      "33.67% done. Processing file: drummer1/session2/18_country_114_fill_4-4.wav\n"
     ]
    },
    {
     "name": "stderr",
     "output_type": "stream",
     "text": [
      "c:\\Users\\kevin\\miniconda3\\envs\\audio_data_science\\lib\\site-packages\\librosa\\core\\spectrum.py:266: UserWarning: n_fft=1024 is too large for input signal of length=726\n",
      "  warnings.warn(\n"
     ]
    },
    {
     "name": "stdout",
     "output_type": "stream",
     "text": [
      "33.76% done. Processing file: drummer1/session2/180_rock_50_beat_4-4.wav\n",
      "33.85% done. Processing file: drummer1/session2/181_rock_115_beat_4-4.wav\n",
      "33.94% done. Processing file: drummer1/session2/182_rock_115_fill_4-4.wav\n"
     ]
    },
    {
     "name": "stderr",
     "output_type": "stream",
     "text": [
      "c:\\Users\\kevin\\miniconda3\\envs\\audio_data_science\\lib\\site-packages\\librosa\\core\\spectrum.py:266: UserWarning: n_fft=1024 is too large for input signal of length=720\n",
      "  warnings.warn(\n"
     ]
    },
    {
     "name": "stdout",
     "output_type": "stream",
     "text": [
      "34.04% done. Processing file: drummer1/session2/183_rock_115_fill_4-4.wav\n"
     ]
    },
    {
     "name": "stderr",
     "output_type": "stream",
     "text": [
      "c:\\Users\\kevin\\miniconda3\\envs\\audio_data_science\\lib\\site-packages\\librosa\\core\\spectrum.py:266: UserWarning: n_fft=1024 is too large for input signal of length=720\n",
      "  warnings.warn(\n"
     ]
    },
    {
     "name": "stdout",
     "output_type": "stream",
     "text": [
      "34.13% done. Processing file: drummer1/session2/184_rock_115_fill_4-4.wav\n"
     ]
    },
    {
     "name": "stderr",
     "output_type": "stream",
     "text": [
      "c:\\Users\\kevin\\miniconda3\\envs\\audio_data_science\\lib\\site-packages\\librosa\\core\\spectrum.py:266: UserWarning: n_fft=1024 is too large for input signal of length=720\n",
      "  warnings.warn(\n"
     ]
    },
    {
     "name": "stdout",
     "output_type": "stream",
     "text": [
      "34.22% done. Processing file: drummer1/session2/185_rock_115_fill_4-4.wav\n"
     ]
    },
    {
     "name": "stderr",
     "output_type": "stream",
     "text": [
      "c:\\Users\\kevin\\miniconda3\\envs\\audio_data_science\\lib\\site-packages\\librosa\\core\\spectrum.py:266: UserWarning: n_fft=1024 is too large for input signal of length=720\n",
      "  warnings.warn(\n"
     ]
    },
    {
     "name": "stdout",
     "output_type": "stream",
     "text": [
      "34.31% done. Processing file: drummer1/session2/186_rock_115_fill_4-4.wav\n"
     ]
    },
    {
     "name": "stderr",
     "output_type": "stream",
     "text": [
      "c:\\Users\\kevin\\miniconda3\\envs\\audio_data_science\\lib\\site-packages\\librosa\\core\\spectrum.py:266: UserWarning: n_fft=1024 is too large for input signal of length=720\n",
      "  warnings.warn(\n"
     ]
    },
    {
     "name": "stdout",
     "output_type": "stream",
     "text": [
      "34.40% done. Processing file: drummer1/session2/187_rock_115_fill_4-4.wav\n"
     ]
    },
    {
     "name": "stderr",
     "output_type": "stream",
     "text": [
      "c:\\Users\\kevin\\miniconda3\\envs\\audio_data_science\\lib\\site-packages\\librosa\\core\\spectrum.py:266: UserWarning: n_fft=1024 is too large for input signal of length=720\n",
      "  warnings.warn(\n"
     ]
    },
    {
     "name": "stdout",
     "output_type": "stream",
     "text": [
      "34.50% done. Processing file: drummer1/session2/188_rock_115_fill_4-4.wav\n"
     ]
    },
    {
     "name": "stderr",
     "output_type": "stream",
     "text": [
      "c:\\Users\\kevin\\miniconda3\\envs\\audio_data_science\\lib\\site-packages\\librosa\\core\\spectrum.py:266: UserWarning: n_fft=1024 is too large for input signal of length=720\n",
      "  warnings.warn(\n"
     ]
    },
    {
     "name": "stdout",
     "output_type": "stream",
     "text": [
      "34.59% done. Processing file: drummer1/session2/189_rock_115_fill_4-4.wav\n"
     ]
    },
    {
     "name": "stderr",
     "output_type": "stream",
     "text": [
      "c:\\Users\\kevin\\miniconda3\\envs\\audio_data_science\\lib\\site-packages\\librosa\\core\\spectrum.py:266: UserWarning: n_fft=1024 is too large for input signal of length=720\n",
      "  warnings.warn(\n"
     ]
    },
    {
     "name": "stdout",
     "output_type": "stream",
     "text": [
      "34.68% done. Processing file: drummer1/session2/19_country_114_fill_4-4.wav\n"
     ]
    },
    {
     "name": "stderr",
     "output_type": "stream",
     "text": [
      "c:\\Users\\kevin\\miniconda3\\envs\\audio_data_science\\lib\\site-packages\\librosa\\core\\spectrum.py:266: UserWarning: n_fft=1024 is too large for input signal of length=726\n",
      "  warnings.warn(\n"
     ]
    },
    {
     "name": "stdout",
     "output_type": "stream",
     "text": [
      "34.77% done. Processing file: drummer1/session2/190_rock_115_fill_4-4.wav\n"
     ]
    },
    {
     "name": "stderr",
     "output_type": "stream",
     "text": [
      "c:\\Users\\kevin\\miniconda3\\envs\\audio_data_science\\lib\\site-packages\\librosa\\core\\spectrum.py:266: UserWarning: n_fft=1024 is too large for input signal of length=720\n",
      "  warnings.warn(\n"
     ]
    },
    {
     "name": "stdout",
     "output_type": "stream",
     "text": [
      "34.86% done. Processing file: drummer1/session2/191_rock_115_fill_4-4.wav\n"
     ]
    },
    {
     "name": "stderr",
     "output_type": "stream",
     "text": [
      "c:\\Users\\kevin\\miniconda3\\envs\\audio_data_science\\lib\\site-packages\\librosa\\core\\spectrum.py:266: UserWarning: n_fft=1024 is too large for input signal of length=720\n",
      "  warnings.warn(\n"
     ]
    },
    {
     "name": "stdout",
     "output_type": "stream",
     "text": [
      "34.95% done. Processing file: drummer1/session2/192_rock_115_fill_4-4.wav\n"
     ]
    },
    {
     "name": "stderr",
     "output_type": "stream",
     "text": [
      "c:\\Users\\kevin\\miniconda3\\envs\\audio_data_science\\lib\\site-packages\\librosa\\core\\spectrum.py:266: UserWarning: n_fft=1024 is too large for input signal of length=720\n",
      "  warnings.warn(\n"
     ]
    },
    {
     "name": "stdout",
     "output_type": "stream",
     "text": [
      "35.05% done. Processing file: drummer1/session2/193_rock_115_fill_4-4.wav\n"
     ]
    },
    {
     "name": "stderr",
     "output_type": "stream",
     "text": [
      "c:\\Users\\kevin\\miniconda3\\envs\\audio_data_science\\lib\\site-packages\\librosa\\core\\spectrum.py:266: UserWarning: n_fft=1024 is too large for input signal of length=720\n",
      "  warnings.warn(\n"
     ]
    },
    {
     "name": "stdout",
     "output_type": "stream",
     "text": [
      "35.14% done. Processing file: drummer1/session2/194_rock_115_fill_4-4.wav\n"
     ]
    },
    {
     "name": "stderr",
     "output_type": "stream",
     "text": [
      "c:\\Users\\kevin\\miniconda3\\envs\\audio_data_science\\lib\\site-packages\\librosa\\core\\spectrum.py:266: UserWarning: n_fft=1024 is too large for input signal of length=720\n",
      "  warnings.warn(\n"
     ]
    },
    {
     "name": "stdout",
     "output_type": "stream",
     "text": [
      "35.23% done. Processing file: drummer1/session2/195_rock_115_fill_4-4.wav\n"
     ]
    },
    {
     "name": "stderr",
     "output_type": "stream",
     "text": [
      "c:\\Users\\kevin\\miniconda3\\envs\\audio_data_science\\lib\\site-packages\\librosa\\core\\spectrum.py:266: UserWarning: n_fft=1024 is too large for input signal of length=720\n",
      "  warnings.warn(\n"
     ]
    },
    {
     "name": "stdout",
     "output_type": "stream",
     "text": [
      "35.32% done. Processing file: drummer1/session2/196_rock_115_fill_4-4.wav\n"
     ]
    },
    {
     "name": "stderr",
     "output_type": "stream",
     "text": [
      "c:\\Users\\kevin\\miniconda3\\envs\\audio_data_science\\lib\\site-packages\\librosa\\core\\spectrum.py:266: UserWarning: n_fft=1024 is too large for input signal of length=720\n",
      "  warnings.warn(\n"
     ]
    },
    {
     "name": "stdout",
     "output_type": "stream",
     "text": [
      "35.41% done. Processing file: drummer1/session2/197_rock_115_fill_4-4.wav\n"
     ]
    },
    {
     "name": "stderr",
     "output_type": "stream",
     "text": [
      "c:\\Users\\kevin\\miniconda3\\envs\\audio_data_science\\lib\\site-packages\\librosa\\core\\spectrum.py:266: UserWarning: n_fft=1024 is too large for input signal of length=720\n",
      "  warnings.warn(\n"
     ]
    },
    {
     "name": "stdout",
     "output_type": "stream",
     "text": [
      "35.50% done. Processing file: drummer1/session2/198_rock_115_fill_4-4.wav\n"
     ]
    },
    {
     "name": "stderr",
     "output_type": "stream",
     "text": [
      "c:\\Users\\kevin\\miniconda3\\envs\\audio_data_science\\lib\\site-packages\\librosa\\core\\spectrum.py:266: UserWarning: n_fft=1024 is too large for input signal of length=720\n",
      "  warnings.warn(\n"
     ]
    },
    {
     "name": "stdout",
     "output_type": "stream",
     "text": [
      "35.60% done. Processing file: drummer1/session2/2_latin-chacarera_118_beat_4-4.wav\n",
      "35.69% done. Processing file: drummer1/session2/20_country_114_fill_4-4.wav\n"
     ]
    },
    {
     "name": "stderr",
     "output_type": "stream",
     "text": [
      "c:\\Users\\kevin\\miniconda3\\envs\\audio_data_science\\lib\\site-packages\\librosa\\core\\spectrum.py:266: UserWarning: n_fft=1024 is too large for input signal of length=726\n",
      "  warnings.warn(\n"
     ]
    },
    {
     "name": "stdout",
     "output_type": "stream",
     "text": [
      "35.78% done. Processing file: drummer1/session2/21_country_114_fill_4-4.wav\n"
     ]
    },
    {
     "name": "stderr",
     "output_type": "stream",
     "text": [
      "c:\\Users\\kevin\\miniconda3\\envs\\audio_data_science\\lib\\site-packages\\librosa\\core\\spectrum.py:266: UserWarning: n_fft=1024 is too large for input signal of length=726\n",
      "  warnings.warn(\n"
     ]
    },
    {
     "name": "stdout",
     "output_type": "stream",
     "text": [
      "35.87% done. Processing file: drummer1/session2/22_country_114_fill_4-4.wav\n"
     ]
    },
    {
     "name": "stderr",
     "output_type": "stream",
     "text": [
      "c:\\Users\\kevin\\miniconda3\\envs\\audio_data_science\\lib\\site-packages\\librosa\\core\\spectrum.py:266: UserWarning: n_fft=1024 is too large for input signal of length=726\n",
      "  warnings.warn(\n"
     ]
    },
    {
     "name": "stdout",
     "output_type": "stream",
     "text": [
      "35.96% done. Processing file: drummer1/session2/23_country_114_fill_4-4.wav\n"
     ]
    },
    {
     "name": "stderr",
     "output_type": "stream",
     "text": [
      "c:\\Users\\kevin\\miniconda3\\envs\\audio_data_science\\lib\\site-packages\\librosa\\core\\spectrum.py:266: UserWarning: n_fft=1024 is too large for input signal of length=726\n",
      "  warnings.warn(\n"
     ]
    },
    {
     "name": "stdout",
     "output_type": "stream",
     "text": [
      "36.06% done. Processing file: drummer1/session2/24_country_114_fill_4-4.wav\n"
     ]
    },
    {
     "name": "stderr",
     "output_type": "stream",
     "text": [
      "c:\\Users\\kevin\\miniconda3\\envs\\audio_data_science\\lib\\site-packages\\librosa\\core\\spectrum.py:266: UserWarning: n_fft=1024 is too large for input signal of length=726\n",
      "  warnings.warn(\n"
     ]
    },
    {
     "name": "stdout",
     "output_type": "stream",
     "text": [
      "36.15% done. Processing file: drummer1/session2/25_country_114_fill_4-4.wav\n"
     ]
    },
    {
     "name": "stderr",
     "output_type": "stream",
     "text": [
      "c:\\Users\\kevin\\miniconda3\\envs\\audio_data_science\\lib\\site-packages\\librosa\\core\\spectrum.py:266: UserWarning: n_fft=1024 is too large for input signal of length=726\n",
      "  warnings.warn(\n"
     ]
    },
    {
     "name": "stdout",
     "output_type": "stream",
     "text": [
      "36.24% done. Processing file: drummer1/session2/26_country_114_fill_4-4.wav\n"
     ]
    },
    {
     "name": "stderr",
     "output_type": "stream",
     "text": [
      "c:\\Users\\kevin\\miniconda3\\envs\\audio_data_science\\lib\\site-packages\\librosa\\core\\spectrum.py:266: UserWarning: n_fft=1024 is too large for input signal of length=726\n",
      "  warnings.warn(\n"
     ]
    },
    {
     "name": "stdout",
     "output_type": "stream",
     "text": [
      "36.33% done. Processing file: drummer1/session2/27_country_114_fill_4-4.wav\n"
     ]
    },
    {
     "name": "stderr",
     "output_type": "stream",
     "text": [
      "c:\\Users\\kevin\\miniconda3\\envs\\audio_data_science\\lib\\site-packages\\librosa\\core\\spectrum.py:266: UserWarning: n_fft=1024 is too large for input signal of length=726\n",
      "  warnings.warn(\n"
     ]
    },
    {
     "name": "stdout",
     "output_type": "stream",
     "text": [
      "36.42% done. Processing file: drummer1/session2/28_country_114_fill_4-4.wav\n"
     ]
    },
    {
     "name": "stderr",
     "output_type": "stream",
     "text": [
      "c:\\Users\\kevin\\miniconda3\\envs\\audio_data_science\\lib\\site-packages\\librosa\\core\\spectrum.py:266: UserWarning: n_fft=1024 is too large for input signal of length=726\n",
      "  warnings.warn(\n"
     ]
    },
    {
     "name": "stdout",
     "output_type": "stream",
     "text": [
      "36.51% done. Processing file: drummer1/session2/29_country_114_fill_4-4.wav\n"
     ]
    },
    {
     "name": "stderr",
     "output_type": "stream",
     "text": [
      "c:\\Users\\kevin\\miniconda3\\envs\\audio_data_science\\lib\\site-packages\\librosa\\core\\spectrum.py:266: UserWarning: n_fft=1024 is too large for input signal of length=726\n",
      "  warnings.warn(\n"
     ]
    },
    {
     "name": "stdout",
     "output_type": "stream",
     "text": [
      "36.61% done. Processing file: drummer1/session2/3_latin-chacarera_118_beat_4-4.wav\n",
      "36.70% done. Processing file: drummer1/session2/30_country_114_fill_4-4.wav\n"
     ]
    },
    {
     "name": "stderr",
     "output_type": "stream",
     "text": [
      "c:\\Users\\kevin\\miniconda3\\envs\\audio_data_science\\lib\\site-packages\\librosa\\core\\spectrum.py:266: UserWarning: n_fft=1024 is too large for input signal of length=726\n",
      "  warnings.warn(\n"
     ]
    },
    {
     "name": "stdout",
     "output_type": "stream",
     "text": [
      "36.79% done. Processing file: drummer1/session2/31_country_114_fill_4-4.wav\n"
     ]
    },
    {
     "name": "stderr",
     "output_type": "stream",
     "text": [
      "c:\\Users\\kevin\\miniconda3\\envs\\audio_data_science\\lib\\site-packages\\librosa\\core\\spectrum.py:266: UserWarning: n_fft=1024 is too large for input signal of length=726\n",
      "  warnings.warn(\n"
     ]
    },
    {
     "name": "stdout",
     "output_type": "stream",
     "text": [
      "36.88% done. Processing file: drummer1/session2/32_punk_140_beat_4-4.wav\n",
      "36.97% done. Processing file: drummer1/session2/33_punk_128_beat_4-4.wav\n",
      "37.06% done. Processing file: drummer1/session2/34_punk_128_beat_4-4.wav\n",
      "37.16% done. Processing file: drummer1/session2/35_punk_128_beat_4-4.wav\n",
      "37.25% done. Processing file: drummer1/session2/36_punk_128_beat_4-4.wav\n",
      "37.34% done. Processing file: drummer1/session2/37_punk_128_beat_4-4.wav\n"
     ]
    },
    {
     "name": "stderr",
     "output_type": "stream",
     "text": [
      "c:\\Users\\kevin\\miniconda3\\envs\\audio_data_science\\lib\\site-packages\\librosa\\core\\spectrum.py:266: UserWarning: n_fft=1024 is too large for input signal of length=646\n",
      "  warnings.warn(\n"
     ]
    },
    {
     "name": "stdout",
     "output_type": "stream",
     "text": [
      "37.43% done. Processing file: drummer1/session2/38_punk_128_fill_4-4.wav\n"
     ]
    },
    {
     "name": "stderr",
     "output_type": "stream",
     "text": [
      "c:\\Users\\kevin\\miniconda3\\envs\\audio_data_science\\lib\\site-packages\\librosa\\core\\spectrum.py:266: UserWarning: n_fft=1024 is too large for input signal of length=646\n",
      "  warnings.warn(\n"
     ]
    },
    {
     "name": "stdout",
     "output_type": "stream",
     "text": [
      "37.52% done. Processing file: drummer1/session2/39_punk_128_fill_4-4.wav\n"
     ]
    },
    {
     "name": "stderr",
     "output_type": "stream",
     "text": [
      "c:\\Users\\kevin\\miniconda3\\envs\\audio_data_science\\lib\\site-packages\\librosa\\core\\spectrum.py:266: UserWarning: n_fft=1024 is too large for input signal of length=646\n",
      "  warnings.warn(\n"
     ]
    },
    {
     "name": "stdout",
     "output_type": "stream",
     "text": [
      "37.61% done. Processing file: drummer1/session2/4_jazz_120_beat_3-4.wav\n",
      "37.71% done. Processing file: drummer1/session2/40_punk_128_fill_4-4.wav\n"
     ]
    },
    {
     "name": "stderr",
     "output_type": "stream",
     "text": [
      "c:\\Users\\kevin\\miniconda3\\envs\\audio_data_science\\lib\\site-packages\\librosa\\core\\spectrum.py:266: UserWarning: n_fft=1024 is too large for input signal of length=646\n",
      "  warnings.warn(\n"
     ]
    },
    {
     "name": "stdout",
     "output_type": "stream",
     "text": [
      "37.80% done. Processing file: drummer1/session2/41_punk_128_fill_4-4.wav\n"
     ]
    },
    {
     "name": "stderr",
     "output_type": "stream",
     "text": [
      "c:\\Users\\kevin\\miniconda3\\envs\\audio_data_science\\lib\\site-packages\\librosa\\core\\spectrum.py:266: UserWarning: n_fft=1024 is too large for input signal of length=646\n",
      "  warnings.warn(\n"
     ]
    },
    {
     "name": "stdout",
     "output_type": "stream",
     "text": [
      "37.89% done. Processing file: drummer1/session2/42_punk_128_fill_4-4.wav\n"
     ]
    },
    {
     "name": "stderr",
     "output_type": "stream",
     "text": [
      "c:\\Users\\kevin\\miniconda3\\envs\\audio_data_science\\lib\\site-packages\\librosa\\core\\spectrum.py:266: UserWarning: n_fft=1024 is too large for input signal of length=646\n",
      "  warnings.warn(\n"
     ]
    },
    {
     "name": "stdout",
     "output_type": "stream",
     "text": [
      "37.98% done. Processing file: drummer1/session2/43_punk_128_fill_4-4.wav\n"
     ]
    },
    {
     "name": "stderr",
     "output_type": "stream",
     "text": [
      "c:\\Users\\kevin\\miniconda3\\envs\\audio_data_science\\lib\\site-packages\\librosa\\core\\spectrum.py:266: UserWarning: n_fft=1024 is too large for input signal of length=646\n",
      "  warnings.warn(\n"
     ]
    },
    {
     "name": "stdout",
     "output_type": "stream",
     "text": [
      "38.07% done. Processing file: drummer1/session2/44_punk_128_fill_4-4.wav\n"
     ]
    },
    {
     "name": "stderr",
     "output_type": "stream",
     "text": [
      "c:\\Users\\kevin\\miniconda3\\envs\\audio_data_science\\lib\\site-packages\\librosa\\core\\spectrum.py:266: UserWarning: n_fft=1024 is too large for input signal of length=640\n",
      "  warnings.warn(\n"
     ]
    },
    {
     "name": "stdout",
     "output_type": "stream",
     "text": [
      "38.17% done. Processing file: drummer1/session2/45_punk_128_fill_4-4.wav\n"
     ]
    },
    {
     "name": "stderr",
     "output_type": "stream",
     "text": [
      "c:\\Users\\kevin\\miniconda3\\envs\\audio_data_science\\lib\\site-packages\\librosa\\core\\spectrum.py:266: UserWarning: n_fft=1024 is too large for input signal of length=646\n",
      "  warnings.warn(\n"
     ]
    },
    {
     "name": "stdout",
     "output_type": "stream",
     "text": [
      "38.26% done. Processing file: drummer1/session2/46_punk_128_fill_4-4.wav\n"
     ]
    },
    {
     "name": "stderr",
     "output_type": "stream",
     "text": [
      "c:\\Users\\kevin\\miniconda3\\envs\\audio_data_science\\lib\\site-packages\\librosa\\core\\spectrum.py:266: UserWarning: n_fft=1024 is too large for input signal of length=646\n",
      "  warnings.warn(\n"
     ]
    },
    {
     "name": "stdout",
     "output_type": "stream",
     "text": [
      "38.35% done. Processing file: drummer1/session2/47_punk_128_fill_4-4.wav\n"
     ]
    },
    {
     "name": "stderr",
     "output_type": "stream",
     "text": [
      "c:\\Users\\kevin\\miniconda3\\envs\\audio_data_science\\lib\\site-packages\\librosa\\core\\spectrum.py:266: UserWarning: n_fft=1024 is too large for input signal of length=646\n",
      "  warnings.warn(\n"
     ]
    },
    {
     "name": "stdout",
     "output_type": "stream",
     "text": [
      "38.44% done. Processing file: drummer1/session2/48_punk_128_fill_4-4.wav\n"
     ]
    },
    {
     "name": "stderr",
     "output_type": "stream",
     "text": [
      "c:\\Users\\kevin\\miniconda3\\envs\\audio_data_science\\lib\\site-packages\\librosa\\core\\spectrum.py:266: UserWarning: n_fft=1024 is too large for input signal of length=646\n",
      "  warnings.warn(\n"
     ]
    },
    {
     "name": "stdout",
     "output_type": "stream",
     "text": [
      "38.53% done. Processing file: drummer1/session2/49_punk_128_fill_4-4.wav\n"
     ]
    },
    {
     "name": "stderr",
     "output_type": "stream",
     "text": [
      "c:\\Users\\kevin\\miniconda3\\envs\\audio_data_science\\lib\\site-packages\\librosa\\core\\spectrum.py:266: UserWarning: n_fft=1024 is too large for input signal of length=646\n",
      "  warnings.warn(\n"
     ]
    },
    {
     "name": "stdout",
     "output_type": "stream",
     "text": [
      "38.62% done. Processing file: drummer1/session2/5_jazz_200_beat_3-4.wav\n",
      "38.72% done. Processing file: drummer1/session2/50_punk_128_fill_4-4.wav\n"
     ]
    },
    {
     "name": "stderr",
     "output_type": "stream",
     "text": [
      "c:\\Users\\kevin\\miniconda3\\envs\\audio_data_science\\lib\\site-packages\\librosa\\core\\spectrum.py:266: UserWarning: n_fft=1024 is too large for input signal of length=646\n",
      "  warnings.warn(\n"
     ]
    },
    {
     "name": "stdout",
     "output_type": "stream",
     "text": [
      "38.81% done. Processing file: drummer1/session2/51_punk_128_fill_4-4.wav\n"
     ]
    },
    {
     "name": "stderr",
     "output_type": "stream",
     "text": [
      "c:\\Users\\kevin\\miniconda3\\envs\\audio_data_science\\lib\\site-packages\\librosa\\core\\spectrum.py:266: UserWarning: n_fft=1024 is too large for input signal of length=646\n",
      "  warnings.warn(\n"
     ]
    },
    {
     "name": "stdout",
     "output_type": "stream",
     "text": [
      "38.90% done. Processing file: drummer1/session2/52_punk_128_fill_4-4.wav\n"
     ]
    },
    {
     "name": "stderr",
     "output_type": "stream",
     "text": [
      "c:\\Users\\kevin\\miniconda3\\envs\\audio_data_science\\lib\\site-packages\\librosa\\core\\spectrum.py:266: UserWarning: n_fft=1024 is too large for input signal of length=646\n",
      "  warnings.warn(\n"
     ]
    },
    {
     "name": "stdout",
     "output_type": "stream",
     "text": [
      "38.99% done. Processing file: drummer1/session2/53_punk_128_fill_4-4.wav\n"
     ]
    },
    {
     "name": "stderr",
     "output_type": "stream",
     "text": [
      "c:\\Users\\kevin\\miniconda3\\envs\\audio_data_science\\lib\\site-packages\\librosa\\core\\spectrum.py:266: UserWarning: n_fft=1024 is too large for input signal of length=646\n",
      "  warnings.warn(\n"
     ]
    },
    {
     "name": "stdout",
     "output_type": "stream",
     "text": [
      "39.08% done. Processing file: drummer1/session2/54_punk_128_fill_4-4.wav\n"
     ]
    },
    {
     "name": "stderr",
     "output_type": "stream",
     "text": [
      "c:\\Users\\kevin\\miniconda3\\envs\\audio_data_science\\lib\\site-packages\\librosa\\core\\spectrum.py:266: UserWarning: n_fft=1024 is too large for input signal of length=646\n",
      "  warnings.warn(\n"
     ]
    },
    {
     "name": "stdout",
     "output_type": "stream",
     "text": [
      "39.17% done. Processing file: drummer1/session2/55_punk_128_fill_4-4.wav\n"
     ]
    },
    {
     "name": "stderr",
     "output_type": "stream",
     "text": [
      "c:\\Users\\kevin\\miniconda3\\envs\\audio_data_science\\lib\\site-packages\\librosa\\core\\spectrum.py:266: UserWarning: n_fft=1024 is too large for input signal of length=646\n",
      "  warnings.warn(\n"
     ]
    },
    {
     "name": "stdout",
     "output_type": "stream",
     "text": [
      "39.27% done. Processing file: drummer1/session2/56_punk_128_fill_4-4.wav\n"
     ]
    },
    {
     "name": "stderr",
     "output_type": "stream",
     "text": [
      "c:\\Users\\kevin\\miniconda3\\envs\\audio_data_science\\lib\\site-packages\\librosa\\core\\spectrum.py:266: UserWarning: n_fft=1024 is too large for input signal of length=646\n",
      "  warnings.warn(\n"
     ]
    },
    {
     "name": "stdout",
     "output_type": "stream",
     "text": [
      "39.36% done. Processing file: drummer1/session2/57_punk_128_fill_4-4.wav\n"
     ]
    },
    {
     "name": "stderr",
     "output_type": "stream",
     "text": [
      "c:\\Users\\kevin\\miniconda3\\envs\\audio_data_science\\lib\\site-packages\\librosa\\core\\spectrum.py:266: UserWarning: n_fft=1024 is too large for input signal of length=646\n",
      "  warnings.warn(\n"
     ]
    },
    {
     "name": "stdout",
     "output_type": "stream",
     "text": [
      "39.45% done. Processing file: drummer1/session2/58_punk_128_fill_4-4.wav\n"
     ]
    },
    {
     "name": "stderr",
     "output_type": "stream",
     "text": [
      "c:\\Users\\kevin\\miniconda3\\envs\\audio_data_science\\lib\\site-packages\\librosa\\core\\spectrum.py:266: UserWarning: n_fft=1024 is too large for input signal of length=646\n",
      "  warnings.warn(\n"
     ]
    },
    {
     "name": "stdout",
     "output_type": "stream",
     "text": [
      "39.54% done. Processing file: drummer1/session2/59_punk_128_fill_4-4.wav\n"
     ]
    },
    {
     "name": "stderr",
     "output_type": "stream",
     "text": [
      "c:\\Users\\kevin\\miniconda3\\envs\\audio_data_science\\lib\\site-packages\\librosa\\core\\spectrum.py:266: UserWarning: n_fft=1024 is too large for input signal of length=646\n",
      "  warnings.warn(\n"
     ]
    },
    {
     "name": "stdout",
     "output_type": "stream",
     "text": [
      "39.63% done. Processing file: drummer1/session2/6_rock_102_beat_3-4.wav\n",
      "39.72% done. Processing file: drummer1/session2/60_punk_128_fill_4-4.wav\n"
     ]
    },
    {
     "name": "stderr",
     "output_type": "stream",
     "text": [
      "c:\\Users\\kevin\\miniconda3\\envs\\audio_data_science\\lib\\site-packages\\librosa\\core\\spectrum.py:266: UserWarning: n_fft=1024 is too large for input signal of length=646\n",
      "  warnings.warn(\n"
     ]
    },
    {
     "name": "stdout",
     "output_type": "stream",
     "text": [
      "39.82% done. Processing file: drummer1/session2/61_punk_128_fill_4-4.wav\n"
     ]
    },
    {
     "name": "stderr",
     "output_type": "stream",
     "text": [
      "c:\\Users\\kevin\\miniconda3\\envs\\audio_data_science\\lib\\site-packages\\librosa\\core\\spectrum.py:266: UserWarning: n_fft=1024 is too large for input signal of length=646\n",
      "  warnings.warn(\n"
     ]
    },
    {
     "name": "stdout",
     "output_type": "stream",
     "text": [
      "39.91% done. Processing file: drummer1/session2/62_punk_144_beat_4-4.wav\n",
      "40.00% done. Processing file: drummer1/session2/63_punk_144_fill_4-4.wav\n"
     ]
    },
    {
     "name": "stderr",
     "output_type": "stream",
     "text": [
      "c:\\Users\\kevin\\miniconda3\\envs\\audio_data_science\\lib\\site-packages\\librosa\\core\\spectrum.py:266: UserWarning: n_fft=1024 is too large for input signal of length=575\n",
      "  warnings.warn(\n"
     ]
    },
    {
     "name": "stdout",
     "output_type": "stream",
     "text": [
      "40.09% done. Processing file: drummer1/session2/64_punk_144_fill_4-4.wav\n"
     ]
    },
    {
     "name": "stderr",
     "output_type": "stream",
     "text": [
      "c:\\Users\\kevin\\miniconda3\\envs\\audio_data_science\\lib\\site-packages\\librosa\\core\\spectrum.py:266: UserWarning: n_fft=1024 is too large for input signal of length=575\n",
      "  warnings.warn(\n"
     ]
    },
    {
     "name": "stdout",
     "output_type": "stream",
     "text": [
      "40.18% done. Processing file: drummer1/session2/65_punk_144_fill_4-4.wav\n"
     ]
    },
    {
     "name": "stderr",
     "output_type": "stream",
     "text": [
      "c:\\Users\\kevin\\miniconda3\\envs\\audio_data_science\\lib\\site-packages\\librosa\\core\\spectrum.py:266: UserWarning: n_fft=1024 is too large for input signal of length=575\n",
      "  warnings.warn(\n"
     ]
    },
    {
     "name": "stdout",
     "output_type": "stream",
     "text": [
      "40.28% done. Processing file: drummer1/session2/66_punk_144_fill_4-4.wav\n"
     ]
    },
    {
     "name": "stderr",
     "output_type": "stream",
     "text": [
      "c:\\Users\\kevin\\miniconda3\\envs\\audio_data_science\\lib\\site-packages\\librosa\\core\\spectrum.py:266: UserWarning: n_fft=1024 is too large for input signal of length=575\n",
      "  warnings.warn(\n"
     ]
    },
    {
     "name": "stdout",
     "output_type": "stream",
     "text": [
      "40.37% done. Processing file: drummer1/session2/67_punk_144_fill_4-4.wav\n"
     ]
    },
    {
     "name": "stderr",
     "output_type": "stream",
     "text": [
      "c:\\Users\\kevin\\miniconda3\\envs\\audio_data_science\\lib\\site-packages\\librosa\\core\\spectrum.py:266: UserWarning: n_fft=1024 is too large for input signal of length=575\n",
      "  warnings.warn(\n"
     ]
    },
    {
     "name": "stdout",
     "output_type": "stream",
     "text": [
      "40.46% done. Processing file: drummer1/session2/68_punk_144_fill_4-4.wav\n"
     ]
    },
    {
     "name": "stderr",
     "output_type": "stream",
     "text": [
      "c:\\Users\\kevin\\miniconda3\\envs\\audio_data_science\\lib\\site-packages\\librosa\\core\\spectrum.py:266: UserWarning: n_fft=1024 is too large for input signal of length=575\n",
      "  warnings.warn(\n"
     ]
    },
    {
     "name": "stdout",
     "output_type": "stream",
     "text": [
      "40.55% done. Processing file: drummer1/session2/69_punk_144_fill_4-4.wav\n"
     ]
    },
    {
     "name": "stderr",
     "output_type": "stream",
     "text": [
      "c:\\Users\\kevin\\miniconda3\\envs\\audio_data_science\\lib\\site-packages\\librosa\\core\\spectrum.py:266: UserWarning: n_fft=1024 is too large for input signal of length=575\n",
      "  warnings.warn(\n"
     ]
    },
    {
     "name": "stdout",
     "output_type": "stream",
     "text": [
      "40.64% done. Processing file: drummer1/session2/7_jazz-march_88_beat_4-4.wav\n",
      "40.73% done. Processing file: drummer1/session2/70_punk_144_fill_4-4.wav\n"
     ]
    },
    {
     "name": "stderr",
     "output_type": "stream",
     "text": [
      "c:\\Users\\kevin\\miniconda3\\envs\\audio_data_science\\lib\\site-packages\\librosa\\core\\spectrum.py:266: UserWarning: n_fft=1024 is too large for input signal of length=575\n",
      "  warnings.warn(\n"
     ]
    },
    {
     "name": "stdout",
     "output_type": "stream",
     "text": [
      "40.83% done. Processing file: drummer1/session2/71_punk_144_fill_4-4.wav\n"
     ]
    },
    {
     "name": "stderr",
     "output_type": "stream",
     "text": [
      "c:\\Users\\kevin\\miniconda3\\envs\\audio_data_science\\lib\\site-packages\\librosa\\core\\spectrum.py:266: UserWarning: n_fft=1024 is too large for input signal of length=575\n",
      "  warnings.warn(\n"
     ]
    },
    {
     "name": "stdout",
     "output_type": "stream",
     "text": [
      "40.92% done. Processing file: drummer1/session2/72_punk_144_fill_4-4.wav\n"
     ]
    },
    {
     "name": "stderr",
     "output_type": "stream",
     "text": [
      "c:\\Users\\kevin\\miniconda3\\envs\\audio_data_science\\lib\\site-packages\\librosa\\core\\spectrum.py:266: UserWarning: n_fft=1024 is too large for input signal of length=575\n",
      "  warnings.warn(\n"
     ]
    },
    {
     "name": "stdout",
     "output_type": "stream",
     "text": [
      "41.01% done. Processing file: drummer1/session2/73_punk_144_fill_4-4.wav\n"
     ]
    },
    {
     "name": "stderr",
     "output_type": "stream",
     "text": [
      "c:\\Users\\kevin\\miniconda3\\envs\\audio_data_science\\lib\\site-packages\\librosa\\core\\spectrum.py:266: UserWarning: n_fft=1024 is too large for input signal of length=575\n",
      "  warnings.warn(\n"
     ]
    },
    {
     "name": "stdout",
     "output_type": "stream",
     "text": [
      "41.10% done. Processing file: drummer1/session2/74_punk_144_fill_4-4.wav\n"
     ]
    },
    {
     "name": "stderr",
     "output_type": "stream",
     "text": [
      "c:\\Users\\kevin\\miniconda3\\envs\\audio_data_science\\lib\\site-packages\\librosa\\core\\spectrum.py:266: UserWarning: n_fft=1024 is too large for input signal of length=575\n",
      "  warnings.warn(\n"
     ]
    },
    {
     "name": "stdout",
     "output_type": "stream",
     "text": [
      "41.19% done. Processing file: drummer1/session2/75_punk_144_fill_4-4.wav\n"
     ]
    },
    {
     "name": "stderr",
     "output_type": "stream",
     "text": [
      "c:\\Users\\kevin\\miniconda3\\envs\\audio_data_science\\lib\\site-packages\\librosa\\core\\spectrum.py:266: UserWarning: n_fft=1024 is too large for input signal of length=575\n",
      "  warnings.warn(\n"
     ]
    },
    {
     "name": "stdout",
     "output_type": "stream",
     "text": [
      "41.28% done. Processing file: drummer1/session2/76_punk_144_fill_4-4.wav\n"
     ]
    },
    {
     "name": "stderr",
     "output_type": "stream",
     "text": [
      "c:\\Users\\kevin\\miniconda3\\envs\\audio_data_science\\lib\\site-packages\\librosa\\core\\spectrum.py:266: UserWarning: n_fft=1024 is too large for input signal of length=575\n",
      "  warnings.warn(\n"
     ]
    },
    {
     "name": "stdout",
     "output_type": "stream",
     "text": [
      "41.38% done. Processing file: drummer1/session2/77_punk_144_fill_4-4.wav\n"
     ]
    },
    {
     "name": "stderr",
     "output_type": "stream",
     "text": [
      "c:\\Users\\kevin\\miniconda3\\envs\\audio_data_science\\lib\\site-packages\\librosa\\core\\spectrum.py:266: UserWarning: n_fft=1024 is too large for input signal of length=575\n",
      "  warnings.warn(\n"
     ]
    },
    {
     "name": "stdout",
     "output_type": "stream",
     "text": [
      "41.47% done. Processing file: drummer1/session2/78_punk_144_fill_4-4.wav\n"
     ]
    },
    {
     "name": "stderr",
     "output_type": "stream",
     "text": [
      "c:\\Users\\kevin\\miniconda3\\envs\\audio_data_science\\lib\\site-packages\\librosa\\core\\spectrum.py:266: UserWarning: n_fft=1024 is too large for input signal of length=575\n",
      "  warnings.warn(\n"
     ]
    },
    {
     "name": "stdout",
     "output_type": "stream",
     "text": [
      "41.56% done. Processing file: drummer1/session2/79_punk_144_fill_4-4.wav\n"
     ]
    },
    {
     "name": "stderr",
     "output_type": "stream",
     "text": [
      "c:\\Users\\kevin\\miniconda3\\envs\\audio_data_science\\lib\\site-packages\\librosa\\core\\spectrum.py:266: UserWarning: n_fft=1024 is too large for input signal of length=575\n",
      "  warnings.warn(\n"
     ]
    },
    {
     "name": "stdout",
     "output_type": "stream",
     "text": [
      "41.65% done. Processing file: drummer1/session2/8_jazz-march_176_beat_4-4.wav\n",
      "41.74% done. Processing file: drummer1/session2/80_punk_144_fill_4-4.wav\n"
     ]
    },
    {
     "name": "stderr",
     "output_type": "stream",
     "text": [
      "c:\\Users\\kevin\\miniconda3\\envs\\audio_data_science\\lib\\site-packages\\librosa\\core\\spectrum.py:266: UserWarning: n_fft=1024 is too large for input signal of length=575\n",
      "  warnings.warn(\n"
     ]
    },
    {
     "name": "stdout",
     "output_type": "stream",
     "text": [
      "41.83% done. Processing file: drummer1/session2/81_punk_144_fill_4-4.wav\n"
     ]
    },
    {
     "name": "stderr",
     "output_type": "stream",
     "text": [
      "c:\\Users\\kevin\\miniconda3\\envs\\audio_data_science\\lib\\site-packages\\librosa\\core\\spectrum.py:266: UserWarning: n_fft=1024 is too large for input signal of length=575\n",
      "  warnings.warn(\n"
     ]
    },
    {
     "name": "stdout",
     "output_type": "stream",
     "text": [
      "41.93% done. Processing file: drummer1/session2/82_punk_144_fill_4-4.wav\n"
     ]
    },
    {
     "name": "stderr",
     "output_type": "stream",
     "text": [
      "c:\\Users\\kevin\\miniconda3\\envs\\audio_data_science\\lib\\site-packages\\librosa\\core\\spectrum.py:266: UserWarning: n_fft=1024 is too large for input signal of length=575\n",
      "  warnings.warn(\n"
     ]
    },
    {
     "name": "stdout",
     "output_type": "stream",
     "text": [
      "42.02% done. Processing file: drummer1/session2/83_punk_144_fill_4-4.wav\n"
     ]
    },
    {
     "name": "stderr",
     "output_type": "stream",
     "text": [
      "c:\\Users\\kevin\\miniconda3\\envs\\audio_data_science\\lib\\site-packages\\librosa\\core\\spectrum.py:266: UserWarning: n_fft=1024 is too large for input signal of length=575\n",
      "  warnings.warn(\n"
     ]
    },
    {
     "name": "stdout",
     "output_type": "stream",
     "text": [
      "42.11% done. Processing file: drummer1/session2/84_punk_144_fill_4-4.wav\n"
     ]
    },
    {
     "name": "stderr",
     "output_type": "stream",
     "text": [
      "c:\\Users\\kevin\\miniconda3\\envs\\audio_data_science\\lib\\site-packages\\librosa\\core\\spectrum.py:266: UserWarning: n_fft=1024 is too large for input signal of length=575\n",
      "  warnings.warn(\n"
     ]
    },
    {
     "name": "stdout",
     "output_type": "stream",
     "text": [
      "42.20% done. Processing file: drummer1/session2/85_punk_144_fill_4-4.wav\n"
     ]
    },
    {
     "name": "stderr",
     "output_type": "stream",
     "text": [
      "c:\\Users\\kevin\\miniconda3\\envs\\audio_data_science\\lib\\site-packages\\librosa\\core\\spectrum.py:266: UserWarning: n_fft=1024 is too large for input signal of length=575\n",
      "  warnings.warn(\n"
     ]
    },
    {
     "name": "stdout",
     "output_type": "stream",
     "text": [
      "42.29% done. Processing file: drummer1/session2/86_punk_144_fill_4-4.wav\n"
     ]
    },
    {
     "name": "stderr",
     "output_type": "stream",
     "text": [
      "c:\\Users\\kevin\\miniconda3\\envs\\audio_data_science\\lib\\site-packages\\librosa\\core\\spectrum.py:266: UserWarning: n_fft=1024 is too large for input signal of length=575\n",
      "  warnings.warn(\n"
     ]
    },
    {
     "name": "stdout",
     "output_type": "stream",
     "text": [
      "42.39% done. Processing file: drummer1/session2/87_punk_144_fill_4-4.wav\n"
     ]
    },
    {
     "name": "stderr",
     "output_type": "stream",
     "text": [
      "c:\\Users\\kevin\\miniconda3\\envs\\audio_data_science\\lib\\site-packages\\librosa\\core\\spectrum.py:266: UserWarning: n_fft=1024 is too large for input signal of length=575\n",
      "  warnings.warn(\n"
     ]
    },
    {
     "name": "stdout",
     "output_type": "stream",
     "text": [
      "42.48% done. Processing file: drummer1/session2/88_punk_144_fill_4-4.wav\n"
     ]
    },
    {
     "name": "stderr",
     "output_type": "stream",
     "text": [
      "c:\\Users\\kevin\\miniconda3\\envs\\audio_data_science\\lib\\site-packages\\librosa\\core\\spectrum.py:266: UserWarning: n_fft=1024 is too large for input signal of length=575\n",
      "  warnings.warn(\n"
     ]
    },
    {
     "name": "stdout",
     "output_type": "stream",
     "text": [
      "42.57% done. Processing file: drummer1/session2/89_punk_144_fill_4-4.wav\n"
     ]
    },
    {
     "name": "stderr",
     "output_type": "stream",
     "text": [
      "c:\\Users\\kevin\\miniconda3\\envs\\audio_data_science\\lib\\site-packages\\librosa\\core\\spectrum.py:266: UserWarning: n_fft=1024 is too large for input signal of length=561\n",
      "  warnings.warn(\n"
     ]
    },
    {
     "name": "stdout",
     "output_type": "stream",
     "text": [
      "42.66% done. Processing file: drummer1/session2/9_jazz-march_120_beat_4-4.wav\n",
      "42.75% done. Processing file: drummer1/session2/90_funk-rock_92_beat_4-4.wav\n",
      "42.84% done. Processing file: drummer1/session2/91_funk-rock_92_fill_4-4.wav\n"
     ]
    },
    {
     "name": "stderr",
     "output_type": "stream",
     "text": [
      "c:\\Users\\kevin\\miniconda3\\envs\\audio_data_science\\lib\\site-packages\\librosa\\core\\spectrum.py:266: UserWarning: n_fft=1024 is too large for input signal of length=897\n",
      "  warnings.warn(\n"
     ]
    },
    {
     "name": "stdout",
     "output_type": "stream",
     "text": [
      "42.94% done. Processing file: drummer1/session2/92_funk-rock_92_fill_4-4.wav\n"
     ]
    },
    {
     "name": "stderr",
     "output_type": "stream",
     "text": [
      "c:\\Users\\kevin\\miniconda3\\envs\\audio_data_science\\lib\\site-packages\\librosa\\core\\spectrum.py:266: UserWarning: n_fft=1024 is too large for input signal of length=899\n",
      "  warnings.warn(\n"
     ]
    },
    {
     "name": "stdout",
     "output_type": "stream",
     "text": [
      "43.03% done. Processing file: drummer1/session2/93_funk-rock_92_fill_4-4.wav\n"
     ]
    },
    {
     "name": "stderr",
     "output_type": "stream",
     "text": [
      "c:\\Users\\kevin\\miniconda3\\envs\\audio_data_science\\lib\\site-packages\\librosa\\core\\spectrum.py:266: UserWarning: n_fft=1024 is too large for input signal of length=899\n",
      "  warnings.warn(\n"
     ]
    },
    {
     "name": "stdout",
     "output_type": "stream",
     "text": [
      "43.12% done. Processing file: drummer1/session2/94_funk-rock_92_fill_4-4.wav\n"
     ]
    },
    {
     "name": "stderr",
     "output_type": "stream",
     "text": [
      "c:\\Users\\kevin\\miniconda3\\envs\\audio_data_science\\lib\\site-packages\\librosa\\core\\spectrum.py:266: UserWarning: n_fft=1024 is too large for input signal of length=899\n",
      "  warnings.warn(\n"
     ]
    },
    {
     "name": "stdout",
     "output_type": "stream",
     "text": [
      "43.21% done. Processing file: drummer1/session2/95_funk-rock_92_fill_4-4.wav\n"
     ]
    },
    {
     "name": "stderr",
     "output_type": "stream",
     "text": [
      "c:\\Users\\kevin\\miniconda3\\envs\\audio_data_science\\lib\\site-packages\\librosa\\core\\spectrum.py:266: UserWarning: n_fft=1024 is too large for input signal of length=899\n",
      "  warnings.warn(\n"
     ]
    },
    {
     "name": "stdout",
     "output_type": "stream",
     "text": [
      "43.30% done. Processing file: drummer1/session2/96_funk-rock_92_fill_4-4.wav\n"
     ]
    },
    {
     "name": "stderr",
     "output_type": "stream",
     "text": [
      "c:\\Users\\kevin\\miniconda3\\envs\\audio_data_science\\lib\\site-packages\\librosa\\core\\spectrum.py:266: UserWarning: n_fft=1024 is too large for input signal of length=899\n",
      "  warnings.warn(\n"
     ]
    },
    {
     "name": "stdout",
     "output_type": "stream",
     "text": [
      "43.39% done. Processing file: drummer1/session2/97_funk-rock_92_fill_4-4.wav\n"
     ]
    },
    {
     "name": "stderr",
     "output_type": "stream",
     "text": [
      "c:\\Users\\kevin\\miniconda3\\envs\\audio_data_science\\lib\\site-packages\\librosa\\core\\spectrum.py:266: UserWarning: n_fft=1024 is too large for input signal of length=899\n",
      "  warnings.warn(\n"
     ]
    },
    {
     "name": "stdout",
     "output_type": "stream",
     "text": [
      "43.49% done. Processing file: drummer1/session2/98_funk-rock_92_fill_4-4.wav\n"
     ]
    },
    {
     "name": "stderr",
     "output_type": "stream",
     "text": [
      "c:\\Users\\kevin\\miniconda3\\envs\\audio_data_science\\lib\\site-packages\\librosa\\core\\spectrum.py:266: UserWarning: n_fft=1024 is too large for input signal of length=899\n",
      "  warnings.warn(\n"
     ]
    },
    {
     "name": "stdout",
     "output_type": "stream",
     "text": [
      "43.58% done. Processing file: drummer1/session2/99_funk-rock_92_fill_4-4.wav\n"
     ]
    },
    {
     "name": "stderr",
     "output_type": "stream",
     "text": [
      "c:\\Users\\kevin\\miniconda3\\envs\\audio_data_science\\lib\\site-packages\\librosa\\core\\spectrum.py:266: UserWarning: n_fft=1024 is too large for input signal of length=899\n",
      "  warnings.warn(\n"
     ]
    },
    {
     "name": "stdout",
     "output_type": "stream",
     "text": [
      "43.67% done. Processing file: drummer1/session3/1_rock-prog_125_beat_4-4.wav\n",
      "43.76% done. Processing file: drummer1/session3/10_rock-folk_90_beat_4-4.wav\n",
      "43.85% done. Processing file: drummer1/session3/11_afrobeat_94_beat_4-4.wav\n",
      "43.94% done. Processing file: drummer1/session3/12_latin-bomba_96_beat_4-4.wav\n",
      "44.04% done. Processing file: drummer1/session3/13_rock_115_beat_4-4.wav\n",
      "44.13% done. Processing file: drummer1/session3/14_rock_94_beat_4-4.wav\n",
      "44.22% done. Processing file: drummer1/session3/15_funk_117_beat_4-4.wav\n",
      "44.31% done. Processing file: drummer1/session3/16_funk_117_beat_4-4.wav\n",
      "44.40% done. Processing file: drummer1/session3/17_afrocuban-calypso_108_beat_4-4.wav\n",
      "44.50% done. Processing file: drummer1/session3/18_rock_128_beat_4-4.wav\n",
      "44.59% done. Processing file: drummer1/session3/2_jazz-swing_185_beat_4-4.wav\n",
      "44.68% done. Processing file: drummer1/session3/3_rock-rockabilly_200_beat_4-4.wav\n",
      "44.77% done. Processing file: drummer1/session3/4_jazz-linear_182_beat_4-4.wav\n",
      "44.86% done. Processing file: drummer1/session3/5_jazz-linear_128_beat_4-4.wav\n",
      "44.95% done. Processing file: drummer1/session3/6_dance-disco_120_beat_4-4.wav\n",
      "45.05% done. Processing file: drummer1/session3/7_dance-disco_120_beat_4-4.wav\n",
      "45.14% done. Processing file: drummer1/session3/8_rock_135_beat_4-4.wav\n",
      "45.23% done. Processing file: drummer1/session3/9_rock_135_beat_4-4.wav\n",
      "45.32% done. Processing file: drummer10/session1/1_jazz-swing_124_beat_4-4.wav\n",
      "45.41% done. Processing file: drummer10/session1/10_jazz-swing_110_beat_4-4.wav\n",
      "45.50% done. Processing file: drummer10/session1/2_jazz-swing_215_beat_4-4.wav\n",
      "45.60% done. Processing file: drummer10/session1/3_jazz-swing_215_beat_4-4.wav\n",
      "45.69% done. Processing file: drummer10/session1/4_jazz-swing_215_beat_4-4.wav\n",
      "45.78% done. Processing file: drummer10/session1/5_jazz-swing_215_beat_4-4.wav\n",
      "45.87% done. Processing file: drummer10/session1/6_jazz-swing_215_beat_4-4.wav\n",
      "45.96% done. Processing file: drummer10/session1/7_jazz-swing_215_beat_4-4.wav\n",
      "46.06% done. Processing file: drummer10/session1/8_jazz-swing_215_beat_4-4.wav\n",
      "46.15% done. Processing file: drummer10/session1/9_jazz-swing_110_beat_4-4.wav\n",
      "46.24% done. Processing file: drummer3/session1/1_rock_105_beat_4-4.wav\n",
      "46.33% done. Processing file: drummer3/session1/10_rock_105_beat_4-4.wav\n",
      "46.42% done. Processing file: drummer3/session1/11_rock_120_beat_4-4.wav\n",
      "46.51% done. Processing file: drummer3/session1/12_rock_120_beat_4-4.wav\n",
      "46.61% done. Processing file: drummer3/session1/13_rock_120_beat_4-4.wav\n",
      "46.70% done. Processing file: drummer3/session1/14_rock_120_beat_4-4.wav\n",
      "46.79% done. Processing file: drummer3/session1/15_jazz_120_beat_4-4.wav\n",
      "46.88% done. Processing file: drummer3/session1/16_jazz_120_beat_4-4.wav\n",
      "46.97% done. Processing file: drummer3/session1/17_jazz_120_beat_4-4.wav\n",
      "47.06% done. Processing file: drummer3/session1/18_rock_120_beat_4-4.wav\n",
      "47.16% done. Processing file: drummer3/session1/19_jazz_120_beat_4-4.wav\n",
      "47.25% done. Processing file: drummer3/session1/2_rock_105_beat_4-4.wav\n",
      "47.34% done. Processing file: drummer3/session1/20_rock_120_beat_4-4.wav\n",
      "47.43% done. Processing file: drummer3/session1/21_jazz_120_beat_4-4.wav\n",
      "47.52% done. Processing file: drummer3/session1/22_jazz_120_beat_4-4.wav\n",
      "47.61% done. Processing file: drummer3/session1/23_jazz_120_beat_4-4.wav\n",
      "47.71% done. Processing file: drummer3/session1/24_rock_120_beat_4-4.wav\n",
      "47.80% done. Processing file: drummer3/session1/25_rock_120_beat_4-4.wav\n",
      "47.89% done. Processing file: drummer3/session1/26_rock_120_beat_4-4.wav\n"
     ]
    },
    {
     "name": "stderr",
     "output_type": "stream",
     "text": [
      "c:\\Users\\kevin\\miniconda3\\envs\\audio_data_science\\lib\\site-packages\\librosa\\core\\spectrum.py:266: UserWarning: n_fft=1024 is too large for input signal of length=690\n",
      "  warnings.warn(\n"
     ]
    },
    {
     "name": "stdout",
     "output_type": "stream",
     "text": [
      "47.98% done. Processing file: drummer3/session1/27_rock_120_beat_4-4.wav\n"
     ]
    },
    {
     "name": "stderr",
     "output_type": "stream",
     "text": [
      "c:\\Users\\kevin\\miniconda3\\envs\\audio_data_science\\lib\\site-packages\\librosa\\core\\spectrum.py:266: UserWarning: n_fft=1024 is too large for input signal of length=690\n",
      "  warnings.warn(\n"
     ]
    },
    {
     "name": "stdout",
     "output_type": "stream",
     "text": [
      "48.07% done. Processing file: drummer3/session1/28_rock_120_beat_4-4.wav\n"
     ]
    },
    {
     "name": "stderr",
     "output_type": "stream",
     "text": [
      "c:\\Users\\kevin\\miniconda3\\envs\\audio_data_science\\lib\\site-packages\\librosa\\core\\spectrum.py:266: UserWarning: n_fft=1024 is too large for input signal of length=582\n",
      "  warnings.warn(\n"
     ]
    },
    {
     "name": "stdout",
     "output_type": "stream",
     "text": [
      "48.17% done. Processing file: drummer3/session1/29_rock_120_beat_4-4.wav\n",
      "48.26% done. Processing file: drummer3/session1/3_rock_105_beat_4-4.wav\n",
      "48.35% done. Processing file: drummer3/session1/30_rock_120_beat_4-4.wav\n"
     ]
    },
    {
     "name": "stderr",
     "output_type": "stream",
     "text": [
      "c:\\Users\\kevin\\miniconda3\\envs\\audio_data_science\\lib\\site-packages\\librosa\\core\\spectrum.py:266: UserWarning: n_fft=1024 is too large for input signal of length=690\n",
      "  warnings.warn(\n"
     ]
    },
    {
     "name": "stdout",
     "output_type": "stream",
     "text": [
      "48.44% done. Processing file: drummer3/session1/31_jazz_120_beat_4-4.wav\n",
      "48.53% done. Processing file: drummer3/session1/32_jazz_120_beat_4-4.wav\n",
      "48.62% done. Processing file: drummer3/session1/33_jazz_120_beat_4-4.wav\n",
      "48.72% done. Processing file: drummer3/session1/34_rock_120_beat_4-4.wav\n"
     ]
    },
    {
     "name": "stderr",
     "output_type": "stream",
     "text": [
      "c:\\Users\\kevin\\miniconda3\\envs\\audio_data_science\\lib\\site-packages\\librosa\\core\\spectrum.py:266: UserWarning: n_fft=1024 is too large for input signal of length=690\n",
      "  warnings.warn(\n"
     ]
    },
    {
     "name": "stdout",
     "output_type": "stream",
     "text": [
      "48.81% done. Processing file: drummer3/session1/35_rock_120_beat_4-4.wav\n",
      "48.90% done. Processing file: drummer3/session1/36_rock_120_beat_4-4.wav\n"
     ]
    },
    {
     "name": "stderr",
     "output_type": "stream",
     "text": [
      "c:\\Users\\kevin\\miniconda3\\envs\\audio_data_science\\lib\\site-packages\\librosa\\core\\spectrum.py:266: UserWarning: n_fft=1024 is too large for input signal of length=690\n",
      "  warnings.warn(\n"
     ]
    },
    {
     "name": "stdout",
     "output_type": "stream",
     "text": [
      "48.99% done. Processing file: drummer3/session1/37_rock_120_beat_4-4.wav\n"
     ]
    },
    {
     "name": "stderr",
     "output_type": "stream",
     "text": [
      "c:\\Users\\kevin\\miniconda3\\envs\\audio_data_science\\lib\\site-packages\\librosa\\core\\spectrum.py:266: UserWarning: n_fft=1024 is too large for input signal of length=690\n",
      "  warnings.warn(\n"
     ]
    },
    {
     "name": "stdout",
     "output_type": "stream",
     "text": [
      "49.08% done. Processing file: drummer3/session1/38_rock_120_beat_4-4.wav\n"
     ]
    },
    {
     "name": "stderr",
     "output_type": "stream",
     "text": [
      "c:\\Users\\kevin\\miniconda3\\envs\\audio_data_science\\lib\\site-packages\\librosa\\core\\spectrum.py:266: UserWarning: n_fft=1024 is too large for input signal of length=690\n",
      "  warnings.warn(\n"
     ]
    },
    {
     "name": "stdout",
     "output_type": "stream",
     "text": [
      "49.17% done. Processing file: drummer3/session1/39_jazz_120_beat_4-4.wav\n",
      "49.27% done. Processing file: drummer3/session1/4_rock_105_beat_4-4.wav\n",
      "49.36% done. Processing file: drummer3/session1/40_rock_120_beat_4-4.wav\n"
     ]
    },
    {
     "name": "stderr",
     "output_type": "stream",
     "text": [
      "c:\\Users\\kevin\\miniconda3\\envs\\audio_data_science\\lib\\site-packages\\librosa\\core\\spectrum.py:266: UserWarning: n_fft=1024 is too large for input signal of length=690\n",
      "  warnings.warn(\n"
     ]
    },
    {
     "name": "stdout",
     "output_type": "stream",
     "text": [
      "49.45% done. Processing file: drummer3/session1/41_rock_120_beat_4-4.wav\n"
     ]
    },
    {
     "name": "stderr",
     "output_type": "stream",
     "text": [
      "c:\\Users\\kevin\\miniconda3\\envs\\audio_data_science\\lib\\site-packages\\librosa\\core\\spectrum.py:266: UserWarning: n_fft=1024 is too large for input signal of length=690\n",
      "  warnings.warn(\n"
     ]
    },
    {
     "name": "stdout",
     "output_type": "stream",
     "text": [
      "49.54% done. Processing file: drummer3/session1/42_rock_120_beat_4-4.wav\n"
     ]
    },
    {
     "name": "stderr",
     "output_type": "stream",
     "text": [
      "c:\\Users\\kevin\\miniconda3\\envs\\audio_data_science\\lib\\site-packages\\librosa\\core\\spectrum.py:266: UserWarning: n_fft=1024 is too large for input signal of length=690\n",
      "  warnings.warn(\n"
     ]
    },
    {
     "name": "stdout",
     "output_type": "stream",
     "text": [
      "49.63% done. Processing file: drummer3/session1/43_rock_120_beat_4-4.wav\n"
     ]
    },
    {
     "name": "stderr",
     "output_type": "stream",
     "text": [
      "c:\\Users\\kevin\\miniconda3\\envs\\audio_data_science\\lib\\site-packages\\librosa\\core\\spectrum.py:266: UserWarning: n_fft=1024 is too large for input signal of length=690\n",
      "  warnings.warn(\n"
     ]
    },
    {
     "name": "stdout",
     "output_type": "stream",
     "text": [
      "49.72% done. Processing file: drummer3/session1/44_rock_120_beat_4-4.wav\n",
      "49.82% done. Processing file: drummer3/session1/45_rock_120_beat_4-4.wav\n",
      "49.91% done. Processing file: drummer3/session1/46_rock_120_beat_4-4.wav\n"
     ]
    },
    {
     "name": "stderr",
     "output_type": "stream",
     "text": [
      "c:\\Users\\kevin\\miniconda3\\envs\\audio_data_science\\lib\\site-packages\\librosa\\core\\spectrum.py:266: UserWarning: n_fft=1024 is too large for input signal of length=690\n",
      "  warnings.warn(\n"
     ]
    },
    {
     "name": "stdout",
     "output_type": "stream",
     "text": [
      "50.00% done. Processing file: drummer3/session1/47_rock_120_beat_4-4.wav\n"
     ]
    },
    {
     "name": "stderr",
     "output_type": "stream",
     "text": [
      "c:\\Users\\kevin\\miniconda3\\envs\\audio_data_science\\lib\\site-packages\\librosa\\core\\spectrum.py:266: UserWarning: n_fft=1024 is too large for input signal of length=646\n",
      "  warnings.warn(\n"
     ]
    },
    {
     "name": "stdout",
     "output_type": "stream",
     "text": [
      "50.09% done. Processing file: drummer3/session1/48_rock_120_beat_4-4.wav\n",
      "50.18% done. Processing file: drummer3/session1/49_rock_120_beat_4-4.wav\n",
      "50.28% done. Processing file: drummer3/session1/5_rock_105_beat_4-4.wav\n",
      "50.37% done. Processing file: drummer3/session1/50_rock_120_beat_4-4.wav\n",
      "50.46% done. Processing file: drummer3/session1/6_rock_105_beat_4-4.wav\n",
      "50.55% done. Processing file: drummer3/session1/7_rock_105_beat_4-4.wav\n",
      "50.64% done. Processing file: drummer3/session1/8_jazz_105_beat_4-4.wav\n",
      "50.73% done. Processing file: drummer3/session1/9_rock_105_beat_4-4.wav\n",
      "50.83% done. Processing file: drummer3/session2/1_rock_100_beat_4-4.wav\n",
      "50.92% done. Processing file: drummer3/session2/10_rock_100_beat_4-4.wav\n",
      "51.01% done. Processing file: drummer3/session2/11_rock_100_beat_4-4.wav\n",
      "51.10% done. Processing file: drummer3/session2/12_rock_100_beat_4-4.wav\n",
      "51.19% done. Processing file: drummer3/session2/13_rock_100_beat_4-4.wav\n",
      "51.28% done. Processing file: drummer3/session2/14_rock_100_beat_4-4.wav\n",
      "51.38% done. Processing file: drummer3/session2/15_rock_100_beat_4-4.wav\n",
      "51.47% done. Processing file: drummer3/session2/16_rock_100_beat_4-4.wav\n",
      "51.56% done. Processing file: drummer3/session2/17_rock_100_beat_4-4.wav\n",
      "51.65% done. Processing file: drummer3/session2/18_rock_100_beat_4-4.wav\n",
      "51.74% done. Processing file: drummer3/session2/19_rock_100_beat_4-4.wav\n"
     ]
    },
    {
     "name": "stderr",
     "output_type": "stream",
     "text": [
      "c:\\Users\\kevin\\miniconda3\\envs\\audio_data_science\\lib\\site-packages\\librosa\\core\\spectrum.py:266: UserWarning: n_fft=1024 is too large for input signal of length=827\n",
      "  warnings.warn(\n"
     ]
    },
    {
     "name": "stdout",
     "output_type": "stream",
     "text": [
      "51.83% done. Processing file: drummer3/session2/2_rock_100_beat_4-4.wav\n",
      "51.93% done. Processing file: drummer3/session2/20_rock_92_beat_4-4.wav\n",
      "52.02% done. Processing file: drummer3/session2/21_rock_92_beat_4-4.wav\n",
      "52.11% done. Processing file: drummer3/session2/22_rock_92_beat_4-4.wav\n",
      "52.20% done. Processing file: drummer3/session2/23_rock_92_beat_4-4.wav\n",
      "52.29% done. Processing file: drummer3/session2/24_rock_92_beat_4-4.wav\n",
      "52.39% done. Processing file: drummer3/session2/25_hiphop_92_beat_4-4.wav\n",
      "52.48% done. Processing file: drummer3/session2/26_hiphop_92_beat_4-4.wav\n",
      "52.57% done. Processing file: drummer3/session2/27_jazz_92_beat_4-4.wav\n",
      "52.66% done. Processing file: drummer3/session2/28_rock_92_beat_4-4.wav\n",
      "52.75% done. Processing file: drummer3/session2/29_rock_92_beat_4-4.wav\n",
      "52.84% done. Processing file: drummer3/session2/3_rock_100_beat_4-4.wav\n",
      "52.94% done. Processing file: drummer3/session2/30_rock_92_beat_4-4.wav\n",
      "53.03% done. Processing file: drummer3/session2/31_hiphop_92_beat_4-4.wav\n",
      "53.12% done. Processing file: drummer3/session2/32_hiphop_92_beat_4-4.wav\n",
      "53.21% done. Processing file: drummer3/session2/33_hiphop_92_beat_4-4.wav\n",
      "53.30% done. Processing file: drummer3/session2/34_rock_92_beat_4-4.wav\n",
      "53.39% done. Processing file: drummer3/session2/35_rock_92_beat_4-4.wav\n",
      "53.49% done. Processing file: drummer3/session2/36_rock_92_beat_4-4.wav\n",
      "53.58% done. Processing file: drummer3/session2/37_rock_92_beat_4-4.wav\n",
      "53.67% done. Processing file: drummer3/session2/38_rock_92_beat_4-4.wav\n",
      "53.76% done. Processing file: drummer3/session2/39_rock_92_fill_4-4.wav\n"
     ]
    },
    {
     "name": "stderr",
     "output_type": "stream",
     "text": [
      "c:\\Users\\kevin\\miniconda3\\envs\\audio_data_science\\lib\\site-packages\\librosa\\core\\spectrum.py:266: UserWarning: n_fft=1024 is too large for input signal of length=843\n",
      "  warnings.warn(\n"
     ]
    },
    {
     "name": "stdout",
     "output_type": "stream",
     "text": [
      "53.85% done. Processing file: drummer3/session2/4_rock_100_beat_4-4.wav\n",
      "53.94% done. Processing file: drummer3/session2/40_hiphop_110_beat_4-4.wav\n",
      "54.04% done. Processing file: drummer3/session2/41_hiphop_110_beat_4-4.wav\n",
      "54.13% done. Processing file: drummer3/session2/42_rock_110_beat_4-4.wav\n",
      "54.22% done. Processing file: drummer3/session2/43_rock_110_beat_4-4.wav\n",
      "54.31% done. Processing file: drummer3/session2/44_rock_110_fill_4-4.wav\n",
      "54.40% done. Processing file: drummer3/session2/45_rock_110_fill_4-4.wav\n",
      "54.50% done. Processing file: drummer3/session2/46_rock_110_fill_4-4.wav\n",
      "54.59% done. Processing file: drummer3/session2/47_rock_110_beat_4-4.wav\n",
      "54.68% done. Processing file: drummer3/session2/48_rock_110_beat_4-4.wav\n",
      "54.77% done. Processing file: drummer3/session2/5_rock_100_beat_4-4.wav\n",
      "54.86% done. Processing file: drummer3/session2/6_rock_100_beat_4-4.wav\n",
      "54.95% done. Processing file: drummer3/session2/7_rock_100_beat_4-4.wav\n",
      "55.05% done. Processing file: drummer3/session2/8_rock_100_beat_4-4.wav\n",
      "55.14% done. Processing file: drummer3/session2/9_rock_100_beat_4-4.wav\n",
      "55.23% done. Processing file: drummer4/session1/1_rock_87_beat_4-4.wav\n",
      "55.32% done. Processing file: drummer4/session1/2_jazz_158_beat_4-4.wav\n",
      "55.41% done. Processing file: drummer4/session1/3_jazz-klezmer_152_beat_4-4.wav\n",
      "55.50% done. Processing file: drummer4/session1/4_latin-brazilian_92_beat_4-4.wav\n",
      "55.60% done. Processing file: drummer4/session1/5_latin-brazilian_184_beat_4-4.wav\n",
      "55.69% done. Processing file: drummer4/session1/6_blues-shuffle_134_beat_4-4.wav\n",
      "55.78% done. Processing file: drummer4/session1/7_blues-shuffle_134_beat_4-4.wav\n",
      "55.87% done. Processing file: drummer4/session1/8_blues-shuffle_112_beat_4-4.wav\n",
      "55.96% done. Processing file: drummer4/session1/9_latin-merengue_158_beat_4-4.wav\n",
      "56.06% done. Processing file: drummer5/eval_session/1_funk-groove1_138_beat_4-4.wav\n",
      "56.15% done. Processing file: drummer5/eval_session/10_soul-groove10_102_beat_4-4.wav\n",
      "56.24% done. Processing file: drummer5/eval_session/2_funk-groove2_105_beat_4-4.wav\n",
      "56.33% done. Processing file: drummer5/eval_session/3_soul-groove3_86_beat_4-4.wav\n",
      "56.42% done. Processing file: drummer5/eval_session/4_soul-groove4_80_beat_4-4.wav\n",
      "56.51% done. Processing file: drummer5/eval_session/5_funk-groove5_84_beat_4-4.wav\n",
      "56.61% done. Processing file: drummer5/eval_session/6_hiphop-groove6_87_beat_4-4.wav\n",
      "56.70% done. Processing file: drummer5/eval_session/7_pop-groove7_138_beat_4-4.wav\n",
      "56.79% done. Processing file: drummer5/eval_session/8_rock-groove8_65_beat_4-4.wav\n",
      "56.88% done. Processing file: drummer5/eval_session/9_soul-groove9_105_beat_4-4.wav\n",
      "56.97% done. Processing file: drummer5/session1/1_latin-brazilian-bossa_127_beat_4-4.wav\n",
      "57.06% done. Processing file: drummer5/session1/10_latin-brazilian-sambareggae_96_beat_4-4.wav\n",
      "57.16% done. Processing file: drummer5/session1/11_latin-brazilian-sambareggae_96_beat_4-4.wav\n",
      "57.25% done. Processing file: drummer5/session1/12_latin-brazilian-sambareggae_96_beat_4-4.wav\n",
      "57.34% done. Processing file: drummer5/session1/13_afrocuban-calypso_124_beat_4-4.wav\n",
      "57.43% done. Processing file: drummer5/session1/14_latin-brazilian-songo_112_beat_4-4.wav\n",
      "57.52% done. Processing file: drummer5/session1/15_funk_100_beat_4-4.wav\n",
      "57.61% done. Processing file: drummer5/session1/16_rock_136_beat_4-4.wav\n",
      "57.71% done. Processing file: drummer5/session1/17_blues-shuffle_72_beat_4-4.wav\n",
      "57.80% done. Processing file: drummer5/session1/18_afrocuban_128_beat_4-4.wav\n",
      "57.89% done. Processing file: drummer5/session1/19_middleeastern_126_beat_4-4.wav\n",
      "57.98% done. Processing file: drummer5/session1/2_latin-brazilian-bossa_127_beat_4-4.wav\n",
      "58.07% done. Processing file: drummer5/session1/20_latin-brazilian-baiao_110_beat_4-4.wav\n",
      "58.17% done. Processing file: drummer5/session1/3_latin-brazilian-samba_89_beat_4-4.wav\n",
      "58.26% done. Processing file: drummer5/session1/4_latin-brazilian-samba_89_beat_4-4.wav\n",
      "58.35% done. Processing file: drummer5/session1/5_latin-brazilian-samba_89_beat_4-4.wav\n",
      "58.44% done. Processing file: drummer5/session1/6_latin-brazilian-maracatu_96_beat_4-4.wav\n",
      "58.53% done. Processing file: drummer5/session1/7_latin-brazilian-maracatu_96_beat_4-4.wav\n",
      "58.62% done. Processing file: drummer5/session1/8_latin-venezuelan-merengue_162_beat_5-8.wav\n",
      "58.72% done. Processing file: drummer5/session1/9_latin-dominican-merengue_130_beat_4-4.wav\n",
      "58.81% done. Processing file: drummer5/session2/1_latin-venezuelan-sangueo_101_beat_4-4.wav\n",
      "58.90% done. Processing file: drummer5/session2/10_neworleans-funk_102_beat_4-4.wav\n",
      "58.99% done. Processing file: drummer5/session2/11_soul_96_beat_4-4.wav\n",
      "59.08% done. Processing file: drummer5/session2/12_rock_105_beat_4-4.wav\n",
      "59.17% done. Processing file: drummer5/session2/13_rock_140_beat_4-4.wav\n",
      "59.27% done. Processing file: drummer5/session2/14_rock_140_beat_4-4.wav\n",
      "59.36% done. Processing file: drummer5/session2/15_latin-venezuelan-joropo_80_beat_4-4.wav\n",
      "59.45% done. Processing file: drummer5/session2/16_latin-ando_125_beat_3-4.wav\n",
      "59.54% done. Processing file: drummer5/session2/17_latin-brazilian-samba_110_beat_4-4.wav\n",
      "59.63% done. Processing file: drummer5/session2/18_latin-brazilian-samba_93_beat_4-4.wav\n",
      "59.72% done. Processing file: drummer5/session2/19_latin-brazilian-ijexa_108_beat_4-4.wav\n",
      "59.82% done. Processing file: drummer5/session2/2_latin-brazilian_101_beat_4-4.wav\n",
      "59.91% done. Processing file: drummer5/session2/20_latin-brazilian-ijexa_108_beat_4-4.wav\n",
      "60.00% done. Processing file: drummer5/session2/21_latin-brazilian-ijexa_108_beat_4-4.wav\n",
      "60.09% done. Processing file: drummer5/session2/22_latin-brazilian-frevo_133_beat_4-4.wav\n",
      "60.18% done. Processing file: drummer5/session2/23_latin-brazilian-songo_120_beat_4-4.wav\n",
      "60.28% done. Processing file: drummer5/session2/24_latin-brazilian-songo_120_beat_4-4.wav\n",
      "60.37% done. Processing file: drummer5/session2/3_latin-brazilian_101_beat_4-4.wav\n",
      "60.46% done. Processing file: drummer5/session2/4_reggae_141_beat_4-4.wav\n",
      "60.55% done. Processing file: drummer5/session2/5_reggae_126_beat_4-4.wav\n",
      "60.64% done. Processing file: drummer5/session2/6_neworleans-secondline_99_beat_4-4.wav\n",
      "60.73% done. Processing file: drummer5/session2/7_neworleans-secondline_124_beat_4-4.wav\n",
      "60.83% done. Processing file: drummer5/session2/8_neworleans-chacha_124_beat_4-4.wav\n",
      "60.92% done. Processing file: drummer5/session2/9_neworleans-shuffle_104_beat_4-4.wav\n",
      "61.01% done. Processing file: drummer6/session1/1_rock_70_beat_6-8.wav\n",
      "61.10% done. Processing file: drummer6/session1/2_rock_70_beat_6-8.wav\n",
      "61.19% done. Processing file: drummer6/session1/3_rock_80_beat_6-8.wav\n",
      "61.28% done. Processing file: drummer6/session1/4_rock_80_beat_6-8.wav\n",
      "61.38% done. Processing file: drummer6/session1/5_rock_60_beat_6-8.wav\n",
      "61.47% done. Processing file: drummer6/session2/1_rock_95_beat_4-4.wav\n",
      "61.56% done. Processing file: drummer6/session2/2_rock_95_beat_4-4.wav\n",
      "61.65% done. Processing file: drummer6/session2/3_rock_88_beat_4-4.wav\n",
      "61.74% done. Processing file: drummer6/session3/1_rock_90_beat_4-4.wav\n",
      "61.83% done. Processing file: drummer6/session3/2_rock_100_beat_4-4.wav\n",
      "61.93% done. Processing file: drummer6/session3/3_rock_100_beat_4-4.wav\n",
      "62.02% done. Processing file: drummer6/session3/4_rock_127_beat_4-4.wav\n",
      "62.11% done. Processing file: drummer6/session3/5_rock_180_beat_4-4.wav\n",
      "62.20% done. Processing file: drummer6/session3/6_rock_88_beat_4-4.wav\n",
      "62.29% done. Processing file: drummer6/session3/7_rock_88_beat_4-4.wav\n",
      "62.39% done. Processing file: drummer7/eval_session/1_funk-groove1_138_beat_4-4.wav\n",
      "62.48% done. Processing file: drummer7/eval_session/10_soul-groove10_102_beat_4-4.wav\n",
      "62.57% done. Processing file: drummer7/eval_session/2_funk-groove2_105_beat_4-4.wav\n",
      "62.66% done. Processing file: drummer7/eval_session/3_soul-groove3_86_beat_4-4.wav\n",
      "62.75% done. Processing file: drummer7/eval_session/4_soul-groove4_80_beat_4-4.wav\n",
      "62.84% done. Processing file: drummer7/eval_session/5_funk-groove5_84_beat_4-4.wav\n",
      "62.94% done. Processing file: drummer7/eval_session/6_hiphop-groove6_87_beat_4-4.wav\n",
      "63.03% done. Processing file: drummer7/eval_session/7_pop-groove7_138_beat_4-4.wav\n",
      "63.12% done. Processing file: drummer7/eval_session/8_rock-groove8_65_beat_4-4.wav\n",
      "63.21% done. Processing file: drummer7/eval_session/9_soul-groove9_105_beat_4-4.wav\n",
      "63.30% done. Processing file: drummer7/session1/1_rock_86_beat_4-4.wav\n",
      "63.39% done. Processing file: drummer7/session1/10_rock_93_beat_4-4.wav\n",
      "63.49% done. Processing file: drummer7/session1/11_rock_93_beat_4-4.wav\n",
      "63.58% done. Processing file: drummer7/session1/12_funk_102_beat_4-4.wav\n",
      "63.67% done. Processing file: drummer7/session1/13_funk_102_beat_4-4.wav\n",
      "63.76% done. Processing file: drummer7/session1/14_jazz_100_beat_4-4.wav\n",
      "63.85% done. Processing file: drummer7/session1/15_jazz_112_beat_4-4.wav\n",
      "63.94% done. Processing file: drummer7/session1/16_hiphop_100_beat_4-4.wav\n",
      "64.04% done. Processing file: drummer7/session1/17_hiphop_100_beat_4-4.wav\n",
      "64.13% done. Processing file: drummer7/session1/18_hiphop_100_beat_4-4.wav\n",
      "64.22% done. Processing file: drummer7/session1/19_hiphop_100_fill_4-4.wav\n",
      "64.31% done. Processing file: drummer7/session1/2_rock_86_fill_4-4.wav\n",
      "64.40% done. Processing file: drummer7/session1/20_hiphop_100_fill_4-4.wav\n",
      "64.50% done. Processing file: drummer7/session1/21_hiphop_100_fill_4-4.wav\n",
      "64.59% done. Processing file: drummer7/session1/22_hiphop_100_beat_4-4.wav\n",
      "64.68% done. Processing file: drummer7/session1/23_hiphop_100_fill_4-4.wav\n"
     ]
    },
    {
     "name": "stderr",
     "output_type": "stream",
     "text": [
      "c:\\Users\\kevin\\miniconda3\\envs\\audio_data_science\\lib\\site-packages\\librosa\\core\\spectrum.py:266: UserWarning: n_fft=1024 is too large for input signal of length=827\n",
      "  warnings.warn(\n"
     ]
    },
    {
     "name": "stdout",
     "output_type": "stream",
     "text": [
      "64.77% done. Processing file: drummer7/session1/24_hiphop_100_fill_4-4.wav\n"
     ]
    },
    {
     "name": "stderr",
     "output_type": "stream",
     "text": [
      "c:\\Users\\kevin\\miniconda3\\envs\\audio_data_science\\lib\\site-packages\\librosa\\core\\spectrum.py:266: UserWarning: n_fft=1024 is too large for input signal of length=827\n",
      "  warnings.warn(\n"
     ]
    },
    {
     "name": "stdout",
     "output_type": "stream",
     "text": [
      "64.86% done. Processing file: drummer7/session1/25_hiphop_100_fill_4-4.wav\n"
     ]
    },
    {
     "name": "stderr",
     "output_type": "stream",
     "text": [
      "c:\\Users\\kevin\\miniconda3\\envs\\audio_data_science\\lib\\site-packages\\librosa\\core\\spectrum.py:266: UserWarning: n_fft=1024 is too large for input signal of length=827\n",
      "  warnings.warn(\n"
     ]
    },
    {
     "name": "stdout",
     "output_type": "stream",
     "text": [
      "64.95% done. Processing file: drummer7/session1/26_hiphop_100_fill_4-4.wav\n"
     ]
    },
    {
     "name": "stderr",
     "output_type": "stream",
     "text": [
      "c:\\Users\\kevin\\miniconda3\\envs\\audio_data_science\\lib\\site-packages\\librosa\\core\\spectrum.py:266: UserWarning: n_fft=1024 is too large for input signal of length=827\n",
      "  warnings.warn(\n"
     ]
    },
    {
     "name": "stdout",
     "output_type": "stream",
     "text": [
      "65.05% done. Processing file: drummer7/session1/27_hiphop_100_fill_4-4.wav\n"
     ]
    },
    {
     "name": "stderr",
     "output_type": "stream",
     "text": [
      "c:\\Users\\kevin\\miniconda3\\envs\\audio_data_science\\lib\\site-packages\\librosa\\core\\spectrum.py:266: UserWarning: n_fft=1024 is too large for input signal of length=827\n",
      "  warnings.warn(\n"
     ]
    },
    {
     "name": "stdout",
     "output_type": "stream",
     "text": [
      "65.14% done. Processing file: drummer7/session1/28_hiphop_100_fill_4-4.wav\n"
     ]
    },
    {
     "name": "stderr",
     "output_type": "stream",
     "text": [
      "c:\\Users\\kevin\\miniconda3\\envs\\audio_data_science\\lib\\site-packages\\librosa\\core\\spectrum.py:266: UserWarning: n_fft=1024 is too large for input signal of length=827\n",
      "  warnings.warn(\n"
     ]
    },
    {
     "name": "stdout",
     "output_type": "stream",
     "text": [
      "65.23% done. Processing file: drummer7/session1/29_hiphop_100_fill_4-4.wav\n"
     ]
    },
    {
     "name": "stderr",
     "output_type": "stream",
     "text": [
      "c:\\Users\\kevin\\miniconda3\\envs\\audio_data_science\\lib\\site-packages\\librosa\\core\\spectrum.py:266: UserWarning: n_fft=1024 is too large for input signal of length=827\n",
      "  warnings.warn(\n"
     ]
    },
    {
     "name": "stdout",
     "output_type": "stream",
     "text": [
      "65.32% done. Processing file: drummer7/session1/3_rock_86_fill_4-4.wav\n",
      "65.41% done. Processing file: drummer7/session1/30_hiphop_100_fill_4-4.wav\n"
     ]
    },
    {
     "name": "stderr",
     "output_type": "stream",
     "text": [
      "c:\\Users\\kevin\\miniconda3\\envs\\audio_data_science\\lib\\site-packages\\librosa\\core\\spectrum.py:266: UserWarning: n_fft=1024 is too large for input signal of length=827\n",
      "  warnings.warn(\n"
     ]
    },
    {
     "name": "stdout",
     "output_type": "stream",
     "text": [
      "65.50% done. Processing file: drummer7/session1/31_hiphop_100_fill_4-4.wav\n"
     ]
    },
    {
     "name": "stderr",
     "output_type": "stream",
     "text": [
      "c:\\Users\\kevin\\miniconda3\\envs\\audio_data_science\\lib\\site-packages\\librosa\\core\\spectrum.py:266: UserWarning: n_fft=1024 is too large for input signal of length=827\n",
      "  warnings.warn(\n"
     ]
    },
    {
     "name": "stdout",
     "output_type": "stream",
     "text": [
      "65.60% done. Processing file: drummer7/session1/32_hiphop_100_fill_4-4.wav\n"
     ]
    },
    {
     "name": "stderr",
     "output_type": "stream",
     "text": [
      "c:\\Users\\kevin\\miniconda3\\envs\\audio_data_science\\lib\\site-packages\\librosa\\core\\spectrum.py:266: UserWarning: n_fft=1024 is too large for input signal of length=827\n",
      "  warnings.warn(\n"
     ]
    },
    {
     "name": "stdout",
     "output_type": "stream",
     "text": [
      "65.69% done. Processing file: drummer7/session1/33_hiphop_100_fill_4-4.wav\n"
     ]
    },
    {
     "name": "stderr",
     "output_type": "stream",
     "text": [
      "c:\\Users\\kevin\\miniconda3\\envs\\audio_data_science\\lib\\site-packages\\librosa\\core\\spectrum.py:266: UserWarning: n_fft=1024 is too large for input signal of length=827\n",
      "  warnings.warn(\n"
     ]
    },
    {
     "name": "stdout",
     "output_type": "stream",
     "text": [
      "65.78% done. Processing file: drummer7/session1/34_hiphop_100_fill_4-4.wav\n"
     ]
    },
    {
     "name": "stderr",
     "output_type": "stream",
     "text": [
      "c:\\Users\\kevin\\miniconda3\\envs\\audio_data_science\\lib\\site-packages\\librosa\\core\\spectrum.py:266: UserWarning: n_fft=1024 is too large for input signal of length=827\n",
      "  warnings.warn(\n"
     ]
    },
    {
     "name": "stdout",
     "output_type": "stream",
     "text": [
      "65.87% done. Processing file: drummer7/session1/35_hiphop_100_fill_4-4.wav\n"
     ]
    },
    {
     "name": "stderr",
     "output_type": "stream",
     "text": [
      "c:\\Users\\kevin\\miniconda3\\envs\\audio_data_science\\lib\\site-packages\\librosa\\core\\spectrum.py:266: UserWarning: n_fft=1024 is too large for input signal of length=827\n",
      "  warnings.warn(\n"
     ]
    },
    {
     "name": "stdout",
     "output_type": "stream",
     "text": [
      "65.96% done. Processing file: drummer7/session1/36_hiphop_100_fill_4-4.wav\n"
     ]
    },
    {
     "name": "stderr",
     "output_type": "stream",
     "text": [
      "c:\\Users\\kevin\\miniconda3\\envs\\audio_data_science\\lib\\site-packages\\librosa\\core\\spectrum.py:266: UserWarning: n_fft=1024 is too large for input signal of length=827\n",
      "  warnings.warn(\n"
     ]
    },
    {
     "name": "stdout",
     "output_type": "stream",
     "text": [
      "66.06% done. Processing file: drummer7/session1/37_hiphop_100_fill_4-4.wav\n"
     ]
    },
    {
     "name": "stderr",
     "output_type": "stream",
     "text": [
      "c:\\Users\\kevin\\miniconda3\\envs\\audio_data_science\\lib\\site-packages\\librosa\\core\\spectrum.py:266: UserWarning: n_fft=1024 is too large for input signal of length=827\n",
      "  warnings.warn(\n"
     ]
    },
    {
     "name": "stdout",
     "output_type": "stream",
     "text": [
      "66.15% done. Processing file: drummer7/session1/38_hiphop_100_beat_4-4.wav\n",
      "66.24% done. Processing file: drummer7/session1/39_hiphop_100_beat_4-4.wav\n",
      "66.33% done. Processing file: drummer7/session1/4_rock_86_fill_4-4.wav\n",
      "66.42% done. Processing file: drummer7/session1/40_hiphop_100_beat_4-4.wav\n",
      "66.51% done. Processing file: drummer7/session1/5_rock_86_fill_4-4.wav\n"
     ]
    },
    {
     "name": "stderr",
     "output_type": "stream",
     "text": [
      "c:\\Users\\kevin\\miniconda3\\envs\\audio_data_science\\lib\\site-packages\\librosa\\core\\spectrum.py:266: UserWarning: n_fft=1024 is too large for input signal of length=952\n",
      "  warnings.warn(\n"
     ]
    },
    {
     "name": "stdout",
     "output_type": "stream",
     "text": [
      "66.61% done. Processing file: drummer7/session1/6_rock_86_fill_4-4.wav\n"
     ]
    },
    {
     "name": "stderr",
     "output_type": "stream",
     "text": [
      "c:\\Users\\kevin\\miniconda3\\envs\\audio_data_science\\lib\\site-packages\\librosa\\core\\spectrum.py:266: UserWarning: n_fft=1024 is too large for input signal of length=962\n",
      "  warnings.warn(\n"
     ]
    },
    {
     "name": "stdout",
     "output_type": "stream",
     "text": [
      "66.70% done. Processing file: drummer7/session1/7_rock_93_beat_4-4.wav\n",
      "66.79% done. Processing file: drummer7/session1/8_rock_93_beat_4-4.wav\n",
      "66.88% done. Processing file: drummer7/session1/9_rock_93_beat_4-4.wav\n",
      "66.97% done. Processing file: drummer7/session2/1_rock_120_beat_4-4.wav\n",
      "67.06% done. Processing file: drummer7/session2/10_rock_95_fill_4-4.wav\n",
      "67.16% done. Processing file: drummer7/session2/100_pop_142_beat_4-4.wav\n",
      "67.25% done. Processing file: drummer7/session2/101_pop_142_beat_4-4.wav\n",
      "67.34% done. Processing file: drummer7/session2/102_pop_132_beat_4-4.wav\n",
      "67.43% done. Processing file: drummer7/session2/103_pop_132_beat_4-4.wav\n",
      "67.52% done. Processing file: drummer7/session2/104_pop_132_beat_4-4.wav\n",
      "67.61% done. Processing file: drummer7/session2/105_pop_132_beat_4-4.wav\n",
      "67.71% done. Processing file: drummer7/session2/106_soul-motown_104_beat_4-4.wav\n",
      "67.80% done. Processing file: drummer7/session2/107_soul-motown_104_fill_4-4.wav\n"
     ]
    },
    {
     "name": "stderr",
     "output_type": "stream",
     "text": [
      "c:\\Users\\kevin\\miniconda3\\envs\\audio_data_science\\lib\\site-packages\\librosa\\core\\spectrum.py:266: UserWarning: n_fft=1024 is too large for input signal of length=776\n",
      "  warnings.warn(\n"
     ]
    },
    {
     "name": "stdout",
     "output_type": "stream",
     "text": [
      "67.89% done. Processing file: drummer7/session2/108_soul-motown_104_beat_4-4.wav\n",
      "67.98% done. Processing file: drummer7/session2/109_soul-motown_104_fill_4-4.wav\n"
     ]
    },
    {
     "name": "stderr",
     "output_type": "stream",
     "text": [
      "c:\\Users\\kevin\\miniconda3\\envs\\audio_data_science\\lib\\site-packages\\librosa\\core\\spectrum.py:266: UserWarning: n_fft=1024 is too large for input signal of length=796\n",
      "  warnings.warn(\n"
     ]
    },
    {
     "name": "stdout",
     "output_type": "stream",
     "text": [
      "68.07% done. Processing file: drummer7/session2/11_rock_95_fill_4-4.wav\n"
     ]
    },
    {
     "name": "stderr",
     "output_type": "stream",
     "text": [
      "c:\\Users\\kevin\\miniconda3\\envs\\audio_data_science\\lib\\site-packages\\librosa\\core\\spectrum.py:266: UserWarning: n_fft=1024 is too large for input signal of length=871\n",
      "  warnings.warn(\n"
     ]
    },
    {
     "name": "stdout",
     "output_type": "stream",
     "text": [
      "68.17% done. Processing file: drummer7/session2/110_soul-motown_104_fill_4-4.wav\n"
     ]
    },
    {
     "name": "stderr",
     "output_type": "stream",
     "text": [
      "c:\\Users\\kevin\\miniconda3\\envs\\audio_data_science\\lib\\site-packages\\librosa\\core\\spectrum.py:266: UserWarning: n_fft=1024 is too large for input signal of length=796\n",
      "  warnings.warn(\n"
     ]
    },
    {
     "name": "stdout",
     "output_type": "stream",
     "text": [
      "68.26% done. Processing file: drummer7/session2/111_soul-motown_104_fill_4-4.wav\n",
      "68.35% done. Processing file: drummer7/session2/112_jazz-fusion_96_beat_4-4.wav\n",
      "68.44% done. Processing file: drummer7/session2/113_jazz-fusion_96_beat_4-4.wav\n",
      "68.53% done. Processing file: drummer7/session2/114_jazz-fusion_96_beat_4-4.wav\n",
      "68.62% done. Processing file: drummer7/session2/115_jazz-fusion_96_beat_4-4.wav\n",
      "68.72% done. Processing file: drummer7/session2/116_jazz-fusion_96_fill_4-4.wav\n",
      "68.81% done. Processing file: drummer7/session2/117_jazz-fusion_96_fill_4-4.wav\n"
     ]
    },
    {
     "name": "stderr",
     "output_type": "stream",
     "text": [
      "c:\\Users\\kevin\\miniconda3\\envs\\audio_data_science\\lib\\site-packages\\librosa\\core\\spectrum.py:266: UserWarning: n_fft=1024 is too large for input signal of length=862\n",
      "  warnings.warn(\n"
     ]
    },
    {
     "name": "stdout",
     "output_type": "stream",
     "text": [
      "68.90% done. Processing file: drummer7/session2/118_jazz-fusion_96_fill_4-4.wav\n",
      "68.99% done. Processing file: drummer7/session2/119_jazz-fusion_96_fill_4-4.wav\n",
      "69.08% done. Processing file: drummer7/session2/12_rock_95_beat_4-4.wav\n",
      "69.17% done. Processing file: drummer7/session2/120_jazz-fusion_96_fill_4-4.wav\n",
      "69.27% done. Processing file: drummer7/session2/121_jazz-fusion_96_fill_4-4.wav\n"
     ]
    },
    {
     "name": "stderr",
     "output_type": "stream",
     "text": [
      "c:\\Users\\kevin\\miniconda3\\envs\\audio_data_science\\lib\\site-packages\\librosa\\core\\spectrum.py:266: UserWarning: n_fft=1024 is too large for input signal of length=862\n",
      "  warnings.warn(\n"
     ]
    },
    {
     "name": "stdout",
     "output_type": "stream",
     "text": [
      "69.36% done. Processing file: drummer7/session2/122_jazz-fusion_96_fill_4-4.wav\n",
      "69.45% done. Processing file: drummer7/session2/123_hiphop_140_beat_4-4.wav\n",
      "69.54% done. Processing file: drummer7/session2/124_hiphop_140_fill_4-4.wav\n",
      "69.63% done. Processing file: drummer7/session2/125_hiphop_140_fill_4-4.wav\n",
      "69.72% done. Processing file: drummer7/session2/126_hiphop_140_fill_4-4.wav\n",
      "69.82% done. Processing file: drummer7/session2/127_hiphop_140_fill_4-4.wav\n",
      "69.91% done. Processing file: drummer7/session2/128_hiphop_140_fill_4-4.wav\n",
      "70.00% done. Processing file: drummer7/session2/129_hiphop_140_fill_4-4.wav\n",
      "70.09% done. Processing file: drummer7/session2/13_rock_95_fill_4-4.wav\n",
      "70.18% done. Processing file: drummer7/session2/130_hiphop_140_fill_4-4.wav\n",
      "70.28% done. Processing file: drummer7/session2/131_hiphop_140_fill_4-4.wav\n",
      "70.37% done. Processing file: drummer7/session2/132_hiphop_140_fill_4-4.wav\n",
      "70.46% done. Processing file: drummer7/session2/133_hiphop_140_fill_4-4.wav\n",
      "70.55% done. Processing file: drummer7/session2/14_rock_95_beat_4-4.wav\n",
      "70.64% done. Processing file: drummer7/session2/15_rock_118_beat_4-4.wav\n",
      "70.73% done. Processing file: drummer7/session2/16_rock_118_fill_4-4.wav\n",
      "70.83% done. Processing file: drummer7/session2/17_rock_118_fill_4-4.wav\n",
      "70.92% done. Processing file: drummer7/session2/18_rock_118_fill_4-4.wav\n",
      "71.01% done. Processing file: drummer7/session2/19_rock_118_fill_4-4.wav\n",
      "71.10% done. Processing file: drummer7/session2/2_rock_120_beat_4-4.wav\n",
      "71.19% done. Processing file: drummer7/session2/20_rock_118_fill_4-4.wav\n",
      "71.28% done. Processing file: drummer7/session2/21_rock_118_fill_4-4.wav\n",
      "71.38% done. Processing file: drummer7/session2/22_rock_118_beat_4-4.wav\n"
     ]
    },
    {
     "name": "stderr",
     "output_type": "stream",
     "text": [
      "c:\\Users\\kevin\\miniconda3\\envs\\audio_data_science\\lib\\site-packages\\librosa\\core\\spectrum.py:266: UserWarning: n_fft=1024 is too large for input signal of length=701\n",
      "  warnings.warn(\n"
     ]
    },
    {
     "name": "stdout",
     "output_type": "stream",
     "text": [
      "71.47% done. Processing file: drummer7/session2/23_rock_118_fill_4-4.wav\n"
     ]
    },
    {
     "name": "stderr",
     "output_type": "stream",
     "text": [
      "c:\\Users\\kevin\\miniconda3\\envs\\audio_data_science\\lib\\site-packages\\librosa\\core\\spectrum.py:266: UserWarning: n_fft=1024 is too large for input signal of length=701\n",
      "  warnings.warn(\n"
     ]
    },
    {
     "name": "stdout",
     "output_type": "stream",
     "text": [
      "71.56% done. Processing file: drummer7/session2/24_rock_118_beat_4-4.wav\n",
      "71.65% done. Processing file: drummer7/session2/25_rock_118_fill_4-4.wav\n"
     ]
    },
    {
     "name": "stderr",
     "output_type": "stream",
     "text": [
      "c:\\Users\\kevin\\miniconda3\\envs\\audio_data_science\\lib\\site-packages\\librosa\\core\\spectrum.py:266: UserWarning: n_fft=1024 is too large for input signal of length=701\n",
      "  warnings.warn(\n"
     ]
    },
    {
     "name": "stdout",
     "output_type": "stream",
     "text": [
      "71.74% done. Processing file: drummer7/session2/26_rock_118_beat_4-4.wav\n",
      "71.83% done. Processing file: drummer7/session2/27_rock_75_beat_4-4.wav\n",
      "71.93% done. Processing file: drummer7/session2/28_rock_75_fill_4-4.wav\n",
      "72.02% done. Processing file: drummer7/session2/29_rock_75_beat_4-4.wav\n",
      "72.11% done. Processing file: drummer7/session2/3_rock_120_beat_4-4.wav\n",
      "72.20% done. Processing file: drummer7/session2/30_rock_75_beat_4-4.wav\n",
      "72.29% done. Processing file: drummer7/session2/31_rock_75_fill_4-4.wav\n",
      "72.39% done. Processing file: drummer7/session2/32_rock_75_fill_4-4.wav\n",
      "72.48% done. Processing file: drummer7/session2/33_rock_75_beat_4-4.wav\n",
      "72.57% done. Processing file: drummer7/session2/34_rock_75_fill_4-4.wav\n",
      "72.66% done. Processing file: drummer7/session2/35_rock_75_fill_4-4.wav\n",
      "72.75% done. Processing file: drummer7/session2/36_rock_75_fill_4-4.wav\n",
      "72.84% done. Processing file: drummer7/session2/37_rock_112_beat_4-4.wav\n",
      "72.94% done. Processing file: drummer7/session2/38_rock_112_fill_4-4.wav\n"
     ]
    },
    {
     "name": "stderr",
     "output_type": "stream",
     "text": [
      "c:\\Users\\kevin\\miniconda3\\envs\\audio_data_science\\lib\\site-packages\\librosa\\core\\spectrum.py:266: UserWarning: n_fft=1024 is too large for input signal of length=712\n",
      "  warnings.warn(\n"
     ]
    },
    {
     "name": "stdout",
     "output_type": "stream",
     "text": [
      "73.03% done. Processing file: drummer7/session2/39_rock_112_fill_4-4.wav\n"
     ]
    },
    {
     "name": "stderr",
     "output_type": "stream",
     "text": [
      "c:\\Users\\kevin\\miniconda3\\envs\\audio_data_science\\lib\\site-packages\\librosa\\core\\spectrum.py:266: UserWarning: n_fft=1024 is too large for input signal of length=693\n",
      "  warnings.warn(\n"
     ]
    },
    {
     "name": "stdout",
     "output_type": "stream",
     "text": [
      "73.12% done. Processing file: drummer7/session2/4_rock_120_beat_4-4.wav\n",
      "73.21% done. Processing file: drummer7/session2/40_rock_112_fill_4-4.wav\n",
      "73.30% done. Processing file: drummer7/session2/41_rock_112_fill_4-4.wav\n",
      "73.39% done. Processing file: drummer7/session2/42_rock_112_fill_4-4.wav\n",
      "73.49% done. Processing file: drummer7/session2/43_rock_112_fill_4-4.wav\n",
      "73.58% done. Processing file: drummer7/session2/44_rock_112_fill_4-4.wav\n"
     ]
    },
    {
     "name": "stderr",
     "output_type": "stream",
     "text": [
      "c:\\Users\\kevin\\miniconda3\\envs\\audio_data_science\\lib\\site-packages\\librosa\\core\\spectrum.py:266: UserWarning: n_fft=1024 is too large for input signal of length=739\n",
      "  warnings.warn(\n"
     ]
    },
    {
     "name": "stdout",
     "output_type": "stream",
     "text": [
      "73.67% done. Processing file: drummer7/session2/45_rock_135_beat_4-4.wav\n",
      "73.76% done. Processing file: drummer7/session2/46_rock_135_beat_4-4.wav\n",
      "73.85% done. Processing file: drummer7/session2/47_rock_135_fill_4-4.wav\n",
      "73.94% done. Processing file: drummer7/session2/48_rock_135_fill_4-4.wav\n",
      "74.04% done. Processing file: drummer7/session2/49_rock_135_beat_4-4.wav\n",
      "74.13% done. Processing file: drummer7/session2/5_rock_120_beat_4-4.wav\n"
     ]
    },
    {
     "name": "stderr",
     "output_type": "stream",
     "text": [
      "c:\\Users\\kevin\\miniconda3\\envs\\audio_data_science\\lib\\site-packages\\librosa\\core\\spectrum.py:266: UserWarning: n_fft=1024 is too large for input signal of length=690\n",
      "  warnings.warn(\n"
     ]
    },
    {
     "name": "stdout",
     "output_type": "stream",
     "text": [
      "74.22% done. Processing file: drummer7/session2/50_rock_135_fill_4-4.wav\n",
      "74.31% done. Processing file: drummer7/session2/51_rock_135_fill_4-4.wav\n",
      "74.40% done. Processing file: drummer7/session2/52_rock_135_fill_4-4.wav\n",
      "74.50% done. Processing file: drummer7/session2/53_rock_135_beat_4-4.wav\n",
      "74.59% done. Processing file: drummer7/session2/54_soul-motown_148_beat_4-4.wav\n",
      "74.68% done. Processing file: drummer7/session2/55_soul-motown_148_fill_4-4.wav\n",
      "74.77% done. Processing file: drummer7/session2/56_soul-motown_148_fill_4-4.wav\n",
      "74.86% done. Processing file: drummer7/session2/57_soul-motown_148_fill_4-4.wav\n",
      "74.95% done. Processing file: drummer7/session2/58_soul-motown_148_fill_4-4.wav\n",
      "75.05% done. Processing file: drummer7/session2/59_soul-motown_148_fill_4-4.wav\n",
      "75.14% done. Processing file: drummer7/session2/6_rock_120_beat_4-4.wav\n",
      "75.23% done. Processing file: drummer7/session2/60_soul-motown_148_fill_4-4.wav\n"
     ]
    },
    {
     "name": "stderr",
     "output_type": "stream",
     "text": [
      "c:\\Users\\kevin\\miniconda3\\envs\\audio_data_science\\lib\\site-packages\\librosa\\core\\spectrum.py:266: UserWarning: n_fft=1024 is too large for input signal of length=559\n",
      "  warnings.warn(\n"
     ]
    },
    {
     "name": "stdout",
     "output_type": "stream",
     "text": [
      "75.32% done. Processing file: drummer7/session2/61_soul-motown_148_fill_4-4.wav\n"
     ]
    },
    {
     "name": "stderr",
     "output_type": "stream",
     "text": [
      "c:\\Users\\kevin\\miniconda3\\envs\\audio_data_science\\lib\\site-packages\\librosa\\core\\spectrum.py:266: UserWarning: n_fft=1024 is too large for input signal of length=559\n",
      "  warnings.warn(\n"
     ]
    },
    {
     "name": "stdout",
     "output_type": "stream",
     "text": [
      "75.41% done. Processing file: drummer7/session2/62_soul-motown_148_fill_4-4.wav\n",
      "75.50% done. Processing file: drummer7/session2/63_soul-motown_148_beat_4-4.wav\n",
      "75.60% done. Processing file: drummer7/session2/64_rock_145_beat_4-4.wav\n",
      "75.69% done. Processing file: drummer7/session2/65_rock_145_fill_4-4.wav\n",
      "75.78% done. Processing file: drummer7/session2/66_rock_145_fill_4-4.wav\n",
      "75.87% done. Processing file: drummer7/session2/67_rock_145_fill_4-4.wav\n",
      "75.96% done. Processing file: drummer7/session2/68_rock_145_fill_4-4.wav\n",
      "76.06% done. Processing file: drummer7/session2/69_rock_145_fill_4-4.wav\n",
      "76.15% done. Processing file: drummer7/session2/7_rock_120_beat_4-4.wav\n",
      "76.24% done. Processing file: drummer7/session2/70_rock_145_fill_4-4.wav\n",
      "76.33% done. Processing file: drummer7/session2/71_rock_145_fill_4-4.wav\n",
      "76.42% done. Processing file: drummer7/session2/72_funk_100_beat_4-4.wav\n",
      "76.51% done. Processing file: drummer7/session2/73_funk_100_fill_4-4.wav\n"
     ]
    },
    {
     "name": "stderr",
     "output_type": "stream",
     "text": [
      "c:\\Users\\kevin\\miniconda3\\envs\\audio_data_science\\lib\\site-packages\\librosa\\core\\spectrum.py:266: UserWarning: n_fft=1024 is too large for input signal of length=827\n",
      "  warnings.warn(\n"
     ]
    },
    {
     "name": "stdout",
     "output_type": "stream",
     "text": [
      "76.61% done. Processing file: drummer7/session2/74_funk_100_fill_4-4.wav\n",
      "76.70% done. Processing file: drummer7/session2/75_funk_100_fill_4-4.wav\n"
     ]
    },
    {
     "name": "stderr",
     "output_type": "stream",
     "text": [
      "c:\\Users\\kevin\\miniconda3\\envs\\audio_data_science\\lib\\site-packages\\librosa\\core\\spectrum.py:266: UserWarning: n_fft=1024 is too large for input signal of length=827\n",
      "  warnings.warn(\n"
     ]
    },
    {
     "name": "stdout",
     "output_type": "stream",
     "text": [
      "76.79% done. Processing file: drummer7/session2/76_funk_100_beat_4-4.wav\n",
      "76.88% done. Processing file: drummer7/session2/77_funk_100_beat_4-4.wav\n",
      "76.97% done. Processing file: drummer7/session2/78_funk_100_beat_4-4.wav\n",
      "77.06% done. Processing file: drummer7/session2/79_funk_100_beat_4-4.wav\n",
      "77.16% done. Processing file: drummer7/session2/8_rock_95_beat_4-4.wav\n",
      "77.25% done. Processing file: drummer7/session2/80_country_78_beat_4-4.wav\n",
      "77.34% done. Processing file: drummer7/session2/81_country_78_fill_4-4.wav\n",
      "77.43% done. Processing file: drummer7/session2/82_country_78_fill_4-4.wav\n"
     ]
    },
    {
     "name": "stderr",
     "output_type": "stream",
     "text": [
      "c:\\Users\\kevin\\miniconda3\\envs\\audio_data_science\\lib\\site-packages\\librosa\\core\\spectrum.py:266: UserWarning: n_fft=1024 is too large for input signal of length=1016\n",
      "  warnings.warn(\n"
     ]
    },
    {
     "name": "stdout",
     "output_type": "stream",
     "text": [
      "77.52% done. Processing file: drummer7/session2/83_country_78_fill_4-4.wav\n",
      "77.61% done. Processing file: drummer7/session2/84_country_78_fill_4-4.wav\n",
      "77.71% done. Processing file: drummer7/session2/85_country_78_fill_4-4.wav\n",
      "77.80% done. Processing file: drummer7/session2/86_country_78_fill_4-4.wav\n",
      "77.89% done. Processing file: drummer7/session2/87_hiphop_75_beat_4-4.wav\n",
      "77.98% done. Processing file: drummer7/session2/88_hiphop_75_fill_4-4.wav\n",
      "78.07% done. Processing file: drummer7/session2/89_hiphop_75_fill_4-4.wav\n",
      "78.17% done. Processing file: drummer7/session2/9_rock_95_fill_4-4.wav\n"
     ]
    },
    {
     "name": "stderr",
     "output_type": "stream",
     "text": [
      "c:\\Users\\kevin\\miniconda3\\envs\\audio_data_science\\lib\\site-packages\\librosa\\core\\spectrum.py:266: UserWarning: n_fft=1024 is too large for input signal of length=844\n",
      "  warnings.warn(\n"
     ]
    },
    {
     "name": "stdout",
     "output_type": "stream",
     "text": [
      "78.26% done. Processing file: drummer7/session2/90_hiphop_75_fill_4-4.wav\n",
      "78.35% done. Processing file: drummer7/session2/91_hiphop_75_fill_4-4.wav\n",
      "78.44% done. Processing file: drummer7/session2/92_hiphop_75_beat_4-4.wav\n",
      "78.53% done. Processing file: drummer7/session2/93_hiphop_75_beat_4-4.wav\n",
      "78.62% done. Processing file: drummer7/session2/94_hiphop_75_fill_4-4.wav\n",
      "78.72% done. Processing file: drummer7/session2/95_hiphop_75_fill_4-4.wav\n",
      "78.81% done. Processing file: drummer7/session2/96_pop_142_beat_4-4.wav\n",
      "78.90% done. Processing file: drummer7/session2/97_pop_142_beat_4-4.wav\n",
      "78.99% done. Processing file: drummer7/session2/98_pop_142_fill_4-4.wav\n",
      "79.08% done. Processing file: drummer7/session2/99_pop_142_fill_4-4.wav\n",
      "79.17% done. Processing file: drummer7/session3/1_rock_60_beat_4-4.wav\n",
      "79.27% done. Processing file: drummer7/session3/10_rock_60_beat_4-4.wav\n",
      "79.36% done. Processing file: drummer7/session3/100_hiphop_70_fill_4-4.wav\n",
      "79.45% done. Processing file: drummer7/session3/101_hiphop_70_fill_4-4.wav\n",
      "79.54% done. Processing file: drummer7/session3/102_hiphop_70_fill_4-4.wav\n",
      "79.63% done. Processing file: drummer7/session3/103_hiphop_70_fill_4-4.wav\n",
      "79.72% done. Processing file: drummer7/session3/104_hiphop_70_fill_4-4.wav\n",
      "79.82% done. Processing file: drummer7/session3/105_hiphop_70_fill_4-4.wav\n",
      "79.91% done. Processing file: drummer7/session3/106_hiphop_70_beat_4-4.wav\n",
      "80.00% done. Processing file: drummer7/session3/107_hiphop_70_fill_4-4.wav\n",
      "80.09% done. Processing file: drummer7/session3/108_rock_95_beat_4-4.wav\n",
      "80.18% done. Processing file: drummer7/session3/109_rock_95_beat_4-4.wav\n",
      "80.28% done. Processing file: drummer7/session3/11_pop-soft_83_beat_4-4.wav\n",
      "80.37% done. Processing file: drummer7/session3/110_rock_95_fill_4-4.wav\n"
     ]
    },
    {
     "name": "stderr",
     "output_type": "stream",
     "text": [
      "c:\\Users\\kevin\\miniconda3\\envs\\audio_data_science\\lib\\site-packages\\librosa\\core\\spectrum.py:266: UserWarning: n_fft=1024 is too large for input signal of length=871\n",
      "  warnings.warn(\n"
     ]
    },
    {
     "name": "stdout",
     "output_type": "stream",
     "text": [
      "80.46% done. Processing file: drummer7/session3/111_rock_95_fill_4-4.wav\n"
     ]
    },
    {
     "name": "stderr",
     "output_type": "stream",
     "text": [
      "c:\\Users\\kevin\\miniconda3\\envs\\audio_data_science\\lib\\site-packages\\librosa\\core\\spectrum.py:266: UserWarning: n_fft=1024 is too large for input signal of length=871\n",
      "  warnings.warn(\n"
     ]
    },
    {
     "name": "stdout",
     "output_type": "stream",
     "text": [
      "80.55% done. Processing file: drummer7/session3/112_rock_95_fill_4-4.wav\n"
     ]
    },
    {
     "name": "stderr",
     "output_type": "stream",
     "text": [
      "c:\\Users\\kevin\\miniconda3\\envs\\audio_data_science\\lib\\site-packages\\librosa\\core\\spectrum.py:266: UserWarning: n_fft=1024 is too large for input signal of length=871\n",
      "  warnings.warn(\n"
     ]
    },
    {
     "name": "stdout",
     "output_type": "stream",
     "text": [
      "80.64% done. Processing file: drummer7/session3/113_rock_95_fill_4-4.wav\n"
     ]
    },
    {
     "name": "stderr",
     "output_type": "stream",
     "text": [
      "c:\\Users\\kevin\\miniconda3\\envs\\audio_data_science\\lib\\site-packages\\librosa\\core\\spectrum.py:266: UserWarning: n_fft=1024 is too large for input signal of length=871\n",
      "  warnings.warn(\n"
     ]
    },
    {
     "name": "stdout",
     "output_type": "stream",
     "text": [
      "80.73% done. Processing file: drummer7/session3/114_rock_95_fill_4-4.wav\n"
     ]
    },
    {
     "name": "stderr",
     "output_type": "stream",
     "text": [
      "c:\\Users\\kevin\\miniconda3\\envs\\audio_data_science\\lib\\site-packages\\librosa\\core\\spectrum.py:266: UserWarning: n_fft=1024 is too large for input signal of length=871\n",
      "  warnings.warn(\n"
     ]
    },
    {
     "name": "stdout",
     "output_type": "stream",
     "text": [
      "80.83% done. Processing file: drummer7/session3/115_rock_95_fill_4-4.wav\n"
     ]
    },
    {
     "name": "stderr",
     "output_type": "stream",
     "text": [
      "c:\\Users\\kevin\\miniconda3\\envs\\audio_data_science\\lib\\site-packages\\librosa\\core\\spectrum.py:266: UserWarning: n_fft=1024 is too large for input signal of length=871\n",
      "  warnings.warn(\n"
     ]
    },
    {
     "name": "stdout",
     "output_type": "stream",
     "text": [
      "80.92% done. Processing file: drummer7/session3/116_rock_95_fill_4-4.wav\n"
     ]
    },
    {
     "name": "stderr",
     "output_type": "stream",
     "text": [
      "c:\\Users\\kevin\\miniconda3\\envs\\audio_data_science\\lib\\site-packages\\librosa\\core\\spectrum.py:266: UserWarning: n_fft=1024 is too large for input signal of length=871\n",
      "  warnings.warn(\n"
     ]
    },
    {
     "name": "stdout",
     "output_type": "stream",
     "text": [
      "81.01% done. Processing file: drummer7/session3/117_rock_95_beat_4-4.wav\n",
      "81.10% done. Processing file: drummer7/session3/118_rock_95_fill_4-4.wav\n"
     ]
    },
    {
     "name": "stderr",
     "output_type": "stream",
     "text": [
      "c:\\Users\\kevin\\miniconda3\\envs\\audio_data_science\\lib\\site-packages\\librosa\\core\\spectrum.py:266: UserWarning: n_fft=1024 is too large for input signal of length=871\n",
      "  warnings.warn(\n"
     ]
    },
    {
     "name": "stdout",
     "output_type": "stream",
     "text": [
      "81.19% done. Processing file: drummer7/session3/119_rock_95_beat_4-4.wav\n",
      "81.28% done. Processing file: drummer7/session3/12_pop-soft_83_fill_4-4.wav\n"
     ]
    },
    {
     "name": "stderr",
     "output_type": "stream",
     "text": [
      "c:\\Users\\kevin\\miniconda3\\envs\\audio_data_science\\lib\\site-packages\\librosa\\core\\spectrum.py:266: UserWarning: n_fft=1024 is too large for input signal of length=997\n",
      "  warnings.warn(\n"
     ]
    },
    {
     "name": "stdout",
     "output_type": "stream",
     "text": [
      "81.38% done. Processing file: drummer7/session3/120_rock_93_beat_4-4.wav\n",
      "81.47% done. Processing file: drummer7/session3/121_rock_93_fill_4-4.wav\n",
      "81.56% done. Processing file: drummer7/session3/122_rock_93_fill_4-4.wav\n",
      "81.65% done. Processing file: drummer7/session3/123_rock_93_fill_4-4.wav\n",
      "81.74% done. Processing file: drummer7/session3/124_rock_93_fill_4-4.wav\n"
     ]
    },
    {
     "name": "stderr",
     "output_type": "stream",
     "text": [
      "c:\\Users\\kevin\\miniconda3\\envs\\audio_data_science\\lib\\site-packages\\librosa\\core\\spectrum.py:266: UserWarning: n_fft=1024 is too large for input signal of length=890\n",
      "  warnings.warn(\n"
     ]
    },
    {
     "name": "stdout",
     "output_type": "stream",
     "text": [
      "81.83% done. Processing file: drummer7/session3/125_rock_93_fill_4-4.wav\n"
     ]
    },
    {
     "name": "stderr",
     "output_type": "stream",
     "text": [
      "c:\\Users\\kevin\\miniconda3\\envs\\audio_data_science\\lib\\site-packages\\librosa\\core\\spectrum.py:266: UserWarning: n_fft=1024 is too large for input signal of length=890\n",
      "  warnings.warn(\n"
     ]
    },
    {
     "name": "stdout",
     "output_type": "stream",
     "text": [
      "81.93% done. Processing file: drummer7/session3/126_rock_93_fill_4-4.wav\n"
     ]
    },
    {
     "name": "stderr",
     "output_type": "stream",
     "text": [
      "c:\\Users\\kevin\\miniconda3\\envs\\audio_data_science\\lib\\site-packages\\librosa\\core\\spectrum.py:266: UserWarning: n_fft=1024 is too large for input signal of length=890\n",
      "  warnings.warn(\n"
     ]
    },
    {
     "name": "stdout",
     "output_type": "stream",
     "text": [
      "82.02% done. Processing file: drummer7/session3/127_rock_93_fill_4-4.wav\n"
     ]
    },
    {
     "name": "stderr",
     "output_type": "stream",
     "text": [
      "c:\\Users\\kevin\\miniconda3\\envs\\audio_data_science\\lib\\site-packages\\librosa\\core\\spectrum.py:266: UserWarning: n_fft=1024 is too large for input signal of length=890\n",
      "  warnings.warn(\n"
     ]
    },
    {
     "name": "stdout",
     "output_type": "stream",
     "text": [
      "82.11% done. Processing file: drummer7/session3/128_rock_93_fill_4-4.wav\n"
     ]
    },
    {
     "name": "stderr",
     "output_type": "stream",
     "text": [
      "c:\\Users\\kevin\\miniconda3\\envs\\audio_data_science\\lib\\site-packages\\librosa\\core\\spectrum.py:266: UserWarning: n_fft=1024 is too large for input signal of length=890\n",
      "  warnings.warn(\n"
     ]
    },
    {
     "name": "stdout",
     "output_type": "stream",
     "text": [
      "82.20% done. Processing file: drummer7/session3/129_rock_93_beat_4-4.wav\n",
      "82.29% done. Processing file: drummer7/session3/13_pop-soft_83_fill_4-4.wav\n"
     ]
    },
    {
     "name": "stderr",
     "output_type": "stream",
     "text": [
      "c:\\Users\\kevin\\miniconda3\\envs\\audio_data_science\\lib\\site-packages\\librosa\\core\\spectrum.py:266: UserWarning: n_fft=1024 is too large for input signal of length=997\n",
      "  warnings.warn(\n"
     ]
    },
    {
     "name": "stdout",
     "output_type": "stream",
     "text": [
      "82.39% done. Processing file: drummer7/session3/130_soul_105_beat_4-4.wav\n",
      "82.48% done. Processing file: drummer7/session3/131_soul_105_beat_4-4.wav\n",
      "82.57% done. Processing file: drummer7/session3/132_soul_105_beat_4-4.wav\n",
      "82.66% done. Processing file: drummer7/session3/133_soul_105_beat_4-4.wav\n",
      "82.75% done. Processing file: drummer7/session3/134_soul_105_fill_4-4.wav\n"
     ]
    },
    {
     "name": "stderr",
     "output_type": "stream",
     "text": [
      "c:\\Users\\kevin\\miniconda3\\envs\\audio_data_science\\lib\\site-packages\\librosa\\core\\spectrum.py:266: UserWarning: n_fft=1024 is too large for input signal of length=788\n",
      "  warnings.warn(\n"
     ]
    },
    {
     "name": "stdout",
     "output_type": "stream",
     "text": [
      "82.84% done. Processing file: drummer7/session3/135_soul_105_fill_4-4.wav\n"
     ]
    },
    {
     "name": "stderr",
     "output_type": "stream",
     "text": [
      "c:\\Users\\kevin\\miniconda3\\envs\\audio_data_science\\lib\\site-packages\\librosa\\core\\spectrum.py:266: UserWarning: n_fft=1024 is too large for input signal of length=788\n",
      "  warnings.warn(\n"
     ]
    },
    {
     "name": "stdout",
     "output_type": "stream",
     "text": [
      "82.94% done. Processing file: drummer7/session3/136_soul_105_fill_4-4.wav\n"
     ]
    },
    {
     "name": "stderr",
     "output_type": "stream",
     "text": [
      "c:\\Users\\kevin\\miniconda3\\envs\\audio_data_science\\lib\\site-packages\\librosa\\core\\spectrum.py:266: UserWarning: n_fft=1024 is too large for input signal of length=788\n",
      "  warnings.warn(\n"
     ]
    },
    {
     "name": "stdout",
     "output_type": "stream",
     "text": [
      "83.03% done. Processing file: drummer7/session3/137_soul_105_fill_4-4.wav\n"
     ]
    },
    {
     "name": "stderr",
     "output_type": "stream",
     "text": [
      "c:\\Users\\kevin\\miniconda3\\envs\\audio_data_science\\lib\\site-packages\\librosa\\core\\spectrum.py:266: UserWarning: n_fft=1024 is too large for input signal of length=788\n",
      "  warnings.warn(\n"
     ]
    },
    {
     "name": "stdout",
     "output_type": "stream",
     "text": [
      "83.12% done. Processing file: drummer7/session3/138_soul_105_fill_4-4.wav\n",
      "83.21% done. Processing file: drummer7/session3/139_soul_105_fill_4-4.wav\n"
     ]
    },
    {
     "name": "stderr",
     "output_type": "stream",
     "text": [
      "c:\\Users\\kevin\\miniconda3\\envs\\audio_data_science\\lib\\site-packages\\librosa\\core\\spectrum.py:266: UserWarning: n_fft=1024 is too large for input signal of length=788\n",
      "  warnings.warn(\n"
     ]
    },
    {
     "name": "stdout",
     "output_type": "stream",
     "text": [
      "83.30% done. Processing file: drummer7/session3/14_pop-soft_83_fill_4-4.wav\n"
     ]
    },
    {
     "name": "stderr",
     "output_type": "stream",
     "text": [
      "c:\\Users\\kevin\\miniconda3\\envs\\audio_data_science\\lib\\site-packages\\librosa\\core\\spectrum.py:266: UserWarning: n_fft=1024 is too large for input signal of length=997\n",
      "  warnings.warn(\n"
     ]
    },
    {
     "name": "stdout",
     "output_type": "stream",
     "text": [
      "83.39% done. Processing file: drummer7/session3/140_soul_105_fill_4-4.wav\n"
     ]
    },
    {
     "name": "stderr",
     "output_type": "stream",
     "text": [
      "c:\\Users\\kevin\\miniconda3\\envs\\audio_data_science\\lib\\site-packages\\librosa\\core\\spectrum.py:266: UserWarning: n_fft=1024 is too large for input signal of length=788\n",
      "  warnings.warn(\n"
     ]
    },
    {
     "name": "stdout",
     "output_type": "stream",
     "text": [
      "83.49% done. Processing file: drummer7/session3/141_soul_105_fill_4-4.wav\n"
     ]
    },
    {
     "name": "stderr",
     "output_type": "stream",
     "text": [
      "c:\\Users\\kevin\\miniconda3\\envs\\audio_data_science\\lib\\site-packages\\librosa\\core\\spectrum.py:266: UserWarning: n_fft=1024 is too large for input signal of length=788\n",
      "  warnings.warn(\n"
     ]
    },
    {
     "name": "stdout",
     "output_type": "stream",
     "text": [
      "83.58% done. Processing file: drummer7/session3/142_soul_105_fill_4-4.wav\n"
     ]
    },
    {
     "name": "stderr",
     "output_type": "stream",
     "text": [
      "c:\\Users\\kevin\\miniconda3\\envs\\audio_data_science\\lib\\site-packages\\librosa\\core\\spectrum.py:266: UserWarning: n_fft=1024 is too large for input signal of length=788\n",
      "  warnings.warn(\n"
     ]
    },
    {
     "name": "stdout",
     "output_type": "stream",
     "text": [
      "83.67% done. Processing file: drummer7/session3/143_soul_105_fill_4-4.wav\n"
     ]
    },
    {
     "name": "stderr",
     "output_type": "stream",
     "text": [
      "c:\\Users\\kevin\\miniconda3\\envs\\audio_data_science\\lib\\site-packages\\librosa\\core\\spectrum.py:266: UserWarning: n_fft=1024 is too large for input signal of length=788\n",
      "  warnings.warn(\n"
     ]
    },
    {
     "name": "stdout",
     "output_type": "stream",
     "text": [
      "83.76% done. Processing file: drummer7/session3/144_soul_105_fill_4-4.wav\n"
     ]
    },
    {
     "name": "stderr",
     "output_type": "stream",
     "text": [
      "c:\\Users\\kevin\\miniconda3\\envs\\audio_data_science\\lib\\site-packages\\librosa\\core\\spectrum.py:266: UserWarning: n_fft=1024 is too large for input signal of length=788\n",
      "  warnings.warn(\n"
     ]
    },
    {
     "name": "stdout",
     "output_type": "stream",
     "text": [
      "83.85% done. Processing file: drummer7/session3/145_soul_105_fill_4-4.wav\n"
     ]
    },
    {
     "name": "stderr",
     "output_type": "stream",
     "text": [
      "c:\\Users\\kevin\\miniconda3\\envs\\audio_data_science\\lib\\site-packages\\librosa\\core\\spectrum.py:266: UserWarning: n_fft=1024 is too large for input signal of length=788\n",
      "  warnings.warn(\n"
     ]
    },
    {
     "name": "stdout",
     "output_type": "stream",
     "text": [
      "83.94% done. Processing file: drummer7/session3/146_soul_105_fill_4-4.wav\n",
      "84.04% done. Processing file: drummer7/session3/147_soul_105_fill_4-4.wav\n"
     ]
    },
    {
     "name": "stderr",
     "output_type": "stream",
     "text": [
      "c:\\Users\\kevin\\miniconda3\\envs\\audio_data_science\\lib\\site-packages\\librosa\\core\\spectrum.py:266: UserWarning: n_fft=1024 is too large for input signal of length=788\n",
      "  warnings.warn(\n"
     ]
    },
    {
     "name": "stdout",
     "output_type": "stream",
     "text": [
      "84.13% done. Processing file: drummer7/session3/148_soul_105_fill_4-4.wav\n",
      "84.22% done. Processing file: drummer7/session3/149_soul_105_fill_4-4.wav\n"
     ]
    },
    {
     "name": "stderr",
     "output_type": "stream",
     "text": [
      "c:\\Users\\kevin\\miniconda3\\envs\\audio_data_science\\lib\\site-packages\\librosa\\core\\spectrum.py:266: UserWarning: n_fft=1024 is too large for input signal of length=788\n",
      "  warnings.warn(\n"
     ]
    },
    {
     "name": "stdout",
     "output_type": "stream",
     "text": [
      "84.31% done. Processing file: drummer7/session3/15_pop-soft_83_fill_4-4.wav\n"
     ]
    },
    {
     "name": "stderr",
     "output_type": "stream",
     "text": [
      "c:\\Users\\kevin\\miniconda3\\envs\\audio_data_science\\lib\\site-packages\\librosa\\core\\spectrum.py:266: UserWarning: n_fft=1024 is too large for input signal of length=997\n",
      "  warnings.warn(\n"
     ]
    },
    {
     "name": "stdout",
     "output_type": "stream",
     "text": [
      "84.40% done. Processing file: drummer7/session3/150_soul_105_beat_4-4.wav\n",
      "84.50% done. Processing file: drummer7/session3/151_soul_98_beat_4-4.wav\n",
      "84.59% done. Processing file: drummer7/session3/152_soul_98_fill_4-4.wav\n"
     ]
    },
    {
     "name": "stderr",
     "output_type": "stream",
     "text": [
      "c:\\Users\\kevin\\miniconda3\\envs\\audio_data_science\\lib\\site-packages\\librosa\\core\\spectrum.py:266: UserWarning: n_fft=1024 is too large for input signal of length=844\n",
      "  warnings.warn(\n"
     ]
    },
    {
     "name": "stdout",
     "output_type": "stream",
     "text": [
      "84.68% done. Processing file: drummer7/session3/153_soul_98_fill_4-4.wav\n"
     ]
    },
    {
     "name": "stderr",
     "output_type": "stream",
     "text": [
      "c:\\Users\\kevin\\miniconda3\\envs\\audio_data_science\\lib\\site-packages\\librosa\\core\\spectrum.py:266: UserWarning: n_fft=1024 is too large for input signal of length=844\n",
      "  warnings.warn(\n"
     ]
    },
    {
     "name": "stdout",
     "output_type": "stream",
     "text": [
      "84.77% done. Processing file: drummer7/session3/154_soul_98_fill_4-4.wav\n",
      "84.86% done. Processing file: drummer7/session3/155_soul_98_fill_4-4.wav\n"
     ]
    },
    {
     "name": "stderr",
     "output_type": "stream",
     "text": [
      "c:\\Users\\kevin\\miniconda3\\envs\\audio_data_science\\lib\\site-packages\\librosa\\core\\spectrum.py:266: UserWarning: n_fft=1024 is too large for input signal of length=844\n",
      "  warnings.warn(\n"
     ]
    },
    {
     "name": "stdout",
     "output_type": "stream",
     "text": [
      "84.95% done. Processing file: drummer7/session3/156_soul_98_fill_4-4.wav\n",
      "85.05% done. Processing file: drummer7/session3/157_soul_98_fill_4-4.wav\n"
     ]
    },
    {
     "name": "stderr",
     "output_type": "stream",
     "text": [
      "c:\\Users\\kevin\\miniconda3\\envs\\audio_data_science\\lib\\site-packages\\librosa\\core\\spectrum.py:266: UserWarning: n_fft=1024 is too large for input signal of length=844\n",
      "  warnings.warn(\n"
     ]
    },
    {
     "name": "stdout",
     "output_type": "stream",
     "text": [
      "85.14% done. Processing file: drummer7/session3/158_soul_98_fill_4-4.wav\n"
     ]
    },
    {
     "name": "stderr",
     "output_type": "stream",
     "text": [
      "c:\\Users\\kevin\\miniconda3\\envs\\audio_data_science\\lib\\site-packages\\librosa\\core\\spectrum.py:266: UserWarning: n_fft=1024 is too large for input signal of length=844\n",
      "  warnings.warn(\n"
     ]
    },
    {
     "name": "stdout",
     "output_type": "stream",
     "text": [
      "85.23% done. Processing file: drummer7/session3/159_soul_98_beat_4-4.wav\n",
      "85.32% done. Processing file: drummer7/session3/16_pop-soft_83_fill_4-4.wav\n"
     ]
    },
    {
     "name": "stderr",
     "output_type": "stream",
     "text": [
      "c:\\Users\\kevin\\miniconda3\\envs\\audio_data_science\\lib\\site-packages\\librosa\\core\\spectrum.py:266: UserWarning: n_fft=1024 is too large for input signal of length=997\n",
      "  warnings.warn(\n"
     ]
    },
    {
     "name": "stdout",
     "output_type": "stream",
     "text": [
      "85.41% done. Processing file: drummer7/session3/17_pop-soft_83_fill_4-4.wav\n"
     ]
    },
    {
     "name": "stderr",
     "output_type": "stream",
     "text": [
      "c:\\Users\\kevin\\miniconda3\\envs\\audio_data_science\\lib\\site-packages\\librosa\\core\\spectrum.py:266: UserWarning: n_fft=1024 is too large for input signal of length=997\n",
      "  warnings.warn(\n"
     ]
    },
    {
     "name": "stdout",
     "output_type": "stream",
     "text": [
      "85.50% done. Processing file: drummer7/session3/18_pop-soft_83_fill_4-4.wav\n",
      "85.60% done. Processing file: drummer7/session3/19_pop-soft_83_fill_4-4.wav\n"
     ]
    },
    {
     "name": "stderr",
     "output_type": "stream",
     "text": [
      "c:\\Users\\kevin\\miniconda3\\envs\\audio_data_science\\lib\\site-packages\\librosa\\core\\spectrum.py:266: UserWarning: n_fft=1024 is too large for input signal of length=997\n",
      "  warnings.warn(\n"
     ]
    },
    {
     "name": "stdout",
     "output_type": "stream",
     "text": [
      "85.69% done. Processing file: drummer7/session3/2_rock_60_fill_4-4.wav\n",
      "85.78% done. Processing file: drummer7/session3/20_pop-soft_83_fill_4-4.wav\n",
      "85.87% done. Processing file: drummer7/session3/21_pop-soft_83_fill_4-4.wav\n",
      "85.96% done. Processing file: drummer7/session3/22_pop-soft_83_beat_4-4.wav\n",
      "86.06% done. Processing file: drummer7/session3/23_pop-soft_83_beat_4-4.wav\n",
      "86.15% done. Processing file: drummer7/session3/24_hiphop_67_beat_4-4.wav\n",
      "86.24% done. Processing file: drummer7/session3/25_hiphop_67_fill_4-4.wav\n",
      "86.33% done. Processing file: drummer7/session3/26_hiphop_67_fill_4-4.wav\n",
      "86.42% done. Processing file: drummer7/session3/27_hiphop_67_fill_4-4.wav\n",
      "86.51% done. Processing file: drummer7/session3/28_hiphop_67_fill_4-4.wav\n",
      "86.61% done. Processing file: drummer7/session3/29_hiphop_67_fill_4-4.wav\n",
      "86.70% done. Processing file: drummer7/session3/3_rock_60_fill_4-4.wav\n",
      "86.79% done. Processing file: drummer7/session3/30_hiphop_67_fill_4-4.wav\n",
      "86.88% done. Processing file: drummer7/session3/31_hiphop_67_fill_4-4.wav\n",
      "86.97% done. Processing file: drummer7/session3/32_hiphop_67_fill_4-4.wav\n",
      "87.06% done. Processing file: drummer7/session3/33_hiphop_67_fill_4-4.wav\n",
      "87.16% done. Processing file: drummer7/session3/34_hiphop_67_fill_4-4.wav\n",
      "87.25% done. Processing file: drummer7/session3/35_hiphop_67_fill_4-4.wav\n",
      "87.34% done. Processing file: drummer7/session3/36_hiphop_67_fill_4-4.wav\n",
      "87.43% done. Processing file: drummer7/session3/37_hiphop_67_fill_4-4.wav\n",
      "87.52% done. Processing file: drummer7/session3/38_hiphop_67_beat_4-4.wav\n",
      "87.61% done. Processing file: drummer7/session3/39_rock-indie_63_beat_4-4.wav\n",
      "87.71% done. Processing file: drummer7/session3/4_rock_60_fill_4-4.wav\n",
      "87.80% done. Processing file: drummer7/session3/40_rock-indie_63_fill_4-4.wav\n",
      "87.89% done. Processing file: drummer7/session3/41_rock-indie_63_fill_4-4.wav\n",
      "87.98% done. Processing file: drummer7/session3/42_rock-indie_63_fill_4-4.wav\n",
      "88.07% done. Processing file: drummer7/session3/43_rock-indie_63_fill_4-4.wav\n",
      "88.17% done. Processing file: drummer7/session3/44_rock-indie_63_fill_4-4.wav\n",
      "88.26% done. Processing file: drummer7/session3/45_rock-indie_63_fill_4-4.wav\n",
      "88.35% done. Processing file: drummer7/session3/46_rock-indie_63_beat_4-4.wav\n",
      "88.44% done. Processing file: drummer7/session3/47_funk_112_beat_4-4.wav\n",
      "88.53% done. Processing file: drummer7/session3/48_funk_112_beat_4-4.wav\n",
      "88.62% done. Processing file: drummer7/session3/49_funk_112_beat_4-4.wav\n",
      "88.72% done. Processing file: drummer7/session3/5_rock_60_fill_4-4.wav\n",
      "88.81% done. Processing file: drummer7/session3/50_funk_112_fill_4-4.wav\n"
     ]
    },
    {
     "name": "stderr",
     "output_type": "stream",
     "text": [
      "c:\\Users\\kevin\\miniconda3\\envs\\audio_data_science\\lib\\site-packages\\librosa\\core\\spectrum.py:266: UserWarning: n_fft=1024 is too large for input signal of length=739\n",
      "  warnings.warn(\n"
     ]
    },
    {
     "name": "stdout",
     "output_type": "stream",
     "text": [
      "88.90% done. Processing file: drummer7/session3/51_funk_112_fill_4-4.wav\n"
     ]
    },
    {
     "name": "stderr",
     "output_type": "stream",
     "text": [
      "c:\\Users\\kevin\\miniconda3\\envs\\audio_data_science\\lib\\site-packages\\librosa\\core\\spectrum.py:266: UserWarning: n_fft=1024 is too large for input signal of length=739\n",
      "  warnings.warn(\n"
     ]
    },
    {
     "name": "stdout",
     "output_type": "stream",
     "text": [
      "88.99% done. Processing file: drummer7/session3/52_funk_112_fill_4-4.wav\n",
      "89.08% done. Processing file: drummer7/session3/53_funk_112_fill_4-4.wav\n"
     ]
    },
    {
     "name": "stderr",
     "output_type": "stream",
     "text": [
      "c:\\Users\\kevin\\miniconda3\\envs\\audio_data_science\\lib\\site-packages\\librosa\\core\\spectrum.py:266: UserWarning: n_fft=1024 is too large for input signal of length=739\n",
      "  warnings.warn(\n"
     ]
    },
    {
     "name": "stdout",
     "output_type": "stream",
     "text": [
      "89.17% done. Processing file: drummer7/session3/54_funk_112_fill_4-4.wav\n"
     ]
    },
    {
     "name": "stderr",
     "output_type": "stream",
     "text": [
      "c:\\Users\\kevin\\miniconda3\\envs\\audio_data_science\\lib\\site-packages\\librosa\\core\\spectrum.py:266: UserWarning: n_fft=1024 is too large for input signal of length=739\n",
      "  warnings.warn(\n"
     ]
    },
    {
     "name": "stdout",
     "output_type": "stream",
     "text": [
      "89.27% done. Processing file: drummer7/session3/55_funk_112_fill_4-4.wav\n"
     ]
    },
    {
     "name": "stderr",
     "output_type": "stream",
     "text": [
      "c:\\Users\\kevin\\miniconda3\\envs\\audio_data_science\\lib\\site-packages\\librosa\\core\\spectrum.py:266: UserWarning: n_fft=1024 is too large for input signal of length=739\n",
      "  warnings.warn(\n"
     ]
    },
    {
     "name": "stdout",
     "output_type": "stream",
     "text": [
      "89.36% done. Processing file: drummer7/session3/56_funk_112_fill_4-4.wav\n",
      "89.45% done. Processing file: drummer7/session3/57_funk_112_fill_4-4.wav\n",
      "89.54% done. Processing file: drummer7/session3/58_funk_112_fill_4-4.wav\n"
     ]
    },
    {
     "name": "stderr",
     "output_type": "stream",
     "text": [
      "c:\\Users\\kevin\\miniconda3\\envs\\audio_data_science\\lib\\site-packages\\librosa\\core\\spectrum.py:266: UserWarning: n_fft=1024 is too large for input signal of length=739\n",
      "  warnings.warn(\n"
     ]
    },
    {
     "name": "stdout",
     "output_type": "stream",
     "text": [
      "89.63% done. Processing file: drummer7/session3/59_funk_112_fill_4-4.wav\n"
     ]
    },
    {
     "name": "stderr",
     "output_type": "stream",
     "text": [
      "c:\\Users\\kevin\\miniconda3\\envs\\audio_data_science\\lib\\site-packages\\librosa\\core\\spectrum.py:266: UserWarning: n_fft=1024 is too large for input signal of length=739\n",
      "  warnings.warn(\n"
     ]
    },
    {
     "name": "stdout",
     "output_type": "stream",
     "text": [
      "89.72% done. Processing file: drummer7/session3/6_rock_60_fill_4-4.wav\n",
      "89.82% done. Processing file: drummer7/session3/60_funk_112_fill_4-4.wav\n"
     ]
    },
    {
     "name": "stderr",
     "output_type": "stream",
     "text": [
      "c:\\Users\\kevin\\miniconda3\\envs\\audio_data_science\\lib\\site-packages\\librosa\\core\\spectrum.py:266: UserWarning: n_fft=1024 is too large for input signal of length=739\n",
      "  warnings.warn(\n"
     ]
    },
    {
     "name": "stdout",
     "output_type": "stream",
     "text": [
      "89.91% done. Processing file: drummer7/session3/61_funk_112_fill_4-4.wav\n",
      "90.00% done. Processing file: drummer7/session3/62_funk_112_fill_4-4.wav\n",
      "90.09% done. Processing file: drummer7/session3/63_funk_112_fill_4-4.wav\n",
      "90.18% done. Processing file: drummer7/session3/64_funk_112_beat_4-4.wav\n",
      "90.28% done. Processing file: drummer7/session3/65_funk_112_beat_4-4.wav\n",
      "90.37% done. Processing file: drummer7/session3/66_funk_112_fill_4-4.wav\n"
     ]
    },
    {
     "name": "stderr",
     "output_type": "stream",
     "text": [
      "c:\\Users\\kevin\\miniconda3\\envs\\audio_data_science\\lib\\site-packages\\librosa\\core\\spectrum.py:266: UserWarning: n_fft=1024 is too large for input signal of length=739\n",
      "  warnings.warn(\n"
     ]
    },
    {
     "name": "stdout",
     "output_type": "stream",
     "text": [
      "90.46% done. Processing file: drummer7/session3/67_neworleans-funk_93_beat_4-4.wav\n",
      "90.55% done. Processing file: drummer7/session3/68_neworleans-funk_93_fill_4-4.wav\n"
     ]
    },
    {
     "name": "stderr",
     "output_type": "stream",
     "text": [
      "c:\\Users\\kevin\\miniconda3\\envs\\audio_data_science\\lib\\site-packages\\librosa\\core\\spectrum.py:266: UserWarning: n_fft=1024 is too large for input signal of length=890\n",
      "  warnings.warn(\n"
     ]
    },
    {
     "name": "stdout",
     "output_type": "stream",
     "text": [
      "90.64% done. Processing file: drummer7/session3/69_neworleans-funk_93_fill_4-4.wav\n"
     ]
    },
    {
     "name": "stderr",
     "output_type": "stream",
     "text": [
      "c:\\Users\\kevin\\miniconda3\\envs\\audio_data_science\\lib\\site-packages\\librosa\\core\\spectrum.py:266: UserWarning: n_fft=1024 is too large for input signal of length=890\n",
      "  warnings.warn(\n"
     ]
    },
    {
     "name": "stdout",
     "output_type": "stream",
     "text": [
      "90.73% done. Processing file: drummer7/session3/7_rock_60_fill_4-4.wav\n",
      "90.83% done. Processing file: drummer7/session3/70_neworleans-funk_93_fill_4-4.wav\n",
      "90.92% done. Processing file: drummer7/session3/71_neworleans-funk_93_fill_4-4.wav\n",
      "91.01% done. Processing file: drummer7/session3/72_neworleans-funk_93_fill_4-4.wav\n"
     ]
    },
    {
     "name": "stderr",
     "output_type": "stream",
     "text": [
      "c:\\Users\\kevin\\miniconda3\\envs\\audio_data_science\\lib\\site-packages\\librosa\\core\\spectrum.py:266: UserWarning: n_fft=1024 is too large for input signal of length=890\n",
      "  warnings.warn(\n"
     ]
    },
    {
     "name": "stdout",
     "output_type": "stream",
     "text": [
      "91.10% done. Processing file: drummer7/session3/73_neworleans-funk_93_fill_4-4.wav\n",
      "91.19% done. Processing file: drummer7/session3/74_neworleans-funk_93_fill_4-4.wav\n",
      "91.28% done. Processing file: drummer7/session3/75_neworleans-funk_93_fill_4-4.wav\n",
      "91.38% done. Processing file: drummer7/session3/76_neworleans-funk_93_fill_4-4.wav\n",
      "91.47% done. Processing file: drummer7/session3/77_neworleans-funk_93_fill_4-4.wav\n",
      "91.56% done. Processing file: drummer7/session3/78_neworleans-funk_93_fill_4-4.wav\n",
      "91.65% done. Processing file: drummer7/session3/79_neworleans-funk_93_fill_4-4.wav\n",
      "91.74% done. Processing file: drummer7/session3/8_rock_60_fill_4-4.wav\n",
      "91.83% done. Processing file: drummer7/session3/80_neworleans-funk_93_fill_4-4.wav\n",
      "91.93% done. Processing file: drummer7/session3/81_neworleans-funk_93_fill_4-4.wav\n"
     ]
    },
    {
     "name": "stderr",
     "output_type": "stream",
     "text": [
      "c:\\Users\\kevin\\miniconda3\\envs\\audio_data_science\\lib\\site-packages\\librosa\\core\\spectrum.py:266: UserWarning: n_fft=1024 is too large for input signal of length=890\n",
      "  warnings.warn(\n"
     ]
    },
    {
     "name": "stdout",
     "output_type": "stream",
     "text": [
      "92.02% done. Processing file: drummer7/session3/82_neworleans-funk_93_fill_4-4.wav\n"
     ]
    },
    {
     "name": "stderr",
     "output_type": "stream",
     "text": [
      "c:\\Users\\kevin\\miniconda3\\envs\\audio_data_science\\lib\\site-packages\\librosa\\core\\spectrum.py:266: UserWarning: n_fft=1024 is too large for input signal of length=890\n",
      "  warnings.warn(\n"
     ]
    },
    {
     "name": "stdout",
     "output_type": "stream",
     "text": [
      "92.11% done. Processing file: drummer7/session3/83_neworleans-funk_93_fill_4-4.wav\n"
     ]
    },
    {
     "name": "stderr",
     "output_type": "stream",
     "text": [
      "c:\\Users\\kevin\\miniconda3\\envs\\audio_data_science\\lib\\site-packages\\librosa\\core\\spectrum.py:266: UserWarning: n_fft=1024 is too large for input signal of length=890\n",
      "  warnings.warn(\n"
     ]
    },
    {
     "name": "stdout",
     "output_type": "stream",
     "text": [
      "92.20% done. Processing file: drummer7/session3/84_neworleans-funk_93_fill_4-4.wav\n",
      "92.29% done. Processing file: drummer7/session3/85_neworleans-funk_93_fill_4-4.wav\n",
      "92.39% done. Processing file: drummer7/session3/86_neworleans-funk_93_fill_4-4.wav\n",
      "92.48% done. Processing file: drummer7/session3/87_neworleans-funk_93_fill_4-4.wav\n",
      "92.57% done. Processing file: drummer7/session3/88_neworleans-funk_93_fill_4-4.wav\n",
      "92.66% done. Processing file: drummer7/session3/89_neworleans-funk_93_fill_4-4.wav\n",
      "92.75% done. Processing file: drummer7/session3/9_rock_60_fill_4-4.wav\n",
      "92.84% done. Processing file: drummer7/session3/90_neworleans-funk_93_fill_4-4.wav\n",
      "92.94% done. Processing file: drummer7/session3/91_neworleans-funk_93_beat_4-4.wav\n",
      "93.03% done. Processing file: drummer7/session3/92_hiphop_70_beat_4-4.wav\n",
      "93.12% done. Processing file: drummer7/session3/93_hiphop_70_fill_4-4.wav\n",
      "93.21% done. Processing file: drummer7/session3/94_hiphop_70_fill_4-4.wav\n",
      "93.30% done. Processing file: drummer7/session3/95_hiphop_70_fill_4-4.wav\n",
      "93.39% done. Processing file: drummer7/session3/96_hiphop_70_fill_4-4.wav\n",
      "93.49% done. Processing file: drummer7/session3/97_hiphop_70_fill_4-4.wav\n",
      "93.58% done. Processing file: drummer7/session3/98_hiphop_70_fill_4-4.wav\n",
      "93.67% done. Processing file: drummer7/session3/99_hiphop_70_fill_4-4.wav\n",
      "93.76% done. Processing file: drummer8/eval_session/1_funk-groove1_138_beat_4-4.wav\n",
      "93.85% done. Processing file: drummer8/eval_session/10_soul-groove10_102_beat_4-4.wav\n",
      "93.94% done. Processing file: drummer8/eval_session/2_funk-groove2_105_beat_4-4.wav\n",
      "94.04% done. Processing file: drummer8/eval_session/3_soul-groove3_86_beat_4-4.wav\n",
      "94.13% done. Processing file: drummer8/eval_session/4_soul-groove4_80_beat_4-4.wav\n",
      "94.22% done. Processing file: drummer8/eval_session/5_funk-groove5_84_beat_4-4.wav\n",
      "94.31% done. Processing file: drummer8/eval_session/6_hiphop-groove6_87_beat_4-4.wav\n",
      "94.40% done. Processing file: drummer8/eval_session/7_pop-groove7_138_beat_4-4.wav\n",
      "94.50% done. Processing file: drummer8/eval_session/8_rock-groove8_65_beat_4-4.wav\n",
      "94.59% done. Processing file: drummer8/eval_session/9_soul-groove9_105_beat_4-4.wav\n",
      "94.68% done. Processing file: drummer8/session1/1_funk_95_beat_4-4.wav\n",
      "94.77% done. Processing file: drummer8/session1/10_neworleans-funk_82_beat_4-4.wav\n",
      "94.86% done. Processing file: drummer8/session1/11_neworleans-funk_82_beat_4-4.wav\n",
      "94.95% done. Processing file: drummer8/session1/12_latin_118_beat_4-4.wav\n",
      "95.05% done. Processing file: drummer8/session1/13_latin_118_beat_4-4.wav\n",
      "95.14% done. Processing file: drummer8/session1/14_hiphop_94_beat_4-4.wav\n",
      "95.23% done. Processing file: drummer8/session1/15_hiphop_94_beat_4-4.wav\n",
      "95.32% done. Processing file: drummer8/session1/16_afrobeat_90_beat_4-4.wav\n",
      "95.41% done. Processing file: drummer8/session1/17_afrobeat_90_beat_4-4.wav\n",
      "95.50% done. Processing file: drummer8/session1/18_funk_108_beat_4-4.wav\n",
      "95.60% done. Processing file: drummer8/session1/19_funk_108_beat_4-4.wav\n",
      "95.69% done. Processing file: drummer8/session1/2_funk_95_beat_4-4.wav\n",
      "95.78% done. Processing file: drummer8/session1/20_rock-shuffle_112_beat_4-4.wav\n",
      "95.87% done. Processing file: drummer8/session1/21_rock-shuffle_112_beat_4-4.wav\n",
      "95.96% done. Processing file: drummer8/session1/22_funk_115_beat_4-4.wav\n",
      "96.06% done. Processing file: drummer8/session1/23_hiphop_70_beat_4-4.wav\n",
      "96.15% done. Processing file: drummer8/session1/24_funk-latin_100_beat_4-4.wav\n",
      "96.24% done. Processing file: drummer8/session1/25_funk-latin_100_beat_4-4.wav\n",
      "96.33% done. Processing file: drummer8/session1/26_afrobeat_94_beat_4-4.wav\n",
      "96.42% done. Processing file: drummer8/session1/27_latin_122_beat_4-4.wav\n",
      "96.51% done. Processing file: drummer8/session1/28_rock_102_beat_4-4.wav\n",
      "96.61% done. Processing file: drummer8/session1/3_hiphop_90_beat_4-4.wav\n",
      "96.70% done. Processing file: drummer8/session1/4_hiphop_90_beat_4-4.wav\n",
      "96.79% done. Processing file: drummer8/session1/5_hiphop_90_beat_4-4.wav\n",
      "96.88% done. Processing file: drummer8/session1/6_funk_80_beat_4-4.wav\n",
      "96.97% done. Processing file: drummer8/session1/7_funk_80_beat_4-4.wav\n",
      "97.06% done. Processing file: drummer8/session1/8_funk_96_beat_4-4.wav\n",
      "97.16% done. Processing file: drummer8/session1/9_funk_96_beat_4-4.wav\n",
      "97.25% done. Processing file: drummer9/session1/1_rock_100_beat_4-4.wav\n",
      "97.34% done. Processing file: drummer9/session1/10_rock_100_beat_4-4.wav\n",
      "97.43% done. Processing file: drummer9/session1/11_rock_100_beat_4-4.wav\n",
      "97.52% done. Processing file: drummer9/session1/12_rock_100_beat_4-4.wav\n",
      "97.61% done. Processing file: drummer9/session1/13_rock_120_beat_4-4.wav\n",
      "97.71% done. Processing file: drummer9/session1/14_rock_120_beat_4-4.wav\n",
      "97.80% done. Processing file: drummer9/session1/15_rock_120_beat_4-4.wav\n",
      "97.89% done. Processing file: drummer9/session1/16_rock_120_beat_4-4.wav\n",
      "97.98% done. Processing file: drummer9/session1/17_rock_120_beat_4-4.wav\n",
      "98.07% done. Processing file: drummer9/session1/18_rock_120_beat_4-4.wav\n",
      "98.17% done. Processing file: drummer9/session1/19_rock_120_beat_4-4.wav\n",
      "98.26% done. Processing file: drummer9/session1/2_rock_100_beat_4-4.wav\n",
      "98.35% done. Processing file: drummer9/session1/20_rock_120_beat_4-4.wav\n",
      "98.44% done. Processing file: drummer9/session1/21_rock_120_beat_4-4.wav\n",
      "98.53% done. Processing file: drummer9/session1/22_rock_120_beat_4-4.wav\n",
      "98.62% done. Processing file: drummer9/session1/23_rock_120_beat_4-4.wav\n",
      "98.72% done. Processing file: drummer9/session1/24_rock_90_beat_4-4.wav\n",
      "98.81% done. Processing file: drummer9/session1/25_rock_90_beat_4-4.wav\n",
      "98.90% done. Processing file: drummer9/session1/26_rock_90_beat_4-4.wav\n",
      "98.99% done. Processing file: drummer9/session1/27_rock_90_beat_4-4.wav\n",
      "99.08% done. Processing file: drummer9/session1/28_rock_90_beat_4-4.wav\n",
      "99.17% done. Processing file: drummer9/session1/29_rock_90_beat_4-4.wav\n",
      "99.27% done. Processing file: drummer9/session1/3_rock_100_beat_4-4.wav\n",
      "99.36% done. Processing file: drummer9/session1/30_rock_90_beat_4-4.wav\n",
      "99.45% done. Processing file: drummer9/session1/4_rock_100_beat_4-4.wav\n",
      "99.54% done. Processing file: drummer9/session1/5_rock_100_beat_4-4.wav\n",
      "99.63% done. Processing file: drummer9/session1/6_rock_100_beat_4-4.wav\n",
      "99.72% done. Processing file: drummer9/session1/7_rock_100_beat_4-4.wav\n",
      "99.82% done. Processing file: drummer9/session1/8_rock_100_beat_4-4.wav\n",
      "99.91% done. Processing file: drummer9/session1/9_rock_100_beat_4-4.wav\n"
     ]
    }
   ],
   "source": [
    "# Initialisieren der neuen Spalten mit None\n",
    "new_columns = [\n",
    "    \"onset_env_mean\", \"onset_env_std\", \"mfcc_mean\", \"mfcc_std\", \n",
    "    \"spectral_flux_mean\", \"spectral_flux_std\", \"spectral_contrast_mean\", \n",
    "    \"spectral_contrast_std\", \"tonnetz_mean\", \"tonnetz_std\", \"rms_mean\", \n",
    "    \"rms_std\", \"spectral_centroid_mean\", \"spectral_centroid_std\", \n",
    "    \"spectral_bandwidth_mean\", \"spectral_bandwidth_std\", \n",
    "    \"spectral_flatness_mean\", \"spectral_flatness_std\", \"tempogram_mean\" ,\"tempogram_std\"\n",
    "]\n",
    "\n",
    "for col in new_columns:\n",
    "    data[col] = None\n",
    "\n",
    "index = 0\n",
    "# Iteration über den DataFrame\n",
    "for file_name in data.audio_filename:\n",
    "    id_mask = data.audio_filename == file_name\n",
    "    print(\"{:.2f}% done. Processing file: {}\".format((index/data.shape[0])*100, file_name))\n",
    "    index += 1\n",
    "    audio_path = os.path.join(\"Datasets\\groove\", file_name)\n",
    "    \n",
    "    if not os.path.exists(audio_path):\n",
    "        print(f\"File not found: {audio_path}\")\n",
    "        continue\n",
    "\n",
    "    # Audio laden (als numpy-Array (y) und die samplerate (sr))\n",
    "    try:\n",
    "        y, sr = librosa.load(audio_path, sr=None)\n",
    "    except Exception as e:\n",
    "        print(f\"Error loading {audio_path}: {e}\")\n",
    "        continue\n",
    "    \n",
    "    # Dynamisch n_fft basierend auf der Länge des Audiosignals setzen\n",
    "    n_fft = min(512, len(y) // 2)\n",
    "    hop_length = n_fft // 2\n",
    "    \n",
    "    # Berechnung der Merkmale\n",
    "    onset_env = librosa.onset.onset_strength(y=y, sr=sr, hop_length=hop_length)\n",
    "    onset_env_mean = onset_env.mean()\n",
    "    onset_env_std = onset_env.std()\n",
    "    \n",
    "    # Berechnen des STFT und des Spectral Flux\n",
    "    stft = np.abs(librosa.stft(y, n_fft=n_fft, hop_length=hop_length))\n",
    "    spectral_flux = np.sqrt(np.mean((np.diff(stft, axis=1))**2, axis=0))\n",
    "    spectral_flux_mean = spectral_flux.mean()\n",
    "    spectral_flux_std = spectral_flux.std()\n",
    "\n",
    "    # Reduziere n_mels und passe fmax an, um leere Filter zu vermeiden\n",
    "    n_mels = 40\n",
    "    fmax = sr / 2\n",
    "\n",
    "    mfcc = librosa.feature.mfcc(y=y, sr=sr, n_mfcc=13, n_fft=n_fft, hop_length=hop_length, n_mels=n_mels, fmax=fmax)\n",
    "    mfcc_mean = mfcc.mean()\n",
    "    mfcc_std = mfcc.std()\n",
    "\n",
    "    spectral_contrast = librosa.feature.spectral_contrast(y=y, sr=sr, n_fft=n_fft, hop_length=hop_length)\n",
    "    spectral_contrast_mean = spectral_contrast.mean()\n",
    "    spectral_contrast_std = spectral_contrast.std()\n",
    "\n",
    "    tonnetz = librosa.feature.tonnetz(y=y, sr=sr, hop_length=hop_length)\n",
    "    tonnetz_mean = tonnetz.mean()\n",
    "    tonnetz_std = tonnetz.std()\n",
    "\n",
    "    rms = librosa.feature.rms(y=y, frame_length=n_fft, hop_length=hop_length)\n",
    "    rms_mean = rms.mean()\n",
    "    rms_std = rms.std()\n",
    "\n",
    "    spectral_centroid = librosa.feature.spectral_centroid(y=y, sr=sr, n_fft=n_fft, hop_length=hop_length)\n",
    "    spectral_centroid_mean = spectral_centroid.mean()\n",
    "    spectral_centroid_std = spectral_centroid.std()\n",
    "\n",
    "    spectral_bandwidth = librosa.feature.spectral_bandwidth(y=y, sr=sr, n_fft=n_fft, hop_length=hop_length)\n",
    "    spectral_bandwidth_mean = spectral_bandwidth.mean()\n",
    "    spectral_bandwidth_std = spectral_bandwidth.std()\n",
    "\n",
    "    spectral_flatness = librosa.feature.spectral_flatness(y=y, n_fft=n_fft, hop_length=hop_length)\n",
    "    spectral_flatness_mean = spectral_flatness.mean()\n",
    "    spectral_flatness_std = spectral_flatness.std()\n",
    "\n",
    "    tempogram = librosa.feature.tempogram_ratio(y=y, sr=sr)\n",
    "    tempogram_mean = librosa.feature.tempogram_ratio(y=y, sr=sr).mean()\n",
    "    tempogram_std = librosa.feature.tempogram_ratio(y=y, sr=sr).std()\n",
    "\n",
    "    # Schreiben der berechneten Werte in den DataFrame\n",
    "    data.loc[id_mask, 'onset_env_mean'] = onset_env_mean\n",
    "    data.loc[id_mask,'onset_env_std'] = onset_env_std\n",
    "    data.loc[id_mask,'mfcc_mean'] = mfcc_mean\n",
    "    data.loc[id_mask,'mfcc_std'] = mfcc_std\n",
    "    data.loc[id_mask,'spectral_flux_mean'] = spectral_flux_mean\n",
    "    data.loc[id_mask,'spectral_flux_std'] = spectral_flux_std\n",
    "    data.loc[id_mask,'spectral_contrast_mean'] = spectral_contrast_mean\n",
    "    data.loc[id_mask,'spectral_contrast_std'] = spectral_contrast_std\n",
    "    data.loc[id_mask,'tonnetz_mean'] = tonnetz_mean\n",
    "    data.loc[id_mask,'tonnetz_std'] = tonnetz_std\n",
    "    data.loc[id_mask,'rms_mean'] = rms_mean\n",
    "    data.loc[id_mask,'rms_std'] = rms_std\n",
    "    data.loc[id_mask,'spectral_centroid_mean'] = spectral_centroid_mean\n",
    "    data.loc[id_mask,'spectral_centroid_std'] = spectral_centroid_std\n",
    "    data.loc[id_mask,'spectral_bandwidth_mean'] = spectral_bandwidth_mean\n",
    "    data.loc[id_mask,'spectral_bandwidth_std'] = spectral_bandwidth_std\n",
    "    data.loc[id_mask,'spectral_flatness_mean'] = spectral_flatness_mean\n",
    "    data.loc[id_mask,'spectral_flatness_std'] = spectral_flatness_std\n",
    "    data.loc[id_mask,'tempogram_mean'] = tempogram_mean\n",
    "    data.loc[id_mask,'tempogram_std'] = tempogram_std"
   ]
  },
  {
   "cell_type": "code",
   "execution_count": 47,
   "metadata": {},
   "outputs": [],
   "source": [
    "data.to_csv(\"data_processed\")"
   ]
  },
  {
   "cell_type": "markdown",
   "metadata": {},
   "source": [
    "# Split labels and features"
   ]
  },
  {
   "cell_type": "code",
   "execution_count": 48,
   "metadata": {},
   "outputs": [],
   "source": [
    "# seperate labels\n",
    "y = data_encoded.iloc[:, 11:]\n",
    "# seperate data\n",
    "X = data_encoded.iloc[:, :11]\n",
    "# drop unnecessary data\n",
    "X = X.drop(columns=[\"drummer\", \"session\", \"id\", \"midi_filename\", \"audio_filename\", \"style\"])\n",
    "# should we use their split instead of our own?\n",
    "X = X.drop(columns=[\"split\"])\n",
    "# time signature would be a nice feature, but they are 99% in 4/4. We might as well drop this column to pevent overfitting\n",
    "X = X.drop(columns=[\"time_signature\"])"
   ]
  },
  {
   "cell_type": "code",
   "execution_count": 49,
   "metadata": {},
   "outputs": [
    {
     "data": {
      "text/html": [
       "<div>\n",
       "<style scoped>\n",
       "    .dataframe tbody tr th:only-of-type {\n",
       "        vertical-align: middle;\n",
       "    }\n",
       "\n",
       "    .dataframe tbody tr th {\n",
       "        vertical-align: top;\n",
       "    }\n",
       "\n",
       "    .dataframe thead th {\n",
       "        text-align: right;\n",
       "    }\n",
       "</style>\n",
       "<table border=\"1\" class=\"dataframe\">\n",
       "  <thead>\n",
       "    <tr style=\"text-align: right;\">\n",
       "      <th></th>\n",
       "      <th>afrobeat</th>\n",
       "      <th>afrocuban</th>\n",
       "      <th>ando</th>\n",
       "      <th>baiao</th>\n",
       "      <th>bembe</th>\n",
       "      <th>blues</th>\n",
       "      <th>bomba</th>\n",
       "      <th>bossa</th>\n",
       "      <th>brazilian</th>\n",
       "      <th>breakbeat</th>\n",
       "      <th>...</th>\n",
       "      <th>sambareggae</th>\n",
       "      <th>sangueo</th>\n",
       "      <th>secondline</th>\n",
       "      <th>shuffle</th>\n",
       "      <th>slow</th>\n",
       "      <th>soft</th>\n",
       "      <th>songo</th>\n",
       "      <th>soul</th>\n",
       "      <th>swing</th>\n",
       "      <th>venezuelan</th>\n",
       "    </tr>\n",
       "  </thead>\n",
       "  <tbody>\n",
       "    <tr>\n",
       "      <th>0</th>\n",
       "      <td>0</td>\n",
       "      <td>0</td>\n",
       "      <td>0</td>\n",
       "      <td>0</td>\n",
       "      <td>0</td>\n",
       "      <td>0</td>\n",
       "      <td>0</td>\n",
       "      <td>0</td>\n",
       "      <td>0</td>\n",
       "      <td>0</td>\n",
       "      <td>...</td>\n",
       "      <td>0</td>\n",
       "      <td>0</td>\n",
       "      <td>0</td>\n",
       "      <td>0</td>\n",
       "      <td>0</td>\n",
       "      <td>0</td>\n",
       "      <td>0</td>\n",
       "      <td>0</td>\n",
       "      <td>0</td>\n",
       "      <td>0</td>\n",
       "    </tr>\n",
       "    <tr>\n",
       "      <th>1</th>\n",
       "      <td>0</td>\n",
       "      <td>0</td>\n",
       "      <td>0</td>\n",
       "      <td>0</td>\n",
       "      <td>0</td>\n",
       "      <td>0</td>\n",
       "      <td>0</td>\n",
       "      <td>0</td>\n",
       "      <td>0</td>\n",
       "      <td>0</td>\n",
       "      <td>...</td>\n",
       "      <td>0</td>\n",
       "      <td>0</td>\n",
       "      <td>0</td>\n",
       "      <td>0</td>\n",
       "      <td>0</td>\n",
       "      <td>0</td>\n",
       "      <td>0</td>\n",
       "      <td>1</td>\n",
       "      <td>0</td>\n",
       "      <td>0</td>\n",
       "    </tr>\n",
       "    <tr>\n",
       "      <th>2</th>\n",
       "      <td>0</td>\n",
       "      <td>0</td>\n",
       "      <td>0</td>\n",
       "      <td>0</td>\n",
       "      <td>0</td>\n",
       "      <td>0</td>\n",
       "      <td>0</td>\n",
       "      <td>0</td>\n",
       "      <td>0</td>\n",
       "      <td>0</td>\n",
       "      <td>...</td>\n",
       "      <td>0</td>\n",
       "      <td>0</td>\n",
       "      <td>0</td>\n",
       "      <td>0</td>\n",
       "      <td>0</td>\n",
       "      <td>0</td>\n",
       "      <td>0</td>\n",
       "      <td>0</td>\n",
       "      <td>0</td>\n",
       "      <td>0</td>\n",
       "    </tr>\n",
       "    <tr>\n",
       "      <th>3</th>\n",
       "      <td>0</td>\n",
       "      <td>0</td>\n",
       "      <td>0</td>\n",
       "      <td>0</td>\n",
       "      <td>0</td>\n",
       "      <td>0</td>\n",
       "      <td>0</td>\n",
       "      <td>0</td>\n",
       "      <td>0</td>\n",
       "      <td>0</td>\n",
       "      <td>...</td>\n",
       "      <td>0</td>\n",
       "      <td>0</td>\n",
       "      <td>0</td>\n",
       "      <td>0</td>\n",
       "      <td>0</td>\n",
       "      <td>0</td>\n",
       "      <td>0</td>\n",
       "      <td>1</td>\n",
       "      <td>0</td>\n",
       "      <td>0</td>\n",
       "    </tr>\n",
       "    <tr>\n",
       "      <th>4</th>\n",
       "      <td>0</td>\n",
       "      <td>0</td>\n",
       "      <td>0</td>\n",
       "      <td>0</td>\n",
       "      <td>0</td>\n",
       "      <td>0</td>\n",
       "      <td>0</td>\n",
       "      <td>0</td>\n",
       "      <td>0</td>\n",
       "      <td>0</td>\n",
       "      <td>...</td>\n",
       "      <td>0</td>\n",
       "      <td>0</td>\n",
       "      <td>0</td>\n",
       "      <td>0</td>\n",
       "      <td>0</td>\n",
       "      <td>0</td>\n",
       "      <td>0</td>\n",
       "      <td>1</td>\n",
       "      <td>0</td>\n",
       "      <td>0</td>\n",
       "    </tr>\n",
       "  </tbody>\n",
       "</table>\n",
       "<p>5 rows × 69 columns</p>\n",
       "</div>"
      ],
      "text/plain": [
       "   afrobeat  afrocuban  ando  baiao  bembe  blues  bomba  bossa  brazilian  \\\n",
       "0         0          0     0      0      0      0      0      0          0   \n",
       "1         0          0     0      0      0      0      0      0          0   \n",
       "2         0          0     0      0      0      0      0      0          0   \n",
       "3         0          0     0      0      0      0      0      0          0   \n",
       "4         0          0     0      0      0      0      0      0          0   \n",
       "\n",
       "   breakbeat  ...  sambareggae  sangueo  secondline  shuffle  slow  soft  \\\n",
       "0          0  ...            0        0           0        0     0     0   \n",
       "1          0  ...            0        0           0        0     0     0   \n",
       "2          0  ...            0        0           0        0     0     0   \n",
       "3          0  ...            0        0           0        0     0     0   \n",
       "4          0  ...            0        0           0        0     0     0   \n",
       "\n",
       "   songo  soul  swing  venezuelan  \n",
       "0      0     0      0           0  \n",
       "1      0     1      0           0  \n",
       "2      0     0      0           0  \n",
       "3      0     1      0           0  \n",
       "4      0     1      0           0  \n",
       "\n",
       "[5 rows x 69 columns]"
      ]
     },
     "execution_count": 49,
     "metadata": {},
     "output_type": "execute_result"
    }
   ],
   "source": [
    "# only labels\n",
    "y.head()"
   ]
  },
  {
   "cell_type": "code",
   "execution_count": 50,
   "metadata": {},
   "outputs": [
    {
     "data": {
      "text/html": [
       "<div>\n",
       "<style scoped>\n",
       "    .dataframe tbody tr th:only-of-type {\n",
       "        vertical-align: middle;\n",
       "    }\n",
       "\n",
       "    .dataframe tbody tr th {\n",
       "        vertical-align: top;\n",
       "    }\n",
       "\n",
       "    .dataframe thead th {\n",
       "        text-align: right;\n",
       "    }\n",
       "</style>\n",
       "<table border=\"1\" class=\"dataframe\">\n",
       "  <thead>\n",
       "    <tr style=\"text-align: right;\">\n",
       "      <th></th>\n",
       "      <th>bpm</th>\n",
       "      <th>beat_type</th>\n",
       "      <th>duration</th>\n",
       "    </tr>\n",
       "  </thead>\n",
       "  <tbody>\n",
       "    <tr>\n",
       "      <th>0</th>\n",
       "      <td>138</td>\n",
       "      <td>1</td>\n",
       "      <td>27.872308</td>\n",
       "    </tr>\n",
       "    <tr>\n",
       "      <th>1</th>\n",
       "      <td>102</td>\n",
       "      <td>1</td>\n",
       "      <td>37.691158</td>\n",
       "    </tr>\n",
       "    <tr>\n",
       "      <th>2</th>\n",
       "      <td>105</td>\n",
       "      <td>1</td>\n",
       "      <td>36.351218</td>\n",
       "    </tr>\n",
       "    <tr>\n",
       "      <th>3</th>\n",
       "      <td>86</td>\n",
       "      <td>1</td>\n",
       "      <td>44.716543</td>\n",
       "    </tr>\n",
       "    <tr>\n",
       "      <th>4</th>\n",
       "      <td>80</td>\n",
       "      <td>1</td>\n",
       "      <td>47.987500</td>\n",
       "    </tr>\n",
       "  </tbody>\n",
       "</table>\n",
       "</div>"
      ],
      "text/plain": [
       "   bpm  beat_type   duration\n",
       "0  138          1  27.872308\n",
       "1  102          1  37.691158\n",
       "2  105          1  36.351218\n",
       "3   86          1  44.716543\n",
       "4   80          1  47.987500"
      ]
     },
     "execution_count": 50,
     "metadata": {},
     "output_type": "execute_result"
    }
   ],
   "source": [
    "# only features\n",
    "X.head()"
   ]
  },
  {
   "cell_type": "code",
   "execution_count": 51,
   "metadata": {},
   "outputs": [],
   "source": [
    "from sklearn.model_selection import train_test_split\n",
    "\n",
    "# Split the data\n",
    "X_train, X_test, y_train, y_test = train_test_split(X, y, test_size=0.2, random_state=42)"
   ]
  },
  {
   "cell_type": "markdown",
   "metadata": {},
   "source": [
    "# Random Forest"
   ]
  },
  {
   "cell_type": "code",
   "execution_count": 52,
   "metadata": {},
   "outputs": [
    {
     "data": {
      "image/png": "[encoded data removed]",
      "text/plain": [
       "<Figure size 1000x600 with 1 Axes>"
      ]
     },
     "metadata": {},
     "output_type": "display_data"
    }
   ],
   "source": [
    "import numpy as np\n",
    "import matplotlib.pyplot as plt\n",
    "from sklearn.ensemble import RandomForestClassifier\n",
    "from sklearn.multioutput import MultiOutputClassifier\n",
    "from sklearn.model_selection import GridSearchCV\n",
    "\n",
    "def perform_and_plot_RNDForest_grid_search(prefixed_parameters: dict, train_data, train_labels):    \n",
    "    # Initialize the base classifier\n",
    "    rf = RandomForestClassifier(random_state=42)\n",
    "    # Wrap with MultiOutputClassifier\n",
    "    multi_target_rf = MultiOutputClassifier(rf, n_jobs=-1)\n",
    "    \n",
    "    # Perform grid search\n",
    "    grid_search = GridSearchCV(multi_target_rf, prefixed_parameters, verbose=0, scoring='accuracy', cv=5)\n",
    "    grid_search.fit(train_data, train_labels)\n",
    "    \n",
    "    # Collect grid search results\n",
    "    cv_results = grid_search.cv_results_\n",
    "    mean_test_scores = cv_results['mean_test_score']\n",
    "    params = cv_results['params']\n",
    "\n",
    "    # Prepare data for plotting\n",
    "    scores_array = np.array(mean_test_scores).reshape(\n",
    "        len(prefixed_parameters['estimator__max_depth']),\n",
    "        len(prefixed_parameters['estimator__min_samples_leaf']),\n",
    "        len(prefixed_parameters['estimator__n_estimators'])\n",
    "    )\n",
    "\n",
    "    # Create a line plot for each n_estimators\n",
    "    fig, ax = plt.subplots(figsize=(10, 6))\n",
    "\n",
    "    for k, n_estimators in enumerate(prefixed_parameters['estimator__n_estimators']):\n",
    "        scores_for_n_estimators = scores_array[:, :, k].T\n",
    "        for i, min_samples_leaf in enumerate(prefixed_parameters['estimator__min_samples_leaf']):\n",
    "            ax.plot(prefixed_parameters['estimator__max_depth'], scores_for_n_estimators[i],\n",
    "                    marker='o', linestyle='--', label=f'n_estimators: {n_estimators}, min_samples_leaf: {min_samples_leaf}')\n",
    "\n",
    "    ax.set_title('Grid Search Results')\n",
    "    ax.set_xlabel('Max Depth')\n",
    "    ax.set_ylabel('Mean Test Score')\n",
    "    ax.legend(loc='best')\n",
    "\n",
    "    plt.show()\n",
    "    \n",
    "    return grid_search\n",
    "\n",
    "# Example usage\n",
    "parameters = {\n",
    "    'estimator__max_depth': [1, 2],\n",
    "    'estimator__min_samples_leaf': [2, 4],\n",
    "    'estimator__n_estimators': [3, 5, 10]\n",
    "}\n",
    "\n",
    "# Assume X_train and y_train are your training data and labels\n",
    "grid_search_result = perform_and_plot_RNDForest_grid_search(parameters, X_train, y_train)\n"
   ]
  },
  {
   "cell_type": "code",
   "execution_count": 53,
   "metadata": {},
   "outputs": [
    {
     "data": {
      "image/png": "[encoded data removed]",
      "text/plain": [
       "<Figure size 1000x600 with 1 Axes>"
      ]
     },
     "metadata": {},
     "output_type": "display_data"
    },
    {
     "name": "stdout",
     "output_type": "stream",
     "text": [
      "{'estimator__max_depth': 50, 'estimator__min_samples_leaf': 2, 'estimator__n_estimators': 100}\n"
     ]
    }
   ],
   "source": [
    "prefixed_parameters = {\"estimator__max_depth\": [2, 10, 50, 100],\n",
    "              \"estimator__min_samples_leaf\": [2, 10, 20, 50, 100],\n",
    "              \"estimator__n_estimators\":[10, 50, 100]}\n",
    "\n",
    "grid_search = perform_and_plot_RNDForest_grid_search(prefixed_parameters, X_train, y_train)\n",
    "print(grid_search.best_params_)"
   ]
  },
  {
   "cell_type": "code",
   "execution_count": 54,
   "metadata": {},
   "outputs": [
    {
     "name": "stdout",
     "output_type": "stream",
     "text": [
      "Classification Report:\n",
      "               precision    recall  f1-score   support\n",
      "\n",
      "     afrobeat       0.00      0.00      0.00         0\n",
      "    afrocuban       1.00      0.81      0.90        16\n",
      "         ando       0.00      0.00      0.00         0\n",
      "        baiao       0.40      0.29      0.33         7\n",
      "        bembe       1.00      1.00      1.00         8\n",
      "        blues       0.00      0.00      0.00         1\n",
      "        bomba       0.00      0.00      0.00         1\n",
      "        bossa       0.00      0.00      0.00         0\n",
      "    brazilian       0.33      0.22      0.27         9\n",
      "    breakbeat       0.00      0.00      0.00         0\n",
      "      calypso       0.00      0.00      0.00         0\n",
      "    chacarera       0.00      0.00      0.00         1\n",
      "       chacha       0.00      0.00      0.00         0\n",
      "      country       0.67      1.00      0.80         4\n",
      "        dance       0.00      0.00      0.00         1\n",
      "        disco       0.00      0.00      0.00         1\n",
      "    dominican       0.00      0.00      0.00         0\n",
      "         fast       0.71      0.83      0.77         6\n",
      "         folk       0.00      0.00      0.00         1\n",
      "        frevo       0.00      0.00      0.00         0\n",
      "         funk       0.79      0.69      0.74        55\n",
      "       fusion       1.00      0.80      0.89         5\n",
      "       gospel       1.00      0.83      0.91         6\n",
      "      groove1       1.00      0.50      0.67         2\n",
      "     groove10       0.00      0.00      0.00         0\n",
      "      groove2       1.00      0.50      0.67         2\n",
      "      groove3       1.00      1.00      1.00         2\n",
      "      groove4       0.00      0.00      0.00         0\n",
      "      groove5       0.00      0.00      0.00         0\n",
      "      groove6       1.00      1.00      1.00         1\n",
      "      groove7       0.50      1.00      0.67         1\n",
      "      groove8       0.00      0.00      0.00         0\n",
      "      groove9       0.67      1.00      0.80         2\n",
      "     halftime       1.00      1.00      1.00         4\n",
      "       hiphop       0.65      0.79      0.71        19\n",
      "        ijexa       0.00      0.00      0.00         0\n",
      "        indie       0.50      1.00      0.67         1\n",
      "         jazz       0.67      0.59      0.62        17\n",
      "       joropo       0.00      0.00      0.00         0\n",
      "      klezmer       0.00      0.00      0.00         0\n",
      "        latin       0.60      0.38      0.46        16\n",
      "       linear       0.00      0.00      0.00         0\n",
      "     maracatu       0.00      0.00      0.00         0\n",
      "        march       0.00      0.00      0.00         0\n",
      "   mediumfast       0.00      0.00      0.00         0\n",
      "     merengue       0.00      0.00      0.00         0\n",
      "middleeastern       0.00      0.00      0.00         0\n",
      "       motown       1.00      1.00      1.00         1\n",
      "   neworleans       0.79      0.79      0.79        14\n",
      "          pop       0.75      1.00      0.86         3\n",
      "         prog       0.00      0.00      0.00         1\n",
      "         punk       1.00      0.92      0.96        12\n",
      "purdieshuffle       1.00      1.00      1.00         5\n",
      "       reggae       1.00      0.33      0.50         3\n",
      "    reggaeton       0.00      0.00      0.00         0\n",
      "       rhumba       1.00      0.75      0.86         4\n",
      "         rock       0.83      0.55      0.66        62\n",
      "   rockabilly       0.00      0.00      0.00         0\n",
      "        samba       0.67      0.33      0.44         6\n",
      "  sambareggae       0.00      0.00      0.00         0\n",
      "      sangueo       0.00      0.00      0.00         0\n",
      "   secondline       0.00      0.00      0.00         1\n",
      "      shuffle       0.00      0.00      0.00         1\n",
      "         slow       0.00      0.00      0.00         0\n",
      "         soft       1.00      1.00      1.00         1\n",
      "        songo       0.00      0.00      0.00         1\n",
      "         soul       0.70      0.70      0.70        10\n",
      "        swing       1.00      1.00      1.00         1\n",
      "   venezuelan       0.00      0.00      0.00         0\n",
      "\n",
      "    micro avg       0.78      0.65      0.71       315\n",
      "    macro avg       0.38      0.36      0.36       315\n",
      " weighted avg       0.76      0.65      0.69       315\n",
      "  samples avg       0.65      0.64      0.64       315\n",
      "\n",
      "Hamming Loss: 0.011102247041616806\n"
     ]
    },
    {
     "name": "stderr",
     "output_type": "stream",
     "text": [
      "c:\\Users\\kevin\\miniconda3\\envs\\audio_data_science\\lib\\site-packages\\sklearn\\metrics\\_classification.py:1517: UndefinedMetricWarning: Precision is ill-defined and being set to 0.0 in labels with no predicted samples. Use `zero_division` parameter to control this behavior.\n",
      "  _warn_prf(average, modifier, f\"{metric.capitalize()} is\", len(result))\n",
      "c:\\Users\\kevin\\miniconda3\\envs\\audio_data_science\\lib\\site-packages\\sklearn\\metrics\\_classification.py:1517: UndefinedMetricWarning: Recall is ill-defined and being set to 0.0 in labels with no true samples. Use `zero_division` parameter to control this behavior.\n",
      "  _warn_prf(average, modifier, f\"{metric.capitalize()} is\", len(result))\n",
      "c:\\Users\\kevin\\miniconda3\\envs\\audio_data_science\\lib\\site-packages\\sklearn\\metrics\\_classification.py:1517: UndefinedMetricWarning: F-score is ill-defined and being set to 0.0 in labels with no true nor predicted samples. Use `zero_division` parameter to control this behavior.\n",
      "  _warn_prf(average, modifier, f\"{metric.capitalize()} is\", len(result))\n",
      "c:\\Users\\kevin\\miniconda3\\envs\\audio_data_science\\lib\\site-packages\\sklearn\\metrics\\_classification.py:1517: UndefinedMetricWarning: Precision is ill-defined and being set to 0.0 in samples with no predicted labels. Use `zero_division` parameter to control this behavior.\n",
      "  _warn_prf(average, modifier, f\"{metric.capitalize()} is\", len(result))\n"
     ]
    }
   ],
   "source": [
    "from sklearn.metrics import classification_report, hamming_loss\n",
    "\n",
    "# Initialize the base classifier\n",
    "random_forest = RandomForestClassifier(n_estimators=100, random_state=42)\n",
    "\n",
    "# Wrap the classifier with MultiOutputClassifier\n",
    "multi_target_random_forest = MultiOutputClassifier(random_forest, n_jobs=-1)\n",
    "\n",
    "# Train the model\n",
    "multi_target_random_forest.fit(X_train, y_train)\n",
    "\n",
    "# Make predictions\n",
    "y_pred = multi_target_random_forest.predict(X_test)\n",
    "\n",
    "# Evaluation\n",
    "print(\"Classification Report:\")\n",
    "print(classification_report(y_test, y_pred, target_names=[f'{i}' for i in y.columns]))\n",
    "\n",
    "print(\"Hamming Loss:\", hamming_loss(y_test, y_pred))"
   ]
  },
  {
   "cell_type": "markdown",
   "metadata": {},
   "source": [
    "# Convolutional Neural Network"
   ]
  },
  {
   "cell_type": "code",
   "execution_count": 56,
   "metadata": {},
   "outputs": [
    {
     "ename": "ModuleNotFoundError",
     "evalue": "No module named 'requests'",
     "output_type": "error",
     "traceback": [
      "\u001b[1;31m---------------------------------------------------------------------------\u001b[0m",
      "\u001b[1;31mModuleNotFoundError\u001b[0m                       Traceback (most recent call last)",
      "Cell \u001b[1;32mIn[56], line 2\u001b[0m\n\u001b[0;32m      1\u001b[0m \u001b[38;5;66;03m# Import data generator from keras\u001b[39;00m\n\u001b[1;32m----> 2\u001b[0m \u001b[38;5;28;01mfrom\u001b[39;00m \u001b[38;5;21;01mtensorflow\u001b[39;00m\u001b[38;5;21;01m.\u001b[39;00m\u001b[38;5;21;01mkeras\u001b[39;00m\u001b[38;5;21;01m.\u001b[39;00m\u001b[38;5;21;01mpreprocessing\u001b[39;00m\u001b[38;5;21;01m.\u001b[39;00m\u001b[38;5;21;01mimage\u001b[39;00m \u001b[38;5;28;01mimport\u001b[39;00m ImageDataGenerator\n",
      "File \u001b[1;32mc:\\Users\\kevin\\miniconda3\\envs\\audio_data_science\\lib\\site-packages\\tensorflow\\__init__.py:51\u001b[0m\n\u001b[0;32m     49\u001b[0m \u001b[38;5;28;01mfrom\u001b[39;00m \u001b[38;5;21;01m.\u001b[39;00m\u001b[38;5;21;01m_api\u001b[39;00m\u001b[38;5;21;01m.\u001b[39;00m\u001b[38;5;21;01mv2\u001b[39;00m \u001b[38;5;28;01mimport\u001b[39;00m autograph\n\u001b[0;32m     50\u001b[0m \u001b[38;5;28;01mfrom\u001b[39;00m \u001b[38;5;21;01m.\u001b[39;00m\u001b[38;5;21;01m_api\u001b[39;00m\u001b[38;5;21;01m.\u001b[39;00m\u001b[38;5;21;01mv2\u001b[39;00m \u001b[38;5;28;01mimport\u001b[39;00m bitwise\n\u001b[1;32m---> 51\u001b[0m \u001b[38;5;28;01mfrom\u001b[39;00m \u001b[38;5;21;01m.\u001b[39;00m\u001b[38;5;21;01m_api\u001b[39;00m\u001b[38;5;21;01m.\u001b[39;00m\u001b[38;5;21;01mv2\u001b[39;00m \u001b[38;5;28;01mimport\u001b[39;00m compat\n\u001b[0;32m     52\u001b[0m \u001b[38;5;28;01mfrom\u001b[39;00m \u001b[38;5;21;01m.\u001b[39;00m\u001b[38;5;21;01m_api\u001b[39;00m\u001b[38;5;21;01m.\u001b[39;00m\u001b[38;5;21;01mv2\u001b[39;00m \u001b[38;5;28;01mimport\u001b[39;00m config\n\u001b[0;32m     53\u001b[0m \u001b[38;5;28;01mfrom\u001b[39;00m \u001b[38;5;21;01m.\u001b[39;00m\u001b[38;5;21;01m_api\u001b[39;00m\u001b[38;5;21;01m.\u001b[39;00m\u001b[38;5;21;01mv2\u001b[39;00m \u001b[38;5;28;01mimport\u001b[39;00m data\n",
      "File \u001b[1;32mc:\\Users\\kevin\\miniconda3\\envs\\audio_data_science\\lib\\site-packages\\tensorflow\\_api\\v2\\compat\\__init__.py:37\u001b[0m\n\u001b[0;32m      3\u001b[0m \u001b[38;5;124;03m\"\"\"Compatibility functions.\u001b[39;00m\n\u001b[0;32m      4\u001b[0m \n\u001b[0;32m      5\u001b[0m \u001b[38;5;124;03mThe `tf.compat` module contains two sets of compatibility functions.\u001b[39;00m\n\u001b[1;32m   (...)\u001b[0m\n\u001b[0;32m     32\u001b[0m \n\u001b[0;32m     33\u001b[0m \u001b[38;5;124;03m\"\"\"\u001b[39;00m\n\u001b[0;32m     35\u001b[0m \u001b[38;5;28;01mimport\u001b[39;00m \u001b[38;5;21;01msys\u001b[39;00m \u001b[38;5;28;01mas\u001b[39;00m \u001b[38;5;21;01m_sys\u001b[39;00m\n\u001b[1;32m---> 37\u001b[0m \u001b[38;5;28;01mfrom\u001b[39;00m \u001b[38;5;21;01m.\u001b[39;00m \u001b[38;5;28;01mimport\u001b[39;00m v1\n\u001b[0;32m     38\u001b[0m \u001b[38;5;28;01mfrom\u001b[39;00m \u001b[38;5;21;01m.\u001b[39;00m \u001b[38;5;28;01mimport\u001b[39;00m v2\n\u001b[0;32m     39\u001b[0m \u001b[38;5;28;01mfrom\u001b[39;00m \u001b[38;5;21;01mtensorflow\u001b[39;00m\u001b[38;5;21;01m.\u001b[39;00m\u001b[38;5;21;01mpython\u001b[39;00m\u001b[38;5;21;01m.\u001b[39;00m\u001b[38;5;21;01mcompat\u001b[39;00m\u001b[38;5;21;01m.\u001b[39;00m\u001b[38;5;21;01mcompat\u001b[39;00m \u001b[38;5;28;01mimport\u001b[39;00m forward_compatibility_horizon\n",
      "File \u001b[1;32mc:\\Users\\kevin\\miniconda3\\envs\\audio_data_science\\lib\\site-packages\\tensorflow\\_api\\v2\\compat\\v1\\__init__.py:30\u001b[0m\n\u001b[0;32m     28\u001b[0m \u001b[38;5;28;01mfrom\u001b[39;00m \u001b[38;5;21;01m.\u001b[39;00m \u001b[38;5;28;01mimport\u001b[39;00m autograph\n\u001b[0;32m     29\u001b[0m \u001b[38;5;28;01mfrom\u001b[39;00m \u001b[38;5;21;01m.\u001b[39;00m \u001b[38;5;28;01mimport\u001b[39;00m bitwise\n\u001b[1;32m---> 30\u001b[0m \u001b[38;5;28;01mfrom\u001b[39;00m \u001b[38;5;21;01m.\u001b[39;00m \u001b[38;5;28;01mimport\u001b[39;00m compat\n\u001b[0;32m     31\u001b[0m \u001b[38;5;28;01mfrom\u001b[39;00m \u001b[38;5;21;01m.\u001b[39;00m \u001b[38;5;28;01mimport\u001b[39;00m config\n\u001b[0;32m     32\u001b[0m \u001b[38;5;28;01mfrom\u001b[39;00m \u001b[38;5;21;01m.\u001b[39;00m \u001b[38;5;28;01mimport\u001b[39;00m data\n",
      "File \u001b[1;32mc:\\Users\\kevin\\miniconda3\\envs\\audio_data_science\\lib\\site-packages\\tensorflow\\_api\\v2\\compat\\v1\\compat\\__init__.py:38\u001b[0m\n\u001b[0;32m     35\u001b[0m \u001b[38;5;28;01mimport\u001b[39;00m \u001b[38;5;21;01msys\u001b[39;00m \u001b[38;5;28;01mas\u001b[39;00m \u001b[38;5;21;01m_sys\u001b[39;00m\n\u001b[0;32m     37\u001b[0m \u001b[38;5;28;01mfrom\u001b[39;00m \u001b[38;5;21;01m.\u001b[39;00m \u001b[38;5;28;01mimport\u001b[39;00m v1\n\u001b[1;32m---> 38\u001b[0m \u001b[38;5;28;01mfrom\u001b[39;00m \u001b[38;5;21;01m.\u001b[39;00m \u001b[38;5;28;01mimport\u001b[39;00m v2\n\u001b[0;32m     39\u001b[0m \u001b[38;5;28;01mfrom\u001b[39;00m \u001b[38;5;21;01mtensorflow\u001b[39;00m\u001b[38;5;21;01m.\u001b[39;00m\u001b[38;5;21;01mpython\u001b[39;00m\u001b[38;5;21;01m.\u001b[39;00m\u001b[38;5;21;01mcompat\u001b[39;00m\u001b[38;5;21;01m.\u001b[39;00m\u001b[38;5;21;01mcompat\u001b[39;00m \u001b[38;5;28;01mimport\u001b[39;00m forward_compatibility_horizon\n\u001b[0;32m     40\u001b[0m \u001b[38;5;28;01mfrom\u001b[39;00m \u001b[38;5;21;01mtensorflow\u001b[39;00m\u001b[38;5;21;01m.\u001b[39;00m\u001b[38;5;21;01mpython\u001b[39;00m\u001b[38;5;21;01m.\u001b[39;00m\u001b[38;5;21;01mcompat\u001b[39;00m\u001b[38;5;21;01m.\u001b[39;00m\u001b[38;5;21;01mcompat\u001b[39;00m \u001b[38;5;28;01mimport\u001b[39;00m forward_compatible\n",
      "File \u001b[1;32mc:\\Users\\kevin\\miniconda3\\envs\\audio_data_science\\lib\\site-packages\\tensorflow\\_api\\v2\\compat\\v1\\compat\\v2\\__init__.py:28\u001b[0m\n\u001b[0;32m     25\u001b[0m \u001b[38;5;66;03m# pylint: disable=g-bad-import-order\u001b[39;00m\n\u001b[0;32m     27\u001b[0m \u001b[38;5;28;01mfrom\u001b[39;00m \u001b[38;5;21;01m.\u001b[39;00m \u001b[38;5;28;01mimport\u001b[39;00m compat\n\u001b[1;32m---> 28\u001b[0m \u001b[38;5;28;01mfrom\u001b[39;00m \u001b[38;5;21;01mtensorflow\u001b[39;00m\u001b[38;5;21;01m.\u001b[39;00m\u001b[38;5;21;01m_api\u001b[39;00m\u001b[38;5;21;01m.\u001b[39;00m\u001b[38;5;21;01mv2\u001b[39;00m\u001b[38;5;21;01m.\u001b[39;00m\u001b[38;5;21;01mcompat\u001b[39;00m\u001b[38;5;21;01m.\u001b[39;00m\u001b[38;5;21;01mv2\u001b[39;00m \u001b[38;5;28;01mimport\u001b[39;00m __internal__\n\u001b[0;32m     29\u001b[0m \u001b[38;5;28;01mfrom\u001b[39;00m \u001b[38;5;21;01mtensorflow\u001b[39;00m\u001b[38;5;21;01m.\u001b[39;00m\u001b[38;5;21;01m_api\u001b[39;00m\u001b[38;5;21;01m.\u001b[39;00m\u001b[38;5;21;01mv2\u001b[39;00m\u001b[38;5;21;01m.\u001b[39;00m\u001b[38;5;21;01mcompat\u001b[39;00m\u001b[38;5;21;01m.\u001b[39;00m\u001b[38;5;21;01mv2\u001b[39;00m \u001b[38;5;28;01mimport\u001b[39;00m __operators__\n\u001b[0;32m     30\u001b[0m \u001b[38;5;28;01mfrom\u001b[39;00m \u001b[38;5;21;01mtensorflow\u001b[39;00m\u001b[38;5;21;01m.\u001b[39;00m\u001b[38;5;21;01m_api\u001b[39;00m\u001b[38;5;21;01m.\u001b[39;00m\u001b[38;5;21;01mv2\u001b[39;00m\u001b[38;5;21;01m.\u001b[39;00m\u001b[38;5;21;01mcompat\u001b[39;00m\u001b[38;5;21;01m.\u001b[39;00m\u001b[38;5;21;01mv2\u001b[39;00m \u001b[38;5;28;01mimport\u001b[39;00m audio\n",
      "File \u001b[1;32mc:\\Users\\kevin\\miniconda3\\envs\\audio_data_science\\lib\\site-packages\\tensorflow\\_api\\v2\\compat\\v2\\__init__.py:33\u001b[0m\n\u001b[0;32m     31\u001b[0m \u001b[38;5;28;01mfrom\u001b[39;00m \u001b[38;5;21;01m.\u001b[39;00m \u001b[38;5;28;01mimport\u001b[39;00m autograph\n\u001b[0;32m     32\u001b[0m \u001b[38;5;28;01mfrom\u001b[39;00m \u001b[38;5;21;01m.\u001b[39;00m \u001b[38;5;28;01mimport\u001b[39;00m bitwise\n\u001b[1;32m---> 33\u001b[0m \u001b[38;5;28;01mfrom\u001b[39;00m \u001b[38;5;21;01m.\u001b[39;00m \u001b[38;5;28;01mimport\u001b[39;00m compat\n\u001b[0;32m     34\u001b[0m \u001b[38;5;28;01mfrom\u001b[39;00m \u001b[38;5;21;01m.\u001b[39;00m \u001b[38;5;28;01mimport\u001b[39;00m config\n\u001b[0;32m     35\u001b[0m \u001b[38;5;28;01mfrom\u001b[39;00m \u001b[38;5;21;01m.\u001b[39;00m \u001b[38;5;28;01mimport\u001b[39;00m data\n",
      "File \u001b[1;32mc:\\Users\\kevin\\miniconda3\\envs\\audio_data_science\\lib\\site-packages\\tensorflow\\_api\\v2\\compat\\v2\\compat\\__init__.py:38\u001b[0m\n\u001b[0;32m     35\u001b[0m \u001b[38;5;28;01mimport\u001b[39;00m \u001b[38;5;21;01msys\u001b[39;00m \u001b[38;5;28;01mas\u001b[39;00m \u001b[38;5;21;01m_sys\u001b[39;00m\n\u001b[0;32m     37\u001b[0m \u001b[38;5;28;01mfrom\u001b[39;00m \u001b[38;5;21;01m.\u001b[39;00m \u001b[38;5;28;01mimport\u001b[39;00m v1\n\u001b[1;32m---> 38\u001b[0m \u001b[38;5;28;01mfrom\u001b[39;00m \u001b[38;5;21;01m.\u001b[39;00m \u001b[38;5;28;01mimport\u001b[39;00m v2\n\u001b[0;32m     39\u001b[0m \u001b[38;5;28;01mfrom\u001b[39;00m \u001b[38;5;21;01mtensorflow\u001b[39;00m\u001b[38;5;21;01m.\u001b[39;00m\u001b[38;5;21;01mpython\u001b[39;00m\u001b[38;5;21;01m.\u001b[39;00m\u001b[38;5;21;01mcompat\u001b[39;00m\u001b[38;5;21;01m.\u001b[39;00m\u001b[38;5;21;01mcompat\u001b[39;00m \u001b[38;5;28;01mimport\u001b[39;00m forward_compatibility_horizon\n\u001b[0;32m     40\u001b[0m \u001b[38;5;28;01mfrom\u001b[39;00m \u001b[38;5;21;01mtensorflow\u001b[39;00m\u001b[38;5;21;01m.\u001b[39;00m\u001b[38;5;21;01mpython\u001b[39;00m\u001b[38;5;21;01m.\u001b[39;00m\u001b[38;5;21;01mcompat\u001b[39;00m\u001b[38;5;21;01m.\u001b[39;00m\u001b[38;5;21;01mcompat\u001b[39;00m \u001b[38;5;28;01mimport\u001b[39;00m forward_compatible\n",
      "File \u001b[1;32mc:\\Users\\kevin\\miniconda3\\envs\\audio_data_science\\lib\\site-packages\\tensorflow\\_api\\v2\\compat\\v2\\compat\\v2\\__init__.py:37\u001b[0m\n\u001b[0;32m     35\u001b[0m \u001b[38;5;28;01mfrom\u001b[39;00m \u001b[38;5;21;01mtensorflow\u001b[39;00m\u001b[38;5;21;01m.\u001b[39;00m\u001b[38;5;21;01m_api\u001b[39;00m\u001b[38;5;21;01m.\u001b[39;00m\u001b[38;5;21;01mv2\u001b[39;00m\u001b[38;5;21;01m.\u001b[39;00m\u001b[38;5;21;01mcompat\u001b[39;00m\u001b[38;5;21;01m.\u001b[39;00m\u001b[38;5;21;01mv2\u001b[39;00m \u001b[38;5;28;01mimport\u001b[39;00m data\n\u001b[0;32m     36\u001b[0m \u001b[38;5;28;01mfrom\u001b[39;00m \u001b[38;5;21;01mtensorflow\u001b[39;00m\u001b[38;5;21;01m.\u001b[39;00m\u001b[38;5;21;01m_api\u001b[39;00m\u001b[38;5;21;01m.\u001b[39;00m\u001b[38;5;21;01mv2\u001b[39;00m\u001b[38;5;21;01m.\u001b[39;00m\u001b[38;5;21;01mcompat\u001b[39;00m\u001b[38;5;21;01m.\u001b[39;00m\u001b[38;5;21;01mv2\u001b[39;00m \u001b[38;5;28;01mimport\u001b[39;00m debugging\n\u001b[1;32m---> 37\u001b[0m \u001b[38;5;28;01mfrom\u001b[39;00m \u001b[38;5;21;01mtensorflow\u001b[39;00m\u001b[38;5;21;01m.\u001b[39;00m\u001b[38;5;21;01m_api\u001b[39;00m\u001b[38;5;21;01m.\u001b[39;00m\u001b[38;5;21;01mv2\u001b[39;00m\u001b[38;5;21;01m.\u001b[39;00m\u001b[38;5;21;01mcompat\u001b[39;00m\u001b[38;5;21;01m.\u001b[39;00m\u001b[38;5;21;01mv2\u001b[39;00m \u001b[38;5;28;01mimport\u001b[39;00m distribute\n\u001b[0;32m     38\u001b[0m \u001b[38;5;28;01mfrom\u001b[39;00m \u001b[38;5;21;01mtensorflow\u001b[39;00m\u001b[38;5;21;01m.\u001b[39;00m\u001b[38;5;21;01m_api\u001b[39;00m\u001b[38;5;21;01m.\u001b[39;00m\u001b[38;5;21;01mv2\u001b[39;00m\u001b[38;5;21;01m.\u001b[39;00m\u001b[38;5;21;01mcompat\u001b[39;00m\u001b[38;5;21;01m.\u001b[39;00m\u001b[38;5;21;01mv2\u001b[39;00m \u001b[38;5;28;01mimport\u001b[39;00m dtypes\n\u001b[0;32m     39\u001b[0m \u001b[38;5;28;01mfrom\u001b[39;00m \u001b[38;5;21;01mtensorflow\u001b[39;00m\u001b[38;5;21;01m.\u001b[39;00m\u001b[38;5;21;01m_api\u001b[39;00m\u001b[38;5;21;01m.\u001b[39;00m\u001b[38;5;21;01mv2\u001b[39;00m\u001b[38;5;21;01m.\u001b[39;00m\u001b[38;5;21;01mcompat\u001b[39;00m\u001b[38;5;21;01m.\u001b[39;00m\u001b[38;5;21;01mv2\u001b[39;00m \u001b[38;5;28;01mimport\u001b[39;00m errors\n",
      "File \u001b[1;32mc:\\Users\\kevin\\miniconda3\\envs\\audio_data_science\\lib\\site-packages\\tensorflow\\_api\\v2\\compat\\v2\\distribute\\__init__.py:182\u001b[0m\n\u001b[0;32m    180\u001b[0m \u001b[38;5;28;01mfrom\u001b[39;00m \u001b[38;5;21;01m.\u001b[39;00m \u001b[38;5;28;01mimport\u001b[39;00m cluster_resolver\n\u001b[0;32m    181\u001b[0m \u001b[38;5;28;01mfrom\u001b[39;00m \u001b[38;5;21;01m.\u001b[39;00m \u001b[38;5;28;01mimport\u001b[39;00m coordinator\n\u001b[1;32m--> 182\u001b[0m \u001b[38;5;28;01mfrom\u001b[39;00m \u001b[38;5;21;01m.\u001b[39;00m \u001b[38;5;28;01mimport\u001b[39;00m experimental\n\u001b[0;32m    183\u001b[0m \u001b[38;5;28;01mfrom\u001b[39;00m \u001b[38;5;21;01mtensorflow\u001b[39;00m\u001b[38;5;21;01m.\u001b[39;00m\u001b[38;5;21;01mpython\u001b[39;00m\u001b[38;5;21;01m.\u001b[39;00m\u001b[38;5;21;01mdistribute\u001b[39;00m\u001b[38;5;21;01m.\u001b[39;00m\u001b[38;5;21;01mcollective_all_reduce_strategy\u001b[39;00m \u001b[38;5;28;01mimport\u001b[39;00m CollectiveAllReduceStrategy \u001b[38;5;28;01mas\u001b[39;00m MultiWorkerMirroredStrategy\n\u001b[0;32m    184\u001b[0m \u001b[38;5;28;01mfrom\u001b[39;00m \u001b[38;5;21;01mtensorflow\u001b[39;00m\u001b[38;5;21;01m.\u001b[39;00m\u001b[38;5;21;01mpython\u001b[39;00m\u001b[38;5;21;01m.\u001b[39;00m\u001b[38;5;21;01mdistribute\u001b[39;00m\u001b[38;5;21;01m.\u001b[39;00m\u001b[38;5;21;01mcross_device_ops\u001b[39;00m \u001b[38;5;28;01mimport\u001b[39;00m CrossDeviceOps\n",
      "File \u001b[1;32mc:\\Users\\kevin\\miniconda3\\envs\\audio_data_science\\lib\\site-packages\\tensorflow\\_api\\v2\\compat\\v2\\distribute\\experimental\\__init__.py:10\u001b[0m\n\u001b[0;32m      8\u001b[0m \u001b[38;5;28;01mfrom\u001b[39;00m \u001b[38;5;21;01m.\u001b[39;00m \u001b[38;5;28;01mimport\u001b[39;00m coordinator\n\u001b[0;32m      9\u001b[0m \u001b[38;5;28;01mfrom\u001b[39;00m \u001b[38;5;21;01m.\u001b[39;00m \u001b[38;5;28;01mimport\u001b[39;00m partitioners\n\u001b[1;32m---> 10\u001b[0m \u001b[38;5;28;01mfrom\u001b[39;00m \u001b[38;5;21;01m.\u001b[39;00m \u001b[38;5;28;01mimport\u001b[39;00m rpc\n\u001b[0;32m     11\u001b[0m \u001b[38;5;28;01mfrom\u001b[39;00m \u001b[38;5;21;01mtensorflow\u001b[39;00m\u001b[38;5;21;01m.\u001b[39;00m\u001b[38;5;21;01mpython\u001b[39;00m\u001b[38;5;21;01m.\u001b[39;00m\u001b[38;5;21;01mdistribute\u001b[39;00m\u001b[38;5;21;01m.\u001b[39;00m\u001b[38;5;21;01mcentral_storage_strategy\u001b[39;00m \u001b[38;5;28;01mimport\u001b[39;00m CentralStorageStrategy\n\u001b[0;32m     12\u001b[0m \u001b[38;5;28;01mfrom\u001b[39;00m \u001b[38;5;21;01mtensorflow\u001b[39;00m\u001b[38;5;21;01m.\u001b[39;00m\u001b[38;5;21;01mpython\u001b[39;00m\u001b[38;5;21;01m.\u001b[39;00m\u001b[38;5;21;01mdistribute\u001b[39;00m\u001b[38;5;21;01m.\u001b[39;00m\u001b[38;5;21;01mcollective_all_reduce_strategy\u001b[39;00m \u001b[38;5;28;01mimport\u001b[39;00m _CollectiveAllReduceStrategyExperimental \u001b[38;5;28;01mas\u001b[39;00m MultiWorkerMirroredStrategy\n",
      "File \u001b[1;32mc:\\Users\\kevin\\miniconda3\\envs\\audio_data_science\\lib\\site-packages\\tensorflow\\_api\\v2\\compat\\v2\\distribute\\experimental\\rpc\\__init__.py:8\u001b[0m\n\u001b[0;32m      3\u001b[0m \u001b[38;5;124;03m\"\"\"Public API for tf.distribute.experimental.rpc namespace.\u001b[39;00m\n\u001b[0;32m      4\u001b[0m \u001b[38;5;124;03m\"\"\"\u001b[39;00m\n\u001b[0;32m      6\u001b[0m \u001b[38;5;28;01mimport\u001b[39;00m \u001b[38;5;21;01msys\u001b[39;00m \u001b[38;5;28;01mas\u001b[39;00m \u001b[38;5;21;01m_sys\u001b[39;00m\n\u001b[1;32m----> 8\u001b[0m \u001b[38;5;28;01mfrom\u001b[39;00m \u001b[38;5;21;01mtensorflow\u001b[39;00m\u001b[38;5;21;01m.\u001b[39;00m\u001b[38;5;21;01mpython\u001b[39;00m\u001b[38;5;21;01m.\u001b[39;00m\u001b[38;5;21;01mdistribute\u001b[39;00m\u001b[38;5;21;01m.\u001b[39;00m\u001b[38;5;21;01mexperimental\u001b[39;00m\u001b[38;5;21;01m.\u001b[39;00m\u001b[38;5;21;01mrpc\u001b[39;00m\u001b[38;5;21;01m.\u001b[39;00m\u001b[38;5;21;01mrpc_ops\u001b[39;00m \u001b[38;5;28;01mimport\u001b[39;00m Client\n\u001b[0;32m      9\u001b[0m \u001b[38;5;28;01mfrom\u001b[39;00m \u001b[38;5;21;01mtensorflow\u001b[39;00m\u001b[38;5;21;01m.\u001b[39;00m\u001b[38;5;21;01mpython\u001b[39;00m\u001b[38;5;21;01m.\u001b[39;00m\u001b[38;5;21;01mdistribute\u001b[39;00m\u001b[38;5;21;01m.\u001b[39;00m\u001b[38;5;21;01mexperimental\u001b[39;00m\u001b[38;5;21;01m.\u001b[39;00m\u001b[38;5;21;01mrpc\u001b[39;00m\u001b[38;5;21;01m.\u001b[39;00m\u001b[38;5;21;01mrpc_ops\u001b[39;00m \u001b[38;5;28;01mimport\u001b[39;00m Server\n",
      "File \u001b[1;32mc:\\Users\\kevin\\miniconda3\\envs\\audio_data_science\\lib\\site-packages\\tensorflow\\python\\distribute\\experimental\\__init__.py:22\u001b[0m\n\u001b[0;32m     20\u001b[0m \u001b[38;5;28;01mfrom\u001b[39;00m \u001b[38;5;21;01mtensorflow\u001b[39;00m\u001b[38;5;21;01m.\u001b[39;00m\u001b[38;5;21;01mpython\u001b[39;00m\u001b[38;5;21;01m.\u001b[39;00m\u001b[38;5;21;01mdistribute\u001b[39;00m \u001b[38;5;28;01mimport\u001b[39;00m parameter_server_strategy\n\u001b[0;32m     21\u001b[0m \u001b[38;5;28;01mfrom\u001b[39;00m \u001b[38;5;21;01mtensorflow\u001b[39;00m\u001b[38;5;21;01m.\u001b[39;00m\u001b[38;5;21;01mpython\u001b[39;00m\u001b[38;5;21;01m.\u001b[39;00m\u001b[38;5;21;01mdistribute\u001b[39;00m \u001b[38;5;28;01mimport\u001b[39;00m tpu_strategy\n\u001b[1;32m---> 22\u001b[0m \u001b[38;5;28;01mfrom\u001b[39;00m \u001b[38;5;21;01mtensorflow\u001b[39;00m\u001b[38;5;21;01m.\u001b[39;00m\u001b[38;5;21;01mpython\u001b[39;00m\u001b[38;5;21;01m.\u001b[39;00m\u001b[38;5;21;01mdistribute\u001b[39;00m\u001b[38;5;21;01m.\u001b[39;00m\u001b[38;5;21;01mfailure_handling\u001b[39;00m \u001b[38;5;28;01mimport\u001b[39;00m failure_handling\n\u001b[0;32m     23\u001b[0m \u001b[38;5;66;03m# pylint: enable=unused-import\u001b[39;00m\n",
      "File \u001b[1;32mc:\\Users\\kevin\\miniconda3\\envs\\audio_data_science\\lib\\site-packages\\tensorflow\\python\\distribute\\failure_handling\\failure_handling.py:33\u001b[0m\n\u001b[0;32m     31\u001b[0m \u001b[38;5;28;01mfrom\u001b[39;00m \u001b[38;5;21;01mtensorflow\u001b[39;00m\u001b[38;5;21;01m.\u001b[39;00m\u001b[38;5;21;01mpython\u001b[39;00m\u001b[38;5;21;01m.\u001b[39;00m\u001b[38;5;21;01mcheckpoint\u001b[39;00m \u001b[38;5;28;01mimport\u001b[39;00m checkpoint_management\n\u001b[0;32m     32\u001b[0m \u001b[38;5;28;01mfrom\u001b[39;00m \u001b[38;5;21;01mtensorflow\u001b[39;00m\u001b[38;5;21;01m.\u001b[39;00m\u001b[38;5;21;01mpython\u001b[39;00m\u001b[38;5;21;01m.\u001b[39;00m\u001b[38;5;21;01mdistribute\u001b[39;00m \u001b[38;5;28;01mimport\u001b[39;00m multi_worker_util\n\u001b[1;32m---> 33\u001b[0m \u001b[38;5;28;01mfrom\u001b[39;00m \u001b[38;5;21;01mtensorflow\u001b[39;00m\u001b[38;5;21;01m.\u001b[39;00m\u001b[38;5;21;01mpython\u001b[39;00m\u001b[38;5;21;01m.\u001b[39;00m\u001b[38;5;21;01mdistribute\u001b[39;00m\u001b[38;5;21;01m.\u001b[39;00m\u001b[38;5;21;01mfailure_handling\u001b[39;00m \u001b[38;5;28;01mimport\u001b[39;00m gce_util\n\u001b[0;32m     34\u001b[0m \u001b[38;5;28;01mfrom\u001b[39;00m \u001b[38;5;21;01mtensorflow\u001b[39;00m\u001b[38;5;21;01m.\u001b[39;00m\u001b[38;5;21;01mpython\u001b[39;00m\u001b[38;5;21;01m.\u001b[39;00m\u001b[38;5;21;01meager\u001b[39;00m \u001b[38;5;28;01mimport\u001b[39;00m context\n\u001b[0;32m     35\u001b[0m \u001b[38;5;28;01mfrom\u001b[39;00m \u001b[38;5;21;01mtensorflow\u001b[39;00m\u001b[38;5;21;01m.\u001b[39;00m\u001b[38;5;21;01mpython\u001b[39;00m\u001b[38;5;21;01m.\u001b[39;00m\u001b[38;5;21;01mframework\u001b[39;00m \u001b[38;5;28;01mimport\u001b[39;00m constant_op\n",
      "File \u001b[1;32mc:\\Users\\kevin\\miniconda3\\envs\\audio_data_science\\lib\\site-packages\\tensorflow\\python\\distribute\\failure_handling\\gce_util.py:20\u001b[0m\n\u001b[0;32m     17\u001b[0m \u001b[38;5;28;01mimport\u001b[39;00m \u001b[38;5;21;01mos\u001b[39;00m\n\u001b[0;32m     18\u001b[0m \u001b[38;5;28;01mimport\u001b[39;00m \u001b[38;5;21;01msys\u001b[39;00m\n\u001b[1;32m---> 20\u001b[0m \u001b[38;5;28;01mimport\u001b[39;00m \u001b[38;5;21;01mrequests\u001b[39;00m\n\u001b[0;32m     22\u001b[0m \u001b[38;5;28;01mfrom\u001b[39;00m \u001b[38;5;21;01msix\u001b[39;00m\u001b[38;5;21;01m.\u001b[39;00m\u001b[38;5;21;01mmoves\u001b[39;00m\u001b[38;5;21;01m.\u001b[39;00m\u001b[38;5;21;01murllib\u001b[39;00m \u001b[38;5;28;01mimport\u001b[39;00m request\n\u001b[0;32m     23\u001b[0m \u001b[38;5;28;01mfrom\u001b[39;00m \u001b[38;5;21;01mtensorflow\u001b[39;00m\u001b[38;5;21;01m.\u001b[39;00m\u001b[38;5;21;01mpython\u001b[39;00m\u001b[38;5;21;01m.\u001b[39;00m\u001b[38;5;21;01meager\u001b[39;00m \u001b[38;5;28;01mimport\u001b[39;00m context\n",
      "\u001b[1;31mModuleNotFoundError\u001b[0m: No module named 'requests'"
     ]
    }
   ],
   "source": [
    "# Import data generator from keras\n",
    "from tensorflow.keras.preprocessing.image import ImageDataGenerator"
   ]
  },
  {
   "cell_type": "code",
   "execution_count": null,
   "metadata": {},
   "outputs": [],
   "source": []
  }
 ],
 "metadata": {
  "kernelspec": {
   "display_name": "data_science",
   "language": "python",
   "name": "python3"
  },
  "language_info": {
   "codemirror_mode": {
    "name": "ipython",
    "version": 3
   },
   "file_extension": ".py",
   "mimetype": "text/x-python",
   "name": "python",
   "nbconvert_exporter": "python",
   "pygments_lexer": "ipython3",
   "version": "3.9.19"
  }
 },
 "nbformat": 4,
 "nbformat_minor": 2
}
