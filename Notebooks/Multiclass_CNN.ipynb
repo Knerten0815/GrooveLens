{
 "cells": [
  {
   "cell_type": "code",
   "execution_count": 20,
   "metadata": {},
   "outputs": [],
   "source": [
    "FILE_SUFFIX = \"CROPPED_IMAGES\""
   ]
  },
  {
   "cell_type": "markdown",
   "metadata": {},
   "source": [
    "# Load Data"
   ]
  },
  {
   "cell_type": "code",
   "execution_count": 21,
   "metadata": {},
   "outputs": [
    {
     "data": {
      "text/html": [
       "<div>\n",
       "<style scoped>\n",
       "    .dataframe tbody tr th:only-of-type {\n",
       "        vertical-align: middle;\n",
       "    }\n",
       "\n",
       "    .dataframe tbody tr th {\n",
       "        vertical-align: top;\n",
       "    }\n",
       "\n",
       "    .dataframe thead th {\n",
       "        text-align: right;\n",
       "    }\n",
       "</style>\n",
       "<table border=\"1\" class=\"dataframe\">\n",
       "  <thead>\n",
       "    <tr style=\"text-align: right;\">\n",
       "      <th></th>\n",
       "      <th>drummer</th>\n",
       "      <th>session</th>\n",
       "      <th>id</th>\n",
       "      <th>style</th>\n",
       "      <th>simplified_style</th>\n",
       "      <th>bpm</th>\n",
       "      <th>beat_type</th>\n",
       "      <th>time_signature</th>\n",
       "      <th>midi_filename</th>\n",
       "      <th>audio_filename</th>\n",
       "      <th>...</th>\n",
       "      <th>rms_std</th>\n",
       "      <th>spectral_centroid_mean</th>\n",
       "      <th>spectral_centroid_std</th>\n",
       "      <th>spectral_bandwidth_mean</th>\n",
       "      <th>spectral_bandwidth_std</th>\n",
       "      <th>spectral_flatness_mean</th>\n",
       "      <th>spectral_flatness_std</th>\n",
       "      <th>tempogram_mean</th>\n",
       "      <th>tempogram_std</th>\n",
       "      <th>spectrum_filename</th>\n",
       "    </tr>\n",
       "  </thead>\n",
       "  <tbody>\n",
       "    <tr>\n",
       "      <th>0</th>\n",
       "      <td>drummer1</td>\n",
       "      <td>drummer1/eval_session</td>\n",
       "      <td>drummer1/eval_session/1</td>\n",
       "      <td>funk/groove1</td>\n",
       "      <td>funk</td>\n",
       "      <td>138</td>\n",
       "      <td>1</td>\n",
       "      <td>4-4</td>\n",
       "      <td>drummer1/eval_session/1_funk-groove1_138_beat_...</td>\n",
       "      <td>drummer1/eval_session/1_funk-groove1_138_beat_...</td>\n",
       "      <td>...</td>\n",
       "      <td>0.056157</td>\n",
       "      <td>5608.665252</td>\n",
       "      <td>2501.480437</td>\n",
       "      <td>4647.658427</td>\n",
       "      <td>941.263597</td>\n",
       "      <td>0.090434</td>\n",
       "      <td>0.124045</td>\n",
       "      <td>0.294583</td>\n",
       "      <td>0.171183</td>\n",
       "      <td>drummer1/eval_session/1_funk-groove1_138_beat_...</td>\n",
       "    </tr>\n",
       "    <tr>\n",
       "      <th>1</th>\n",
       "      <td>drummer1</td>\n",
       "      <td>drummer1/eval_session</td>\n",
       "      <td>drummer1/eval_session/10</td>\n",
       "      <td>soul/groove10</td>\n",
       "      <td>funk</td>\n",
       "      <td>102</td>\n",
       "      <td>1</td>\n",
       "      <td>4-4</td>\n",
       "      <td>drummer1/eval_session/10_soul-groove10_102_bea...</td>\n",
       "      <td>drummer1/eval_session/10_soul-groove10_102_bea...</td>\n",
       "      <td>...</td>\n",
       "      <td>0.062846</td>\n",
       "      <td>7204.425221</td>\n",
       "      <td>3338.747216</td>\n",
       "      <td>5212.773742</td>\n",
       "      <td>1194.914650</td>\n",
       "      <td>0.148189</td>\n",
       "      <td>0.143111</td>\n",
       "      <td>0.267859</td>\n",
       "      <td>0.234713</td>\n",
       "      <td>drummer1/eval_session/10_soul-groove10_102_bea...</td>\n",
       "    </tr>\n",
       "    <tr>\n",
       "      <th>2</th>\n",
       "      <td>drummer1</td>\n",
       "      <td>drummer1/eval_session</td>\n",
       "      <td>drummer1/eval_session/2</td>\n",
       "      <td>funk/groove2</td>\n",
       "      <td>funk</td>\n",
       "      <td>105</td>\n",
       "      <td>1</td>\n",
       "      <td>4-4</td>\n",
       "      <td>drummer1/eval_session/2_funk-groove2_105_beat_...</td>\n",
       "      <td>drummer1/eval_session/2_funk-groove2_105_beat_...</td>\n",
       "      <td>...</td>\n",
       "      <td>0.061557</td>\n",
       "      <td>6172.809370</td>\n",
       "      <td>3874.975566</td>\n",
       "      <td>4711.894615</td>\n",
       "      <td>1483.392124</td>\n",
       "      <td>0.116454</td>\n",
       "      <td>0.132516</td>\n",
       "      <td>0.238676</td>\n",
       "      <td>0.153792</td>\n",
       "      <td>drummer1/eval_session/2_funk-groove2_105_beat_...</td>\n",
       "    </tr>\n",
       "    <tr>\n",
       "      <th>3</th>\n",
       "      <td>drummer1</td>\n",
       "      <td>drummer1/eval_session</td>\n",
       "      <td>drummer1/eval_session/3</td>\n",
       "      <td>soul/groove3</td>\n",
       "      <td>funk</td>\n",
       "      <td>86</td>\n",
       "      <td>1</td>\n",
       "      <td>4-4</td>\n",
       "      <td>drummer1/eval_session/3_soul-groove3_86_beat_4...</td>\n",
       "      <td>drummer1/eval_session/3_soul-groove3_86_beat_4...</td>\n",
       "      <td>...</td>\n",
       "      <td>0.053402</td>\n",
       "      <td>5704.099294</td>\n",
       "      <td>3309.100713</td>\n",
       "      <td>5098.568553</td>\n",
       "      <td>1251.293005</td>\n",
       "      <td>0.101191</td>\n",
       "      <td>0.128717</td>\n",
       "      <td>0.149444</td>\n",
       "      <td>0.144291</td>\n",
       "      <td>drummer1/eval_session/3_soul-groove3_86_beat_4...</td>\n",
       "    </tr>\n",
       "    <tr>\n",
       "      <th>4</th>\n",
       "      <td>drummer1</td>\n",
       "      <td>drummer1/eval_session</td>\n",
       "      <td>drummer1/eval_session/4</td>\n",
       "      <td>soul/groove4</td>\n",
       "      <td>funk</td>\n",
       "      <td>80</td>\n",
       "      <td>1</td>\n",
       "      <td>4-4</td>\n",
       "      <td>drummer1/eval_session/4_soul-groove4_80_beat_4...</td>\n",
       "      <td>drummer1/eval_session/4_soul-groove4_80_beat_4...</td>\n",
       "      <td>...</td>\n",
       "      <td>0.046688</td>\n",
       "      <td>8042.372855</td>\n",
       "      <td>3504.921958</td>\n",
       "      <td>5396.953176</td>\n",
       "      <td>999.442925</td>\n",
       "      <td>0.181278</td>\n",
       "      <td>0.149775</td>\n",
       "      <td>0.115379</td>\n",
       "      <td>0.128980</td>\n",
       "      <td>drummer1/eval_session/4_soul-groove4_80_beat_4...</td>\n",
       "    </tr>\n",
       "  </tbody>\n",
       "</table>\n",
       "<p>5 rows × 38 columns</p>\n",
       "</div>"
      ],
      "text/plain": [
       "    drummer                session                        id          style  \\\n",
       "0  drummer1  drummer1/eval_session   drummer1/eval_session/1   funk/groove1   \n",
       "1  drummer1  drummer1/eval_session  drummer1/eval_session/10  soul/groove10   \n",
       "2  drummer1  drummer1/eval_session   drummer1/eval_session/2   funk/groove2   \n",
       "3  drummer1  drummer1/eval_session   drummer1/eval_session/3   soul/groove3   \n",
       "4  drummer1  drummer1/eval_session   drummer1/eval_session/4   soul/groove4   \n",
       "\n",
       "  simplified_style  bpm  beat_type time_signature  \\\n",
       "0             funk  138          1            4-4   \n",
       "1             funk  102          1            4-4   \n",
       "2             funk  105          1            4-4   \n",
       "3             funk   86          1            4-4   \n",
       "4             funk   80          1            4-4   \n",
       "\n",
       "                                       midi_filename  \\\n",
       "0  drummer1/eval_session/1_funk-groove1_138_beat_...   \n",
       "1  drummer1/eval_session/10_soul-groove10_102_bea...   \n",
       "2  drummer1/eval_session/2_funk-groove2_105_beat_...   \n",
       "3  drummer1/eval_session/3_soul-groove3_86_beat_4...   \n",
       "4  drummer1/eval_session/4_soul-groove4_80_beat_4...   \n",
       "\n",
       "                                      audio_filename  ...   rms_std  \\\n",
       "0  drummer1/eval_session/1_funk-groove1_138_beat_...  ...  0.056157   \n",
       "1  drummer1/eval_session/10_soul-groove10_102_bea...  ...  0.062846   \n",
       "2  drummer1/eval_session/2_funk-groove2_105_beat_...  ...  0.061557   \n",
       "3  drummer1/eval_session/3_soul-groove3_86_beat_4...  ...  0.053402   \n",
       "4  drummer1/eval_session/4_soul-groove4_80_beat_4...  ...  0.046688   \n",
       "\n",
       "  spectral_centroid_mean  spectral_centroid_std  spectral_bandwidth_mean  \\\n",
       "0            5608.665252            2501.480437              4647.658427   \n",
       "1            7204.425221            3338.747216              5212.773742   \n",
       "2            6172.809370            3874.975566              4711.894615   \n",
       "3            5704.099294            3309.100713              5098.568553   \n",
       "4            8042.372855            3504.921958              5396.953176   \n",
       "\n",
       "   spectral_bandwidth_std  spectral_flatness_mean  spectral_flatness_std  \\\n",
       "0              941.263597                0.090434               0.124045   \n",
       "1             1194.914650                0.148189               0.143111   \n",
       "2             1483.392124                0.116454               0.132516   \n",
       "3             1251.293005                0.101191               0.128717   \n",
       "4              999.442925                0.181278               0.149775   \n",
       "\n",
       "   tempogram_mean  tempogram_std  \\\n",
       "0        0.294583       0.171183   \n",
       "1        0.267859       0.234713   \n",
       "2        0.238676       0.153792   \n",
       "3        0.149444       0.144291   \n",
       "4        0.115379       0.128980   \n",
       "\n",
       "                                   spectrum_filename  \n",
       "0  drummer1/eval_session/1_funk-groove1_138_beat_...  \n",
       "1  drummer1/eval_session/10_soul-groove10_102_bea...  \n",
       "2  drummer1/eval_session/2_funk-groove2_105_beat_...  \n",
       "3  drummer1/eval_session/3_soul-groove3_86_beat_4...  \n",
       "4  drummer1/eval_session/4_soul-groove4_80_beat_4...  \n",
       "\n",
       "[5 rows x 38 columns]"
      ]
     },
     "execution_count": 21,
     "metadata": {},
     "output_type": "execute_result"
    }
   ],
   "source": [
    "import pandas as pd\n",
    "\n",
    "data = pd.read_csv('data_balanced_processed.csv', encoding=\"latin-1\")\n",
    "#data.drop('Unnamed: 0', axis=1, inplace=True)\n",
    "data.head()"
   ]
  },
  {
   "cell_type": "code",
   "execution_count": 22,
   "metadata": {},
   "outputs": [
    {
     "name": "stdout",
     "output_type": "stream",
     "text": [
      "<class 'pandas.core.frame.DataFrame'>\n",
      "RangeIndex: 1200 entries, 0 to 1199\n",
      "Data columns (total 38 columns):\n",
      " #   Column                   Non-Null Count  Dtype  \n",
      "---  ------                   --------------  -----  \n",
      " 0   drummer                  1200 non-null   object \n",
      " 1   session                  1200 non-null   object \n",
      " 2   id                       1200 non-null   object \n",
      " 3   style                    1200 non-null   object \n",
      " 4   simplified_style         1200 non-null   object \n",
      " 5   bpm                      1200 non-null   int64  \n",
      " 6   beat_type                1200 non-null   int64  \n",
      " 7   time_signature           1200 non-null   object \n",
      " 8   midi_filename            1200 non-null   object \n",
      " 9   audio_filename           1200 non-null   object \n",
      " 10  duration                 1200 non-null   float64\n",
      " 11  split                    1200 non-null   object \n",
      " 12  start                    1200 non-null   float64\n",
      " 13  end                      1200 non-null   float64\n",
      " 14  times_sampled            1200 non-null   int64  \n",
      " 15  possible_samples         1200 non-null   float64\n",
      " 16  oversampling_ratio       1200 non-null   float64\n",
      " 17  onset_env_mean           1200 non-null   float64\n",
      " 18  onset_env_std            1200 non-null   float64\n",
      " 19  mfcc_mean                1200 non-null   float64\n",
      " 20  mfcc_std                 1200 non-null   float64\n",
      " 21  spectral_flux_mean       1200 non-null   float64\n",
      " 22  spectral_flux_std        1200 non-null   float64\n",
      " 23  spectral_contrast_mean   1200 non-null   float64\n",
      " 24  spectral_contrast_std    1200 non-null   float64\n",
      " 25  tonnetz_mean             1200 non-null   float64\n",
      " 26  tonnetz_std              1200 non-null   float64\n",
      " 27  rms_mean                 1200 non-null   float64\n",
      " 28  rms_std                  1200 non-null   float64\n",
      " 29  spectral_centroid_mean   1200 non-null   float64\n",
      " 30  spectral_centroid_std    1200 non-null   float64\n",
      " 31  spectral_bandwidth_mean  1200 non-null   float64\n",
      " 32  spectral_bandwidth_std   1200 non-null   float64\n",
      " 33  spectral_flatness_mean   1200 non-null   float64\n",
      " 34  spectral_flatness_std    1200 non-null   float64\n",
      " 35  tempogram_mean           1200 non-null   float64\n",
      " 36  tempogram_std            1200 non-null   float64\n",
      " 37  spectrum_filename        1200 non-null   object \n",
      "dtypes: float64(25), int64(3), object(10)\n",
      "memory usage: 356.4+ KB\n"
     ]
    }
   ],
   "source": [
    "data.info()"
   ]
  },
  {
   "cell_type": "markdown",
   "metadata": {},
   "source": [
    "# Prepare Data"
   ]
  },
  {
   "cell_type": "code",
   "execution_count": 23,
   "metadata": {},
   "outputs": [
    {
     "data": {
      "text/plain": [
       "encoded_style\n",
       "0    200\n",
       "1    200\n",
       "4    200\n",
       "5    200\n",
       "3    200\n",
       "2    200\n",
       "Name: count, dtype: int64"
      ]
     },
     "execution_count": 23,
     "metadata": {},
     "output_type": "execute_result"
    }
   ],
   "source": [
    "from sklearn.preprocessing import LabelEncoder\n",
    "\n",
    "# Initialize the LabelEncoder\n",
    "label_encoder = LabelEncoder()\n",
    "\n",
    "# Fit and transform the target variable\n",
    "data[\"encoded_style\"] = label_encoder.fit_transform(data.simplified_style)\n",
    "data.encoded_style.value_counts()"
   ]
  },
  {
   "cell_type": "code",
   "execution_count": 24,
   "metadata": {},
   "outputs": [
    {
     "data": {
      "text/plain": [
       "(90, 39)"
      ]
     },
     "execution_count": 24,
     "metadata": {},
     "output_type": "execute_result"
    }
   ],
   "source": [
    "from sklearn.model_selection import train_test_split\n",
    "\n",
    "# Split the data\n",
    "data_train, data_test = train_test_split(data, test_size=0.15, random_state=42)\n",
    "\n",
    "# Split again into validation and test (Split is now 70/15/15)\n",
    "data_test, data_validation = train_test_split(data_test, test_size=0.5, random_state=42,)\n",
    "data_test.shape"
   ]
  },
  {
   "cell_type": "code",
   "execution_count": 25,
   "metadata": {},
   "outputs": [
    {
     "name": "stdout",
     "output_type": "stream",
     "text": [
      "(1020, 39) (90, 39) (90, 39)\n",
      "Train data share:  0.85\n",
      "Validation data share:  0.075\n",
      "Test data share:  0.075\n"
     ]
    }
   ],
   "source": [
    "# check the distribution after the split\n",
    "print(data_train.shape, data_test.shape, data_validation.shape, )\n",
    "print(\"Train data share: \", data_train.shape[0] / data.shape[0])\n",
    "print(\"Validation data share: \", data_validation.shape[0]/ data.shape[0])\n",
    "print(\"Test data share: \", data_test.shape[0] / data.shape[0])"
   ]
  },
  {
   "cell_type": "markdown",
   "metadata": {},
   "source": [
    "# Convolutional Neural Network"
   ]
  },
  {
   "cell_type": "markdown",
   "metadata": {},
   "source": [
    "Image Generators are the dataloaders for the CNN. They just define how the images are \"fed\" to the cnn, like where is the path to the images, what are the labels to predict"
   ]
  },
  {
   "cell_type": "code",
   "execution_count": 26,
   "metadata": {},
   "outputs": [
    {
     "data": {
      "text/html": [
       "<div>\n",
       "<style scoped>\n",
       "    .dataframe tbody tr th:only-of-type {\n",
       "        vertical-align: middle;\n",
       "    }\n",
       "\n",
       "    .dataframe tbody tr th {\n",
       "        vertical-align: top;\n",
       "    }\n",
       "\n",
       "    .dataframe thead th {\n",
       "        text-align: right;\n",
       "    }\n",
       "</style>\n",
       "<table border=\"1\" class=\"dataframe\">\n",
       "  <thead>\n",
       "    <tr style=\"text-align: right;\">\n",
       "      <th></th>\n",
       "      <th>drummer</th>\n",
       "      <th>session</th>\n",
       "      <th>id</th>\n",
       "      <th>style</th>\n",
       "      <th>simplified_style</th>\n",
       "      <th>bpm</th>\n",
       "      <th>beat_type</th>\n",
       "      <th>time_signature</th>\n",
       "      <th>midi_filename</th>\n",
       "      <th>audio_filename</th>\n",
       "      <th>...</th>\n",
       "      <th>spectral_centroid_mean</th>\n",
       "      <th>spectral_centroid_std</th>\n",
       "      <th>spectral_bandwidth_mean</th>\n",
       "      <th>spectral_bandwidth_std</th>\n",
       "      <th>spectral_flatness_mean</th>\n",
       "      <th>spectral_flatness_std</th>\n",
       "      <th>tempogram_mean</th>\n",
       "      <th>tempogram_std</th>\n",
       "      <th>spectrum_filename</th>\n",
       "      <th>encoded_style</th>\n",
       "    </tr>\n",
       "  </thead>\n",
       "  <tbody>\n",
       "    <tr>\n",
       "      <th>471</th>\n",
       "      <td>drummer7</td>\n",
       "      <td>drummer7/session3</td>\n",
       "      <td>drummer7/session3/130</td>\n",
       "      <td>soul</td>\n",
       "      <td>funk</td>\n",
       "      <td>105</td>\n",
       "      <td>1</td>\n",
       "      <td>4-4</td>\n",
       "      <td>drummer7/session3/130_soul_105_beat_4-4.mid</td>\n",
       "      <td>drummer7/session3/130_soul_105_beat_4-4.wav</td>\n",
       "      <td>...</td>\n",
       "      <td>8678.400491</td>\n",
       "      <td>2756.215090</td>\n",
       "      <td>5944.971373</td>\n",
       "      <td>732.330488</td>\n",
       "      <td>0.201400</td>\n",
       "      <td>0.151029</td>\n",
       "      <td>0.158577</td>\n",
       "      <td>0.141107</td>\n",
       "      <td>drummer7/session3/130_soul_105_beat_4-4_14.062...</td>\n",
       "      <td>0</td>\n",
       "    </tr>\n",
       "    <tr>\n",
       "      <th>925</th>\n",
       "      <td>drummer1</td>\n",
       "      <td>drummer1/session1</td>\n",
       "      <td>drummer1/session1/183</td>\n",
       "      <td>afrocuban</td>\n",
       "      <td>latin</td>\n",
       "      <td>105</td>\n",
       "      <td>1</td>\n",
       "      <td>4-4</td>\n",
       "      <td>drummer1/session1/183_afrocuban_105_beat_4-4.mid</td>\n",
       "      <td>drummer1/session1/183_afrocuban_105_beat_4-4.wav</td>\n",
       "      <td>...</td>\n",
       "      <td>4851.674518</td>\n",
       "      <td>2785.777991</td>\n",
       "      <td>4626.445214</td>\n",
       "      <td>1264.859072</td>\n",
       "      <td>0.060802</td>\n",
       "      <td>0.112802</td>\n",
       "      <td>0.260052</td>\n",
       "      <td>0.198180</td>\n",
       "      <td>drummer1/session1/183_afrocuban_105_beat_4-4_1...</td>\n",
       "      <td>3</td>\n",
       "    </tr>\n",
       "    <tr>\n",
       "      <th>277</th>\n",
       "      <td>drummer7</td>\n",
       "      <td>drummer7/session1</td>\n",
       "      <td>drummer7/session1/8</td>\n",
       "      <td>rock</td>\n",
       "      <td>rock</td>\n",
       "      <td>93</td>\n",
       "      <td>1</td>\n",
       "      <td>4-4</td>\n",
       "      <td>drummer7/session1/8_rock_93_beat_4-4.mid</td>\n",
       "      <td>drummer7/session1/8_rock_93_beat_4-4.wav</td>\n",
       "      <td>...</td>\n",
       "      <td>8916.871598</td>\n",
       "      <td>2201.616088</td>\n",
       "      <td>5760.158752</td>\n",
       "      <td>769.809291</td>\n",
       "      <td>0.158932</td>\n",
       "      <td>0.131173</td>\n",
       "      <td>0.128817</td>\n",
       "      <td>0.159382</td>\n",
       "      <td>drummer7/session1/8_rock_93_beat_4-4_117.418-1...</td>\n",
       "      <td>5</td>\n",
       "    </tr>\n",
       "    <tr>\n",
       "      <th>344</th>\n",
       "      <td>drummer7</td>\n",
       "      <td>drummer7/session3</td>\n",
       "      <td>drummer7/session3/22</td>\n",
       "      <td>pop/soft</td>\n",
       "      <td>pop</td>\n",
       "      <td>83</td>\n",
       "      <td>1</td>\n",
       "      <td>4-4</td>\n",
       "      <td>drummer7/session3/22_pop-soft_83_beat_4-4.mid</td>\n",
       "      <td>drummer7/session3/22_pop-soft_83_beat_4-4.wav</td>\n",
       "      <td>...</td>\n",
       "      <td>3716.412372</td>\n",
       "      <td>1946.726963</td>\n",
       "      <td>3473.626677</td>\n",
       "      <td>994.526490</td>\n",
       "      <td>0.028910</td>\n",
       "      <td>0.079902</td>\n",
       "      <td>0.119428</td>\n",
       "      <td>0.117630</td>\n",
       "      <td>drummer7/session3/22_pop-soft_83_beat_4-4_5.27...</td>\n",
       "      <td>4</td>\n",
       "    </tr>\n",
       "    <tr>\n",
       "      <th>767</th>\n",
       "      <td>drummer7</td>\n",
       "      <td>drummer7/session3</td>\n",
       "      <td>drummer7/session3/11</td>\n",
       "      <td>pop/soft</td>\n",
       "      <td>pop</td>\n",
       "      <td>83</td>\n",
       "      <td>1</td>\n",
       "      <td>4-4</td>\n",
       "      <td>drummer7/session3/11_pop-soft_83_beat_4-4.mid</td>\n",
       "      <td>drummer7/session3/11_pop-soft_83_beat_4-4.wav</td>\n",
       "      <td>...</td>\n",
       "      <td>5562.921541</td>\n",
       "      <td>1982.646115</td>\n",
       "      <td>4213.908259</td>\n",
       "      <td>767.095478</td>\n",
       "      <td>0.069639</td>\n",
       "      <td>0.095735</td>\n",
       "      <td>0.093665</td>\n",
       "      <td>0.099808</td>\n",
       "      <td>drummer7/session3/11_pop-soft_83_beat_4-4_59.7...</td>\n",
       "      <td>4</td>\n",
       "    </tr>\n",
       "  </tbody>\n",
       "</table>\n",
       "<p>5 rows × 39 columns</p>\n",
       "</div>"
      ],
      "text/plain": [
       "      drummer            session                     id      style  \\\n",
       "471  drummer7  drummer7/session3  drummer7/session3/130       soul   \n",
       "925  drummer1  drummer1/session1  drummer1/session1/183  afrocuban   \n",
       "277  drummer7  drummer7/session1    drummer7/session1/8       rock   \n",
       "344  drummer7  drummer7/session3   drummer7/session3/22   pop/soft   \n",
       "767  drummer7  drummer7/session3   drummer7/session3/11   pop/soft   \n",
       "\n",
       "    simplified_style  bpm  beat_type time_signature  \\\n",
       "471             funk  105          1            4-4   \n",
       "925            latin  105          1            4-4   \n",
       "277             rock   93          1            4-4   \n",
       "344              pop   83          1            4-4   \n",
       "767              pop   83          1            4-4   \n",
       "\n",
       "                                        midi_filename  \\\n",
       "471       drummer7/session3/130_soul_105_beat_4-4.mid   \n",
       "925  drummer1/session1/183_afrocuban_105_beat_4-4.mid   \n",
       "277          drummer7/session1/8_rock_93_beat_4-4.mid   \n",
       "344     drummer7/session3/22_pop-soft_83_beat_4-4.mid   \n",
       "767     drummer7/session3/11_pop-soft_83_beat_4-4.mid   \n",
       "\n",
       "                                       audio_filename  ...  \\\n",
       "471       drummer7/session3/130_soul_105_beat_4-4.wav  ...   \n",
       "925  drummer1/session1/183_afrocuban_105_beat_4-4.wav  ...   \n",
       "277          drummer7/session1/8_rock_93_beat_4-4.wav  ...   \n",
       "344     drummer7/session3/22_pop-soft_83_beat_4-4.wav  ...   \n",
       "767     drummer7/session3/11_pop-soft_83_beat_4-4.wav  ...   \n",
       "\n",
       "     spectral_centroid_mean spectral_centroid_std  spectral_bandwidth_mean  \\\n",
       "471             8678.400491           2756.215090              5944.971373   \n",
       "925             4851.674518           2785.777991              4626.445214   \n",
       "277             8916.871598           2201.616088              5760.158752   \n",
       "344             3716.412372           1946.726963              3473.626677   \n",
       "767             5562.921541           1982.646115              4213.908259   \n",
       "\n",
       "     spectral_bandwidth_std  spectral_flatness_mean  spectral_flatness_std  \\\n",
       "471              732.330488                0.201400               0.151029   \n",
       "925             1264.859072                0.060802               0.112802   \n",
       "277              769.809291                0.158932               0.131173   \n",
       "344              994.526490                0.028910               0.079902   \n",
       "767              767.095478                0.069639               0.095735   \n",
       "\n",
       "     tempogram_mean  tempogram_std  \\\n",
       "471        0.158577       0.141107   \n",
       "925        0.260052       0.198180   \n",
       "277        0.128817       0.159382   \n",
       "344        0.119428       0.117630   \n",
       "767        0.093665       0.099808   \n",
       "\n",
       "                                     spectrum_filename  encoded_style  \n",
       "471  drummer7/session3/130_soul_105_beat_4-4_14.062...              0  \n",
       "925  drummer1/session1/183_afrocuban_105_beat_4-4_1...              3  \n",
       "277  drummer7/session1/8_rock_93_beat_4-4_117.418-1...              5  \n",
       "344  drummer7/session3/22_pop-soft_83_beat_4-4_5.27...              4  \n",
       "767  drummer7/session3/11_pop-soft_83_beat_4-4_59.7...              4  \n",
       "\n",
       "[5 rows x 39 columns]"
      ]
     },
     "execution_count": 26,
     "metadata": {},
     "output_type": "execute_result"
    }
   ],
   "source": [
    "data_test.head()"
   ]
  },
  {
   "cell_type": "code",
   "execution_count": 27,
   "metadata": {},
   "outputs": [
    {
     "name": "stdout",
     "output_type": "stream",
     "text": [
      "Found 1020 validated image filenames belonging to 6 classes.\n",
      "Found 90 validated image filenames belonging to 6 classes.\n",
      "Found 90 validated image filenames belonging to 6 classes.\n"
     ]
    }
   ],
   "source": [
    "from tensorflow.keras.preprocessing.image import ImageDataGenerator\n",
    "import os\n",
    "\n",
    "path_images = os.path.join('..', 'Datasets', 'spectrums_cropped')\n",
    "\n",
    "IMG_HEIGHT = 400\n",
    "IMG_WIDTH = 1000\n",
    "BATCH_SIZE = 32\n",
    "\n",
    "# IMG_HEIGHT_OFFSET = 35\n",
    "# IMG_WIDTH_OFFSET = 89\n",
    "# CROPPED_HEIGHT = 307\n",
    "# CROPPED_WIDTH = 717\n",
    "\n",
    "# # Define the custom preprocessing function\n",
    "# def crop_image(image):\n",
    "#     cropped_image = tf.image.crop_to_bounding_box(\n",
    "#         image,\n",
    "#         offset_height = IMG_HEIGHT_OFFSET, \n",
    "#         offset_width = IMG_WIDTH_OFFSET, \n",
    "#         target_height = CROPPED_HEIGHT, \n",
    "#         target_width = CROPPED_WIDTH\n",
    "#     )\n",
    "#     return cropped_image\n",
    "\n",
    "# Normalize images and add the custom preprocessing function\n",
    "image_generator = ImageDataGenerator(\n",
    "    rescale=1.0/255,\n",
    "    #preprocessing_function=crop_image\n",
    ")\n",
    "\n",
    "# Define the data generators\n",
    "train_generator = image_generator.flow_from_dataframe(\n",
    "    dataframe=data_train,\n",
    "    directory=path_images,\n",
    "    x_col=\"spectrum_filename\",\n",
    "    y_col=\"simplified_style\",\n",
    "    target_size=(IMG_HEIGHT, IMG_WIDTH),\n",
    "    batch_size=BATCH_SIZE,\n",
    "    class_mode=\"categorical\",\n",
    "    color_mode=\"rgb\"\n",
    ")\n",
    "\n",
    "val_generator = image_generator.flow_from_dataframe(\n",
    "    dataframe=data_validation,\n",
    "    directory=path_images,\n",
    "    x_col=\"spectrum_filename\",\n",
    "    y_col=\"simplified_style\",\n",
    "    target_size=(IMG_HEIGHT, IMG_WIDTH),\n",
    "    batch_size=BATCH_SIZE,\n",
    "    class_mode=\"categorical\",\n",
    "    color_mode=\"rgb\", #add color mode,\n",
    "    shuffle=False,  # this is crucial for later evaluation!\n",
    ")\n",
    "\n",
    "test_generator = image_generator.flow_from_dataframe(\n",
    "    dataframe=data_test,\n",
    "    directory=path_images,\n",
    "    x_col=\"spectrum_filename\",\n",
    "    y_col=\"simplified_style\",\n",
    "    target_size=(IMG_HEIGHT, IMG_WIDTH),\n",
    "    batch_size=BATCH_SIZE,\n",
    "    class_mode=\"categorical\",\n",
    "    color_mode=\"rgb\", #add color mode,\n",
    "    shuffle=False,  # this is crucial for later evaluation!\n",
    ")"
   ]
  },
  {
   "cell_type": "raw",
   "metadata": {
    "vscode": {
     "languageId": "raw"
    }
   },
   "source": [
    "next(train_generator)[0].shape"
   ]
  },
  {
   "cell_type": "code",
   "execution_count": 28,
   "metadata": {},
   "outputs": [
    {
     "name": "stdout",
     "output_type": "stream",
     "text": [
      "Model: \"sequential_1\"\n",
      "_________________________________________________________________\n",
      " Layer (type)                Output Shape              Param #   \n",
      "=================================================================\n",
      " conv2d_3 (Conv2D)           (None, 398, 998, 32)      896       \n",
      "                                                                 \n",
      " max_pooling2d_3 (MaxPooling  (None, 199, 499, 32)     0         \n",
      " 2D)                                                             \n",
      "                                                                 \n",
      " conv2d_4 (Conv2D)           (None, 197, 497, 64)      18496     \n",
      "                                                                 \n",
      " max_pooling2d_4 (MaxPooling  (None, 98, 248, 64)      0         \n",
      " 2D)                                                             \n",
      "                                                                 \n",
      " conv2d_5 (Conv2D)           (None, 96, 246, 128)      73856     \n",
      "                                                                 \n",
      " max_pooling2d_5 (MaxPooling  (None, 48, 123, 128)     0         \n",
      " 2D)                                                             \n",
      "                                                                 \n",
      " flatten_1 (Flatten)         (None, 755712)            0         \n",
      "                                                                 \n",
      " dense_2 (Dense)             (None, 128)               96731264  \n",
      "                                                                 \n",
      " dropout_1 (Dropout)         (None, 128)               0         \n",
      "                                                                 \n",
      " dense_3 (Dense)             (None, 6)                 774       \n",
      "                                                                 \n",
      "=================================================================\n",
      "Total params: 96,825,286\n",
      "Trainable params: 96,825,286\n",
      "Non-trainable params: 0\n",
      "_________________________________________________________________\n"
     ]
    }
   ],
   "source": [
    "from keras.layers import Conv2D, MaxPooling2D, Flatten, Dense, Dropout\n",
    "from tensorflow.keras.models import Sequential\n",
    "\n",
    "# Define the input shape\n",
    "cnn_model = Sequential([\n",
    "    Conv2D(32, (3, 3), activation='relu', input_shape=(IMG_HEIGHT, IMG_WIDTH, 3)),\n",
    "    MaxPooling2D((2, 2)),\n",
    "    \n",
    "    Conv2D(64, (3, 3), activation='relu'),\n",
    "    MaxPooling2D((2, 2)),\n",
    "    \n",
    "    Conv2D(128, (3, 3), activation='relu'),\n",
    "    MaxPooling2D((2, 2)),\n",
    "    \n",
    "    Flatten(),\n",
    "    \n",
    "    Dense(128, activation='relu'),\n",
    "    Dropout(0.5),\n",
    "    \n",
    "    Dense(6, activation='softmax')  # 6 output neurons for 6 classes\n",
    "])\n",
    "\n",
    "cnn_model.summary()"
   ]
  },
  {
   "cell_type": "code",
   "execution_count": 29,
   "metadata": {},
   "outputs": [],
   "source": [
    "import tensorflow as tf\n",
    "\n",
    "def compileCNN(cnn):\n",
    "    metrics = [\n",
    "        'accuracy',\n",
    "        tf.keras.metrics.Precision(name='precision'),\n",
    "        tf.keras.metrics.Recall(name='recall')\n",
    "    ]\n",
    "\n",
    "    # Compile the model\n",
    "    cnn.compile(optimizer='adam',\n",
    "                loss='categorical_crossentropy', # used for one-hot encoded labels, which is done by the ImageDataGenerator\n",
    "                metrics=\"accuracy\") #metrics)\n",
    "    \n",
    "    return cnn"
   ]
  },
  {
   "cell_type": "code",
   "execution_count": 30,
   "metadata": {},
   "outputs": [],
   "source": [
    "def createCallbacks(path):\n",
    "    # Create a callback that saves the model's weights\n",
    "    checkpoint_cb = tf.keras.callbacks.ModelCheckpoint(filepath=path,\n",
    "                                                    save_weights_only=True,    # saving only the weights, because we have the architecture of the model\n",
    "                                                    verbose=1, \n",
    "                                                    monitor='val_accuracy',    # we are monitoring the accuracy on the validation set\n",
    "                                                    mode='max',                # the greatest accuracy on the validation is the best outcome\n",
    "                                                    save_best_only=True)       # we only want to save the best model. The other chechpoints are not interesting to us\n",
    "    \n",
    "    early_stopping_cb = tf.keras.callbacks.EarlyStopping(monitor='val_accuracy', patience=3)\n",
    "\n",
    "    return checkpoint_cb, early_stopping_cb"
   ]
  },
  {
   "cell_type": "code",
   "execution_count": 31,
   "metadata": {},
   "outputs": [],
   "source": [
    "def trainCNN(cnn, train_generator, validation_generator, checkpoint_callback, early_stopping_callback):\n",
    "    history = cnn.fit(\n",
    "        train_generator,\n",
    "        epochs=20,\n",
    "        validation_data=validation_generator,\n",
    "        verbose=1,\n",
    "        callbacks=[checkpoint_callback, early_stopping_callback],  # Pass callback to training\n",
    "    )\n",
    "    return cnn"
   ]
  },
  {
   "cell_type": "code",
   "execution_count": 32,
   "metadata": {},
   "outputs": [
    {
     "name": "stdout",
     "output_type": "stream",
     "text": [
      "Epoch 1/20\n",
      "32/32 [==============================] - ETA: 0s - loss: 4.6491 - accuracy: 0.1667\n",
      "Epoch 1: val_accuracy improved from -inf to 0.22222, saving model to ..\\data\\models\\multiclass_cnn_CROPPED_IMAGES.ckpt\n",
      "32/32 [==============================] - 364s 9s/step - loss: 4.6491 - accuracy: 0.1667 - val_loss: 1.7819 - val_accuracy: 0.2222\n",
      "Epoch 2/20\n",
      "32/32 [==============================] - ETA: 0s - loss: 1.7385 - accuracy: 0.2784\n",
      "Epoch 2: val_accuracy improved from 0.22222 to 0.25556, saving model to ..\\data\\models\\multiclass_cnn_CROPPED_IMAGES.ckpt\n",
      "32/32 [==============================] - 180s 5s/step - loss: 1.7385 - accuracy: 0.2784 - val_loss: 1.8014 - val_accuracy: 0.2556\n",
      "Epoch 3/20\n",
      "32/32 [==============================] - ETA: 0s - loss: 1.5423 - accuracy: 0.4127\n",
      "Epoch 3: val_accuracy did not improve from 0.25556\n",
      "32/32 [==============================] - 91s 2s/step - loss: 1.5423 - accuracy: 0.4127 - val_loss: 1.8510 - val_accuracy: 0.2222\n",
      "Epoch 4/20\n",
      "32/32 [==============================] - ETA: 0s - loss: 1.2976 - accuracy: 0.5039\n",
      "Epoch 4: val_accuracy did not improve from 0.25556\n",
      "32/32 [==============================] - 145s 5s/step - loss: 1.2976 - accuracy: 0.5039 - val_loss: 2.0094 - val_accuracy: 0.2111\n",
      "Epoch 5/20\n",
      "32/32 [==============================] - ETA: 0s - loss: 1.0388 - accuracy: 0.6108\n",
      "Epoch 5: val_accuracy did not improve from 0.25556\n",
      "32/32 [==============================] - 58s 2s/step - loss: 1.0388 - accuracy: 0.6108 - val_loss: 2.3338 - val_accuracy: 0.2111\n"
     ]
    }
   ],
   "source": [
    "filename = 'multiclass_cnn_' + FILE_SUFFIX + '.ckpt'\n",
    "cnn_path = os.path.join('..', 'data', 'models', filename)\n",
    "\n",
    "try:\n",
    "    cnn_model.load_weights(cnn_path)\n",
    "except:\n",
    "    cnn_model = compileCNN(cnn_model)\n",
    "    checkpoint_callback, early_stopping_callback = createCallbacks(cnn_path)\n",
    "    cnn_model = trainCNN(cnn_model, train_generator, val_generator, checkpoint_callback, early_stopping_callback)"
   ]
  },
  {
   "cell_type": "raw",
   "metadata": {
    "vscode": {
     "languageId": "raw"
    }
   },
   "source": [
    "tf.debugging.disable_traceback_filtering()"
   ]
  },
  {
   "cell_type": "markdown",
   "metadata": {},
   "source": [
    "# Evaluation"
   ]
  },
  {
   "cell_type": "code",
   "execution_count": 33,
   "metadata": {},
   "outputs": [
    {
     "name": "stdout",
     "output_type": "stream",
     "text": [
      "3/3 [==============================] - 9s 4s/step - loss: 2.3598 - accuracy: 0.2889\n",
      "Test Accuracy: 28.89%\n"
     ]
    }
   ],
   "source": [
    "test_loss, test_accuracy = cnn_model.evaluate(test_generator)\n",
    "print(f'Test Accuracy: {test_accuracy*100:.2f}%')"
   ]
  },
  {
   "cell_type": "code",
   "execution_count": 34,
   "metadata": {},
   "outputs": [
    {
     "name": "stdout",
     "output_type": "stream",
     "text": [
      "3/3 [==============================] - 6s 3s/step\n"
     ]
    }
   ],
   "source": [
    "import numpy as np\n",
    "\n",
    "# Predict the labels for the test set\n",
    "test_generator.reset()  # Resetting ensures the generator starts from the beginning\n",
    "predictions = cnn_model.predict(test_generator)\n",
    "\n",
    "# Convert predictions to class indices (if using softmax output)\n",
    "predicted_classes = np.argmax(predictions, axis=1)\n",
    "\n",
    "# True labels from the test generator\n",
    "true_classes = test_generator.classes\n",
    "class_labels = list(test_generator.class_indices.keys())  # Get the class labels"
   ]
  },
  {
   "cell_type": "code",
   "execution_count": 59,
   "metadata": {},
   "outputs": [],
   "source": [
    "from sklearn.metrics import classification_report, hamming_loss, confusion_matrix\n",
    "import matplotlib.pyplot as plt\n",
    "import seaborn as sns\n",
    "\n",
    "def evaluate_model(true_classes, predicted_classes):\n",
    "    # Classification report\n",
    "    report = classification_report(true_classes, predicted_classes, target_names=class_labels)\n",
    "    print(\"Classification Report:\\n\", report)\n",
    "\n",
    "    # Hamming Loss\n",
    "    h_loss = hamming_loss(true_classes, predicted_classes)\n",
    "    print(\"Hamming Loss:\", h_loss)\n",
    "\n",
    "    # Confusion Matrix\n",
    "    conf_matrix = confusion_matrix(true_classes, predicted_classes)\n",
    "    plt.figure(figsize=(10, 8))\n",
    "    sns.heatmap(conf_matrix, annot=True, fmt=\"d\", cmap=\"Blues\", xticklabels=class_labels, yticklabels=class_labels)\n",
    "    plt.xlabel('Predicted Labels')\n",
    "    plt.ylabel('True Labels')\n",
    "    plt.title('Confusion Matrix')\n",
    "    plt.show()\n",
    "    \n",
    "    return report, h_loss"
   ]
  },
  {
   "cell_type": "code",
   "execution_count": 78,
   "metadata": {},
   "outputs": [],
   "source": [
    "# Convert the classification report to a markdown table\n",
    "def convert_to_markdown(report, hamming_loss, image_path=None, file_suffix=FILE_SUFFIX):\n",
    "    lines = report.strip().split('\\n')\n",
    "    headers = lines[0].split()\n",
    "    table = \"| \" + \" | \".join(headers) + \" |\\n\"\n",
    "    table += \"| \" + \" | \".join(['---'] * len(headers)) + \" |\\n\"\n",
    "    \n",
    "    for line in lines[1:]:\n",
    "        row = \" | \".join(line.split())\n",
    "        table += \"| \" + row + \" |\\n\"\n",
    "    \n",
    "    markdown_content = f\"# Classification Report for {file_suffix}\\n\\n\"\n",
    "    markdown_content += f\"__Hamming Loss__ = {hamming_loss}\\n\\n{table}\\n\"\n",
    "    \n",
    "    if image_path:\n",
    "        markdown_content += f\"\\n![Image]({image_path})\\n\"\n",
    "    \n",
    "    return markdown_content\n",
    "\n",
    "def save_evaluation(report, h_loss, file_suffix=FILE_SUFFIX):\n",
    "    eval_path = os.path.join('..', 'evaluation')\n",
    "    conf_matrix_path = os.path.join(eval_path, 'images', 'confusion_matrix_' + file_suffix + '.png')\n",
    "    markdwon_path = os.path.join(eval_path, 'markdown', 'classification_report_' + file_suffix + '.md')\n",
    "    plt.savefig(conf_matrix_path)\n",
    "    #plt.close()\n",
    "\n",
    "    # Generate markdown content\n",
    "    markdown_content = convert_to_markdown(report, h_loss, conf_matrix_path, file_suffix=file_suffix)\n",
    "\n",
    "    # Write to a markdown file\n",
    "    with open(markdwon_path, \"w\") as file:\n",
    "        file.write(markdown_content)"
   ]
  },
  {
   "cell_type": "code",
   "execution_count": 61,
   "metadata": {},
   "outputs": [
    {
     "name": "stdout",
     "output_type": "stream",
     "text": [
      "Classification Report:\n",
      "               precision    recall  f1-score   support\n",
      "\n",
      "        funk       0.27      0.31      0.29        13\n",
      "      hiphop       0.16      0.23      0.19        13\n",
      "        jazz       0.40      0.27      0.32        15\n",
      "       latin       0.24      0.38      0.29        13\n",
      "         pop       0.44      0.44      0.44        16\n",
      "        rock       0.33      0.15      0.21        20\n",
      "\n",
      "    accuracy                           0.29        90\n",
      "   macro avg       0.31      0.30      0.29        90\n",
      "weighted avg       0.31      0.29      0.29        90\n",
      "\n",
      "Hamming Loss: 0.7111111111111111\n"
     ]
    },
    {
     "data": {
      "image/png": "[encoded data removed]",
      "text/plain": [
       "<Figure size 1000x800 with 2 Axes>"
      ]
     },
     "metadata": {},
     "output_type": "display_data"
    },
    {
     "data": {
      "text/plain": [
       "<Figure size 640x480 with 0 Axes>"
      ]
     },
     "metadata": {},
     "output_type": "display_data"
    }
   ],
   "source": [
    "report, h_loss = evaluate_model(true_classes, predicted_classes)\n",
    "save_evaluation(report, h_loss)"
   ]
  },
  {
   "cell_type": "markdown",
   "metadata": {},
   "source": [
    "### Baseline Predictions"
   ]
  },
  {
   "cell_type": "code",
   "execution_count": 79,
   "metadata": {},
   "outputs": [],
   "source": [
    "random_baseline = []\n",
    "all_5s_baseline = []\n",
    "\n",
    "for i in range(len(true_classes)):\n",
    "    random_baseline.append(np.random.randint(0, 6))\n",
    "    all_5s_baseline.append(5)"
   ]
  },
  {
   "cell_type": "code",
   "execution_count": 80,
   "metadata": {},
   "outputs": [
    {
     "name": "stdout",
     "output_type": "stream",
     "text": [
      "Classification Report:\n",
      "               precision    recall  f1-score   support\n",
      "\n",
      "        funk       0.15      0.15      0.15        13\n",
      "      hiphop       0.24      0.31      0.27        13\n",
      "        jazz       0.07      0.07      0.07        15\n",
      "       latin       0.15      0.15      0.15        13\n",
      "         pop       0.17      0.19      0.18        16\n",
      "        rock       0.29      0.20      0.24        20\n",
      "\n",
      "    accuracy                           0.18        90\n",
      "   macro avg       0.18      0.18      0.18        90\n",
      "weighted avg       0.18      0.18      0.18        90\n",
      "\n",
      "Hamming Loss: 0.8222222222222222\n"
     ]
    },
    {
     "data": {
      "image/png": "[encoded data removed]",
      "text/plain": [
       "<Figure size 1000x800 with 2 Axes>"
      ]
     },
     "metadata": {},
     "output_type": "display_data"
    },
    {
     "data": {
      "text/plain": [
       "<Figure size 640x480 with 0 Axes>"
      ]
     },
     "metadata": {},
     "output_type": "display_data"
    }
   ],
   "source": [
    "rnd_report, rnd_h_loss = evaluate_model(true_classes, random_baseline)\n",
    "save_evaluation(rnd_report, rnd_h_loss, file_suffix='RANDOM_BASELINE')"
   ]
  },
  {
   "cell_type": "code",
   "execution_count": 81,
   "metadata": {},
   "outputs": [
    {
     "name": "stdout",
     "output_type": "stream",
     "text": [
      "Classification Report:\n",
      "               precision    recall  f1-score   support\n",
      "\n",
      "        funk       0.00      0.00      0.00        13\n",
      "      hiphop       0.00      0.00      0.00        13\n",
      "        jazz       0.00      0.00      0.00        15\n",
      "       latin       0.00      0.00      0.00        13\n",
      "         pop       0.00      0.00      0.00        16\n",
      "        rock       0.22      1.00      0.36        20\n",
      "\n",
      "    accuracy                           0.22        90\n",
      "   macro avg       0.04      0.17      0.06        90\n",
      "weighted avg       0.05      0.22      0.08        90\n",
      "\n",
      "Hamming Loss: 0.7777777777777778\n"
     ]
    },
    {
     "name": "stderr",
     "output_type": "stream",
     "text": [
      "d:\\Programmierung\\anaconda3\\envs\\audio_data_science_gpu\\lib\\site-packages\\sklearn\\metrics\\_classification.py:1509: UndefinedMetricWarning: Precision is ill-defined and being set to 0.0 in labels with no predicted samples. Use `zero_division` parameter to control this behavior.\n",
      "  _warn_prf(average, modifier, f\"{metric.capitalize()} is\", len(result))\n",
      "d:\\Programmierung\\anaconda3\\envs\\audio_data_science_gpu\\lib\\site-packages\\sklearn\\metrics\\_classification.py:1509: UndefinedMetricWarning: Precision is ill-defined and being set to 0.0 in labels with no predicted samples. Use `zero_division` parameter to control this behavior.\n",
      "  _warn_prf(average, modifier, f\"{metric.capitalize()} is\", len(result))\n",
      "d:\\Programmierung\\anaconda3\\envs\\audio_data_science_gpu\\lib\\site-packages\\sklearn\\metrics\\_classification.py:1509: UndefinedMetricWarning: Precision is ill-defined and being set to 0.0 in labels with no predicted samples. Use `zero_division` parameter to control this behavior.\n",
      "  _warn_prf(average, modifier, f\"{metric.capitalize()} is\", len(result))\n"
     ]
    },
    {
     "data": {
      "image/png": "[encoded data removed]",
      "text/plain": [
       "<Figure size 1000x800 with 2 Axes>"
      ]
     },
     "metadata": {},
     "output_type": "display_data"
    },
    {
     "data": {
      "text/plain": [
       "<Figure size 640x480 with 0 Axes>"
      ]
     },
     "metadata": {},
     "output_type": "display_data"
    }
   ],
   "source": [
    "all_5s_report, all_5s_h_loss = evaluate_model(true_classes, all_5s_baseline)\n",
    "save_evaluation(all_5s_report, all_5s_h_loss, file_suffix='ALL_5S_BASELINE')"
   ]
  }
 ],
 "metadata": {
  "kernelspec": {
   "display_name": "data_science",
   "language": "python",
   "name": "python3"
  },
  "language_info": {
   "codemirror_mode": {
    "name": "ipython",
    "version": 3
   },
   "file_extension": ".py",
   "mimetype": "text/x-python",
   "name": "python",
   "nbconvert_exporter": "python",
   "pygments_lexer": "ipython3",
   "version": "3.9.19"
  }
 },
 "nbformat": 4,
 "nbformat_minor": 2
}
