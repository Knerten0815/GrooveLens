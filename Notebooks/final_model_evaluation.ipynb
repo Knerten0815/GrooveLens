{
 "cells": [
  {
   "cell_type": "code",
   "execution_count": 1,
   "metadata": {},
   "outputs": [],
   "source": [
    "SPECTRUM_FOLDERNAME = 'spectrums_grayscale' # the folder containing the spectrums to load\n",
    "IMG_HEIGHT = 200\n",
    "IMG_WIDTH = 500\n",
    "FILE_SUFFIX = \"UPDATED_ARCHITECTURE4\"\n",
    "EPOCHS = 100\n",
    "EARLY_STOPPING_PATIENCE = 10"
   ]
  },
  {
   "cell_type": "markdown",
   "metadata": {},
   "source": [
    "# Load Data"
   ]
  },
  {
   "cell_type": "code",
   "execution_count": 2,
   "metadata": {},
   "outputs": [
    {
     "data": {
      "text/html": [
       "<div>\n",
       "<style scoped>\n",
       "    .dataframe tbody tr th:only-of-type {\n",
       "        vertical-align: middle;\n",
       "    }\n",
       "\n",
       "    .dataframe tbody tr th {\n",
       "        vertical-align: top;\n",
       "    }\n",
       "\n",
       "    .dataframe thead th {\n",
       "        text-align: right;\n",
       "    }\n",
       "</style>\n",
       "<table border=\"1\" class=\"dataframe\">\n",
       "  <thead>\n",
       "    <tr style=\"text-align: right;\">\n",
       "      <th></th>\n",
       "      <th>drummer</th>\n",
       "      <th>session</th>\n",
       "      <th>id</th>\n",
       "      <th>style</th>\n",
       "      <th>simplified_style</th>\n",
       "      <th>bpm</th>\n",
       "      <th>beat_type</th>\n",
       "      <th>time_signature</th>\n",
       "      <th>midi_filename</th>\n",
       "      <th>audio_filename</th>\n",
       "      <th>...</th>\n",
       "      <th>rms_std</th>\n",
       "      <th>spectral_centroid_mean</th>\n",
       "      <th>spectral_centroid_std</th>\n",
       "      <th>spectral_bandwidth_mean</th>\n",
       "      <th>spectral_bandwidth_std</th>\n",
       "      <th>spectral_flatness_mean</th>\n",
       "      <th>spectral_flatness_std</th>\n",
       "      <th>tempogram_mean</th>\n",
       "      <th>tempogram_std</th>\n",
       "      <th>spectrum_filename</th>\n",
       "    </tr>\n",
       "  </thead>\n",
       "  <tbody>\n",
       "    <tr>\n",
       "      <th>0</th>\n",
       "      <td>drummer1</td>\n",
       "      <td>drummer1/eval_session</td>\n",
       "      <td>drummer1/eval_session/1</td>\n",
       "      <td>funk/groove1</td>\n",
       "      <td>funk</td>\n",
       "      <td>138</td>\n",
       "      <td>1</td>\n",
       "      <td>4-4</td>\n",
       "      <td>drummer1/eval_session/1_funk-groove1_138_beat_...</td>\n",
       "      <td>drummer1/eval_session/1_funk-groove1_138_beat_...</td>\n",
       "      <td>...</td>\n",
       "      <td>0.056157</td>\n",
       "      <td>5608.665252</td>\n",
       "      <td>2501.480437</td>\n",
       "      <td>4647.658427</td>\n",
       "      <td>941.263597</td>\n",
       "      <td>0.090434</td>\n",
       "      <td>0.124045</td>\n",
       "      <td>0.294583</td>\n",
       "      <td>0.171183</td>\n",
       "      <td>drummer1/eval_session/1_funk-groove1_138_beat_...</td>\n",
       "    </tr>\n",
       "    <tr>\n",
       "      <th>1</th>\n",
       "      <td>drummer1</td>\n",
       "      <td>drummer1/eval_session</td>\n",
       "      <td>drummer1/eval_session/10</td>\n",
       "      <td>soul/groove10</td>\n",
       "      <td>funk</td>\n",
       "      <td>102</td>\n",
       "      <td>1</td>\n",
       "      <td>4-4</td>\n",
       "      <td>drummer1/eval_session/10_soul-groove10_102_bea...</td>\n",
       "      <td>drummer1/eval_session/10_soul-groove10_102_bea...</td>\n",
       "      <td>...</td>\n",
       "      <td>0.062846</td>\n",
       "      <td>7204.425221</td>\n",
       "      <td>3338.747216</td>\n",
       "      <td>5212.773742</td>\n",
       "      <td>1194.914650</td>\n",
       "      <td>0.148189</td>\n",
       "      <td>0.143111</td>\n",
       "      <td>0.267859</td>\n",
       "      <td>0.234713</td>\n",
       "      <td>drummer1/eval_session/10_soul-groove10_102_bea...</td>\n",
       "    </tr>\n",
       "    <tr>\n",
       "      <th>2</th>\n",
       "      <td>drummer1</td>\n",
       "      <td>drummer1/eval_session</td>\n",
       "      <td>drummer1/eval_session/2</td>\n",
       "      <td>funk/groove2</td>\n",
       "      <td>funk</td>\n",
       "      <td>105</td>\n",
       "      <td>1</td>\n",
       "      <td>4-4</td>\n",
       "      <td>drummer1/eval_session/2_funk-groove2_105_beat_...</td>\n",
       "      <td>drummer1/eval_session/2_funk-groove2_105_beat_...</td>\n",
       "      <td>...</td>\n",
       "      <td>0.061557</td>\n",
       "      <td>6172.809370</td>\n",
       "      <td>3874.975566</td>\n",
       "      <td>4711.894615</td>\n",
       "      <td>1483.392124</td>\n",
       "      <td>0.116454</td>\n",
       "      <td>0.132516</td>\n",
       "      <td>0.238676</td>\n",
       "      <td>0.153792</td>\n",
       "      <td>drummer1/eval_session/2_funk-groove2_105_beat_...</td>\n",
       "    </tr>\n",
       "    <tr>\n",
       "      <th>3</th>\n",
       "      <td>drummer1</td>\n",
       "      <td>drummer1/eval_session</td>\n",
       "      <td>drummer1/eval_session/3</td>\n",
       "      <td>soul/groove3</td>\n",
       "      <td>funk</td>\n",
       "      <td>86</td>\n",
       "      <td>1</td>\n",
       "      <td>4-4</td>\n",
       "      <td>drummer1/eval_session/3_soul-groove3_86_beat_4...</td>\n",
       "      <td>drummer1/eval_session/3_soul-groove3_86_beat_4...</td>\n",
       "      <td>...</td>\n",
       "      <td>0.053402</td>\n",
       "      <td>5704.099294</td>\n",
       "      <td>3309.100713</td>\n",
       "      <td>5098.568553</td>\n",
       "      <td>1251.293005</td>\n",
       "      <td>0.101191</td>\n",
       "      <td>0.128717</td>\n",
       "      <td>0.149444</td>\n",
       "      <td>0.144291</td>\n",
       "      <td>drummer1/eval_session/3_soul-groove3_86_beat_4...</td>\n",
       "    </tr>\n",
       "    <tr>\n",
       "      <th>4</th>\n",
       "      <td>drummer1</td>\n",
       "      <td>drummer1/eval_session</td>\n",
       "      <td>drummer1/eval_session/4</td>\n",
       "      <td>soul/groove4</td>\n",
       "      <td>funk</td>\n",
       "      <td>80</td>\n",
       "      <td>1</td>\n",
       "      <td>4-4</td>\n",
       "      <td>drummer1/eval_session/4_soul-groove4_80_beat_4...</td>\n",
       "      <td>drummer1/eval_session/4_soul-groove4_80_beat_4...</td>\n",
       "      <td>...</td>\n",
       "      <td>0.046688</td>\n",
       "      <td>8042.372855</td>\n",
       "      <td>3504.921958</td>\n",
       "      <td>5396.953176</td>\n",
       "      <td>999.442925</td>\n",
       "      <td>0.181278</td>\n",
       "      <td>0.149775</td>\n",
       "      <td>0.115379</td>\n",
       "      <td>0.128980</td>\n",
       "      <td>drummer1/eval_session/4_soul-groove4_80_beat_4...</td>\n",
       "    </tr>\n",
       "  </tbody>\n",
       "</table>\n",
       "<p>5 rows × 42 columns</p>\n",
       "</div>"
      ],
      "text/plain": [
       "    drummer                session                        id          style  \\\n",
       "0  drummer1  drummer1/eval_session   drummer1/eval_session/1   funk/groove1   \n",
       "1  drummer1  drummer1/eval_session  drummer1/eval_session/10  soul/groove10   \n",
       "2  drummer1  drummer1/eval_session   drummer1/eval_session/2   funk/groove2   \n",
       "3  drummer1  drummer1/eval_session   drummer1/eval_session/3   soul/groove3   \n",
       "4  drummer1  drummer1/eval_session   drummer1/eval_session/4   soul/groove4   \n",
       "\n",
       "  simplified_style  bpm  beat_type time_signature  \\\n",
       "0             funk  138          1            4-4   \n",
       "1             funk  102          1            4-4   \n",
       "2             funk  105          1            4-4   \n",
       "3             funk   86          1            4-4   \n",
       "4             funk   80          1            4-4   \n",
       "\n",
       "                                       midi_filename  \\\n",
       "0  drummer1/eval_session/1_funk-groove1_138_beat_...   \n",
       "1  drummer1/eval_session/10_soul-groove10_102_bea...   \n",
       "2  drummer1/eval_session/2_funk-groove2_105_beat_...   \n",
       "3  drummer1/eval_session/3_soul-groove3_86_beat_4...   \n",
       "4  drummer1/eval_session/4_soul-groove4_80_beat_4...   \n",
       "\n",
       "                                      audio_filename  ...   rms_std  \\\n",
       "0  drummer1/eval_session/1_funk-groove1_138_beat_...  ...  0.056157   \n",
       "1  drummer1/eval_session/10_soul-groove10_102_bea...  ...  0.062846   \n",
       "2  drummer1/eval_session/2_funk-groove2_105_beat_...  ...  0.061557   \n",
       "3  drummer1/eval_session/3_soul-groove3_86_beat_4...  ...  0.053402   \n",
       "4  drummer1/eval_session/4_soul-groove4_80_beat_4...  ...  0.046688   \n",
       "\n",
       "  spectral_centroid_mean  spectral_centroid_std  spectral_bandwidth_mean  \\\n",
       "0            5608.665252            2501.480437              4647.658427   \n",
       "1            7204.425221            3338.747216              5212.773742   \n",
       "2            6172.809370            3874.975566              4711.894615   \n",
       "3            5704.099294            3309.100713              5098.568553   \n",
       "4            8042.372855            3504.921958              5396.953176   \n",
       "\n",
       "   spectral_bandwidth_std  spectral_flatness_mean  spectral_flatness_std  \\\n",
       "0              941.263597                0.090434               0.124045   \n",
       "1             1194.914650                0.148189               0.143111   \n",
       "2             1483.392124                0.116454               0.132516   \n",
       "3             1251.293005                0.101191               0.128717   \n",
       "4              999.442925                0.181278               0.149775   \n",
       "\n",
       "  tempogram_mean tempogram_std  \\\n",
       "0       0.294583      0.171183   \n",
       "1       0.267859      0.234713   \n",
       "2       0.238676      0.153792   \n",
       "3       0.149444      0.144291   \n",
       "4       0.115379      0.128980   \n",
       "\n",
       "                                   spectrum_filename  \n",
       "0  drummer1/eval_session/1_funk-groove1_138_beat_...  \n",
       "1  drummer1/eval_session/10_soul-groove10_102_bea...  \n",
       "2  drummer1/eval_session/2_funk-groove2_105_beat_...  \n",
       "3  drummer1/eval_session/3_soul-groove3_86_beat_4...  \n",
       "4  drummer1/eval_session/4_soul-groove4_80_beat_4...  \n",
       "\n",
       "[5 rows x 42 columns]"
      ]
     },
     "execution_count": 2,
     "metadata": {},
     "output_type": "execute_result"
    }
   ],
   "source": [
    "import pandas as pd\n",
    "\n",
    "data = pd.read_csv('data_balanced_processed_new.csv', encoding=\"latin-1\")\n",
    "#data.drop('Unnamed: 0', axis=1, inplace=True)\n",
    "data.head()"
   ]
  },
  {
   "cell_type": "markdown",
   "metadata": {},
   "source": [
    "# Prepare Data"
   ]
  },
  {
   "cell_type": "code",
   "execution_count": 3,
   "metadata": {},
   "outputs": [
    {
     "data": {
      "text/plain": [
       "encoded_style\n",
       "0    200\n",
       "1    200\n",
       "4    200\n",
       "5    200\n",
       "3    200\n",
       "2    200\n",
       "Name: count, dtype: int64"
      ]
     },
     "execution_count": 3,
     "metadata": {},
     "output_type": "execute_result"
    }
   ],
   "source": [
    "from sklearn.preprocessing import LabelEncoder\n",
    "\n",
    "# Initialize the LabelEncoder\n",
    "label_encoder = LabelEncoder()\n",
    "\n",
    "# Fit and transform the target variable\n",
    "data[\"encoded_style\"] = label_encoder.fit_transform(data.simplified_style)\n",
    "data.encoded_style.value_counts()"
   ]
  },
  {
   "cell_type": "code",
   "execution_count": 4,
   "metadata": {},
   "outputs": [
    {
     "data": {
      "text/plain": [
       "array(['funk', 'hiphop', 'jazz', 'latin', 'pop', 'rock'], dtype=object)"
      ]
     },
     "execution_count": 4,
     "metadata": {},
     "output_type": "execute_result"
    }
   ],
   "source": [
    "label_encoder.classes_"
   ]
  },
  {
   "cell_type": "markdown",
   "metadata": {},
   "source": [
    "Because we sampled some audio files multiple times. We should prevent data leakage between train and test/validation sets. We do this by using the group shuffle split from scikit-learn. This messes up the distribution of genres a bit though. To find the best split, that has no data leakage and a good distribution of genres, we will use the forbidden technique of random state hacking! We are using it to create a good split and not to overfit the model, so it is fine i think.\n",
    "We just check the genre distributions produced by different random states and choose the one, that differs the least from a perfectly balanced distributon."
   ]
  },
  {
   "cell_type": "raw",
   "metadata": {
    "vscode": {
     "languageId": "raw"
    }
   },
   "source": [
    "from sklearn.model_selection import GroupShuffleSplit\n",
    "\n",
    "# random state hacking\n",
    "rnd_states = []\n",
    "for i in range(9999):\n",
    "    groups = data['audio_filename']\n",
    "    gss = GroupShuffleSplit(n_splits=5, train_size=0.7, random_state=i)\n",
    "    for train_indices, remaining_indices in gss.split(X=data, groups=groups):\n",
    "        #GroupShuffleSplit.split() returns an iterator and is meant to be used in a loop. So I guess I need to fill this loop with code...\n",
    "        useless_variable = None\n",
    "        \n",
    "    train_df = data.iloc[train_indices].sample(frac=1.0, random_state=42)\n",
    "    remaining_df = data.iloc[remaining_indices]\n",
    "\n",
    "    # calcuate how balanced the data sets are\n",
    "    balanced_ratio = 1/6\n",
    "    train_ratios = train_df.simplified_style.value_counts(normalize=True).values\n",
    "    remaining_ratios = remaining_df.simplified_style.value_counts(normalize=True).values\n",
    "    train_offset = (abs(train_ratios - balanced_ratio)).sum()\n",
    "    remaining_offset = (abs(remaining_ratios - balanced_ratio)).sum()\n",
    "    balanced_offset = train_offset + remaining_offset # the lower the better\n",
    "    \n",
    "    # save random state i and blanced_offset in a dictionary\n",
    "    rnd_states.append({'rnd_state': i, 'balanced_offset': balanced_offset})\n",
    "\n",
    "# print the random state with the lowest balanced offset\n",
    "print(min(rnd_states, key=lambda x:x['balanced_offset']))\n",
    "\n",
    "group_shuffle_rnd_state = min(rnd_states, key=lambda x:x['balanced_offset']).get('rnd_state')"
   ]
  },
  {
   "cell_type": "code",
   "execution_count": 5,
   "metadata": {},
   "outputs": [],
   "source": [
    "from sklearn.model_selection import GroupShuffleSplit\n",
    "group_shuffle_rnd_state = 8698"
   ]
  },
  {
   "cell_type": "code",
   "execution_count": 6,
   "metadata": {},
   "outputs": [
    {
     "name": "stdout",
     "output_type": "stream",
     "text": [
      "Data leakage = False\n",
      "\n",
      "Train data genre distribution\n",
      "simplified_style\n",
      "latin     0.169082\n",
      "rock      0.167874\n",
      "funk      0.167874\n",
      "hiphop    0.166667\n",
      "jazz      0.166667\n",
      "pop       0.161836\n",
      "Name: proportion, dtype: float64\n",
      "\n",
      "Remaining data genre distribution\n",
      "simplified_style\n",
      "pop       0.177419\n",
      "jazz      0.166667\n",
      "hiphop    0.166667\n",
      "funk      0.163978\n",
      "rock      0.163978\n",
      "latin     0.161290\n",
      "Name: proportion, dtype: float64\n"
     ]
    }
   ],
   "source": [
    "# prevent data leakage by grouping splits by audio_filename\n",
    "groups = data['audio_filename']\n",
    "gss = GroupShuffleSplit(n_splits=5, train_size=0.7, random_state=group_shuffle_rnd_state)\n",
    "for train_indices, remaining_indices in gss.split(X=data, groups=groups):\n",
    "    #GroupShuffleSplit.split() returns a tuple instead of Numpy.nparray when used outside of a for loop somehow. So I guess I need to fill this loop with code...\n",
    "    useless_variable = None\n",
    "\n",
    "\n",
    "# create dataframe from group split indices and shuffle the train dataframe\n",
    "data_train = data.iloc[train_indices].sample(frac=1.0, random_state=42)\n",
    "remaining_data = data.iloc[remaining_indices]\n",
    "\n",
    "# check for data leakage\n",
    "print('Data leakage =', data_train['audio_filename'].isin(remaining_data['audio_filename']).any())\n",
    "\n",
    "# check genre distribution\n",
    "print(\"\\nTrain data genre distribution\")\n",
    "print(data_train.simplified_style.value_counts(normalize=True))\n",
    "\n",
    "print(\"\\nRemaining data genre distribution\")\n",
    "print(remaining_data.simplified_style.value_counts(normalize=True))"
   ]
  },
  {
   "cell_type": "code",
   "execution_count": 7,
   "metadata": {},
   "outputs": [
    {
     "name": "stdout",
     "output_type": "stream",
     "text": [
      "(828, 43) (186, 43) (186, 43)\n",
      "Train data share:  0.69\n",
      "Validation data share:  0.155\n",
      "Test data share:  0.155\n"
     ]
    }
   ],
   "source": [
    "from sklearn.model_selection import train_test_split\n",
    "\n",
    "# # split the remaining data into test and validation data sets. No need to worry about data leakage, because these datasets are not used for training.\n",
    "data_test, data_validation = train_test_split(remaining_data, test_size=0.5, random_state=42,)\n",
    "data_test.shape\n",
    "\n",
    "# check the distribution after the split\n",
    "print(data_train.shape, data_test.shape, data_validation.shape, )\n",
    "print(\"Train data share: \", data_train.shape[0] / data.shape[0])\n",
    "print(\"Validation data share: \", data_validation.shape[0]/ data.shape[0])\n",
    "print(\"Test data share: \", data_test.shape[0] / data.shape[0])"
   ]
  },
  {
   "cell_type": "markdown",
   "metadata": {},
   "source": [
    "# CNN Predictions"
   ]
  },
  {
   "cell_type": "code",
   "execution_count": 8,
   "metadata": {},
   "outputs": [
    {
     "name": "stdout",
     "output_type": "stream",
     "text": [
      "Found 186 validated image filenames belonging to 6 classes.\n"
     ]
    }
   ],
   "source": [
    "from tensorflow.keras.preprocessing.image import ImageDataGenerator\n",
    "import os\n",
    "\n",
    "path_images = os.path.join('..', 'Datasets', SPECTRUM_FOLDERNAME)\n",
    "\n",
    "BATCH_SIZE = 32\n",
    "\n",
    "# Normalize images and add the custom preprocessing function\n",
    "image_generator = ImageDataGenerator(\n",
    "    rescale=1.0/255,\n",
    ")\n",
    "\n",
    "test_generator = image_generator.flow_from_dataframe(\n",
    "    dataframe=data_test,\n",
    "    directory=path_images,\n",
    "    x_col=\"spectrum_filename\",\n",
    "    y_col=\"simplified_style\",\n",
    "    target_size=(IMG_HEIGHT, IMG_WIDTH),\n",
    "    batch_size=BATCH_SIZE,\n",
    "    class_mode=\"categorical\",\n",
    "    color_mode=\"grayscale\", #add color mode,\n",
    "    shuffle=False,  # this is crucial for later evaluation!\n",
    ")"
   ]
  },
  {
   "cell_type": "code",
   "execution_count": 10,
   "metadata": {},
   "outputs": [
    {
     "name": "stdout",
     "output_type": "stream",
     "text": [
      "6/6 [==============================] - 4604s 789s/step\n"
     ]
    },
    {
     "data": {
      "text/plain": [
       "(186, 6)"
      ]
     },
     "execution_count": 10,
     "metadata": {},
     "output_type": "execute_result"
    }
   ],
   "source": [
    "from tensorflow.keras.models import load_model\n",
    "\n",
    "model_path = os.path.join('..', 'data', 'models', 'multiclass_cnn_UPDATED_ARCHITECTURE4.keras')\n",
    "cnn_model = load_model(model_path, compile=False)\n",
    "\n",
    "cnn_probabilities = cnn_model.predict(test_generator, verbose=1)\n",
    "cnn_probabilities.shape"
   ]
  },
  {
   "cell_type": "code",
   "execution_count": 51,
   "metadata": {},
   "outputs": [],
   "source": [
    "pd.DataFrame(cnn_probabilities).to_csv('cnn_test_probabilities_UPDATED_ARCHITECTURE4.csv', index=False)"
   ]
  },
  {
   "cell_type": "markdown",
   "metadata": {},
   "source": [
    "# Random Forest Predictions"
   ]
  },
  {
   "cell_type": "code",
   "execution_count": 24,
   "metadata": {},
   "outputs": [],
   "source": [
    "import pickle\n",
    "\n",
    "def load_model(model):\n",
    "    path_data = os.path.join('..', 'data', 'models')\n",
    "    filepath = os.path.join(path_data, model)\n",
    "\n",
    "    with open(filepath, 'rb') as model:\n",
    "        rnd_forest = pickle.load(model)\n",
    "    \n",
    "    return rnd_forest\n",
    "\n",
    "def random_forest_predict(X, model ='RANDOM_FOREST_Extracted_BPM_full_file_model.pkl'):\n",
    "    print(\"Calculating random forest predictions...\")\n",
    "    rnd_forest = load_model(model)\n",
    "    X = X.drop(columns=['melspectogram'])\n",
    "    return rnd_forest.predict_proba(X)"
   ]
  },
  {
   "cell_type": "code",
   "execution_count": 28,
   "metadata": {},
   "outputs": [
    {
     "name": "stdout",
     "output_type": "stream",
     "text": [
      "Calculating random forest predictions...\n"
     ]
    },
    {
     "data": {
      "text/plain": [
       "(186, 6)"
      ]
     },
     "execution_count": 28,
     "metadata": {},
     "output_type": "execute_result"
    }
   ],
   "source": [
    "X = data_test.drop(columns=[\"drummer\", \"session\", \"id\", 'beat_type', \"midi_filename\", \"audio_filename\", \"style\", \"simplified_style\", \"encoded_style\", \"split\", \"spectrum_filename\"])\n",
    "X = X.drop(columns=[\"time_signature\"])\n",
    "X = X.drop(columns=[\"duration\", \"start\", \"end\", \"times_sampled\", \"oversampling_ratio\", \"possible_samples\"])\n",
    "X = X.drop(columns=['bpm', 'onset_strengths', 'onset_frames'])\n",
    "\n",
    "rf_propabilities = random_forest_predict(X)\n",
    "rf_propabilities.shape"
   ]
  },
  {
   "cell_type": "markdown",
   "metadata": {},
   "source": [
    "# Final Predictions"
   ]
  },
  {
   "cell_type": "code",
   "execution_count": 48,
   "metadata": {},
   "outputs": [
    {
     "data": {
      "text/plain": [
       "(186, 6)"
      ]
     },
     "execution_count": 48,
     "metadata": {},
     "output_type": "execute_result"
    }
   ],
   "source": [
    "import numpy as np\n",
    "\n",
    "probs = rf_propabilities + cnn_probabilities\n",
    "probs.shape"
   ]
  },
  {
   "cell_type": "markdown",
   "metadata": {},
   "source": [
    "# Evaluation"
   ]
  },
  {
   "cell_type": "code",
   "execution_count": 40,
   "metadata": {},
   "outputs": [],
   "source": [
    "import numpy as np\n",
    "\n",
    "# Convert predictions to class indices (if using softmax output)\n",
    "predicted_classes = np.argmax(probs, axis=1)\n",
    "\n",
    "# True labels from the test generator\n",
    "true_classes = test_generator.classes\n",
    "class_labels = list(test_generator.class_indices.keys())  # Get the class labels"
   ]
  },
  {
   "cell_type": "code",
   "execution_count": 45,
   "metadata": {},
   "outputs": [],
   "source": [
    "from sklearn.metrics import classification_report, hamming_loss, confusion_matrix\n",
    "import matplotlib.pyplot as plt\n",
    "import seaborn as sns\n",
    "\n",
    "FILE_SUFFIX = \"FINAL_MODEL\"\n",
    "\n",
    "def evaluate_model(true_classes, predicted_classes):\n",
    "    # Classification report\n",
    "    report = classification_report(true_classes, predicted_classes, target_names=class_labels)\n",
    "    print(\"Classification Report:\\n\", report)\n",
    "\n",
    "    # Hamming Loss\n",
    "    h_loss = hamming_loss(true_classes, predicted_classes)\n",
    "    print(\"Hamming Loss:\", h_loss)\n",
    "\n",
    "    # Confusion Matrix\n",
    "    conf_matrix = confusion_matrix(true_classes, predicted_classes)\n",
    "    plt.figure(figsize=(10, 8))\n",
    "    sns.heatmap(conf_matrix, annot=True, fmt=\"d\", cmap=\"Blues\", xticklabels=class_labels, yticklabels=class_labels)\n",
    "    plt.xlabel('Predicted Labels')\n",
    "    plt.ylabel('True Labels')\n",
    "    plt.title('Confusion Matrix')\n",
    "    plt.show()\n",
    "    \n",
    "    return report, h_loss"
   ]
  },
  {
   "cell_type": "code",
   "execution_count": 46,
   "metadata": {},
   "outputs": [],
   "source": [
    "# Convert the classification report to a markdown table\n",
    "def convert_to_markdown(report, hamming_loss, image_path=None, file_suffix=FILE_SUFFIX):\n",
    "    lines = report.strip().split('\\n')\n",
    "    headers = lines[0].split()\n",
    "    table = \"| \" + \" | \".join(headers) + \" |\\n\"\n",
    "    table += \"| \" + \" | \".join(['---'] * len(headers)) + \" |\\n\"\n",
    "    \n",
    "    for line in lines[1:]:\n",
    "        row = \" | \".join(line.split())\n",
    "        table += \"| \" + row + \" |\\n\"\n",
    "    \n",
    "    markdown_content = f\"# Classification Report for {file_suffix}\\n\\n\"\n",
    "    markdown_content += f\"__Hamming Loss__ = {hamming_loss}\\n\\n{table}\\n\"\n",
    "    \n",
    "    if image_path:\n",
    "        markdown_content += f\"\\n![Image]({image_path})\\n\"\n",
    "    \n",
    "    return markdown_content\n",
    "\n",
    "def save_evaluation(report, h_loss, file_suffix=FILE_SUFFIX):\n",
    "    eval_path = os.path.join('..', 'evaluation')\n",
    "    conf_matrix_path = os.path.join(eval_path, 'images', 'confusion_matrix_' + file_suffix + '.png')\n",
    "    markdwon_path = os.path.join(eval_path, 'markdown', 'classification_report_' + file_suffix + '.md')\n",
    "    plt.savefig(conf_matrix_path)\n",
    "    #plt.close()\n",
    "\n",
    "    # Generate markdown content\n",
    "    markdown_content = convert_to_markdown(report, h_loss, conf_matrix_path, file_suffix=file_suffix)\n",
    "\n",
    "    # Write to a markdown file\n",
    "    with open(markdwon_path, \"w\") as file:\n",
    "        file.write(markdown_content)"
   ]
  },
  {
   "cell_type": "code",
   "execution_count": 47,
   "metadata": {},
   "outputs": [
    {
     "name": "stdout",
     "output_type": "stream",
     "text": [
      "Classification Report:\n",
      "               precision    recall  f1-score   support\n",
      "\n",
      "        funk       0.54      0.54      0.54        28\n",
      "      hiphop       0.53      0.47      0.50        36\n",
      "        jazz       0.67      0.28      0.39        29\n",
      "       latin       0.46      0.78      0.58        27\n",
      "         pop       0.38      0.31      0.34        36\n",
      "        rock       0.41      0.53      0.46        30\n",
      "\n",
      "    accuracy                           0.47       186\n",
      "   macro avg       0.50      0.48      0.47       186\n",
      "weighted avg       0.49      0.47      0.46       186\n",
      "\n",
      "Hamming Loss: 0.5268817204301075\n"
     ]
    },
    {
     "data": {
      "image/png": "[encoded data removed]",
      "text/plain": [
       "<Figure size 1000x800 with 2 Axes>"
      ]
     },
     "metadata": {},
     "output_type": "display_data"
    },
    {
     "data": {
      "text/plain": [
       "<Figure size 640x480 with 0 Axes>"
      ]
     },
     "metadata": {},
     "output_type": "display_data"
    }
   ],
   "source": [
    "report, h_loss = evaluate_model(true_classes, predicted_classes)\n",
    "save_evaluation(report, h_loss)"
   ]
  }
 ],
 "metadata": {
  "kernelspec": {
   "display_name": "data_science",
   "language": "python",
   "name": "python3"
  },
  "language_info": {
   "codemirror_mode": {
    "name": "ipython",
    "version": 3
   },
   "file_extension": ".py",
   "mimetype": "text/x-python",
   "name": "python",
   "nbconvert_exporter": "python",
   "pygments_lexer": "ipython3",
   "version": "3.9.19"
  }
 },
 "nbformat": 4,
 "nbformat_minor": 2
}
