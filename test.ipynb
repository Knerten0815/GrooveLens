{
 "cells": [
  {
   "cell_type": "code",
   "execution_count": 2,
   "metadata": {},
   "outputs": [
    {
     "name": "stdout",
     "output_type": "stream",
     "text": [
      "Processing G:\\Bands\\Inge Brauch\\Von was wieviel\\Guides, Midi, gp5, demos\\Guidetracks\\Burgen bauen\\GUIDE - Burgen bauen DRUMS.mp3. Duration: 3\n"
     ]
    },
    {
     "name": "stderr",
     "output_type": "stream",
     "text": [
      "100%|██████████| 1/1 [00:02<00:00,  2.25s/it]"
     ]
    },
    {
     "name": "stdout",
     "output_type": "stream",
     "text": [
      "                                     onset_strengths onset_frames  \\\n",
      "0  [0.0, 0.0, 0.0, 0.0, 0.0, 0.0, 0.0, 0.0, 0.0, ...           []   \n",
      "\n",
      "                                       melspectogram bpm_extracted  \\\n",
      "0  [[0.0, 0.0, 0.0, 0.0, 0.0, 0.0, 0.0, 0.0, 0.0,...           0.0   \n",
      "\n",
      "  onset_env_mean onset_env_std spectral_flux_mean spectral_flux_std  \\\n",
      "0            0.0           0.0                0.0          0.000002   \n",
      "\n",
      "   mfcc_mean    mfcc_std  ... rms_mean rms_std spectral_centroid_mean  \\\n",
      "0 -48.650425  168.529999  ...      0.0     0.0             223.681016   \n",
      "\n",
      "  spectral_centroid_std spectral_bandwidth_mean spectral_bandwidth_std  \\\n",
      "0           1597.284941              122.402553             874.423723   \n",
      "\n",
      "  spectral_flatness_mean spectral_flatness_std tempogram_mean tempogram_std  \n",
      "0               0.998523              0.021145            0.0           0.0  \n",
      "\n",
      "[1 rows x 24 columns]\n"
     ]
    },
    {
     "name": "stderr",
     "output_type": "stream",
     "text": [
      "\n"
     ]
    }
   ],
   "source": [
    "#impor the method process_file from the main.py file in the code directory\n",
    "from preprocess import process_file\n",
    "\n",
    "\n",
    "FILE = 'G:\\Bands\\Inge Brauch\\Von was wieviel\\Guides, Midi, gp5, demos\\Guidetracks\\Burgen bauen\\\\GUIDE - Burgen bauen DRUMS.mp3'\n",
    "START = 0\n",
    "END = 3#None\n",
    "SAMPLING_RATE = 44100                           # in Hz\n",
    "\n",
    "feature_df = process_file(FILE, SAMPLING_RATE, START, END)\n",
    "print(feature_df)"
   ]
  },
  {
   "cell_type": "code",
   "execution_count": 3,
   "metadata": {},
   "outputs": [
    {
     "data": {
      "text/plain": [
       "Index(['onset_strengths', 'onset_frames', 'melspectogram', 'bpm_extracted',\n",
       "       'onset_env_mean', 'onset_env_std', 'spectral_flux_mean',\n",
       "       'spectral_flux_std', 'mfcc_mean', 'mfcc_std', 'spectral_contrast_mean',\n",
       "       'spectral_contrast_std', 'tonnetz_mean', 'tonnetz_std', 'rms_mean',\n",
       "       'rms_std', 'spectral_centroid_mean', 'spectral_centroid_std',\n",
       "       'spectral_bandwidth_mean', 'spectral_bandwidth_std',\n",
       "       'spectral_flatness_mean', 'spectral_flatness_std', 'tempogram_mean',\n",
       "       'tempogram_std'],\n",
       "      dtype='object')"
      ]
     },
     "execution_count": 3,
     "metadata": {},
     "output_type": "execute_result"
    }
   ],
   "source": [
    "feature_df.columns"
   ]
  },
  {
   "cell_type": "code",
   "execution_count": 4,
   "metadata": {},
   "outputs": [
    {
     "data": {
      "text/html": [
       "<div>\n",
       "<style scoped>\n",
       "    .dataframe tbody tr th:only-of-type {\n",
       "        vertical-align: middle;\n",
       "    }\n",
       "\n",
       "    .dataframe tbody tr th {\n",
       "        vertical-align: top;\n",
       "    }\n",
       "\n",
       "    .dataframe thead th {\n",
       "        text-align: right;\n",
       "    }\n",
       "</style>\n",
       "<table border=\"1\" class=\"dataframe\">\n",
       "  <thead>\n",
       "    <tr style=\"text-align: right;\">\n",
       "      <th></th>\n",
       "      <th>onset_strengths</th>\n",
       "      <th>onset_frames</th>\n",
       "      <th>melspectogram</th>\n",
       "      <th>bpm_extracted</th>\n",
       "      <th>onset_env_mean</th>\n",
       "      <th>onset_env_std</th>\n",
       "      <th>spectral_flux_mean</th>\n",
       "      <th>spectral_flux_std</th>\n",
       "      <th>mfcc_mean</th>\n",
       "      <th>mfcc_std</th>\n",
       "      <th>...</th>\n",
       "      <th>rms_mean</th>\n",
       "      <th>rms_std</th>\n",
       "      <th>spectral_centroid_mean</th>\n",
       "      <th>spectral_centroid_std</th>\n",
       "      <th>spectral_bandwidth_mean</th>\n",
       "      <th>spectral_bandwidth_std</th>\n",
       "      <th>spectral_flatness_mean</th>\n",
       "      <th>spectral_flatness_std</th>\n",
       "      <th>tempogram_mean</th>\n",
       "      <th>tempogram_std</th>\n",
       "    </tr>\n",
       "  </thead>\n",
       "  <tbody>\n",
       "    <tr>\n",
       "      <th>0</th>\n",
       "      <td>[0.0, 0.0, 0.0, 0.0, 0.0, 0.0, 0.0, 0.0, 0.0, ...</td>\n",
       "      <td>[]</td>\n",
       "      <td>[[0.0, 0.0, 0.0, 0.0, 0.0, 0.0, 0.0, 0.0, 0.0,...</td>\n",
       "      <td>0.0</td>\n",
       "      <td>0.0</td>\n",
       "      <td>0.0</td>\n",
       "      <td>0.0</td>\n",
       "      <td>0.000002</td>\n",
       "      <td>-48.650425</td>\n",
       "      <td>168.529999</td>\n",
       "      <td>...</td>\n",
       "      <td>0.0</td>\n",
       "      <td>0.0</td>\n",
       "      <td>223.681016</td>\n",
       "      <td>1597.284941</td>\n",
       "      <td>122.402553</td>\n",
       "      <td>874.423723</td>\n",
       "      <td>0.998523</td>\n",
       "      <td>0.021145</td>\n",
       "      <td>0.0</td>\n",
       "      <td>0.0</td>\n",
       "    </tr>\n",
       "  </tbody>\n",
       "</table>\n",
       "<p>1 rows × 24 columns</p>\n",
       "</div>"
      ],
      "text/plain": [
       "                                     onset_strengths onset_frames  \\\n",
       "0  [0.0, 0.0, 0.0, 0.0, 0.0, 0.0, 0.0, 0.0, 0.0, ...           []   \n",
       "\n",
       "                                       melspectogram bpm_extracted  \\\n",
       "0  [[0.0, 0.0, 0.0, 0.0, 0.0, 0.0, 0.0, 0.0, 0.0,...           0.0   \n",
       "\n",
       "  onset_env_mean onset_env_std spectral_flux_mean spectral_flux_std  \\\n",
       "0            0.0           0.0                0.0          0.000002   \n",
       "\n",
       "   mfcc_mean    mfcc_std  ... rms_mean rms_std spectral_centroid_mean  \\\n",
       "0 -48.650425  168.529999  ...      0.0     0.0             223.681016   \n",
       "\n",
       "  spectral_centroid_std spectral_bandwidth_mean spectral_bandwidth_std  \\\n",
       "0           1597.284941              122.402553             874.423723   \n",
       "\n",
       "  spectral_flatness_mean spectral_flatness_std tempogram_mean tempogram_std  \n",
       "0               0.998523              0.021145            0.0           0.0  \n",
       "\n",
       "[1 rows x 24 columns]"
      ]
     },
     "execution_count": 4,
     "metadata": {},
     "output_type": "execute_result"
    }
   ],
   "source": [
    "feature_df"
   ]
  }
 ],
 "metadata": {
  "kernelspec": {
   "display_name": "audio_data_science_gpu",
   "language": "python",
   "name": "python3"
  },
  "language_info": {
   "codemirror_mode": {
    "name": "ipython",
    "version": 3
   },
   "file_extension": ".py",
   "mimetype": "text/x-python",
   "name": "python",
   "nbconvert_exporter": "python",
   "pygments_lexer": "ipython3",
   "version": "3.9.19"
  }
 },
 "nbformat": 4,
 "nbformat_minor": 2
}
