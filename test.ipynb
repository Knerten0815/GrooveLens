{
 "cells": [
  {
   "cell_type": "code",
   "execution_count": 1,
   "metadata": {},
   "outputs": [
    {
     "name": "stdout",
     "output_type": "stream",
     "text": [
      "Processing G:\\Bands\\Inge Brauch\\Von was wieviel\\Guides, Midi, gp5, demos\\Guidetracks\\Burgen bauen\\GUIDE - Burgen bauen DRUMS.mp3. Duration: 7.5\n"
     ]
    },
    {
     "name": "stderr",
     "output_type": "stream",
     "text": [
      "100%|██████████| 2/2 [00:00<00:00,  2.71it/s]\n"
     ]
    },
    {
     "data": {
      "text/html": [
       "<div>\n",
       "<style scoped>\n",
       "    .dataframe tbody tr th:only-of-type {\n",
       "        vertical-align: middle;\n",
       "    }\n",
       "\n",
       "    .dataframe tbody tr th {\n",
       "        vertical-align: top;\n",
       "    }\n",
       "\n",
       "    .dataframe thead th {\n",
       "        text-align: right;\n",
       "    }\n",
       "</style>\n",
       "<table border=\"1\" class=\"dataframe\">\n",
       "  <thead>\n",
       "    <tr style=\"text-align: right;\">\n",
       "      <th></th>\n",
       "      <th>melspectogram</th>\n",
       "      <th>bpm_extracted</th>\n",
       "      <th>onset_env_mean</th>\n",
       "      <th>onset_env_std</th>\n",
       "      <th>mfcc_mean</th>\n",
       "      <th>mfcc_std</th>\n",
       "      <th>spectral_flux_mean</th>\n",
       "      <th>spectral_flux_std</th>\n",
       "      <th>spectral_contrast_mean</th>\n",
       "      <th>spectral_contrast_std</th>\n",
       "      <th>tonnetz_mean</th>\n",
       "      <th>tonnetz_std</th>\n",
       "      <th>rms_mean</th>\n",
       "      <th>rms_std</th>\n",
       "      <th>spectral_centroid_mean</th>\n",
       "      <th>spectral_centroid_std</th>\n",
       "      <th>spectral_bandwidth_mean</th>\n",
       "      <th>spectral_bandwidth_std</th>\n",
       "      <th>spectral_flatness_mean</th>\n",
       "      <th>spectral_flatness_std</th>\n",
       "      <th>tempogram_mean</th>\n",
       "      <th>tempogram_std</th>\n",
       "    </tr>\n",
       "  </thead>\n",
       "  <tbody>\n",
       "    <tr>\n",
       "      <th>0</th>\n",
       "      <td>[[0.0, 0.0, 0.0, 0.0, 0.0, 0.0, 0.0, 0.0, 0.0,...</td>\n",
       "      <td>191.40625</td>\n",
       "      <td>0.0</td>\n",
       "      <td>0.0</td>\n",
       "      <td>-48.650425</td>\n",
       "      <td>168.529999</td>\n",
       "      <td>0.0</td>\n",
       "      <td>0.000002</td>\n",
       "      <td>0.176745</td>\n",
       "      <td>1.655203</td>\n",
       "      <td>-0.001019</td>\n",
       "      <td>0.059752</td>\n",
       "      <td>0.0</td>\n",
       "      <td>0.0</td>\n",
       "      <td>223.681016</td>\n",
       "      <td>1597.284941</td>\n",
       "      <td>122.402553</td>\n",
       "      <td>874.423723</td>\n",
       "      <td>0.998523</td>\n",
       "      <td>0.021145</td>\n",
       "      <td>0.0</td>\n",
       "      <td>0.0</td>\n",
       "    </tr>\n",
       "    <tr>\n",
       "      <th>1</th>\n",
       "      <td>[[-80.0, -80.0, -80.0, -80.0, -80.0, -80.0, -8...</td>\n",
       "      <td>191.40625</td>\n",
       "      <td>1.434429</td>\n",
       "      <td>3.368677</td>\n",
       "      <td>-7.826422</td>\n",
       "      <td>66.692673</td>\n",
       "      <td>1.307696</td>\n",
       "      <td>1.798546</td>\n",
       "      <td>13.532241</td>\n",
       "      <td>14.703441</td>\n",
       "      <td>0.003169</td>\n",
       "      <td>0.034996</td>\n",
       "      <td>0.092081</td>\n",
       "      <td>0.108045</td>\n",
       "      <td>1745.389492</td>\n",
       "      <td>1385.32337</td>\n",
       "      <td>2213.406984</td>\n",
       "      <td>1293.757568</td>\n",
       "      <td>0.211047</td>\n",
       "      <td>0.40611</td>\n",
       "      <td>0.156446</td>\n",
       "      <td>0.116382</td>\n",
       "    </tr>\n",
       "  </tbody>\n",
       "</table>\n",
       "</div>"
      ],
      "text/plain": [
       "                                       melspectogram  ...  tempogram_std\n",
       "0  [[0.0, 0.0, 0.0, 0.0, 0.0, 0.0, 0.0, 0.0, 0.0,...  ...            0.0\n",
       "1  [[-80.0, -80.0, -80.0, -80.0, -80.0, -80.0, -8...  ...       0.116382\n",
       "\n",
       "[2 rows x 22 columns]"
      ]
     },
     "execution_count": 1,
     "metadata": {},
     "output_type": "execute_result"
    }
   ],
   "source": [
    "from code import process_file\n",
    "from code import random_forest_predict\n",
    "from code import cnn_predict\n",
    "import shutil\n",
    "import numpy as np\n",
    "\n",
    "FILE = 'G:\\Bands\\Inge Brauch\\Von was wieviel\\Guides, Midi, gp5, demos\\Guidetracks\\Burgen bauen\\\\GUIDE - Burgen bauen DRUMS.mp3'\n",
    "START = 0\n",
    "END = 7.5#None\n",
    "SAMPLING_RATE = 44100"
   ]
  },
  {
   "cell_type": "code",
   "execution_count": null,
   "metadata": {},
   "outputs": [],
   "source": [
    "# extract features and generate temporary spectograms images\n",
    "feature_df = process_file(FILE)\n",
    "# predict based on spectograms\n",
    "cnn_propabilities = cnn_predict()   #funk', 'hiphop', 'jazz', 'latin', 'pop', 'rock'\n",
    "# delete all the tempory spectograms\n",
    "shutil.rmtree('temp')\n",
    "# predict based on extracted features\n",
    "rf_propabilities = random_forest_predict(feature_df)    #'funk', 'hiphop', 'jazz', 'latin', 'pop', 'rock'\n",
    "\n",
    "# sum up the probabilities\n",
    "probs = rf_propabilities + cnn_propabilities\n",
    "probs = np.sum(probs, axis=0)\n",
    "final_prediction = np.argmax(probs)"
   ]
  }
 ],
 "metadata": {
  "kernelspec": {
   "display_name": "audio_data_science_gpu",
   "language": "python",
   "name": "python3"
  },
  "language_info": {
   "codemirror_mode": {
    "name": "ipython",
    "version": 3
   },
   "file_extension": ".py",
   "mimetype": "text/x-python",
   "name": "python",
   "nbconvert_exporter": "python",
   "pygments_lexer": "ipython3",
   "version": "3.9.19"
  }
 },
 "nbformat": 4,
 "nbformat_minor": 2
}
